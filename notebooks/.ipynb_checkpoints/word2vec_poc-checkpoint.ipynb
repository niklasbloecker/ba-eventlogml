{
 "cells": [
  {
   "cell_type": "code",
   "execution_count": 45,
   "metadata": {},
   "outputs": [],
   "source": [
    "from gensim.models import Word2Vec, KeyedVectors\n",
    "import pandas as pd\n",
    "import nltk\n",
    "import numpy as np\n",
    "from datetime import datetime"
   ]
  },
  {
   "cell_type": "code",
   "execution_count": 46,
   "metadata": {},
   "outputs": [],
   "source": [
    "def preprocessing(file):\n",
    "    \"\"\"Method to handle the preparation of log event data for further usage in NLP learning methods.\n",
    "    Timestamps are being changed to time inbetween events in a certain trace. After that the values are categorized to\n",
    "    to further improve the quality of data\"\"\"\n",
    "    \n",
    "    # Convert the basic csv input into a first dataframe.\n",
    "    df = pd.read_csv('../logs/ecommerce_log.csv', delimiter=';', header=None)\n",
    "    df = df.drop([df.columns[3]], axis=1)\n",
    "    df.columns = ['timestamp','id','event']\n",
    "    \n",
    "    # Converting timestamps to time difference between events in trace. Difference will be in seconds and categorized to\n",
    "    # ease training of the model. First event will therefore always have a '0' value.\n",
    "    \n",
    "    FMT = '%Y-%m-%d %H:%M:%S' # timestamp format\n",
    "    timediff_list = []\n",
    "\n",
    "    for caseID in df['id'].unique():\n",
    "        caseIndex = 0 # Index for each trace dataframe. iterrows() Index represents index in global DF.\n",
    "        first_time = '' # Temp variable to hold the timestamp of the first event. Timestamp will be lost after first iteration.\n",
    "        for index, event in df[df['id'] == caseID].iterrows():\n",
    "            event_time = event['timestamp']\n",
    "            \n",
    "            if caseIndex == 0:\n",
    "                first_time = event_time\n",
    "                timediff_list.append(0.0) # Can't use previous time without previous event. Time differnece is therefore 0.0..\n",
    "            elif caseIndex == 1:\n",
    "                tdelta = datetime.strptime(event_time, FMT) - datetime.strptime(first_time, FMT) # Deduct current from from previous.\n",
    "                timediff_list.append(tdelta.total_seconds())\n",
    "            else: \n",
    "                prev_time = df[df['id'] == caseID].iloc[caseIndex-1]['timestamp'] # Timestamp of previous event.\n",
    "                tdelta = datetime.strptime(event_time, FMT) - datetime.strptime(prev_time, FMT) # Deduct current from from previous.\n",
    "                timediff_list.append(tdelta.total_seconds())\n",
    "            caseIndex += 1\n",
    "    \n",
    "    # Converting the build up timediff_list into a DataFrame, categorizing it and replace the new values with the given timestamps.\n",
    "    timediff_df = pd.DataFrame(timediff_list, columns=['timestamp_diff'])\n",
    "    timediff_df = pd.cut(timediff_df['timestamp_diff'],10, labels=False) # Categorizing differences into 10 bins with same width.\n",
    "    df = pd.concat([timediff_df,df.drop(['timestamp'], axis=1) ], axis=1, join='inner') # Dropping old timestamps and adding new\n",
    "    df['event'] = df['event'].str.lower() # Converting string to lower case.\n",
    "    \n",
    "    # Converting dataframe values into strings and tokenize each event after.\n",
    "    string_list = df.to_string(header=False,index=False,index_names=False).split('\\n')\n",
    "    token_list = [nltk.word_tokenize(event.lower()) for event in string_list] # List containing event tokens.\n",
    "    \n",
    "    # Creating a list containing word tokens for each trace ID.\n",
    "    traceids = df['id'].unique()\n",
    "    trace_list = []\n",
    "    \n",
    "    # Filter for each tradeid and convert each trade into lists, containing the events.\n",
    "    for id in traceids:\n",
    "        df_trace= df.loc[df['id']==id] # df holding the entries for the specific trace ID\n",
    "        traceString = df_trace.to_string(header=False,index=False,index_names=False).split('\\n') # Converting each event into a string\n",
    "        traceToken = [nltk.word_tokenize(event.lower()) for event in traceString]\n",
    "\n",
    "        trace_list.append(traceToken)\n",
    "    \n",
    "    return df, trace_list, token_list"
   ]
  },
  {
   "cell_type": "code",
   "execution_count": 47,
   "metadata": {},
   "outputs": [],
   "source": [
    "df, traceToken, tokenList = preprocessing('ecommerce_log')"
   ]
  },
  {
   "cell_type": "code",
   "execution_count": 48,
   "metadata": {},
   "outputs": [],
   "source": [
    "model = Word2Vec(sentences=tokenList, vector_size=250, window=4, min_count=1, workers=4)"
   ]
  },
  {
   "cell_type": "code",
   "execution_count": 49,
   "metadata": {
    "scrolled": true
   },
   "outputs": [
    {
     "data": {
      "text/plain": [
       "array([ 1.15788601e-01, -8.99483189e-02,  1.50473922e-01, -1.18956868e-05,\n",
       "       -2.14458317e-01, -2.18427464e-01, -3.33602391e-02,  2.75484025e-01,\n",
       "       -1.41133487e-01,  4.18900475e-02, -5.04269116e-02, -7.42472485e-02,\n",
       "       -1.93807110e-02,  1.18268169e-01, -2.28189379e-02,  3.80544662e-02,\n",
       "       -2.01776028e-01,  4.60214429e-02, -1.10550724e-01,  1.42113995e-02,\n",
       "       -5.47188781e-02,  1.16617233e-01,  2.33331338e-01, -1.46908611e-01,\n",
       "       -6.75850585e-02,  4.64808755e-02,  1.23173557e-01, -1.25528080e-02,\n",
       "       -2.90429771e-01,  4.81409803e-02,  6.59976602e-02,  2.06759293e-02,\n",
       "       -6.56218827e-02,  2.82475201e-04,  2.08723858e-01,  2.30458137e-02,\n",
       "        2.18406469e-01, -6.08415231e-02,  3.30808829e-03, -1.19021125e-02,\n",
       "       -6.64368421e-02,  9.86193866e-02, -1.48400322e-01, -5.17619513e-02,\n",
       "        1.56488623e-02,  1.01797590e-02,  7.52193406e-02,  8.19023103e-02,\n",
       "        1.46600768e-01, -1.21133268e-01, -1.57500416e-01,  6.02895021e-02,\n",
       "       -6.00717515e-02, -9.24685895e-02,  2.84871250e-01, -1.18918225e-01,\n",
       "        1.31879792e-01,  1.38024036e-02, -1.18524119e-01, -1.92792669e-01,\n",
       "        5.64468987e-02, -8.89850110e-02,  3.81702669e-02, -1.65063869e-02,\n",
       "        7.84097463e-02,  1.64428487e-01, -3.67381983e-02,  1.15103297e-01,\n",
       "       -5.78587130e-02, -3.35907750e-02,  7.58076161e-02, -5.72162531e-02,\n",
       "        2.68564761e-01, -9.65524837e-02,  1.50859803e-01,  7.77011737e-02,\n",
       "       -1.40558302e-01, -1.70924321e-01,  5.36727011e-02,  9.23146978e-02,\n",
       "        2.05282778e-01,  5.21077961e-02, -4.63848226e-02,  9.28935856e-02,\n",
       "       -2.70676851e-01, -3.44101153e-02,  6.66756481e-02,  3.25928897e-01,\n",
       "        9.54980403e-02,  2.09559370e-02,  2.06166506e-01,  1.68106109e-01,\n",
       "        1.16752610e-01, -9.54171196e-02,  1.02868684e-01,  5.29485345e-02,\n",
       "       -1.76170126e-01,  5.28800972e-02, -6.77669942e-02, -1.24246903e-01,\n",
       "        3.10107470e-02,  7.27308095e-02, -9.57932994e-02, -2.80173440e-02,\n",
       "       -3.62083837e-02,  1.39728799e-01, -8.04117620e-02,  1.56558484e-01,\n",
       "        2.70704627e-02,  4.75158691e-02,  9.44788801e-04, -5.24323015e-03,\n",
       "        1.08899504e-01,  2.63137281e-01,  9.39205289e-03, -1.32323563e-01,\n",
       "        1.21824317e-01,  2.29963716e-02, -2.28950139e-02, -1.49782509e-01,\n",
       "        9.04124007e-02, -1.56810433e-01,  1.58347636e-01,  8.03178251e-02,\n",
       "       -1.26683793e-03, -4.40722480e-02, -2.54009992e-01,  7.36761019e-02,\n",
       "       -1.09599300e-01, -3.74220945e-02,  1.54662132e-01, -1.71057776e-01,\n",
       "        7.41588697e-02,  2.75652055e-02,  4.15153103e-03,  2.71949142e-01,\n",
       "        2.18275785e-01, -1.30025744e-02, -9.10856873e-02, -2.00018764e-01,\n",
       "        2.65162680e-02, -7.77662992e-02, -9.26663503e-02, -3.05088493e-03,\n",
       "        1.13917872e-01,  1.75298899e-01,  4.11903262e-02, -1.94365159e-01,\n",
       "        1.62251547e-01,  1.52656272e-01, -1.83112733e-03, -7.88440779e-02,\n",
       "       -3.91367637e-03, -4.39510122e-02, -2.14290202e-01, -8.99308398e-02,\n",
       "        1.23719282e-01,  2.33671218e-02, -1.28010914e-01, -8.01060647e-02,\n",
       "       -7.41898119e-02, -4.86663990e-02, -7.84366876e-02, -1.02803901e-01,\n",
       "       -1.33239273e-02,  4.83014248e-02,  4.91282009e-02, -8.50569233e-02,\n",
       "       -1.12382732e-01,  6.02923892e-02,  3.47691514e-02,  2.09839940e-01,\n",
       "       -1.04673915e-01,  3.21283013e-01, -4.43704836e-02, -1.70115381e-01,\n",
       "       -3.84242423e-02, -4.57837507e-02,  6.86620250e-02,  4.86784503e-02,\n",
       "       -2.03281268e-01,  1.48188099e-01, -1.22227132e-01, -1.09899282e-01,\n",
       "       -9.32939127e-02, -4.23326865e-02, -1.83877081e-01, -9.58238468e-02,\n",
       "       -2.70413458e-02,  1.85080260e-01,  2.02472553e-01, -1.30737662e-01,\n",
       "        1.54468730e-01, -9.65498686e-02,  1.87544063e-01,  6.99411556e-02,\n",
       "        3.08004711e-02, -7.96304643e-02,  6.55410290e-02, -7.16112852e-02,\n",
       "        6.47338703e-02, -6.25628754e-02,  7.39203691e-02, -1.47987619e-01,\n",
       "        2.47650832e-01, -1.73178986e-01,  2.38605171e-01,  6.50922731e-02,\n",
       "        1.06987409e-01, -8.40523615e-02,  6.73223957e-02, -1.59908757e-01,\n",
       "       -4.41980287e-02, -7.49060959e-02,  1.79821870e-03, -1.23651968e-02,\n",
       "       -5.92478877e-03, -3.18280682e-02, -1.80496857e-01, -1.45592153e-01,\n",
       "       -3.80824842e-02,  8.79927054e-02,  1.08497016e-01, -2.28597343e-01,\n",
       "        1.53849602e-01,  4.85448912e-02,  5.19433320e-02,  1.20665126e-01,\n",
       "       -4.47040834e-02, -6.87331632e-02, -8.31606463e-02, -8.11988860e-02,\n",
       "       -5.24196476e-02, -1.52272428e-03,  3.51906866e-02, -6.11463413e-02,\n",
       "       -1.40887052e-01,  2.72377413e-02,  1.07061639e-01, -1.56697050e-01,\n",
       "        1.30463377e-01, -2.09492967e-01,  4.90769930e-02,  2.22438499e-01,\n",
       "        1.28610983e-01, -1.58871397e-01, -1.85461670e-01, -6.73244074e-02,\n",
       "       -5.12146652e-02,  1.40701577e-01], dtype=float32)"
      ]
     },
     "execution_count": 49,
     "metadata": {},
     "output_type": "execute_result"
    }
   ],
   "source": [
    "model.wv.get_vector('user')"
   ]
  },
  {
   "cell_type": "code",
   "execution_count": 50,
   "metadata": {},
   "outputs": [
    {
     "data": {
      "text/plain": [
       "[('loged', 0.9993970394134521),\n",
       " ('user', 0.9993369579315186),\n",
       " ('5', 0.9992375373840332),\n",
       " ('4', 0.9991502165794373),\n",
       " ('3', 0.999116063117981),\n",
       " ('6', 0.9991083145141602),\n",
       " ('7', 0.9990944862365723),\n",
       " ('in', 0.9990450739860535),\n",
       " ('1', 0.9990304708480835),\n",
       " ('8', 0.9990248680114746)]"
      ]
     },
     "execution_count": 50,
     "metadata": {},
     "output_type": "execute_result"
    }
   ],
   "source": [
    "model.wv.similar_by_word('logged')"
   ]
  },
  {
   "cell_type": "markdown",
   "metadata": {},
   "source": [
    "### Calculate Trace Vectors\n",
    "2 Possibilities: \n",
    "- Simply summing up word vectors produced by w2c\n",
    "- Using tf-idf to weigh in the importance of certain events"
   ]
  },
  {
   "cell_type": "markdown",
   "metadata": {},
   "source": [
    "##### Sort log for corresponding trace values "
   ]
  },
  {
   "cell_type": "code",
   "execution_count": 51,
   "metadata": {},
   "outputs": [],
   "source": [
    "traceids = df['id'].unique()\n",
    "trace_list = []\n",
    "# Filter for each tradeid an convert each trade into lists, containing the events.\n",
    "for id in traceids:\n",
    "    df_trace= df.loc[df['id']==id] # df holding the entries for the specific trace ID\n",
    "    df_traceString = df_trace.to_string(header=False,index=False,index_names=False).split('\\n') # Converting each event into a string\n",
    "    df_traceToken = [nltk.word_tokenize(event) for event in df_traceString]\n",
    "    \n",
    "    #trace_StrList.append(df_traceString)\n",
    "    trace_list.append(df_traceToken)"
   ]
  },
  {
   "cell_type": "code",
   "execution_count": 52,
   "metadata": {},
   "outputs": [
    {
     "data": {
      "text/plain": [
       "[['0', '503', 'website', 'request', 'served'],\n",
       " ['3', '503', 'user', 'loged', 'in'],\n",
       " ['4', '503', 'item', 'added', 'cart'],\n",
       " ['6', '503', 'dpd', 'chosen', 'for', 'shipping'],\n",
       " ['4', '503', 'sofortueberweisung', 'chosen', 'for', 'payment'],\n",
       " ['2', '503', 'order', 'place', 'succesful']]"
      ]
     },
     "execution_count": 52,
     "metadata": {},
     "output_type": "execute_result"
    }
   ],
   "source": [
    "trace_list[1] # trace_list now holds the tokenized entries to each trace trace_list[trace][event][token]"
   ]
  },
  {
   "cell_type": "code",
   "execution_count": 53,
   "metadata": {},
   "outputs": [],
   "source": [
    "# Create a list holding all trace values in processed string formats. Will be used for further visualization\n",
    "trace_StrList = []\n",
    "for trace in trace_list: \n",
    "    traceStr = \"\"\n",
    "    for event in trace:\n",
    "        for word in event: \n",
    "            traceStr += word+' '\n",
    "        traceStr += '<br>'\n",
    "    trace_StrList.append(traceStr)"
   ]
  },
  {
   "cell_type": "code",
   "execution_count": 54,
   "metadata": {},
   "outputs": [
    {
     "data": {
      "text/plain": [
       "'0 502 website request served <br>7 502 user logged in <br>3 502 item added to cart <br>7 502 item added to cart <br>0 502 dhl chosen for shipping <br>4 502 klarna chosen for payment <br>6 502 order placed succesful <br>'"
      ]
     },
     "execution_count": 54,
     "metadata": {},
     "output_type": "execute_result"
    }
   ],
   "source": [
    "trace_StrList[0]"
   ]
  },
  {
   "cell_type": "code",
   "execution_count": 55,
   "metadata": {},
   "outputs": [],
   "source": [
    "trace_VecWordList = [[['x' for token in trace_list[trace][event]] for event in range(len(trace_list[trace]))] for trace in range(len(trace_list))]\n",
    "\n",
    "for trace in range(len(trace_VecWordList)):\n",
    "    for event in range(len(trace_VecWordList[trace])):\n",
    "        for token in range(len(trace_VecWordList[trace][event])):\n",
    "            vec_temp = model.wv.get_vector(trace_list[trace][event][token])\n",
    "            trace_VecWordList[trace][event][token] = vec_temp"
   ]
  },
  {
   "cell_type": "code",
   "execution_count": 56,
   "metadata": {},
   "outputs": [],
   "source": [
    "import pickle\n",
    "\n",
    "with open('data/trace_VecWordList.pkl','wb') as f1, open('data/trace_WordList.pkl', 'wb') as f2:\n",
    "    pickle.dump(trace_VecWordList,f1)\n",
    "    pickle.dump(trace_list,f2)"
   ]
  },
  {
   "cell_type": "code",
   "execution_count": 57,
   "metadata": {
    "scrolled": true
   },
   "outputs": [
    {
     "data": {
      "text/plain": [
       "array([ 1.08637489e-01, -9.29498151e-02,  1.49508134e-01, -4.76522790e-03,\n",
       "       -2.18000337e-01, -2.21804008e-01, -4.87778187e-02,  2.67368436e-01,\n",
       "       -1.37802169e-01,  3.75371054e-02, -5.14876284e-02, -6.91268072e-02,\n",
       "       -2.21033152e-02,  1.30883276e-01, -2.32667252e-02,  3.90214957e-02,\n",
       "       -2.12156519e-01,  5.38404547e-02, -1.09210797e-01,  2.82623265e-02,\n",
       "       -6.24013767e-02,  1.27868965e-01,  2.34553769e-01, -1.55676812e-01,\n",
       "       -6.43694028e-02,  4.80905324e-02,  1.24770582e-01,  2.69449723e-04,\n",
       "       -2.87230968e-01,  5.39802760e-02,  6.48349449e-02,  1.40052494e-02,\n",
       "       -7.61659592e-02,  9.35970899e-03,  2.00619966e-01,  3.10333446e-02,\n",
       "        2.11141869e-01, -6.87753931e-02, -5.47284726e-03, -1.14298156e-02,\n",
       "       -6.26471341e-02,  1.02774583e-01, -1.54848233e-01, -5.42465560e-02,\n",
       "        2.94579398e-02,  1.79848019e-02,  6.38203174e-02,  7.14567602e-02,\n",
       "        1.44988686e-01, -1.25793949e-01, -1.54043749e-01,  5.75709082e-02,\n",
       "       -5.73243834e-02, -8.96241814e-02,  2.86290020e-01, -1.07282341e-01,\n",
       "        1.30819276e-01,  1.30290268e-02, -1.09360874e-01, -1.95958272e-01,\n",
       "        4.87866849e-02, -8.01656097e-02,  2.30682418e-02, -2.06233878e-02,\n",
       "        8.31664726e-02,  1.59855023e-01, -4.37610336e-02,  1.12811670e-01,\n",
       "       -5.33591546e-02, -2.25779302e-02,  7.21826926e-02, -5.20444177e-02,\n",
       "        2.69153029e-01, -9.65786278e-02,  1.49304390e-01,  7.99871087e-02,\n",
       "       -1.30623460e-01, -1.79132566e-01,  5.18312342e-02,  9.47634503e-02,\n",
       "        1.90849185e-01,  5.57294376e-02, -4.74099293e-02,  9.82672796e-02,\n",
       "       -2.61423945e-01, -2.95466445e-02,  5.87190315e-02,  3.17991644e-01,\n",
       "        9.79048312e-02,  2.59216242e-02,  2.02586815e-01,  1.65272832e-01,\n",
       "        1.13910325e-01, -1.05221666e-01,  8.86901692e-02,  5.62432073e-02,\n",
       "       -1.61638007e-01,  6.03661612e-02, -6.06332421e-02, -1.20634131e-01,\n",
       "        3.32284123e-02,  7.75170475e-02, -9.89270583e-02, -3.40998285e-02,\n",
       "       -3.29723284e-02,  1.46499425e-01, -7.40445927e-02,  1.64564088e-01,\n",
       "        2.63342932e-02,  5.28664589e-02, -4.12954250e-03, -1.24355229e-02,\n",
       "        1.00368395e-01,  2.64270067e-01, -1.54347497e-03, -1.25494882e-01,\n",
       "        1.15186013e-01,  3.16659547e-02, -3.23695987e-02, -1.54651970e-01,\n",
       "        9.28540379e-02, -1.56312600e-01,  1.46882474e-01,  8.94082636e-02,\n",
       "       -8.95087887e-03, -3.53840217e-02, -2.33093262e-01,  5.78895733e-02,\n",
       "       -1.11970186e-01, -4.54483181e-02,  1.53042838e-01, -1.73977166e-01,\n",
       "        7.56775290e-02,  1.83543134e-02,  4.21595760e-03,  2.69495875e-01,\n",
       "        2.20054209e-01, -9.50658787e-03, -1.02664888e-01, -2.05068722e-01,\n",
       "        1.80551391e-02, -7.55859539e-02, -9.71107334e-02, -6.32155687e-03,\n",
       "        1.06308080e-01,  1.66551843e-01,  3.70786153e-02, -1.99769422e-01,\n",
       "        1.64084464e-01,  1.62385806e-01, -1.03106545e-02, -8.47249404e-02,\n",
       "       -1.70184225e-02, -4.63708378e-02, -2.07010359e-01, -9.56479236e-02,\n",
       "        1.24601342e-01,  4.65281773e-03, -1.34756029e-01, -8.56816620e-02,\n",
       "       -6.93957880e-02, -5.17222248e-02, -7.79077113e-02, -1.00657664e-01,\n",
       "       -1.66457538e-02,  4.56593037e-02,  4.20423634e-02, -7.94209540e-02,\n",
       "       -1.12025946e-01,  6.38716519e-02,  5.05052507e-02,  2.10369617e-01,\n",
       "       -9.77479070e-02,  3.18079978e-01, -4.78032418e-02, -1.76135823e-01,\n",
       "       -2.68324055e-02, -5.05423173e-02,  6.98364899e-02,  3.68309170e-02,\n",
       "       -2.02774420e-01,  1.38937205e-01, -1.24991454e-01, -1.15301795e-01,\n",
       "       -9.16413441e-02, -4.72806469e-02, -1.82277426e-01, -8.32422227e-02,\n",
       "       -4.03466038e-02,  1.73717096e-01,  2.00129747e-01, -1.21112563e-01,\n",
       "        1.66527390e-01, -8.07231069e-02,  1.75244823e-01,  7.92919099e-02,\n",
       "        3.42963077e-02, -8.33511502e-02,  6.29590154e-02, -6.33643717e-02,\n",
       "        5.96944392e-02, -5.25803342e-02,  8.58805254e-02, -1.50212079e-01,\n",
       "        2.48796865e-01, -1.78683594e-01,  2.47707158e-01,  5.85200265e-02,\n",
       "        9.89286527e-02, -8.43506232e-02,  6.43638074e-02, -1.61158472e-01,\n",
       "       -4.22119051e-02, -7.47800395e-02,  5.75230643e-03, -2.09742170e-02,\n",
       "       -4.70757746e-04, -2.44252197e-02, -1.77385390e-01, -1.40385047e-01,\n",
       "       -3.69313583e-02,  8.21096078e-02,  1.03999168e-01, -2.29328066e-01,\n",
       "        1.46920979e-01,  5.04264757e-02,  4.55191620e-02,  1.07932985e-01,\n",
       "       -5.03268652e-02, -7.56024569e-02, -8.48586708e-02, -7.54093826e-02,\n",
       "       -5.90381213e-02, -5.75483497e-03,  3.73965539e-02, -5.44685014e-02,\n",
       "       -1.45267814e-01,  3.35369259e-02,  1.03812948e-01, -1.55790135e-01,\n",
       "        1.36367142e-01, -2.08786801e-01,  5.63270934e-02,  2.23902851e-01,\n",
       "        1.26699269e-01, -1.59039095e-01, -1.88966051e-01, -6.48423508e-02,\n",
       "       -4.93958965e-02,  1.39262766e-01], dtype=float32)"
      ]
     },
     "execution_count": 57,
     "metadata": {},
     "output_type": "execute_result"
    }
   ],
   "source": [
    "trace_VecWordList[0][0][0] # trace_VecWordList now holds the word vector in the same structure als trace_list"
   ]
  },
  {
   "cell_type": "markdown",
   "metadata": {},
   "source": [
    "##### Summing up vector values\n",
    "Using equal weight for each token"
   ]
  },
  {
   "cell_type": "code",
   "execution_count": 58,
   "metadata": {},
   "outputs": [],
   "source": [
    "# Create lists to hold summed up event and trace vectors.\n",
    "trace_EventVecList = [['x' for event in range(len(trace_list[trace]))] for trace in range(len(trace_list))]\n",
    "trace_VecList = ['x' for trace in range(len(trace_list))]\n",
    "\n",
    "\n",
    "for trace in range(len(trace_VecWordList)):\n",
    "    for event in range(len(trace_VecWordList[trace])):\n",
    "        trace_EventVecList[trace][event] = np.add.reduce(trace_VecWordList[trace][event]) # Sum up all word vectors per event\n",
    "        \n",
    "for trace in range(len(trace_VecWordList)):\n",
    "    trace_VecList[trace] = np.add.reduce(trace_EventVecList[trace]) # Sum up all event vector per trace"
   ]
  },
  {
   "cell_type": "code",
   "execution_count": 59,
   "metadata": {
    "scrolled": true
   },
   "outputs": [
    {
     "data": {
      "text/html": [
       "<div>\n",
       "<style scoped>\n",
       "    .dataframe tbody tr th:only-of-type {\n",
       "        vertical-align: middle;\n",
       "    }\n",
       "\n",
       "    .dataframe tbody tr th {\n",
       "        vertical-align: top;\n",
       "    }\n",
       "\n",
       "    .dataframe thead th {\n",
       "        text-align: right;\n",
       "    }\n",
       "</style>\n",
       "<table border=\"1\" class=\"dataframe\">\n",
       "  <thead>\n",
       "    <tr style=\"text-align: right;\">\n",
       "      <th></th>\n",
       "      <th>0</th>\n",
       "      <th>1</th>\n",
       "      <th>2</th>\n",
       "      <th>3</th>\n",
       "      <th>4</th>\n",
       "      <th>5</th>\n",
       "      <th>6</th>\n",
       "      <th>7</th>\n",
       "      <th>8</th>\n",
       "      <th>9</th>\n",
       "      <th>...</th>\n",
       "      <th>240</th>\n",
       "      <th>241</th>\n",
       "      <th>242</th>\n",
       "      <th>243</th>\n",
       "      <th>244</th>\n",
       "      <th>245</th>\n",
       "      <th>246</th>\n",
       "      <th>247</th>\n",
       "      <th>248</th>\n",
       "      <th>249</th>\n",
       "    </tr>\n",
       "  </thead>\n",
       "  <tbody>\n",
       "    <tr>\n",
       "      <th>0</th>\n",
       "      <td>3.465155</td>\n",
       "      <td>-2.760550</td>\n",
       "      <td>4.574314</td>\n",
       "      <td>-0.214649</td>\n",
       "      <td>-6.445995</td>\n",
       "      <td>-6.573690</td>\n",
       "      <td>-1.275207</td>\n",
       "      <td>8.267756</td>\n",
       "      <td>-4.293247</td>\n",
       "      <td>1.099458</td>\n",
       "      <td>...</td>\n",
       "      <td>4.017790</td>\n",
       "      <td>-6.117519</td>\n",
       "      <td>1.605704</td>\n",
       "      <td>6.813499</td>\n",
       "      <td>3.826577</td>\n",
       "      <td>-4.677083</td>\n",
       "      <td>-5.672819</td>\n",
       "      <td>-1.906646</td>\n",
       "      <td>-1.523505</td>\n",
       "      <td>4.163178</td>\n",
       "    </tr>\n",
       "    <tr>\n",
       "      <th>1</th>\n",
       "      <td>2.878405</td>\n",
       "      <td>-2.269432</td>\n",
       "      <td>3.792502</td>\n",
       "      <td>-0.089091</td>\n",
       "      <td>-5.341959</td>\n",
       "      <td>-5.437118</td>\n",
       "      <td>-1.023687</td>\n",
       "      <td>6.798660</td>\n",
       "      <td>-3.549169</td>\n",
       "      <td>0.897097</td>\n",
       "      <td>...</td>\n",
       "      <td>3.240090</td>\n",
       "      <td>-5.061540</td>\n",
       "      <td>1.297568</td>\n",
       "      <td>5.576387</td>\n",
       "      <td>3.134921</td>\n",
       "      <td>-3.837779</td>\n",
       "      <td>-4.656345</td>\n",
       "      <td>-1.623188</td>\n",
       "      <td>-1.284774</td>\n",
       "      <td>3.394018</td>\n",
       "    </tr>\n",
       "    <tr>\n",
       "      <th>2</th>\n",
       "      <td>3.460064</td>\n",
       "      <td>-2.774005</td>\n",
       "      <td>4.560254</td>\n",
       "      <td>-0.188432</td>\n",
       "      <td>-6.458712</td>\n",
       "      <td>-6.566031</td>\n",
       "      <td>-1.290260</td>\n",
       "      <td>8.259473</td>\n",
       "      <td>-4.270317</td>\n",
       "      <td>1.096198</td>\n",
       "      <td>...</td>\n",
       "      <td>3.982253</td>\n",
       "      <td>-6.141800</td>\n",
       "      <td>1.585882</td>\n",
       "      <td>6.850115</td>\n",
       "      <td>3.855428</td>\n",
       "      <td>-4.681201</td>\n",
       "      <td>-5.685127</td>\n",
       "      <td>-1.929950</td>\n",
       "      <td>-1.555932</td>\n",
       "      <td>4.135609</td>\n",
       "    </tr>\n",
       "    <tr>\n",
       "      <th>3</th>\n",
       "      <td>3.005400</td>\n",
       "      <td>-2.326592</td>\n",
       "      <td>3.904155</td>\n",
       "      <td>-0.142941</td>\n",
       "      <td>-5.543123</td>\n",
       "      <td>-5.640306</td>\n",
       "      <td>-1.053295</td>\n",
       "      <td>7.085143</td>\n",
       "      <td>-3.661686</td>\n",
       "      <td>0.950641</td>\n",
       "      <td>...</td>\n",
       "      <td>3.422101</td>\n",
       "      <td>-5.249181</td>\n",
       "      <td>1.337110</td>\n",
       "      <td>5.792191</td>\n",
       "      <td>3.257589</td>\n",
       "      <td>-3.972473</td>\n",
       "      <td>-4.843247</td>\n",
       "      <td>-1.671170</td>\n",
       "      <td>-1.342103</td>\n",
       "      <td>3.522358</td>\n",
       "    </tr>\n",
       "    <tr>\n",
       "      <th>4</th>\n",
       "      <td>2.975849</td>\n",
       "      <td>-2.356521</td>\n",
       "      <td>3.958962</td>\n",
       "      <td>-0.144999</td>\n",
       "      <td>-5.544395</td>\n",
       "      <td>-5.709888</td>\n",
       "      <td>-1.034542</td>\n",
       "      <td>7.108659</td>\n",
       "      <td>-3.690531</td>\n",
       "      <td>0.925846</td>\n",
       "      <td>...</td>\n",
       "      <td>3.415489</td>\n",
       "      <td>-5.275282</td>\n",
       "      <td>1.377083</td>\n",
       "      <td>5.863570</td>\n",
       "      <td>3.282945</td>\n",
       "      <td>-3.986870</td>\n",
       "      <td>-4.903915</td>\n",
       "      <td>-1.668467</td>\n",
       "      <td>-1.352755</td>\n",
       "      <td>3.595265</td>\n",
       "    </tr>\n",
       "  </tbody>\n",
       "</table>\n",
       "<p>5 rows × 250 columns</p>\n",
       "</div>"
      ],
      "text/plain": [
       "        0         1         2         3         4         5         6    \\\n",
       "0  3.465155 -2.760550  4.574314 -0.214649 -6.445995 -6.573690 -1.275207   \n",
       "1  2.878405 -2.269432  3.792502 -0.089091 -5.341959 -5.437118 -1.023687   \n",
       "2  3.460064 -2.774005  4.560254 -0.188432 -6.458712 -6.566031 -1.290260   \n",
       "3  3.005400 -2.326592  3.904155 -0.142941 -5.543123 -5.640306 -1.053295   \n",
       "4  2.975849 -2.356521  3.958962 -0.144999 -5.544395 -5.709888 -1.034542   \n",
       "\n",
       "        7         8         9    ...       240       241       242       243  \\\n",
       "0  8.267756 -4.293247  1.099458  ...  4.017790 -6.117519  1.605704  6.813499   \n",
       "1  6.798660 -3.549169  0.897097  ...  3.240090 -5.061540  1.297568  5.576387   \n",
       "2  8.259473 -4.270317  1.096198  ...  3.982253 -6.141800  1.585882  6.850115   \n",
       "3  7.085143 -3.661686  0.950641  ...  3.422101 -5.249181  1.337110  5.792191   \n",
       "4  7.108659 -3.690531  0.925846  ...  3.415489 -5.275282  1.377083  5.863570   \n",
       "\n",
       "        244       245       246       247       248       249  \n",
       "0  3.826577 -4.677083 -5.672819 -1.906646 -1.523505  4.163178  \n",
       "1  3.134921 -3.837779 -4.656345 -1.623188 -1.284774  3.394018  \n",
       "2  3.855428 -4.681201 -5.685127 -1.929950 -1.555932  4.135609  \n",
       "3  3.257589 -3.972473 -4.843247 -1.671170 -1.342103  3.522358  \n",
       "4  3.282945 -3.986870 -4.903915 -1.668467 -1.352755  3.595265  \n",
       "\n",
       "[5 rows x 250 columns]"
      ]
     },
     "execution_count": 59,
     "metadata": {},
     "output_type": "execute_result"
    }
   ],
   "source": [
    "trace_VecFrame = pd.DataFrame(trace_VecList)# Now holding the summed up vectors for each trace ID.\n",
    "trace_VecFrame.head()"
   ]
  },
  {
   "cell_type": "code",
   "execution_count": 60,
   "metadata": {},
   "outputs": [
    {
     "name": "stdout",
     "output_type": "stream",
     "text": [
      "Unique trace IDs in Event Log: 405 | Summed up elements in trace_EventVecList: 405\n"
     ]
    }
   ],
   "source": [
    "print(f\"Unique trace IDs in Event Log: {len(traceids)} | Summed up elements in trace_EventVecList: {len(trace_VecList)}\")"
   ]
  },
  {
   "cell_type": "markdown",
   "metadata": {},
   "source": [
    "##### Using TF-IDF to weigh in on event and token importance"
   ]
  },
  {
   "cell_type": "code",
   "execution_count": 61,
   "metadata": {},
   "outputs": [],
   "source": [
    "from sklearn.feature_extraction.text import TfidfVectorizer"
   ]
  },
  {
   "cell_type": "code",
   "execution_count": 62,
   "metadata": {},
   "outputs": [],
   "source": [
    "event_text = df['event'].values.tolist() # Store all text values of events in a list for IDF Vectorizer"
   ]
  },
  {
   "cell_type": "code",
   "execution_count": 63,
   "metadata": {
    "scrolled": true
   },
   "outputs": [
    {
     "data": {
      "text/html": [
       "<div>\n",
       "<style scoped>\n",
       "    .dataframe tbody tr th:only-of-type {\n",
       "        vertical-align: middle;\n",
       "    }\n",
       "\n",
       "    .dataframe tbody tr th {\n",
       "        vertical-align: top;\n",
       "    }\n",
       "\n",
       "    .dataframe thead th {\n",
       "        text-align: right;\n",
       "    }\n",
       "</style>\n",
       "<table border=\"1\" class=\"dataframe\">\n",
       "  <thead>\n",
       "    <tr style=\"text-align: right;\">\n",
       "      <th></th>\n",
       "      <th>added</th>\n",
       "      <th>cart</th>\n",
       "      <th>chosen</th>\n",
       "      <th>dhl</th>\n",
       "      <th>dpd</th>\n",
       "      <th>for</th>\n",
       "      <th>fr</th>\n",
       "      <th>hermes</th>\n",
       "      <th>in</th>\n",
       "      <th>item</th>\n",
       "      <th>...</th>\n",
       "      <th>placed</th>\n",
       "      <th>request</th>\n",
       "      <th>served</th>\n",
       "      <th>shipping</th>\n",
       "      <th>sofortueberweisung</th>\n",
       "      <th>succesful</th>\n",
       "      <th>succesfull</th>\n",
       "      <th>to</th>\n",
       "      <th>user</th>\n",
       "      <th>website</th>\n",
       "    </tr>\n",
       "  </thead>\n",
       "  <tbody>\n",
       "    <tr>\n",
       "      <th>0</th>\n",
       "      <td>0.000000</td>\n",
       "      <td>0.000000</td>\n",
       "      <td>0.000000</td>\n",
       "      <td>0.000000</td>\n",
       "      <td>0.0</td>\n",
       "      <td>0.000000</td>\n",
       "      <td>0.0</td>\n",
       "      <td>0.0</td>\n",
       "      <td>0.000000</td>\n",
       "      <td>0.000000</td>\n",
       "      <td>...</td>\n",
       "      <td>0.0</td>\n",
       "      <td>0.57735</td>\n",
       "      <td>0.57735</td>\n",
       "      <td>0.00000</td>\n",
       "      <td>0.0</td>\n",
       "      <td>0.0</td>\n",
       "      <td>0.0</td>\n",
       "      <td>0.000000</td>\n",
       "      <td>0.000000</td>\n",
       "      <td>0.57735</td>\n",
       "    </tr>\n",
       "    <tr>\n",
       "      <th>1</th>\n",
       "      <td>0.000000</td>\n",
       "      <td>0.000000</td>\n",
       "      <td>0.000000</td>\n",
       "      <td>0.000000</td>\n",
       "      <td>0.0</td>\n",
       "      <td>0.000000</td>\n",
       "      <td>0.0</td>\n",
       "      <td>0.0</td>\n",
       "      <td>0.562409</td>\n",
       "      <td>0.000000</td>\n",
       "      <td>...</td>\n",
       "      <td>0.0</td>\n",
       "      <td>0.00000</td>\n",
       "      <td>0.00000</td>\n",
       "      <td>0.00000</td>\n",
       "      <td>0.0</td>\n",
       "      <td>0.0</td>\n",
       "      <td>0.0</td>\n",
       "      <td>0.000000</td>\n",
       "      <td>0.562409</td>\n",
       "      <td>0.00000</td>\n",
       "    </tr>\n",
       "    <tr>\n",
       "      <th>2</th>\n",
       "      <td>0.494288</td>\n",
       "      <td>0.494288</td>\n",
       "      <td>0.000000</td>\n",
       "      <td>0.000000</td>\n",
       "      <td>0.0</td>\n",
       "      <td>0.000000</td>\n",
       "      <td>0.0</td>\n",
       "      <td>0.0</td>\n",
       "      <td>0.000000</td>\n",
       "      <td>0.494288</td>\n",
       "      <td>...</td>\n",
       "      <td>0.0</td>\n",
       "      <td>0.00000</td>\n",
       "      <td>0.00000</td>\n",
       "      <td>0.00000</td>\n",
       "      <td>0.0</td>\n",
       "      <td>0.0</td>\n",
       "      <td>0.0</td>\n",
       "      <td>0.516757</td>\n",
       "      <td>0.000000</td>\n",
       "      <td>0.00000</td>\n",
       "    </tr>\n",
       "    <tr>\n",
       "      <th>3</th>\n",
       "      <td>0.494288</td>\n",
       "      <td>0.494288</td>\n",
       "      <td>0.000000</td>\n",
       "      <td>0.000000</td>\n",
       "      <td>0.0</td>\n",
       "      <td>0.000000</td>\n",
       "      <td>0.0</td>\n",
       "      <td>0.0</td>\n",
       "      <td>0.000000</td>\n",
       "      <td>0.494288</td>\n",
       "      <td>...</td>\n",
       "      <td>0.0</td>\n",
       "      <td>0.00000</td>\n",
       "      <td>0.00000</td>\n",
       "      <td>0.00000</td>\n",
       "      <td>0.0</td>\n",
       "      <td>0.0</td>\n",
       "      <td>0.0</td>\n",
       "      <td>0.516757</td>\n",
       "      <td>0.000000</td>\n",
       "      <td>0.00000</td>\n",
       "    </tr>\n",
       "    <tr>\n",
       "      <th>4</th>\n",
       "      <td>0.000000</td>\n",
       "      <td>0.000000</td>\n",
       "      <td>0.376952</td>\n",
       "      <td>0.687425</td>\n",
       "      <td>0.0</td>\n",
       "      <td>0.380025</td>\n",
       "      <td>0.0</td>\n",
       "      <td>0.0</td>\n",
       "      <td>0.000000</td>\n",
       "      <td>0.000000</td>\n",
       "      <td>...</td>\n",
       "      <td>0.0</td>\n",
       "      <td>0.00000</td>\n",
       "      <td>0.00000</td>\n",
       "      <td>0.49085</td>\n",
       "      <td>0.0</td>\n",
       "      <td>0.0</td>\n",
       "      <td>0.0</td>\n",
       "      <td>0.000000</td>\n",
       "      <td>0.000000</td>\n",
       "      <td>0.00000</td>\n",
       "    </tr>\n",
       "  </tbody>\n",
       "</table>\n",
       "<p>5 rows × 30 columns</p>\n",
       "</div>"
      ],
      "text/plain": [
       "      added      cart    chosen       dhl  dpd       for   fr  hermes  \\\n",
       "0  0.000000  0.000000  0.000000  0.000000  0.0  0.000000  0.0     0.0   \n",
       "1  0.000000  0.000000  0.000000  0.000000  0.0  0.000000  0.0     0.0   \n",
       "2  0.494288  0.494288  0.000000  0.000000  0.0  0.000000  0.0     0.0   \n",
       "3  0.494288  0.494288  0.000000  0.000000  0.0  0.000000  0.0     0.0   \n",
       "4  0.000000  0.000000  0.376952  0.687425  0.0  0.380025  0.0     0.0   \n",
       "\n",
       "         in      item  ...  placed  request   served  shipping  \\\n",
       "0  0.000000  0.000000  ...     0.0  0.57735  0.57735   0.00000   \n",
       "1  0.562409  0.000000  ...     0.0  0.00000  0.00000   0.00000   \n",
       "2  0.000000  0.494288  ...     0.0  0.00000  0.00000   0.00000   \n",
       "3  0.000000  0.494288  ...     0.0  0.00000  0.00000   0.00000   \n",
       "4  0.000000  0.000000  ...     0.0  0.00000  0.00000   0.49085   \n",
       "\n",
       "   sofortueberweisung  succesful  succesfull        to      user  website  \n",
       "0                 0.0        0.0         0.0  0.000000  0.000000  0.57735  \n",
       "1                 0.0        0.0         0.0  0.000000  0.562409  0.00000  \n",
       "2                 0.0        0.0         0.0  0.516757  0.000000  0.00000  \n",
       "3                 0.0        0.0         0.0  0.516757  0.000000  0.00000  \n",
       "4                 0.0        0.0         0.0  0.000000  0.000000  0.00000  \n",
       "\n",
       "[5 rows x 30 columns]"
      ]
     },
     "execution_count": 63,
     "metadata": {},
     "output_type": "execute_result"
    }
   ],
   "source": [
    "vectorizer = TfidfVectorizer()\n",
    "vectors = vectorizer.fit_transform(event_text)\n",
    "feature_names = vectorizer.get_feature_names_out()\n",
    "dense = vectors.todense()\n",
    "dense_list = dense.tolist()\n",
    "pd.DataFrame(dense_list, columns = feature_names).head()"
   ]
  },
  {
   "cell_type": "markdown",
   "metadata": {},
   "source": [
    "### Clustering the data\n",
    "Use basic kmeans clustering for first analysis"
   ]
  },
  {
   "cell_type": "code",
   "execution_count": 64,
   "metadata": {},
   "outputs": [],
   "source": [
    "from sklearn.cluster import KMeans"
   ]
  },
  {
   "cell_type": "code",
   "execution_count": 65,
   "metadata": {},
   "outputs": [
    {
     "data": {
      "text/plain": [
       "KMeans(n_clusters=3)"
      ]
     },
     "execution_count": 65,
     "metadata": {},
     "output_type": "execute_result"
    }
   ],
   "source": [
    "kmeans = KMeans(n_clusters=3)\n",
    "kmeans.fit(trace_VecFrame)"
   ]
  },
  {
   "cell_type": "code",
   "execution_count": 66,
   "metadata": {
    "scrolled": true
   },
   "outputs": [
    {
     "data": {
      "text/plain": [
       "array([[ 3.17717314e+00, -2.50688434e+00,  4.18399763e+00,\n",
       "        -1.57440692e-01, -5.90009022e+00, -6.02371836e+00,\n",
       "        -1.13301754e+00,  7.55286407e+00, -3.91956925e+00,\n",
       "         1.00658250e+00, -1.34274030e+00, -1.90192437e+00,\n",
       "        -5.18728614e-01,  3.44096375e+00, -5.76171637e-01,\n",
       "         1.25196469e+00, -5.56673288e+00,  1.47690606e+00,\n",
       "        -3.18092871e+00,  4.67660934e-01, -1.77118969e+00,\n",
       "         3.39988089e+00,  6.53135633e+00, -4.14731836e+00,\n",
       "        -1.79999495e+00,  1.26226580e+00,  3.48131204e+00,\n",
       "        -3.57822776e-01, -7.93635559e+00,  1.52422440e+00,\n",
       "         1.64041066e+00,  5.29292524e-01, -2.02322674e+00,\n",
       "         1.66092888e-01,  5.62898350e+00,  8.11450899e-01,\n",
       "         5.92254639e+00, -1.86228538e+00,  1.15486898e-01,\n",
       "        -4.69470799e-01, -1.83588302e+00,  2.83564281e+00,\n",
       "        -4.16933632e+00, -1.47245121e+00,  6.30644083e-01,\n",
       "         3.69371861e-01,  1.88000822e+00,  2.16371346e+00,\n",
       "         4.04561663e+00, -3.39672136e+00, -4.31410456e+00,\n",
       "         1.65848994e+00, -1.75814795e+00, -2.66013050e+00,\n",
       "         7.97003078e+00, -3.33947086e+00,  3.55672359e+00,\n",
       "         4.16929752e-01, -3.19072986e+00, -5.51764774e+00,\n",
       "         1.44711101e+00, -2.28316617e+00,  8.53390038e-01,\n",
       "        -5.46831489e-01,  2.32636786e+00,  4.62013245e+00,\n",
       "        -9.69939947e-01,  2.99455023e+00, -1.63754356e+00,\n",
       "        -8.27929497e-01,  2.14881992e+00, -1.43918276e+00,\n",
       "         7.26879025e+00, -2.69738650e+00,  4.05422211e+00,\n",
       "         2.13394046e+00, -3.76439643e+00, -4.87449455e+00,\n",
       "         1.42366314e+00,  2.56890726e+00,  5.73075914e+00,\n",
       "         1.49184918e+00, -1.09968674e+00,  2.51966190e+00,\n",
       "        -7.27330875e+00, -8.32180738e-01,  1.75005472e+00,\n",
       "         9.00106621e+00,  2.53428340e+00,  5.80251634e-01,\n",
       "         5.68965244e+00,  4.55188322e+00,  3.09118795e+00,\n",
       "        -2.65549755e+00,  2.67680693e+00,  1.37286568e+00,\n",
       "        -4.69915104e+00,  1.50647032e+00, -1.78754675e+00,\n",
       "        -3.33832788e+00,  8.81706476e-01,  2.17460155e+00,\n",
       "        -2.77795935e+00, -7.92526186e-01, -9.89244103e-01,\n",
       "         4.00148630e+00, -2.03741622e+00,  4.45115042e+00,\n",
       "         6.45750344e-01,  1.42054343e+00, -6.90649748e-02,\n",
       "        -4.30374928e-02,  2.84747767e+00,  7.16877651e+00,\n",
       "         1.81867078e-01, -3.54446626e+00,  3.43748212e+00,\n",
       "         7.49671519e-01, -8.08425307e-01, -4.26047611e+00,\n",
       "         2.45526981e+00, -4.39528608e+00,  4.24892092e+00,\n",
       "         2.35678625e+00, -2.29926690e-01, -1.17908680e+00,\n",
       "        -6.85438442e+00,  1.89125574e+00, -3.03275609e+00,\n",
       "        -1.14321792e+00,  4.36491680e+00, -4.82201290e+00,\n",
       "         2.03007388e+00,  8.12083304e-01,  1.71280220e-01,\n",
       "         7.41193438e+00,  6.00017786e+00, -3.03579301e-01,\n",
       "        -2.55750251e+00, -5.51865959e+00,  6.79479361e-01,\n",
       "        -1.94408357e+00, -2.68854523e+00, -1.52988896e-01,\n",
       "         2.99362683e+00,  4.81299591e+00,  1.19002759e+00,\n",
       "        -5.41268396e+00,  4.45702362e+00,  4.32289505e+00,\n",
       "        -2.16289669e-01, -2.37946415e+00, -3.00087988e-01,\n",
       "        -1.18286967e+00, -5.75413179e+00, -2.61707473e+00,\n",
       "         3.57925868e+00,  4.96009588e-01, -3.60990977e+00,\n",
       "        -2.34124589e+00, -2.12486625e+00, -1.39084184e+00,\n",
       "        -2.16547394e+00, -2.90686536e+00, -5.34944773e-01,\n",
       "         1.44747555e+00,  1.40704095e+00, -2.35502172e+00,\n",
       "        -3.19948578e+00,  1.57824016e+00,  1.08517742e+00,\n",
       "         5.74841642e+00, -2.81642652e+00,  8.78590202e+00,\n",
       "        -1.35371423e+00, -4.80468845e+00, -9.56408203e-01,\n",
       "        -1.24362421e+00,  1.70030546e+00,  1.14578688e+00,\n",
       "        -5.73955870e+00,  4.10525751e+00, -3.31030345e+00,\n",
       "        -2.97868967e+00, -2.51714969e+00, -1.29126346e+00,\n",
       "        -4.91318321e+00, -2.43113208e+00, -9.52132344e-01,\n",
       "         4.91061592e+00,  5.54353046e+00, -3.59208536e+00,\n",
       "         4.37017012e+00, -2.47969508e+00,  5.12843418e+00,\n",
       "         2.04064631e+00,  1.02513885e+00, -2.26056576e+00,\n",
       "         1.87996149e+00, -1.75002789e+00,  1.62751877e+00,\n",
       "        -1.53166318e+00,  2.25072765e+00, -4.04692698e+00,\n",
       "         6.84085751e+00, -4.77780199e+00,  6.67907000e+00,\n",
       "         1.63653576e+00,  2.79646659e+00, -2.23995233e+00,\n",
       "         1.75081980e+00, -4.51578808e+00, -1.10631669e+00,\n",
       "        -2.01718426e+00,  2.24659070e-02, -4.14956003e-01,\n",
       "        -7.56042898e-02, -7.04237700e-01, -5.00571489e+00,\n",
       "        -3.85653710e+00, -1.04332650e+00,  2.45970273e+00,\n",
       "         2.86322308e+00, -6.20183611e+00,  4.19503593e+00,\n",
       "         1.37528265e+00,  1.35487664e+00,  3.17737436e+00,\n",
       "        -1.33496785e+00, -2.02125716e+00, -2.28010225e+00,\n",
       "        -2.09825182e+00, -1.66177249e+00, -1.20465793e-02,\n",
       "         8.30486894e-01, -1.67275429e+00, -3.74393368e+00,\n",
       "         9.09740508e-01,  2.81810236e+00, -4.25262594e+00,\n",
       "         3.63460875e+00, -5.60813332e+00,  1.44799113e+00,\n",
       "         6.22126961e+00,  3.48082781e+00, -4.25862217e+00,\n",
       "        -5.20440531e+00, -1.77059770e+00, -1.42030752e+00,\n",
       "         3.79953575e+00],\n",
       "       [ 6.79528189e+00, -5.47955894e+00,  9.01429749e+00,\n",
       "        -6.00113511e-01, -1.28127012e+01, -1.29608192e+01,\n",
       "        -2.69236374e+00,  1.64247017e+01, -8.61108971e+00,\n",
       "         2.27087545e+00, -2.97704458e+00, -4.31524754e+00,\n",
       "        -1.10888600e+00,  7.51389122e+00, -1.28091121e+00,\n",
       "         2.72603250e+00, -1.20437260e+01,  3.27651215e+00,\n",
       "        -6.96155357e+00,  1.16917908e+00, -3.90176392e+00,\n",
       "         7.40457153e+00,  1.43716812e+01, -8.97081280e+00,\n",
       "        -4.06400967e+00,  2.81282139e+00,  7.93277073e+00,\n",
       "        -1.11330283e+00, -1.73780136e+01,  3.47706604e+00,\n",
       "         3.60579157e+00,  1.02321374e+00, -4.67499924e+00,\n",
       "         3.69034767e-01,  1.21979065e+01,  1.71270132e+00,\n",
       "         1.29533195e+01, -3.86621928e+00,  3.55512083e-01,\n",
       "        -1.01412177e+00, -3.85566115e+00,  6.12767601e+00,\n",
       "        -9.07216072e+00, -3.05551553e+00,  1.43750143e+00,\n",
       "         9.55962658e-01,  4.23250961e+00,  4.79506350e+00,\n",
       "         8.93645096e+00, -7.42151880e+00, -9.36136436e+00,\n",
       "         3.76826334e+00, -3.69529819e+00, -5.76039505e+00,\n",
       "         1.72534065e+01, -7.34856701e+00,  7.95505524e+00,\n",
       "         8.37904155e-01, -7.00068569e+00, -1.22909584e+01,\n",
       "         3.30668402e+00, -4.90597916e+00,  1.99359477e+00,\n",
       "        -1.27033746e+00,  5.26840401e+00,  9.99725628e+00,\n",
       "        -2.04697561e+00,  6.48729610e+00, -3.81304264e+00,\n",
       "        -1.91797018e+00,  4.67965031e+00, -3.03354597e+00,\n",
       "         1.59872189e+01, -5.88193130e+00,  8.69963074e+00,\n",
       "         4.83476067e+00, -8.37890148e+00, -1.05569057e+01,\n",
       "         3.06591225e+00,  5.55398083e+00,  1.25961628e+01,\n",
       "         3.01174593e+00, -2.36435723e+00,  5.36975288e+00,\n",
       "        -1.56687431e+01, -1.89175606e+00,  3.59733629e+00,\n",
       "         1.98424778e+01,  5.46218061e+00,  1.25999773e+00,\n",
       "         1.24543114e+01,  9.99998951e+00,  6.67196655e+00,\n",
       "        -5.76581383e+00,  5.93900204e+00,  2.89916515e+00,\n",
       "        -1.01350460e+01,  3.25626421e+00, -3.89466476e+00,\n",
       "        -7.44992113e+00,  2.04837227e+00,  4.65407467e+00,\n",
       "        -6.23723793e+00, -1.78154802e+00, -2.25891066e+00,\n",
       "         8.81092739e+00, -4.33100510e+00,  9.68548584e+00,\n",
       "         1.39598370e+00,  3.04472971e+00, -1.54636189e-01,\n",
       "         6.77373707e-02,  6.40257359e+00,  1.56824665e+01,\n",
       "         4.34200436e-01, -7.86651039e+00,  7.61669254e+00,\n",
       "         1.74803376e+00, -1.75430655e+00, -9.36454964e+00,\n",
       "         5.18399429e+00, -9.50892639e+00,  9.23748207e+00,\n",
       "         5.32009077e+00, -5.07253408e-01, -2.54899693e+00,\n",
       "        -1.50636539e+01,  3.94159698e+00, -6.67384386e+00,\n",
       "        -2.60423088e+00,  9.53746223e+00, -1.04111137e+01,\n",
       "         4.48659801e+00,  1.95652497e+00,  3.86059701e-01,\n",
       "         1.60972042e+01,  1.30771370e+01, -8.25005352e-01,\n",
       "        -5.66905689e+00, -1.22048721e+01,  1.43130457e+00,\n",
       "        -4.14493704e+00, -5.67753696e+00, -4.08784747e-01,\n",
       "         6.66130877e+00,  1.06184082e+01,  2.62313652e+00,\n",
       "        -1.16737823e+01,  9.55513382e+00,  9.30562210e+00,\n",
       "        -4.98908520e-01, -5.13891697e+00, -8.34550381e-01,\n",
       "        -2.44038200e+00, -1.25028381e+01, -5.80748367e+00,\n",
       "         7.77826452e+00,  1.12805891e+00, -7.86178970e+00,\n",
       "        -5.11806536e+00, -4.65187693e+00, -3.24987173e+00,\n",
       "        -4.75748682e+00, -6.31387234e+00, -1.26650929e+00,\n",
       "         3.26780701e+00,  2.97438002e+00, -5.19069195e+00,\n",
       "        -6.86868763e+00,  3.07315850e+00,  2.44029760e+00,\n",
       "         1.26549854e+01, -5.98897266e+00,  1.90255966e+01,\n",
       "        -2.97365999e+00, -1.06053505e+01, -2.02338123e+00,\n",
       "        -2.62254953e+00,  3.59852982e+00,  2.51832247e+00,\n",
       "        -1.22524195e+01,  8.91649437e+00, -7.15876484e+00,\n",
       "        -6.44511700e+00, -5.64922237e+00, -2.76746392e+00,\n",
       "        -1.05900764e+01, -5.16878128e+00, -2.22190857e+00,\n",
       "         1.08096256e+01,  1.22072105e+01, -7.80620480e+00,\n",
       "         9.24180222e+00, -5.31184912e+00,  1.11817646e+01,\n",
       "         4.53853083e+00,  2.18107748e+00, -4.89106941e+00,\n",
       "         4.24089193e+00, -3.72184515e+00,  3.75209475e+00,\n",
       "        -3.29595661e+00,  5.19826984e+00, -8.74650002e+00,\n",
       "         1.47580128e+01, -1.06597891e+01,  1.44883385e+01,\n",
       "         3.45341110e+00,  5.90914536e+00, -4.84423018e+00,\n",
       "         3.64638948e+00, -9.77811623e+00, -2.32729888e+00,\n",
       "        -4.36103153e+00,  2.91968137e-02, -8.73498082e-01,\n",
       "        -2.01647043e-01, -1.67752600e+00, -1.09652281e+01,\n",
       "        -8.34604263e+00, -2.23544216e+00,  5.32663536e+00,\n",
       "         6.18903351e+00, -1.36360817e+01,  9.07140064e+00,\n",
       "         2.95604324e+00,  3.02136326e+00,  6.89864302e+00,\n",
       "        -2.66661358e+00, -4.53616619e+00, -5.26396656e+00,\n",
       "        -4.45428944e+00, -3.58242416e+00, -6.30236268e-02,\n",
       "         1.86380434e+00, -3.61231709e+00, -8.00366211e+00,\n",
       "         2.00022173e+00,  6.01183748e+00, -9.27348423e+00,\n",
       "         8.03614616e+00, -1.21993217e+01,  3.31423092e+00,\n",
       "         1.36360226e+01,  7.69251919e+00, -9.43635750e+00,\n",
       "        -1.14503508e+01, -3.70935512e+00, -2.90527296e+00,\n",
       "         8.35678291e+00],\n",
       "       [ 4.27043867e+00, -3.40434217e+00,  5.65194464e+00,\n",
       "        -2.81208336e-01, -7.99014854e+00, -8.12922764e+00,\n",
       "        -1.59887660e+00,  1.02326488e+01, -5.34265280e+00,\n",
       "         1.38888919e+00, -1.84436548e+00, -2.63057804e+00,\n",
       "        -7.03852892e-01,  4.67101765e+00, -7.89332688e-01,\n",
       "         1.69665074e+00, -7.52695370e+00,  2.02175713e+00,\n",
       "        -4.33067656e+00,  6.76939666e-01, -2.41434503e+00,\n",
       "         4.61562634e+00,  8.90485859e+00, -5.60928345e+00,\n",
       "        -2.48220611e+00,  1.73283255e+00,  4.81975174e+00,\n",
       "        -5.77943385e-01, -1.07911091e+01,  2.11863470e+00,\n",
       "         2.23422003e+00,  6.78123355e-01, -2.82569742e+00,\n",
       "         2.24923313e-01,  7.62221003e+00,  1.08455312e+00,\n",
       "         8.04597473e+00, -2.47138548e+00,  1.90737814e-01,\n",
       "        -6.31281555e-01, -2.44815087e+00,  3.83060217e+00,\n",
       "        -5.66032314e+00, -1.96017420e+00,  8.75528038e-01,\n",
       "         5.44915974e-01,  2.58434796e+00,  2.95669937e+00,\n",
       "         5.52700710e+00, -4.61548424e+00, -5.84411001e+00,\n",
       "         2.29191160e+00, -2.33977461e+00, -3.60324574e+00,\n",
       "         1.07844496e+01, -4.55627346e+00,  4.88334656e+00,\n",
       "         5.46219885e-01, -4.33878708e+00, -7.56065845e+00,\n",
       "         2.00167608e+00, -3.08123875e+00,  1.20088100e+00,\n",
       "        -7.71183550e-01,  3.21404123e+00,  6.25080013e+00,\n",
       "        -1.30142772e+00,  4.05659914e+00, -2.29554605e+00,\n",
       "        -1.16019011e+00,  2.91035652e+00, -1.92574191e+00,\n",
       "         9.90855026e+00, -3.66171575e+00,  5.45842648e+00,\n",
       "         2.94867992e+00, -5.16030788e+00, -6.59602690e+00,\n",
       "         1.91962183e+00,  3.47241712e+00,  7.80657816e+00,\n",
       "         1.95523810e+00, -1.48553896e+00,  3.38137150e+00,\n",
       "        -9.81557465e+00, -1.14518809e+00,  2.31549120e+00,\n",
       "         1.22724743e+01,  3.42194963e+00,  7.80483842e-01,\n",
       "         7.73956585e+00,  6.19552517e+00,  4.17965746e+00,\n",
       "        -3.59092164e+00,  3.66399622e+00,  1.84182775e+00,\n",
       "        -6.35364723e+00,  2.03441668e+00, -2.41748857e+00,\n",
       "        -4.57808685e+00,  1.23526120e+00,  2.91941118e+00,\n",
       "        -3.81949329e+00, -1.08673024e+00, -1.37801051e+00,\n",
       "         5.45995045e+00, -2.73559427e+00,  6.04130268e+00,\n",
       "         8.72051775e-01,  1.91587114e+00, -9.24178511e-02,\n",
       "        -4.51390259e-03,  3.92076969e+00,  9.74640179e+00,\n",
       "         2.61329979e-01, -4.85962725e+00,  4.69721889e+00,\n",
       "         1.04751563e+00, -1.09745598e+00, -5.80072546e+00,\n",
       "         3.28880382e+00, -5.94490337e+00,  5.76417065e+00,\n",
       "         3.24899197e+00, -3.12891692e-01, -1.58971763e+00,\n",
       "        -9.34302521e+00,  2.51474118e+00, -4.13722467e+00,\n",
       "        -1.58627295e+00,  5.92503881e+00, -6.51675510e+00,\n",
       "         2.77120113e+00,  1.15304840e+00,  2.34545901e-01,\n",
       "         1.00430765e+01,  8.14064693e+00, -4.55139548e-01,\n",
       "        -3.49422145e+00, -7.53600025e+00,  9.10700798e-01,\n",
       "        -2.61084223e+00, -3.59681988e+00, -2.22429767e-01,\n",
       "         4.10113668e+00,  6.56790161e+00,  1.62468910e+00,\n",
       "        -7.30591345e+00,  6.00489998e+00,  5.82856274e+00,\n",
       "        -3.02786589e-01, -3.21344113e+00, -4.55790430e-01,\n",
       "        -1.56957698e+00, -7.80202579e+00, -3.57937050e+00,\n",
       "         4.85224962e+00,  6.78591311e-01, -4.89671326e+00,\n",
       "        -3.18681717e+00, -2.89178252e+00, -1.94869876e+00,\n",
       "        -2.95286393e+00, -3.94524336e+00, -7.53745317e-01,\n",
       "         1.99666810e+00,  1.87933660e+00, -3.20974135e+00,\n",
       "        -4.31867790e+00,  2.03393197e+00,  1.48921573e+00,\n",
       "         7.83481169e+00, -3.77934217e+00,  1.18916035e+01,\n",
       "        -1.84427929e+00, -6.56476116e+00, -1.28293252e+00,\n",
       "        -1.66261625e+00,  2.27122021e+00,  1.56248415e+00,\n",
       "        -7.71103573e+00,  5.56315136e+00, -4.47730207e+00,\n",
       "        -4.03122759e+00, -3.46019268e+00, -1.74518383e+00,\n",
       "        -6.63873672e+00, -3.26581526e+00, -1.33109200e+00,\n",
       "         6.69148922e+00,  7.56019402e+00, -4.87511396e+00,\n",
       "         5.85954666e+00, -3.34355903e+00,  6.96627951e+00,\n",
       "         2.80075550e+00,  1.38158393e+00, -3.05991507e+00,\n",
       "         2.59240341e+00, -2.34846067e+00,  2.27085114e+00,\n",
       "        -2.06593132e+00,  3.13614202e+00, -5.46606970e+00,\n",
       "         9.24367714e+00, -6.54908180e+00,  9.04524422e+00,\n",
       "         2.19038391e+00,  3.74136400e+00, -3.03044462e+00,\n",
       "         2.33191133e+00, -6.11169338e+00, -1.47580194e+00,\n",
       "        -2.73088026e+00,  1.36978477e-02, -5.56232750e-01,\n",
       "        -1.12381309e-01, -9.93116200e-01, -6.80530357e+00,\n",
       "        -5.21790981e+00, -1.39897895e+00,  3.33044696e+00,\n",
       "         3.87531662e+00, -8.44718647e+00,  5.67936802e+00,\n",
       "         1.85476255e+00,  1.85648382e+00,  4.29997110e+00,\n",
       "        -1.73876095e+00, -2.77811527e+00, -3.17987967e+00,\n",
       "        -2.81970119e+00, -2.25179935e+00, -1.85730793e-02,\n",
       "         1.14335060e+00, -2.26337218e+00, -5.04216623e+00,\n",
       "         1.23981619e+00,  3.79028201e+00, -5.77999973e+00,\n",
       "         4.96263695e+00, -7.60659456e+00,  2.00915384e+00,\n",
       "         8.46489906e+00,  4.74910259e+00, -5.82715273e+00,\n",
       "        -7.09981728e+00, -2.36434102e+00, -1.86975837e+00,\n",
       "         5.16941547e+00]], dtype=float32)"
      ]
     },
     "execution_count": 66,
     "metadata": {},
     "output_type": "execute_result"
    }
   ],
   "source": [
    "kmeans.cluster_centers_"
   ]
  },
  {
   "cell_type": "code",
   "execution_count": 67,
   "metadata": {
    "scrolled": true
   },
   "outputs": [],
   "source": [
    "trace_VecFrame['cluster'] = kmeans.predict(trace_VecFrame)\n",
    "trace_VecFrame['trace'] = trace_StrList"
   ]
  },
  {
   "cell_type": "code",
   "execution_count": 68,
   "metadata": {},
   "outputs": [
    {
     "data": {
      "text/plain": [
       "0    287\n",
       "2    104\n",
       "1     14\n",
       "Name: cluster, dtype: int64"
      ]
     },
     "execution_count": 68,
     "metadata": {},
     "output_type": "execute_result"
    }
   ],
   "source": [
    "trace_VecFrame['cluster'].value_counts()"
   ]
  },
  {
   "cell_type": "markdown",
   "metadata": {},
   "source": [
    "## Visualizing the data"
   ]
  },
  {
   "cell_type": "markdown",
   "metadata": {},
   "source": [
    "### Using PCA Analysis in multidimensions"
   ]
  },
  {
   "cell_type": "code",
   "execution_count": 69,
   "metadata": {},
   "outputs": [],
   "source": [
    "from sklearn.decomposition import PCA\n",
    "import plotly as py\n",
    "import plotly.graph_objs as go\n",
    "import plotly.io as pio\n",
    "from plotly.offline import download_plotlyjs, init_notebook_mode, plot, iplot"
   ]
  },
  {
   "cell_type": "code",
   "execution_count": 70,
   "metadata": {},
   "outputs": [],
   "source": [
    "pca_2d = PCA(n_components=2)\n",
    "PCs_2d = pd.DataFrame(pca_2d.fit_transform(trace_VecFrame.drop([\"cluster\",\"trace\"], axis=1)))\n",
    "PCs_2d.columns = [\"PC1_2d\", \"PC2_2d\"]\n",
    "\n",
    "pca_3d = PCA(n_components=3)\n",
    "PCs_3d = pd.DataFrame(pca_3d.fit_transform(trace_VecFrame.drop([\"cluster\",\"trace\"], axis=1)))\n",
    "PCs_3d.columns = [\"PC1_3d\", \"PC2_3d\",\"PC3_3d\"]\n",
    "\n",
    "pca_5d = PCA(n_components=5)\n",
    "PCs_5d = pd.DataFrame(pca_5d.fit_transform(trace_VecFrame.drop([\"cluster\",\"trace\"], axis=1)))\n",
    "PCs_5d.columns = [\"PC1_5d\", \"PC2_5d\",\"PC3_5d\",\"PC4_5d\",\"PC5_5d\"]"
   ]
  },
  {
   "cell_type": "markdown",
   "metadata": {},
   "source": [
    "Initiate PCA with different dimensions"
   ]
  },
  {
   "cell_type": "code",
   "execution_count": 71,
   "metadata": {},
   "outputs": [],
   "source": [
    "pca_2dPlot = pd.concat([PCs_2d,trace_VecFrame['cluster'], trace_VecFrame['trace']], axis=1, join='inner')\n",
    "pca_3dPlot = pd.concat([PCs_3d,trace_VecFrame['cluster'], trace_VecFrame['trace']], axis=1, join='inner')\n",
    "pca_5dPlot = pd.concat([PCs_5d,trace_VecFrame['cluster'], trace_VecFrame['trace']], axis=1, join='inner')"
   ]
  },
  {
   "cell_type": "markdown",
   "metadata": {},
   "source": [
    "Add cluster affiliation to PCA coordinates"
   ]
  },
  {
   "cell_type": "code",
   "execution_count": 72,
   "metadata": {},
   "outputs": [],
   "source": [
    "# Filter points of the different clusters\n",
    "# 2D\n",
    "cluster2d_0 = pca_2dPlot[pca_2dPlot['cluster'] == 0]\n",
    "cluster2d_1 = pca_2dPlot[pca_2dPlot['cluster'] == 1]\n",
    "cluster2d_2 = pca_2dPlot[pca_2dPlot['cluster'] == 2]\n",
    "\n",
    "# 3D\n",
    "cluster3d_0 = pca_3dPlot[pca_2dPlot['cluster'] == 0]\n",
    "cluster3d_1 = pca_3dPlot[pca_2dPlot['cluster'] == 1]\n",
    "cluster3d_2 = pca_3dPlot[pca_2dPlot['cluster'] == 2]\n",
    "\n",
    "#5D\n",
    "cluster5d_0 = pca_5dPlot[pca_5dPlot['cluster'] == 0]\n",
    "cluster5d_1 = pca_5dPlot[pca_5dPlot['cluster'] == 1]\n",
    "cluster5d_2 = pca_5dPlot[pca_5dPlot['cluster'] == 2]"
   ]
  },
  {
   "cell_type": "code",
   "execution_count": 73,
   "metadata": {},
   "outputs": [
    {
     "data": {
      "text/html": [
       "        <script type=\"text/javascript\">\n",
       "        window.PlotlyConfig = {MathJaxConfig: 'local'};\n",
       "        if (window.MathJax) {MathJax.Hub.Config({SVG: {font: \"STIX-Web\"}});}\n",
       "        if (typeof require !== 'undefined') {\n",
       "        require.undef(\"plotly\");\n",
       "        requirejs.config({\n",
       "            paths: {\n",
       "                'plotly': ['https://cdn.plot.ly/plotly-2.9.0.min']\n",
       "            }\n",
       "        });\n",
       "        require(['plotly'], function(Plotly) {\n",
       "            window._Plotly = Plotly;\n",
       "        });\n",
       "        }\n",
       "        </script>\n",
       "        "
      ]
     },
     "metadata": {},
     "output_type": "display_data"
    }
   ],
   "source": [
    "init_notebook_mode(connected=True)"
   ]
  },
  {
   "cell_type": "code",
   "execution_count": 74,
   "metadata": {},
   "outputs": [
    {
     "data": {
      "text/html": [
       "<div>\n",
       "<style scoped>\n",
       "    .dataframe tbody tr th:only-of-type {\n",
       "        vertical-align: middle;\n",
       "    }\n",
       "\n",
       "    .dataframe tbody tr th {\n",
       "        vertical-align: top;\n",
       "    }\n",
       "\n",
       "    .dataframe thead th {\n",
       "        text-align: right;\n",
       "    }\n",
       "</style>\n",
       "<table border=\"1\" class=\"dataframe\">\n",
       "  <thead>\n",
       "    <tr style=\"text-align: right;\">\n",
       "      <th></th>\n",
       "      <th>PC1_2d</th>\n",
       "      <th>PC2_2d</th>\n",
       "      <th>cluster</th>\n",
       "      <th>trace</th>\n",
       "    </tr>\n",
       "  </thead>\n",
       "  <tbody>\n",
       "    <tr>\n",
       "      <th>0</th>\n",
       "      <td>-2.080758</td>\n",
       "      <td>-0.097871</td>\n",
       "      <td>0</td>\n",
       "      <td>0 502 website request served &lt;br&gt;7 502 user lo...</td>\n",
       "    </tr>\n",
       "    <tr>\n",
       "      <th>1</th>\n",
       "      <td>-12.275417</td>\n",
       "      <td>0.002945</td>\n",
       "      <td>0</td>\n",
       "      <td>0 503 website request served &lt;br&gt;3 503 user lo...</td>\n",
       "    </tr>\n",
       "    <tr>\n",
       "      <th>2</th>\n",
       "      <td>-1.956380</td>\n",
       "      <td>-0.086461</td>\n",
       "      <td>0</td>\n",
       "      <td>0 504 website request served &lt;br&gt;1 504 user lo...</td>\n",
       "    </tr>\n",
       "    <tr>\n",
       "      <th>3</th>\n",
       "      <td>-10.460615</td>\n",
       "      <td>-0.055735</td>\n",
       "      <td>0</td>\n",
       "      <td>0 505 website request served &lt;br&gt;3 505 user lo...</td>\n",
       "    </tr>\n",
       "    <tr>\n",
       "      <th>4</th>\n",
       "      <td>-10.101180</td>\n",
       "      <td>0.020159</td>\n",
       "      <td>0</td>\n",
       "      <td>0 506 website request served &lt;br&gt;5 506 user lo...</td>\n",
       "    </tr>\n",
       "  </tbody>\n",
       "</table>\n",
       "</div>"
      ],
      "text/plain": [
       "      PC1_2d    PC2_2d  cluster  \\\n",
       "0  -2.080758 -0.097871        0   \n",
       "1 -12.275417  0.002945        0   \n",
       "2  -1.956380 -0.086461        0   \n",
       "3 -10.460615 -0.055735        0   \n",
       "4 -10.101180  0.020159        0   \n",
       "\n",
       "                                               trace  \n",
       "0  0 502 website request served <br>7 502 user lo...  \n",
       "1  0 503 website request served <br>3 503 user lo...  \n",
       "2  0 504 website request served <br>1 504 user lo...  \n",
       "3  0 505 website request served <br>3 505 user lo...  \n",
       "4  0 506 website request served <br>5 506 user lo...  "
      ]
     },
     "execution_count": 74,
     "metadata": {},
     "output_type": "execute_result"
    }
   ],
   "source": [
    "cluster2d_0.head()"
   ]
  },
  {
   "cell_type": "code",
   "execution_count": 75,
   "metadata": {},
   "outputs": [
    {
     "data": {
      "text/plain": [
       "0      0 502 website request served <br>7 502 user lo...\n",
       "1      0 503 website request served <br>3 503 user lo...\n",
       "2      0 504 website request served <br>1 504 user lo...\n",
       "3      0 505 website request served <br>3 505 user lo...\n",
       "4      0 506 website request served <br>5 506 user lo...\n",
       "                             ...                        \n",
       "400    0 902 website request served <br>7 902 user lo...\n",
       "401    0 903 website request served <br>7 903 user lo...\n",
       "402    0 904 website request served <br>6 904 user lo...\n",
       "403    0 905 website request served <br>5 905 login n...\n",
       "404    0 906 website request served <br>3 906 user lo...\n",
       "Name: trace, Length: 405, dtype: object"
      ]
     },
     "execution_count": 75,
     "metadata": {},
     "output_type": "execute_result"
    }
   ],
   "source": [
    "trace_VecFrame['trace']"
   ]
  },
  {
   "cell_type": "code",
   "execution_count": 76,
   "metadata": {},
   "outputs": [],
   "source": [
    "import seaborn as sns"
   ]
  },
  {
   "cell_type": "code",
   "execution_count": 77,
   "metadata": {},
   "outputs": [
    {
     "data": {
      "text/plain": [
       "<seaborn.axisgrid.FacetGrid at 0x1bb23867880>"
      ]
     },
     "execution_count": 77,
     "metadata": {},
     "output_type": "execute_result"
    },
    {
     "data": {
      "image/png": "[encoded data removed]",
      "text/plain": [
       "<Figure size 402.375x360 with 1 Axes>"
      ]
     },
     "metadata": {
      "needs_background": "light"
     },
     "output_type": "display_data"
    }
   ],
   "source": [
    "sns.lmplot(x='PC1_2d',y='PC2_2d', data=pca_2dPlot, hue='cluster', fit_reg=False, palette='tab10')"
   ]
  },
  {
   "cell_type": "code",
   "execution_count": 78,
   "metadata": {
    "scrolled": false
   },
   "outputs": [
    {
     "data": {
      "application/vnd.plotly.v1+json": {
       "config": {
        "linkText": "Export to plot.ly",
        "plotlyServerURL": "https://plot.ly",
        "showLink": false
       },
       "data": [
        {
         "marker": {
          "color": "rgba(255, 128, 255, 0.8)"
         },
         "mode": "markers",
         "name": "Cluster 0",
         "text": [
          "0 502 website request served <br>7 502 user logged in <br>3 502 item added to cart <br>7 502 item added to cart <br>0 502 dhl chosen for shipping <br>4 502 klarna chosen for payment <br>6 502 order placed succesful <br>",
          "0 503 website request served <br>3 503 user loged in <br>4 503 item added cart <br>6 503 dpd chosen for shipping <br>4 503 sofortueberweisung chosen for payment <br>2 503 order place succesful <br>",
          "0 504 website request served <br>1 504 user logged in <br>7 504 item added to cart <br>6 504 item added to cart <br>3 504 hermes chosen for shipping <br>2 504 sofortueberweisung chosen for payment <br>8 504 order placed succesful <br>",
          "0 505 website request served <br>3 505 user logged in <br>4 505 item added to cart <br>4 505 hermes chosen for shipping <br>6 505 sofortueberweisung chosen for payment <br>3 505 order placed succesful <br>",
          "0 506 website request served <br>5 506 user logged in <br>8 506 item added to cart <br>1 506 dhl chosen for shipping <br>6 506 klarna chosen for payment <br>7 506 order placed succesful <br>",
          "0 508 website request served <br>6 508 user loged in <br>1 508 item added cart <br>7 508 hermes chosen for shipping <br>3 508 klana chosen for payment <br>6 508 order place succesful <br>",
          "0 509 website request served <br>5 509 user logged in <br>8 509 item added to cart <br>2 509 hermes chosen for shipping <br>5 509 klarna chosen for payment <br>5 509 order placed succesful <br>",
          "0 511 website request served <br>7 511 user logged in <br>6 511 item added to cart <br>5 511 item added to cart <br>6 511 hermes chosen for shipping <br>3 511 klarna chosen for payment <br>3 511 order placed succesful <br>",
          "0 512 website request served <br>3 512 user loged in <br>5 512 item added to cart <br>2 512 dpd chosen for shipping <br>8 512 sofortueberweisung chosen for payment <br>5 512 order place succesful <br>",
          "0 513 website request served <br>4 513 user loged in <br>6 513 item added cart <br>3 513 item added cart <br>3 513 dpd chosen for shipping <br>8 513 paypal chosen for payment <br>2 513 order place succesful <br>",
          "0 514 website request served <br>4 514 user logged in <br>6 514 item added to cart <br>6 514 item added to cart <br>2 514 hermes chosen for shipping <br>4 514 sofortueberweisung chosen for payment <br>5 514 order placed succesful <br>",
          "0 516 website request served <br>3 516 login not succesfull <br>7 516 user logged in <br>2 516 item added to cart <br>8 516 hermes chosen for shipping <br>5 516 paypal chosen for payment <br>3 516 order placed succesful <br>",
          "0 518 website request served <br>2 518 user logged in <br>7 518 item added to cart <br>6 518 dpd chosen for shipping <br>2 518 klarna chosen for payment <br>6 518 order placed succesful <br>",
          "0 519 website request served <br>6 519 user loged in <br>4 519 item added to cart <br>7 519 item added to cart <br>3 519 dhl chosen fr shipping <br>6 519 sofortueberweisung chosen for payment <br>7 519 order place succesful <br>",
          "0 520 website request served <br>3 520 user logged in <br>4 520 item added to cart <br>3 520 item added to cart <br>6 520 dpd chosen for shipping <br>5 520 klarna chosen for payment <br>5 520 order placed succesful <br>",
          "0 521 website request served <br>6 521 user loged in <br>7 521 item added to cart <br>4 521 item added to cart <br>1 521 hermes chosen for shipping <br>4 521 sofortueberweisung chosen for payment <br>9 521 order place succesful <br>",
          "0 522 website request served <br>8 522 login not succesfull <br>6 522 user logged in <br>1 522 item added to cart <br>8 522 hermes chosen for shipping <br>1 522 sofortueberweisung chosen for payment <br>8 522 order placed succesful <br>",
          "0 523 website request served <br>2 523 user logged in <br>6 523 item added to cart <br>4 523 hermes chosen for shipping <br>3 523 klarna chosen for payment <br>5 523 order placed succesful <br>",
          "0 524 website request served <br>4 524 user logged in <br>5 524 item added to cart <br>2 524 hermes chosen for shipping <br>6 524 sofortueberweisung chosen for payment <br>4 524 order placed succesful <br>",
          "0 525 website request served <br>3 525 user loged in <br>5 525 item added cart <br>3 525 item added cart <br>8 525 item added cart <br>2 525 dpd chosen for shipping <br>3 525 paypal chosen for payment <br>6 525 order place succesful <br>",
          "0 527 website request served <br>3 527 user logged in <br>6 527 item added to cart <br>6 527 item added to cart <br>3 527 hermes chosen for shipping <br>4 527 paypal chosen for payment <br>8 527 order placed succesful <br>",
          "0 528 website request served <br>9 528 user loged in <br>1 528 item added cart <br>8 528 dpd chosen for shipping <br>0 528 paypal chosen for payment <br>7 528 order place succesful <br>",
          "0 529 website request served <br>2 529 user loged in <br>5 529 item added to cart <br>5 529 hermes chosen for shipping <br>4 529 klarna chosen for payment <br>5 529 order place succesful <br>",
          "0 530 website request served <br>6 530 login not succesfull <br>5 530 user logged in <br>6 530 item added to cart <br>2 530 dpd chosen for shipping <br>6 530 klarna chosen for payment <br>3 530 order placed succesful <br>",
          "0 531 website request served <br>6 531 user logged in <br>7 531 item added to cart <br>1 531 dhl chosen for shipping <br>5 531 paypal chosen for payment <br>4 531 order placed succesful <br>",
          "0 532 website request served <br>3 532 user logged in <br>5 532 item added to cart <br>7 532 dpd chosen for shipping <br>3 532 sofortueberweisung chosen for payment <br>8 532 order placed succesful <br>",
          "0 533 website request served <br>8 533 user logged in <br>1 533 item added to cart <br>8 533 item added to cart <br>1 533 hermes chosen for shipping <br>7 533 sofortueberweisung chosen for payment <br>4 533 order placed succesful <br>",
          "0 534 website request served <br>1 534 user logged in <br>7 534 item added to cart <br>5 534 item added to cart <br>2 534 hermes chosen for shipping <br>7 534 klarna chosen for payment <br>5 534 order placed succesful <br>",
          "0 535 website request served <br>6 535 user logged in <br>1 535 item added to cart <br>8 535 hermes chosen for shipping <br>4 535 klarna chosen for payment <br>6 535 order placed succesful <br>",
          "0 536 website request served <br>2 536 login not succesfull <br>5 536 user logged in <br>7 536 item added to cart <br>6 536 dpd chosen for shipping <br>1 536 paypal chosen for payment <br>7 536 order placed succesful <br>",
          "0 537 website request served <br>5 537 user logged in <br>4 537 item added to cart <br>6 537 item added to cart <br>4 537 hermes chosen for shipping <br>6 537 paypal chosen for payment <br>3 537 order placed succesful <br>",
          "0 538 website request served <br>1 538 user logged in <br>5 538 item added to cart <br>7 538 dpd chosen for shipping <br>3 538 paypal chosen for payment <br>4 538 order placed succesful <br>",
          "0 539 website request served <br>4 539 user logged in <br>5 539 item added to cart <br>7 539 dhl chosen for shipping <br>4 539 klarna chosen for payment <br>3 539 order placed succesful <br>",
          "0 540 website request served <br>2 540 login not succesfull <br>8 540 user logged in <br>0 540 item added to cart <br>6 540 dpd chosen for shipping <br>6 540 klarna chosen for payment <br>5 540 order placed succesful <br>",
          "0 541 website request served <br>6 541 user logged in <br>6 541 item added to cart <br>4 541 hermes chosen for shipping <br>1 541 sofortueberweisung chosen for payment <br>8 541 order placed succesful <br>",
          "0 543 website request served <br>5 543 login not succesfull <br>4 543 user logged in <br>1 543 item added to cart <br>5 543 hermes chosen for shipping <br>7 543 klarna chosen for payment <br>3 543 order placed succesful <br>",
          "0 544 website request served <br>2 544 login not succesfull <br>5 544 user logged in <br>5 544 item added to cart <br>4 544 hermes chosen for shipping <br>3 544 paypal chosen for payment <br>9 544 order placed succesful <br>",
          "0 545 website request served <br>9 545 user logged in <br>3 545 item added to cart <br>5 545 dhl chosen for shipping <br>6 545 klarna chosen for payment <br>5 545 order placed succesful <br>",
          "0 547 website request served <br>4 547 user logged in <br>4 547 item added to cart <br>5 547 hermes chosen for shipping <br>6 547 sofortueberweisung chosen for payment <br>4 547 order placed succesful <br>",
          "0 549 website request served <br>6 549 user loged in <br>8 549 item added to cart <br>4 549 item added to cart <br>3 549 dhl chosen fr shipping <br>3 549 sofortueberweisung chosen for payment <br>6 549 order place succesful <br>",
          "0 552 website request served <br>2 552 user loged in <br>3 552 item added cart <br>8 552 item added cart <br>3 552 hermes chosen for shipping <br>6 552 paypal chosen for payment <br>4 552 order place succesful <br>",
          "0 553 website request served <br>5 553 user logged in <br>5 553 item added to cart <br>5 553 item added to cart <br>5 553 dhl chosen for shipping <br>2 553 paypal chosen for payment <br>7 553 order placed succesful <br>",
          "0 554 website request served <br>5 554 login not succesfull <br>2 554 user logged in <br>7 554 item added to cart <br>3 554 hermes chosen for shipping <br>5 554 klarna chosen for payment <br>2 554 order placed succesful <br>",
          "0 555 website request served <br>3 555 login not succesfull <br>6 555 user logged in <br>4 555 item added to cart <br>2 555 hermes chosen for shipping <br>6 555 sofortueberweisung chosen for payment <br>1 555 order placed succesful <br>",
          "0 556 website request served <br>6 556 user logged in <br>7 556 item added to cart <br>2 556 item added to cart <br>6 556 hermes chosen for shipping <br>3 556 sofortueberweisung chosen for payment <br>7 556 order placed succesful <br>",
          "0 561 website request served <br>3 561 user logged in <br>6 561 item added to cart <br>4 561 dhl chosen for shipping <br>2 561 klarna chosen for payment <br>5 561 order placed succesful <br>",
          "0 562 website request served <br>5 562 login not succesfull <br>2 562 user logged in <br>8 562 item added to cart <br>2 562 dpd chosen for shipping <br>5 562 sofortueberweisung chosen for payment <br>7 562 order placed succesful <br>",
          "0 563 website request served <br>3 563 user logged in <br>3 563 item added to cart <br>5 563 dhl chosen for shipping <br>3 563 paypal chosen for payment <br>6 563 order placed succesful <br>",
          "0 564 website request served <br>8 564 user logged in <br>1 564 item added to cart <br>7 564 dhl chosen for shipping <br>7 564 sofortueberweisung chosen for payment <br>3 564 order placed succesful <br>",
          "0 565 website request served <br>3 565 user logged in <br>9 565 item added to cart <br>2 565 dpd chosen for shipping <br>6 565 sofortueberweisung chosen for payment <br>3 565 order placed succesful <br>",
          "0 567 website request served <br>4 567 user logged in <br>4 567 item added to cart <br>9 567 item added to cart <br>4 567 dpd chosen for shipping <br>1 567 klarna chosen for payment <br>5 567 order placed succesful <br>",
          "0 568 website request served <br>9 568 user logged in <br>3 568 item added to cart <br>7 568 item added to cart <br>3 568 dhl chosen for shipping <br>5 568 sofortueberweisung chosen for payment <br>3 568 order placed succesful <br>",
          "0 569 website request served <br>4 569 login not succesfull <br>5 569 user logged in <br>7 569 item added to cart <br>1 569 dhl chosen for shipping <br>9 569 klarna chosen for payment <br>1 569 order placed succesful <br>",
          "0 571 website request served <br>4 571 login not succesfull <br>8 571 user logged in <br>5 571 item added to cart <br>2 571 dpd chosen for shipping <br>5 571 sofortueberweisung chosen for payment <br>7 571 order placed succesful <br>",
          "0 572 website request served <br>5 572 user logged in <br>4 572 item added to cart <br>5 572 hermes chosen for shipping <br>9 572 klarna chosen for payment <br>1 572 order placed succesful <br>",
          "0 573 website request served <br>1 573 user loged in <br>7 573 item added to cart <br>6 573 dhl chosen fr shipping <br>4 573 klarna chosen for payment <br>2 573 order place succesful <br>",
          "0 574 website request served <br>6 574 user logged in <br>3 574 item added to cart <br>4 574 dpd chosen for shipping <br>5 574 paypal chosen for payment <br>3 574 order placed succesful <br>",
          "0 575 website request served <br>7 575 login not succesfull <br>1 575 user logged in <br>6 575 item added to cart <br>6 575 hermes chosen for shipping <br>3 575 sofortueberweisung chosen for payment <br>6 575 order placed succesful <br>",
          "0 576 website request served <br>6 576 user logged in <br>8 576 item added to cart <br>3 576 dhl chosen for shipping <br>5 576 klarna chosen for payment <br>2 576 order placed succesful <br>",
          "0 579 website request served <br>7 579 user logged in <br>2 579 item added to cart <br>8 579 item added to cart <br>4 579 hermes chosen for shipping <br>3 579 klarna chosen for payment <br>4 579 order placed succesful <br>",
          "0 580 website request served <br>2 580 user logged in <br>3 580 item added to cart <br>7 580 dpd chosen for shipping <br>5 580 klarna chosen for payment <br>4 580 order placed succesful <br>",
          "0 581 website request served <br>7 581 user logged in <br>1 581 item added to cart <br>4 581 item added to cart <br>7 581 dhl chosen for shipping <br>3 581 klarna chosen for payment <br>6 581 order placed succesful <br>",
          "0 582 website request served <br>2 582 user logged in <br>7 582 item added to cart <br>4 582 hermes chosen for shipping <br>3 582 klarna chosen for payment <br>7 582 order placed succesful <br>",
          "0 583 website request served <br>2 583 user loged in <br>4 583 item added cart <br>8 583 dhl chosen for shipping <br>3 583 paypal chosen for payment <br>4 583 order place succesful <br>",
          "0 584 website request served <br>6 584 user logged in <br>2 584 item added to cart <br>5 584 hermes chosen for shipping <br>5 584 paypal chosen for payment <br>2 584 order placed succesful <br>",
          "0 587 website request served <br>3 587 user logged in <br>5 587 item added to cart <br>7 587 dpd chosen for shipping <br>4 587 paypal chosen for payment <br>3 587 order placed succesful <br>",
          "0 588 website request served <br>7 588 user logged in <br>2 588 item added to cart <br>7 588 item added to cart <br>5 588 hermes chosen for shipping <br>5 588 klarna chosen for payment <br>3 588 order placed succesful <br>",
          "0 590 website request served <br>0 590 user logged in <br>9 590 item added to cart <br>3 590 item added to cart <br>6 590 dhl chosen for shipping <br>1 590 klarna chosen for payment <br>7 590 order placed succesful <br>",
          "0 592 website request served <br>1 592 user logged in <br>7 592 item added to cart <br>3 592 dhl chosen for shipping <br>4 592 paypal chosen for payment <br>4 592 order placed succesful <br>",
          "0 593 website request served <br>5 593 user logged in <br>7 593 item added to cart <br>4 593 hermes chosen for shipping <br>2 593 paypal chosen for payment <br>4 593 order placed succesful <br>",
          "0 594 website request served <br>7 594 user logged in <br>2 594 item added to cart <br>5 594 dpd chosen for shipping <br>5 594 paypal chosen for payment <br>6 594 order placed succesful <br>",
          "0 595 website request served <br>5 595 user logged in <br>4 595 item added to cart <br>5 595 hermes chosen for shipping <br>5 595 sofortueberweisung chosen for payment <br>5 595 order placed succesful <br>",
          "0 596 website request served <br>5 596 user logged in <br>3 596 item added to cart <br>9 596 item added to cart <br>0 596 dhl chosen for shipping <br>5 596 sofortueberweisung chosen for payment <br>4 596 order placed succesful <br>",
          "0 597 website request served <br>4 597 user loged in <br>5 597 item added cart <br>5 597 item added cart <br>7 597 item added cart <br>6 597 dhl chosen for shipping <br>5 597 klana chosen for payment <br>3 597 order place succesful <br>",
          "0 598 website request served <br>2 598 user loged in <br>7 598 item added cart <br>4 598 dpd chosen for shipping <br>3 598 sofortueberweisung chosen for payment <br>5 598 order place succesful <br>",
          "0 601 website request served <br>7 601 user logged in <br>1 601 item added to cart <br>7 601 hermes chosen for shipping <br>4 601 sofortueberweisung chosen for payment <br>4 601 order placed succesful <br>",
          "0 602 website request served <br>3 602 user logged in <br>4 602 item added to cart <br>4 602 dhl chosen for shipping <br>5 602 paypal chosen for payment <br>4 602 order placed succesful <br>",
          "0 603 website request served <br>4 603 user logged in <br>4 603 item added to cart <br>8 603 dpd chosen for shipping <br>0 603 sofortueberweisung chosen for payment <br>9 603 order placed succesful <br>",
          "0 606 website request served <br>5 606 user logged in <br>8 606 item added to cart <br>5 606 hermes chosen for shipping <br>4 606 klarna chosen for payment <br>3 606 order placed succesful <br>",
          "0 608 website request served <br>1 608 user loged in <br>7 608 item added to cart <br>2 608 dpd chosen for shipping <br>7 608 klarna chosen for payment <br>3 608 order place succesful <br>",
          "0 610 website request served <br>6 610 user logged in <br>1 610 item added to cart <br>7 610 item added to cart <br>6 610 dpd chosen for shipping <br>5 610 paypal chosen for payment <br>3 610 order placed succesful <br>",
          "0 611 website request served <br>3 611 user logged in <br>5 611 item added to cart <br>5 611 item added to cart <br>4 611 hermes chosen for shipping <br>3 611 sofortueberweisung chosen for payment <br>8 611 order placed succesful <br>",
          "0 612 website request served <br>4 612 user logged in <br>8 612 item added to cart <br>4 612 dhl chosen for shipping <br>5 612 sofortueberweisung chosen for payment <br>6 612 order placed succesful <br>",
          "0 613 website request served <br>6 613 user logged in <br>7 613 item added to cart <br>0 613 hermes chosen for shipping <br>5 613 paypal chosen for payment <br>7 613 order placed succesful <br>",
          "0 614 website request served <br>2 614 user loged in <br>4 614 item added to cart <br>6 614 dpd chosen for shipping <br>6 614 sofortueberweisung chosen for payment <br>3 614 order place succesful <br>",
          "0 615 website request served <br>5 615 user loged in <br>5 615 item added cart <br>6 615 hermes chosen for shipping <br>5 615 sofortueberweisung chosen for payment <br>2 615 order place succesful <br>",
          "0 616 website request served <br>6 616 user logged in <br>6 616 item added to cart <br>1 616 item added to cart <br>6 616 hermes chosen for shipping <br>4 616 sofortueberweisung chosen for payment <br>7 616 order placed succesful <br>",
          "0 617 website request served <br>2 617 user logged in <br>5 617 item added to cart <br>5 617 dhl chosen for shipping <br>5 617 klarna chosen for payment <br>7 617 order placed succesful <br>",
          "0 618 website request served <br>5 618 user logged in <br>1 618 item added to cart <br>9 618 dpd chosen for shipping <br>1 618 klarna chosen for payment <br>8 618 order placed succesful <br>",
          "0 621 website request served <br>3 621 user logged in <br>4 621 item added to cart <br>6 621 dpd chosen for shipping <br>3 621 sofortueberweisung chosen for payment <br>5 621 order placed succesful <br>",
          "0 622 website request served <br>4 622 user logged in <br>6 622 item added to cart <br>1 622 hermes chosen for shipping <br>6 622 sofortueberweisung chosen for payment <br>4 622 order placed succesful <br>",
          "0 624 website request served <br>6 624 user logged in <br>1 624 item added to cart <br>6 624 item added to cart <br>3 624 dpd chosen for shipping <br>8 624 sofortueberweisung chosen for payment <br>2 624 order placed succesful <br>",
          "0 626 website request served <br>5 626 user logged in <br>9 626 item added to cart <br>0 626 dhl chosen for shipping <br>8 626 sofortueberweisung chosen for payment <br>6 626 order placed succesful <br>",
          "0 627 website request served <br>3 627 user logged in <br>8 627 item added to cart <br>3 627 dhl chosen for shipping <br>4 627 klarna chosen for payment <br>7 627 order placed succesful <br>",
          "0 628 website request served <br>4 628 user logged in <br>4 628 item added to cart <br>4 628 dhl chosen for shipping <br>7 628 paypal chosen for payment <br>4 628 order placed succesful <br>",
          "0 630 website request served <br>4 630 user loged in <br>5 630 item added cart <br>3 630 dpd chosen for shipping <br>6 630 sofortueberweisung chosen for payment <br>5 630 order place succesful <br>",
          "0 631 website request served <br>6 631 user logged in <br>6 631 item added to cart <br>3 631 hermes chosen for shipping <br>5 631 sofortueberweisung chosen for payment <br>4 631 order placed succesful <br>",
          "0 632 website request served <br>4 632 user logged in <br>1 632 item added to cart <br>7 632 dhl chosen for shipping <br>4 632 klarna chosen for payment <br>5 632 order placed succesful <br>",
          "0 633 website request served <br>2 633 login not succesfull <br>7 633 user logged in <br>0 633 item added to cart <br>8 633 dpd chosen for shipping <br>5 633 klarna chosen for payment <br>4 633 order placed succesful <br>",
          "0 634 website request served <br>7 634 user loged in <br>5 634 item added cart <br>1 634 item added cart <br>6 634 item added cart <br>6 634 dpd chosen for shipping <br>2 634 sofortueberweisung chosen for payment <br>5 634 order place succesful <br>",
          "0 635 website request served <br>2 635 user logged in <br>4 635 item added to cart <br>5 635 hermes chosen for shipping <br>5 635 paypal chosen for payment <br>3 635 order placed succesful <br>",
          "0 636 website request served <br>1 636 user logged in <br>4 636 item added to cart <br>7 636 item added to cart <br>3 636 dpd chosen for shipping <br>7 636 sofortueberweisung chosen for payment <br>4 636 order placed succesful <br>",
          "0 637 website request served <br>6 637 user logged in <br>5 637 item added to cart <br>4 637 hermes chosen for shipping <br>5 637 paypal chosen for payment <br>0 637 order placed succesful <br>",
          "0 639 website request served <br>5 639 user logged in <br>3 639 item added to cart <br>4 639 item added to cart <br>3 639 hermes chosen for shipping <br>7 639 sofortueberweisung chosen for payment <br>2 639 order placed succesful <br>",
          "0 641 website request served <br>6 641 user logged in <br>7 641 item added to cart <br>2 641 dhl chosen for shipping <br>6 641 sofortueberweisung chosen for payment <br>3 641 order placed succesful <br>",
          "0 645 website request served <br>6 645 user logged in <br>4 645 item added to cart <br>7 645 item added to cart <br>2 645 dhl chosen for shipping <br>7 645 klarna chosen for payment <br>3 645 order placed succesful <br>",
          "0 646 website request served <br>4 646 user logged in <br>7 646 item added to cart <br>3 646 item added to cart <br>6 646 hermes chosen for shipping <br>1 646 sofortueberweisung chosen for payment <br>6 646 order placed succesful <br>",
          "0 649 website request served <br>9 649 login not succesfull <br>2 649 user loged in <br>5 649 item added cart <br>8 649 dhl chosen for shipping <br>0 649 klana chosen for payment <br>5 649 order place succesful <br>",
          "0 651 website request served <br>4 651 user loged in <br>5 651 item added to cart <br>9 651 dpd chosen for shipping <br>3 651 chosen for payment <br>5 651 order place succesful <br>",
          "0 652 website request served <br>7 652 user loged in <br>2 652 item added cart <br>8 652 dpd chosen for shipping <br>1 652 klana chosen for payment <br>8 652 order place succesful <br>",
          "0 653 website request served <br>5 653 user logged in <br>1 653 item added to cart <br>7 653 dhl chosen for shipping <br>2 653 paypal chosen for payment <br>4 653 order placed succesful <br>",
          "0 654 website request served <br>3 654 user logged in <br>9 654 item added to cart <br>5 654 hermes chosen for shipping <br>3 654 klarna chosen for payment <br>5 654 order placed succesful <br>",
          "0 655 website request served <br>4 655 user logged in <br>3 655 item added to cart <br>8 655 item added to cart <br>3 655 hermes chosen for shipping <br>5 655 paypal chosen for payment <br>6 655 order placed succesful <br>",
          "0 656 website request served <br>6 656 user logged in <br>6 656 item added to cart <br>5 656 item added to cart <br>1 656 hermes chosen for shipping <br>7 656 klarna chosen for payment <br>5 656 order placed succesful <br>",
          "0 661 website request served <br>4 661 user logged in <br>4 661 item added to cart <br>7 661 item added to cart <br>5 661 dpd chosen for shipping <br>4 661 klarna chosen for payment <br>4 661 order placed succesful <br>",
          "0 662 website request served <br>2 662 user loged in <br>4 662 item added cart <br>8 662 dpd chosen for shipping <br>0 662 paypal chosen for payment <br>9 662 order place succesful <br>",
          "0 663 website request served <br>1 663 user logged in <br>5 663 item added to cart <br>4 663 dpd chosen for shipping <br>8 663 paypal chosen for payment <br>0 663 order placed succesful <br>",
          "0 664 website request served <br>3 664 login not succesfull <br>6 664 user logged in <br>3 664 item added to cart <br>5 664 dpd chosen for shipping <br>4 664 paypal chosen for payment <br>6 664 order placed succesful <br>",
          "0 665 website request served <br>4 665 user loged in <br>3 665 item added to cart <br>4 665 item added to cart <br>5 665 dpd chosen for shipping <br>5 665 klarna chosen for payment <br>5 665 order place succesful <br>",
          "0 669 website request served <br>4 669 user logged in <br>4 669 item added to cart <br>6 669 item added to cart <br>2 669 dpd chosen for shipping <br>5 669 klarna chosen for payment <br>4 669 order placed succesful <br>",
          "0 670 website request served <br>8 670 login not succesfull <br>4 670 user logged in <br>5 670 item added to cart <br>3 670 dhl chosen for shipping <br>7 670 sofortueberweisung chosen for payment <br>1 670 order placed succesful <br>",
          "0 672 website request served <br>4 672 user logged in <br>1 672 item added to cart <br>7 672 dpd chosen for shipping <br>5 672 sofortueberweisung chosen for payment <br>5 672 order placed succesful <br>",
          "0 673 website request served <br>6 673 user loged in <br>8 673 item added cart <br>0 673 item added cart <br>6 673 item added cart <br>6 673 dhl chosen for shipping <br>5 673 klana chosen for payment <br>3 673 order place succesful <br>",
          "0 674 website request served <br>5 674 login not succesfull <br>5 674 user logged in <br>6 674 item added to cart <br>3 674 hermes chosen for shipping <br>3 674 paypal chosen for payment <br>4 674 order placed succesful <br>",
          "0 675 website request served <br>4 675 user logged in <br>8 675 item added to cart <br>2 675 item added to cart <br>7 675 hermes chosen for shipping <br>2 675 sofortueberweisung chosen for payment <br>4 675 order placed succesful <br>",
          "0 676 website request served <br>6 676 user logged in <br>6 676 item added to cart <br>2 676 hermes chosen for shipping <br>3 676 klarna chosen for payment <br>7 676 order placed succesful <br>",
          "0 677 website request served <br>5 677 user loged in <br>3 677 item added to cart <br>7 677 item added to cart <br>1 677 dhl chosen fr shipping <br>4 677 klarna chosen for payment <br>6 677 order place succesful <br>",
          "0 678 website request served <br>5 678 user logged in <br>6 678 item added to cart <br>0 678 hermes chosen for shipping <br>6 678 klarna chosen for payment <br>5 678 order placed succesful <br>",
          "0 680 website request served <br>8 680 user logged in <br>2 680 item added to cart <br>7 680 item added to cart <br>6 680 dhl chosen for shipping <br>4 680 paypal chosen for payment <br>5 680 order placed succesful <br>",
          "0 682 website request served <br>4 682 user logged in <br>3 682 item added to cart <br>6 682 hermes chosen for shipping <br>3 682 paypal chosen for payment <br>5 682 order placed succesful <br>",
          "0 683 website request served <br>5 683 user loged in <br>8 683 item added to cart <br>0 683 dhl chosen fr shipping <br>8 683 klarna chosen for payment <br>3 683 order place succesful <br>",
          "0 684 website request served <br>3 684 user logged in <br>7 684 item added to cart <br>5 684 hermes chosen for shipping <br>1 684 sofortueberweisung chosen for payment <br>6 684 order placed succesful <br>",
          "0 685 website request served <br>8 685 user loged in <br>2 685 item added to cart <br>9 685 item added to cart <br>0 685 dhl chosen fr shipping <br>4 685 chosen for payment <br>8 685 order place succesful <br>",
          "0 686 website request served <br>4 686 user loged in <br>2 686 item added to cart <br>6 686 dhl chosen fr shipping <br>5 686 chosen for payment <br>3 686 order place succesful <br>",
          "0 687 website request served <br>5 687 user logged in <br>3 687 item added to cart <br>6 687 hermes chosen for shipping <br>1 687 klarna chosen for payment <br>8 687 order placed succesful <br>",
          "0 689 website request served <br>4 689 user logged in <br>3 689 item added to cart <br>7 689 dpd chosen for shipping <br>4 689 sofortueberweisung chosen for payment <br>2 689 order placed succesful <br>",
          "0 690 website request served <br>0 690 user loged in <br>8 690 item added cart <br>6 690 hermes chosen for shipping <br>2 690 sofortueberweisung chosen for payment <br>2 690 order place succesful <br>",
          "0 691 website request served <br>5 691 user logged in <br>2 691 item added to cart <br>7 691 hermes chosen for shipping <br>3 691 sofortueberweisung chosen for payment <br>4 691 order placed succesful <br>",
          "0 692 website request served <br>3 692 user logged in <br>5 692 item added to cart <br>5 692 item added to cart <br>8 692 dhl chosen for shipping <br>3 692 paypal chosen for payment <br>3 692 order placed succesful <br>",
          "0 693 website request served <br>4 693 user logged in <br>2 693 item added to cart <br>5 693 dhl chosen for shipping <br>5 693 klarna chosen for payment <br>4 693 order placed succesful <br>",
          "0 694 website request served <br>9 694 user logged in <br>0 694 item added to cart <br>5 694 hermes chosen for shipping <br>4 694 sofortueberweisung chosen for payment <br>7 694 order placed succesful <br>",
          "0 695 website request served <br>7 695 user logged in <br>6 695 item added to cart <br>0 695 item added to cart <br>5 695 hermes chosen for shipping <br>7 695 sofortueberweisung chosen for payment <br>2 695 order placed succesful <br>",
          "0 696 website request served <br>5 696 login not succesfull <br>3 696 user logged in <br>6 696 item added to cart <br>0 696 dpd chosen for shipping <br>7 696 paypal chosen for payment <br>5 696 order placed succesful <br>",
          "0 697 website request served <br>4 697 user logged in <br>9 697 item added to cart <br>5 697 hermes chosen for shipping <br>1 697 paypal chosen for payment <br>7 697 order placed succesful <br>",
          "0 699 website request served <br>8 699 user logged in <br>1 699 item added to cart <br>7 699 item added to cart <br>5 699 hermes chosen for shipping <br>5 699 sofortueberweisung chosen for payment <br>2 699 order placed succesful <br>",
          "0 700 website request served <br>6 700 user logged in <br>5 700 item added to cart <br>6 700 item added to cart <br>3 700 dhl chosen for shipping <br>8 700 paypal chosen for payment <br>2 700 order placed succesful <br>",
          "0 701 website request served <br>3 701 user logged in <br>6 701 item added to cart <br>4 701 item added to cart <br>5 701 hermes chosen for shipping <br>1 701 sofortueberweisung chosen for payment <br>7 701 order placed succesful <br>",
          "0 704 website request served <br>6 704 user logged in <br>5 704 item added to cart <br>3 704 hermes chosen for shipping <br>9 704 klarna chosen for payment <br>4 704 order placed succesful <br>",
          "0 705 website request served <br>5 705 user logged in <br>4 705 item added to cart <br>3 705 dpd chosen for shipping <br>7 705 sofortueberweisung chosen for payment <br>4 705 order placed succesful <br>",
          "0 706 website request served <br>7 706 user logged in <br>4 706 item added to cart <br>4 706 hermes chosen for shipping <br>7 706 sofortueberweisung chosen for payment <br>1 706 order placed succesful <br>",
          "0 707 website request served <br>3 707 user logged in <br>3 707 item added to cart <br>8 707 hermes chosen for shipping <br>5 707 klarna chosen for payment <br>2 707 order placed succesful <br>",
          "0 709 website request served <br>6 709 user logged in <br>2 709 item added to cart <br>8 709 dpd chosen for shipping <br>4 709 paypal chosen for payment <br>4 709 order placed succesful <br>",
          "0 710 website request served <br>7 710 user logged in <br>7 710 item added to cart <br>3 710 item added to cart <br>7 710 dhl chosen for shipping <br>1 710 paypal chosen for payment <br>8 710 order placed succesful <br>",
          "0 711 website request served <br>6 711 user logged in <br>4 711 item added to cart <br>7 711 dpd chosen for shipping <br>3 711 sofortueberweisung chosen for payment <br>6 711 order placed succesful <br>",
          "0 713 website request served <br>6 713 user loged in <br>6 713 item added cart <br>4 713 hermes chosen for shipping <br>3 713 paypal chosen for payment <br>8 713 order place succesful <br>",
          "0 714 website request served <br>5 714 user loged in <br>9 714 item added cart <br>1 714 dpd chosen for shipping <br>8 714 klana chosen for payment <br>2 714 order place succesful <br>",
          "0 717 website request served <br>1 717 user logged in <br>8 717 item added to cart <br>6 717 dhl chosen for shipping <br>2 717 paypal chosen for payment <br>7 717 order placed succesful <br>",
          "0 718 website request served <br>6 718 user logged in <br>6 718 item added to cart <br>2 718 item added to cart <br>5 718 dpd chosen for shipping <br>5 718 sofortueberweisung chosen for payment <br>4 718 order placed succesful <br>",
          "0 721 website request served <br>6 721 user loged in <br>6 721 item added cart <br>4 721 dhl chosen for shipping <br>3 721 sofortueberweisung chosen for payment <br>3 721 order place succesful <br>",
          "0 722 website request served <br>4 722 user logged in <br>5 722 item added to cart <br>6 722 hermes chosen for shipping <br>2 722 klarna chosen for payment <br>6 722 order placed succesful <br>",
          "0 723 website request served <br>3 723 user loged in <br>5 723 item added to cart <br>5 723 item added to cart <br>5 723 hermes chosen for shipping <br>5 723 sofortueberweisung chosen for payment <br>4 723 order place succesful <br>",
          "0 725 website request served <br>8 725 user logged in <br>2 725 item added to cart <br>6 725 item added to cart <br>6 725 dhl chosen for shipping <br>1 725 paypal chosen for payment <br>6 725 order placed succesful <br>",
          "0 726 website request served <br>1 726 user logged in <br>7 726 item added to cart <br>6 726 item added to cart <br>5 726 hermes chosen for shipping <br>1 726 klarna chosen for payment <br>8 726 order placed succesful <br>",
          "0 727 website request served <br>4 727 user logged in <br>5 727 item added to cart <br>6 727 item added to cart <br>4 727 dhl chosen for shipping <br>4 727 paypal chosen for payment <br>7 727 order placed succesful <br>",
          "0 728 website request served <br>2 728 user logged in <br>5 728 item added to cart <br>5 728 dhl chosen for shipping <br>4 728 klarna chosen for payment <br>4 728 order placed succesful <br>",
          "0 731 website request served <br>2 731 user logged in <br>5 731 item added to cart <br>5 731 dhl chosen for shipping <br>6 731 paypal chosen for payment <br>5 731 order placed succesful <br>",
          "0 732 website request served <br>6 732 user logged in <br>3 732 item added to cart <br>6 732 dpd chosen for shipping <br>7 732 paypal chosen for payment <br>5 732 order placed succesful <br>",
          "0 734 website request served <br>2 734 user logged in <br>6 734 item added to cart <br>5 734 dhl chosen for shipping <br>6 734 paypal chosen for payment <br>3 734 order placed succesful <br>",
          "0 737 website request served <br>6 737 user logged in <br>5 737 item added to cart <br>4 737 dhl chosen for shipping <br>8 737 klarna chosen for payment <br>1 737 order placed succesful <br>",
          "0 738 website request served <br>4 738 user logged in <br>5 738 item added to cart <br>4 738 item added to cart <br>5 738 hermes chosen for shipping <br>5 738 klarna chosen for payment <br>6 738 order placed succesful <br>",
          "0 739 website request served <br>0 739 user logged in <br>4 739 item added to cart <br>7 739 dpd chosen for shipping <br>7 739 sofortueberweisung chosen for payment <br>0 739 order placed succesful <br>",
          "0 740 website request served <br>0 740 user logged in <br>6 740 item added to cart <br>5 740 dpd chosen for shipping <br>7 740 sofortueberweisung chosen for payment <br>5 740 order placed succesful <br>",
          "0 741 website request served <br>1 741 user logged in <br>4 741 item added to cart <br>7 741 dhl chosen for shipping <br>4 741 klarna chosen for payment <br>2 741 order placed succesful <br>",
          "0 742 website request served <br>5 742 user loged in <br>9 742 item added to cart <br>0 742 dpd chosen for shipping <br>8 742 chosen for payment <br>4 742 order place succesful <br>",
          "0 744 website request served <br>2 744 user logged in <br>9 744 item added to cart <br>5 744 dpd chosen for shipping <br>3 744 sofortueberweisung chosen for payment <br>3 744 order placed succesful <br>",
          "0 745 website request served <br>6 745 user logged in <br>4 745 item added to cart <br>5 745 dhl chosen for shipping <br>4 745 sofortueberweisung chosen for payment <br>7 745 order placed succesful <br>",
          "0 746 website request served <br>6 746 user loged in <br>2 746 item added cart <br>7 746 dhl chosen for shipping <br>3 746 klana chosen for payment <br>6 746 order place succesful <br>",
          "0 747 website request served <br>8 747 user logged in <br>5 747 item added to cart <br>5 747 item added to cart <br>2 747 dpd chosen for shipping <br>7 747 sofortueberweisung chosen for payment <br>1 747 order placed succesful <br>",
          "0 748 website request served <br>8 748 user loged in <br>2 748 item added cart <br>5 748 dhl chosen for shipping <br>6 748 sofortueberweisung chosen for payment <br>5 748 order place succesful <br>",
          "0 749 website request served <br>6 749 user logged in <br>2 749 item added to cart <br>9 749 item added to cart <br>5 749 dpd chosen for shipping <br>2 749 klarna chosen for payment <br>7 749 order placed succesful <br>",
          "0 750 website request served <br>6 750 user logged in <br>4 750 item added to cart <br>5 750 dpd chosen for shipping <br>5 750 klarna chosen for payment <br>5 750 order placed succesful <br>",
          "0 751 website request served <br>6 751 user loged in <br>6 751 item added cart <br>2 751 dhl chosen for shipping <br>5 751 sofortueberweisung chosen for payment <br>7 751 order place succesful <br>",
          "0 752 website request served <br>2 752 login not succesfull <br>8 752 user loged in <br>4 752 item added to cart <br>5 752 hermes chosen for shipping <br>5 752 klarna chosen for payment <br>2 752 order place succesful <br>",
          "0 753 website request served <br>3 753 user logged in <br>7 753 item added to cart <br>5 753 item added to cart <br>1 753 hermes chosen for shipping <br>6 753 paypal chosen for payment <br>8 753 order placed succesful <br>",
          "0 758 website request served <br>6 758 user loged in <br>6 758 item added to cart <br>0 758 item added to cart <br>6 758 hermes chosen for shipping <br>4 758 chosen for payment <br>6 758 order place succesful <br>",
          "0 759 website request served <br>5 759 user logged in <br>7 759 item added to cart <br>0 759 hermes chosen for shipping <br>7 759 paypal chosen for payment <br>5 759 order placed succesful <br>",
          "0 762 website request served <br>4 762 user logged in <br>6 762 item added to cart <br>5 762 dpd chosen for shipping <br>6 762 klarna chosen for payment <br>2 762 order placed succesful <br>",
          "0 763 website request served <br>7 763 user logged in <br>3 763 item added to cart <br>1 763 item added to cart <br>7 763 dpd chosen for shipping <br>4 763 klarna chosen for payment <br>8 763 order placed succesful <br>",
          "0 764 website request served <br>3 764 user logged in <br>3 764 item added to cart <br>7 764 dpd chosen for shipping <br>3 764 klarna chosen for payment <br>5 764 order placed succesful <br>",
          "0 765 website request served <br>8 765 user logged in <br>4 765 item added to cart <br>5 765 dpd chosen for shipping <br>3 765 sofortueberweisung chosen for payment <br>2 765 order placed succesful <br>",
          "0 767 website request served <br>6 767 user logged in <br>4 767 item added to cart <br>5 767 item added to cart <br>3 767 hermes chosen for shipping <br>7 767 klarna chosen for payment <br>2 767 order placed succesful <br>",
          "0 770 website request served <br>4 770 user logged in <br>4 770 item added to cart <br>6 770 hermes chosen for shipping <br>7 770 paypal chosen for payment <br>4 770 order placed succesful <br>",
          "0 771 website request served <br>8 771 user logged in <br>4 771 item added to cart <br>4 771 dpd chosen for shipping <br>2 771 klarna chosen for payment <br>6 771 order placed succesful <br>",
          "0 772 website request served <br>5 772 user logged in <br>5 772 item added to cart <br>0 772 dhl chosen for shipping <br>6 772 sofortueberweisung chosen for payment <br>3 772 order placed succesful <br>",
          "0 775 website request served <br>7 775 user loged in <br>0 775 item added to cart <br>6 775 item added to cart <br>8 775 dhl chosen fr shipping <br>2 775 klarna chosen for payment <br>4 775 order place succesful <br>",
          "0 776 website request served <br>6 776 user loged in <br>1 776 item added cart <br>7 776 dhl chosen for shipping <br>4 776 klana chosen for payment <br>2 776 order place succesful <br>",
          "0 777 website request served <br>2 777 user loged in <br>7 777 item added cart <br>1 777 item added cart <br>7 777 hermes chosen for shipping <br>2 777 paypal chosen for payment <br>4 777 order place succesful <br>",
          "0 778 website request served <br>3 778 user logged in <br>3 778 item added to cart <br>5 778 item added to cart <br>7 778 hermes chosen for shipping <br>2 778 klarna chosen for payment <br>4 778 order placed succesful <br>",
          "0 779 website request served <br>5 779 user loged in <br>3 779 item added cart <br>4 779 hermes chosen for shipping <br>8 779 klana chosen for payment <br>5 779 order place succesful <br>",
          "0 780 website request served <br>4 780 user loged in <br>3 780 item added to cart <br>9 780 hermes chosen for shipping <br>1 780 chosen for payment <br>4 780 order place succesful <br>",
          "0 781 website request served <br>3 781 user loged in <br>7 781 item added cart <br>2 781 item added cart <br>8 781 dpd chosen for shipping <br>3 781 paypal chosen for payment <br>4 781 order place succesful <br>",
          "0 782 website request served <br>3 782 user logged in <br>6 782 item added to cart <br>3 782 dpd chosen for shipping <br>4 782 klarna chosen for payment <br>6 782 order placed succesful <br>",
          "0 783 website request served <br>3 783 user logged in <br>7 783 item added to cart <br>6 783 dpd chosen for shipping <br>0 783 paypal chosen for payment <br>8 783 order placed succesful <br>",
          "0 784 website request served <br>7 784 user logged in <br>2 784 item added to cart <br>7 784 item added to cart <br>5 784 dpd chosen for shipping <br>3 784 klarna chosen for payment <br>7 784 order placed succesful <br>",
          "0 785 website request served <br>2 785 user loged in <br>5 785 item added cart <br>4 785 dpd chosen for shipping <br>5 785 paypal chosen for payment <br>4 785 order place succesful <br>",
          "0 787 website request served <br>7 787 user loged in <br>3 787 item added cart <br>5 787 dpd chosen for shipping <br>4 787 paypal chosen for payment <br>6 787 order place succesful <br>",
          "0 789 website request served <br>4 789 user logged in <br>3 789 item added to cart <br>9 789 dhl chosen for shipping <br>2 789 klarna chosen for payment <br>3 789 order placed succesful <br>",
          "0 790 website request served <br>5 790 user loged in <br>9 790 item added to cart <br>1 790 dpd chosen for shipping <br>7 790 klarna chosen for payment <br>2 790 order place succesful <br>",
          "0 791 website request served <br>7 791 user logged in <br>3 791 item added to cart <br>3 791 hermes chosen for shipping <br>9 791 klarna chosen for payment <br>4 791 order placed succesful <br>",
          "0 792 website request served <br>7 792 user logged in <br>5 792 item added to cart <br>6 792 dpd chosen for shipping <br>4 792 sofortueberweisung chosen for payment <br>2 792 order placed succesful <br>",
          "0 795 website request served <br>5 795 user logged in <br>2 795 item added to cart <br>6 795 hermes chosen for shipping <br>5 795 paypal chosen for payment <br>2 795 order placed succesful <br>",
          "0 796 website request served <br>2 796 login not succesfull <br>6 796 user logged in <br>7 796 item added to cart <br>3 796 dpd chosen for shipping <br>5 796 sofortueberweisung chosen for payment <br>7 796 order placed succesful <br>",
          "0 797 website request served <br>2 797 user logged in <br>5 797 item added to cart <br>4 797 dpd chosen for shipping <br>4 797 paypal chosen for payment <br>4 797 order placed succesful <br>",
          "0 798 website request served <br>5 798 login not succesfull <br>8 798 user loged in <br>1 798 item added cart <br>6 798 dpd chosen for shipping <br>4 798 sofortueberweisung chosen for payment <br>6 798 order place succesful <br>",
          "0 799 website request served <br>4 799 user logged in <br>1 799 item added to cart <br>7 799 dhl chosen for shipping <br>4 799 paypal chosen for payment <br>6 799 order placed succesful <br>",
          "0 800 website request served <br>3 800 user loged in <br>5 800 item added to cart <br>5 800 dhl chosen fr shipping <br>3 800 klarna chosen for payment <br>8 800 order place succesful <br>",
          "0 801 website request served <br>3 801 user logged in <br>8 801 item added to cart <br>4 801 hermes chosen for shipping <br>4 801 paypal chosen for payment <br>3 801 order placed succesful <br>",
          "0 802 website request served <br>4 802 user loged in <br>4 802 item added to cart <br>6 802 hermes chosen for shipping <br>2 802 klarna chosen for payment <br>6 802 order place succesful <br>",
          "0 805 website request served <br>2 805 user logged in <br>7 805 item added to cart <br>3 805 item added to cart <br>4 805 hermes chosen for shipping <br>7 805 paypal chosen for payment <br>5 805 order placed succesful <br>",
          "0 807 website request served <br>7 807 user logged in <br>6 807 item added to cart <br>4 807 dhl chosen for shipping <br>2 807 sofortueberweisung chosen for payment <br>9 807 order placed succesful <br>",
          "0 810 website request served <br>1 810 user logged in <br>4 810 item added to cart <br>6 810 hermes chosen for shipping <br>4 810 paypal chosen for payment <br>6 810 order placed succesful <br>",
          "0 812 website request served <br>4 812 login not succesfull <br>7 812 user logged in <br>2 812 item added to cart <br>5 812 hermes chosen for shipping <br>6 812 sofortueberweisung chosen for payment <br>5 812 order placed succesful <br>",
          "0 813 website request served <br>6 813 user logged in <br>2 813 item added to cart <br>3 813 dhl chosen for shipping <br>4 813 sofortueberweisung chosen for payment <br>7 813 order placed succesful <br>",
          "0 814 website request served <br>4 814 user logged in <br>7 814 item added to cart <br>6 814 dpd chosen for shipping <br>1 814 sofortueberweisung chosen for payment <br>6 814 order placed succesful <br>",
          "0 816 website request served <br>4 816 user logged in <br>4 816 item added to cart <br>8 816 hermes chosen for shipping <br>4 816 klarna chosen for payment <br>4 816 order placed succesful <br>",
          "0 817 website request served <br>3 817 user logged in <br>6 817 item added to cart <br>3 817 dpd chosen for shipping <br>3 817 paypal chosen for payment <br>8 817 order placed succesful <br>",
          "0 818 website request served <br>5 818 user logged in <br>5 818 item added to cart <br>5 818 item added to cart <br>2 818 hermes chosen for shipping <br>7 818 sofortueberweisung chosen for payment <br>3 818 order placed succesful <br>",
          "0 819 website request served <br>5 819 user logged in <br>2 819 item added to cart <br>8 819 item added to cart <br>4 819 dpd chosen for shipping <br>2 819 paypal chosen for payment <br>6 819 order placed succesful <br>",
          "0 820 website request served <br>1 820 user loged in <br>6 820 item added cart <br>5 820 dpd chosen for shipping <br>4 820 klana chosen for payment <br>8 820 order place succesful <br>",
          "0 821 website request served <br>5 821 user logged in <br>5 821 item added to cart <br>2 821 dpd chosen for shipping <br>7 821 klarna chosen for payment <br>3 821 order placed succesful <br>",
          "0 822 website request served <br>2 822 user logged in <br>8 822 item added to cart <br>0 822 dpd chosen for shipping <br>5 822 paypal chosen for payment <br>6 822 order placed succesful <br>",
          "0 824 website request served <br>4 824 user loged in <br>9 824 item added to cart <br>1 824 dhl chosen fr shipping <br>8 824 sofortueberweisung chosen for payment <br>3 824 order place succesful <br>",
          "0 825 website request served <br>3 825 login not succesfull <br>8 825 user logged in <br>4 825 item added to cart <br>5 825 hermes chosen for shipping <br>3 825 sofortueberweisung chosen for payment <br>3 825 order placed succesful <br>",
          "0 826 website request served <br>3 826 user logged in <br>6 826 item added to cart <br>4 826 item added to cart <br>4 826 dpd chosen for shipping <br>2 826 klarna chosen for payment <br>8 826 order placed succesful <br>",
          "0 827 website request served <br>4 827 user logged in <br>4 827 item added to cart <br>4 827 item added to cart <br>5 827 dhl chosen for shipping <br>7 827 sofortueberweisung chosen for payment <br>1 827 order placed succesful <br>",
          "0 828 website request served <br>6 828 user logged in <br>2 828 item added to cart <br>5 828 dhl chosen for shipping <br>7 828 paypal chosen for payment <br>4 828 order placed succesful <br>",
          "0 829 website request served <br>2 829 user logged in <br>9 829 item added to cart <br>3 829 hermes chosen for shipping <br>6 829 klarna chosen for payment <br>1 829 order placed succesful <br>",
          "0 830 website request served <br>3 830 user logged in <br>5 830 item added to cart <br>9 830 item added to cart <br>0 830 dpd chosen for shipping <br>6 830 klarna chosen for payment <br>5 830 order placed succesful <br>",
          "0 832 website request served <br>5 832 user logged in <br>8 832 item added to cart <br>4 832 dpd chosen for shipping <br>4 832 paypal chosen for payment <br>5 832 order placed succesful <br>",
          "0 833 website request served <br>4 833 user logged in <br>4 833 item added to cart <br>5 833 item added to cart <br>5 833 dpd chosen for shipping <br>4 833 klarna chosen for payment <br>5 833 order placed succesful <br>",
          "0 835 website request served <br>7 835 user logged in <br>1 835 item added to cart <br>6 835 dhl chosen for shipping <br>7 835 klarna chosen for payment <br>4 835 order placed succesful <br>",
          "0 837 website request served <br>5 837 user logged in <br>1 837 item added to cart <br>7 837 item added to cart <br>1 837 dhl chosen for shipping <br>5 837 paypal chosen for payment <br>4 837 order placed succesful <br>",
          "0 838 website request served <br>4 838 user logged in <br>2 838 item added to cart <br>4 838 item added to cart <br>4 838 dpd chosen for shipping <br>9 838 sofortueberweisung chosen for payment <br>0 838 order placed succesful <br>",
          "0 840 website request served <br>9 840 user loged in <br>2 840 item added cart <br>4 840 item added cart <br>5 840 dpd chosen for shipping <br>5 840 sofortueberweisung chosen for payment <br>7 840 order place succesful <br>",
          "0 842 website request served <br>6 842 user logged in <br>4 842 item added to cart <br>1 842 hermes chosen for shipping <br>7 842 sofortueberweisung chosen for payment <br>3 842 order placed succesful <br>",
          "0 843 website request served <br>4 843 user loged in <br>7 843 item added to cart <br>6 843 dpd chosen for shipping <br>3 843 sofortueberweisung chosen for payment <br>3 843 order place succesful <br>",
          "0 844 website request served <br>2 844 user logged in <br>6 844 item added to cart <br>2 844 item added to cart <br>8 844 hermes chosen for shipping <br>4 844 paypal chosen for payment <br>4 844 order placed succesful <br>",
          "0 846 website request served <br>4 846 user logged in <br>3 846 item added to cart <br>4 846 item added to cart <br>3 846 dhl chosen for shipping <br>7 846 paypal chosen for payment <br>4 846 order placed succesful <br>",
          "0 847 website request served <br>4 847 user logged in <br>2 847 item added to cart <br>9 847 hermes chosen for shipping <br>1 847 klarna chosen for payment <br>8 847 order placed succesful <br>",
          "0 848 website request served <br>5 848 user logged in <br>6 848 item added to cart <br>5 848 item added to cart <br>1 848 dhl chosen for shipping <br>7 848 paypal chosen for payment <br>6 848 order placed succesful <br>",
          "0 849 website request served <br>6 849 login not succesfull <br>5 849 user logged in <br>4 849 item added to cart <br>6 849 dhl chosen for shipping <br>5 849 sofortueberweisung chosen for payment <br>3 849 order placed succesful <br>",
          "0 850 website request served <br>2 850 user logged in <br>6 850 item added to cart <br>3 850 item added to cart <br>7 850 dhl chosen for shipping <br>4 850 klarna chosen for payment <br>6 850 order placed succesful <br>",
          "0 853 website request served <br>6 853 user loged in <br>3 853 item added to cart <br>5 853 hermes chosen for shipping <br>7 853 chosen for payment <br>1 853 order place succesful <br>",
          "0 854 website request served <br>1 854 user logged in <br>5 854 item added to cart <br>8 854 item added to cart <br>4 854 hermes chosen for shipping <br>1 854 paypal chosen for payment <br>8 854 order placed succesful <br>",
          "0 855 website request served <br>3 855 user loged in <br>5 855 item added cart <br>6 855 item added cart <br>4 855 dpd chosen for shipping <br>6 855 sofortueberweisung chosen for payment <br>2 855 order place succesful <br>",
          "0 856 website request served <br>2 856 user loged in <br>7 856 item added to cart <br>6 856 hermes chosen for shipping <br>1 856 sofortueberweisung chosen for payment <br>9 856 order place succesful <br>",
          "0 857 website request served <br>6 857 user logged in <br>5 857 item added to cart <br>6 857 hermes chosen for shipping <br>3 857 klarna chosen for payment <br>5 857 order placed succesful <br>",
          "0 858 website request served <br>7 858 user logged in <br>3 858 item added to cart <br>9 858 dhl chosen for shipping <br>4 858 klarna chosen for payment <br>2 858 order placed succesful <br>",
          "0 859 website request served <br>5 859 user logged in <br>2 859 item added to cart <br>5 859 dpd chosen for shipping <br>3 859 sofortueberweisung chosen for payment <br>5 859 order placed succesful <br>",
          "0 860 website request served <br>3 860 user logged in <br>4 860 item added to cart <br>7 860 item added to cart <br>4 860 dpd chosen for shipping <br>0 860 klarna chosen for payment <br>5 860 order placed succesful <br>",
          "0 864 website request served <br>1 864 user loged in <br>8 864 item added cart <br>0 864 hermes chosen for shipping <br>6 864 paypal chosen for payment <br>7 864 order place succesful <br>",
          "0 867 website request served <br>6 867 user logged in <br>2 867 item added to cart <br>5 867 item added to cart <br>3 867 hermes chosen for shipping <br>7 867 klarna chosen for payment <br>3 867 order placed succesful <br>",
          "0 868 website request served <br>5 868 user loged in <br>7 868 item added cart <br>5 868 item added cart <br>2 868 item added cart <br>4 868 dpd chosen for shipping <br>3 868 sofortueberweisung chosen for payment <br>7 868 order place succesful <br>",
          "0 869 website request served <br>4 869 user logged in <br>4 869 item added to cart <br>6 869 item added to cart <br>3 869 hermes chosen for shipping <br>8 869 sofortueberweisung chosen for payment <br>2 869 order placed succesful <br>",
          "0 870 website request served <br>0 870 user logged in <br>5 870 item added to cart <br>4 870 dhl chosen for shipping <br>9 870 paypal chosen for payment <br>1 870 order placed succesful <br>",
          "0 872 website request served <br>4 872 user logged in <br>6 872 item added to cart <br>4 872 item added to cart <br>4 872 dhl chosen for shipping <br>4 872 sofortueberweisung chosen for payment <br>6 872 order placed succesful <br>",
          "0 875 website request served <br>4 875 user logged in <br>5 875 item added to cart <br>2 875 item added to cart <br>8 875 hermes chosen for shipping <br>5 875 klarna chosen for payment <br>2 875 order placed succesful <br>",
          "0 876 website request served <br>1 876 user logged in <br>9 876 item added to cart <br>1 876 item added to cart <br>8 876 hermes chosen for shipping <br>2 876 klarna chosen for payment <br>6 876 order placed succesful <br>",
          "0 877 website request served <br>7 877 user logged in <br>0 877 item added to cart <br>6 877 item added to cart <br>3 877 hermes chosen for shipping <br>8 877 sofortueberweisung chosen for payment <br>3 877 order placed succesful <br>",
          "0 878 website request served <br>7 878 user loged in <br>6 878 item added cart <br>6 878 dpd chosen for shipping <br>1 878 klana chosen for payment <br>8 878 order place succesful <br>",
          "0 880 website request served <br>2 880 user logged in <br>4 880 item added to cart <br>7 880 hermes chosen for shipping <br>7 880 paypal chosen for payment <br>2 880 order placed succesful <br>",
          "0 883 website request served <br>9 883 user logged in <br>2 883 item added to cart <br>3 883 hermes chosen for shipping <br>8 883 sofortueberweisung chosen for payment <br>1 883 order placed succesful <br>",
          "0 886 website request served <br>8 886 user logged in <br>5 886 item added to cart <br>1 886 hermes chosen for shipping <br>7 886 paypal chosen for payment <br>5 886 order placed succesful <br>",
          "0 887 website request served <br>2 887 user logged in <br>3 887 item added to cart <br>4 887 dhl chosen for shipping <br>7 887 paypal chosen for payment <br>3 887 order placed succesful <br>",
          "0 888 website request served <br>9 888 user logged in <br>1 888 item added to cart <br>7 888 dpd chosen for shipping <br>1 888 klarna chosen for payment <br>8 888 order placed succesful <br>",
          "0 890 website request served <br>5 890 user loged in <br>2 890 item added cart <br>7 890 item added cart <br>6 890 item added cart <br>1 890 dhl chosen for shipping <br>4 890 sofortueberweisung chosen for payment <br>5 890 order place succesful <br>",
          "0 892 website request served <br>3 892 user logged in <br>5 892 item added to cart <br>3 892 dpd chosen for shipping <br>5 892 klarna chosen for payment <br>8 892 order placed succesful <br>",
          "0 893 website request served <br>4 893 user logged in <br>2 893 item added to cart <br>7 893 hermes chosen for shipping <br>3 893 sofortueberweisung chosen for payment <br>8 893 order placed succesful <br>",
          "0 894 website request served <br>4 894 user logged in <br>5 894 item added to cart <br>9 894 dhl chosen for shipping <br>0 894 sofortueberweisung chosen for payment <br>9 894 order placed succesful <br>",
          "0 896 website request served <br>6 896 user logged in <br>3 896 item added to cart <br>4 896 item added to cart <br>3 896 dpd chosen for shipping <br>6 896 klarna chosen for payment <br>2 896 order placed succesful <br>",
          "0 897 website request served <br>2 897 user loged in <br>6 897 item added to cart <br>4 897 item added to cart <br>6 897 dhl chosen fr shipping <br>2 897 chosen for payment <br>6 897 order place succesful <br>",
          "0 898 website request served <br>3 898 login not succesfull <br>5 898 user logged in <br>5 898 item added to cart <br>1 898 dhl chosen for shipping <br>8 898 paypal chosen for payment <br>5 898 order placed succesful <br>",
          "0 900 website request served <br>7 900 user loged in <br>4 900 item added cart <br>5 900 hermes chosen for shipping <br>2 900 paypal chosen for payment <br>8 900 order place succesful <br>",
          "0 901 website request served <br>4 901 user logged in <br>6 901 item added to cart <br>1 901 dhl chosen for shipping <br>6 901 klarna chosen for payment <br>5 901 order placed succesful <br>",
          "0 903 website request served <br>7 903 user logged in <br>3 903 item added to cart <br>5 903 item added to cart <br>7 903 dhl chosen for shipping <br>5 903 klarna chosen for payment <br>0 903 order placed succesful <br>",
          "0 905 website request served <br>5 905 login not succesfull <br>3 905 user logged in <br>6 905 item added to cart <br>4 905 dhl chosen for shipping <br>3 905 sofortueberweisung chosen for payment <br>4 905 order placed succesful <br>",
          "0 906 website request served <br>3 906 user logged in <br>8 906 item added to cart <br>1 906 dhl chosen for shipping <br>9 906 paypal chosen for payment <br>5 906 order placed succesful <br>"
         ],
         "type": "scatter3d",
         "x": [
          -2.0807583332061768,
          -12.27541732788086,
          -1.9563795328140259,
          -10.460615158081055,
          -10.101180076599121,
          -13.329347610473633,
          -10.728891372680664,
          -2.106559991836548,
          -10.431676864624023,
          -5.63132905960083,
          -1.695702075958252,
          -2.273444890975952,
          -10.084949493408203,
          -2.744717597961426,
          -2.223419666290283,
          -2.7505810260772705,
          -2.4296822547912598,
          -10.628305435180664,
          -10.017036437988281,
          1.6074497699737549,
          -2.2676148414611816,
          -13.07142448425293,
          -9.964280128479004,
          -2.0817222595214844,
          -10.406258583068848,
          -10.409061431884766,
          -2.5223870277404785,
          -2.024139165878296,
          -10.81787109375,
          -2.4705922603607178,
          -1.8344529867172241,
          -11.123141288757324,
          -9.94346809387207,
          -2.3444325923919678,
          -10.846959114074707,
          -2.478907823562622,
          -2.3458328247070312,
          -10.510761260986328,
          -10.216904640197754,
          -2.885105848312378,
          -4.944157123565674,
          -2.0264551639556885,
          -1.5050865411758423,
          -1.907065510749817,
          -1.8913958072662354,
          -9.900300025939941,
          -1.2944751977920532,
          -10.209609985351562,
          -10.701981544494629,
          -10.390360832214355,
          -2.017141580581665,
          -1.9305436611175537,
          -2.100611925125122,
          -1.2503448724746704,
          -10.387432098388672,
          -11.902739524841309,
          -10.381308555603027,
          -2.234079360961914,
          -9.728567123413086,
          -2.1896941661834717,
          -10.37488842010498,
          -2.1796820163726807,
          -10.34863567352295,
          -11.829894065856934,
          -9.977984428405762,
          -10.277273178100586,
          -1.969355583190918,
          -1.7495917081832886,
          -10.315564155578613,
          -10.179605484008789,
          -10.362222671508789,
          -9.804525375366211,
          -1.569828987121582,
          2.0542519092559814,
          -12.056605339050293,
          -10.33262825012207,
          -9.85519790649414,
          -10.369242668151855,
          -10.118465423583984,
          -10.770037651062012,
          -2.4869933128356934,
          -1.4276578426361084,
          -9.232048034667969,
          -10.057087898254395,
          -10.493496894836426,
          -11.396815299987793,
          -1.8873704671859741,
          -9.719132423400879,
          -11.153907775878906,
          -9.790875434875488,
          -10.73342514038086,
          -2.182410955429077,
          -10.317212104797363,
          -10.18960952758789,
          -10.18496036529541,
          -12.069342613220215,
          -10.264670372009277,
          -10.260136604309082,
          -2.372445583343506,
          1.7746615409851074,
          -9.925992965698242,
          -2.0802855491638184,
          -10.319601058959961,
          -1.6410784721374512,
          -10.01929759979248,
          -1.2701431512832642,
          -1.7738534212112427,
          -4.406277179718018,
          -12.641365051269531,
          -12.902220726013184,
          -10.795110702514648,
          -10.006936073303223,
          -1.6477001905441284,
          -1.3668066263198853,
          -2.0008544921875,
          -12.395127296447754,
          -10.043079376220703,
          -1.7882111072540283,
          -1.9657742977142334,
          -1.8496336936950684,
          -1.2721177339553833,
          -10.039996147155762,
          1.6196730136871338,
          -1.9103820323944092,
          -1.774735689163208,
          -10.393915176391602,
          -2.454676866531372,
          -10.123326301574707,
          -1.244839072227478,
          -10.685750961303711,
          -11.142502784729004,
          -10.857596397399902,
          -4.669267654418945,
          -12.564095497131348,
          -9.610977172851562,
          -10.108031272888184,
          -11.704781532287598,
          -9.997001647949219,
          -0.8870052099227905,
          -9.417686462402344,
          -10.054680824279785,
          -2.36838698387146,
          -1.5348944664001465,
          -10.460187911987305,
          -1.4456387758255005,
          -1.890536904335022,
          -1.156225323677063,
          -10.366122245788574,
          -10.385488510131836,
          -10.448243141174316,
          -9.90687084197998,
          -9.718246459960938,
          -1.7184334993362427,
          -9.925010681152344,
          -11.762290000915527,
          -12.96158218383789,
          -10.418475151062012,
          -1.235208511352539,
          -11.786797523498535,
          -9.478995323181152,
          -1.1315730810165405,
          -1.6964261531829834,
          -1.7062363624572754,
          -2.10616397857666,
          -9.764519691467285,
          -9.861578941345215,
          -9.567270278930664,
          -9.976635932922363,
          -10.037725448608398,
          -1.332629919052124,
          -10.285555839538574,
          -9.494978904724121,
          -9.82276725769043,
          -11.692909240722656,
          -10.29142951965332,
          -9.674844741821289,
          -13.22736930847168,
          -1.7158210277557373,
          -11.476713180541992,
          -1.897294282913208,
          -9.706950187683105,
          -11.264571189880371,
          -2.4233992099761963,
          -2.473315954208374,
          -3.724362373352051,
          -10.940691947937012,
          -10.649808883666992,
          -2.4764463901519775,
          -10.69688606262207,
          -10.802196502685547,
          -2.056244373321533,
          -10.593600273132324,
          -10.381473541259766,
          -10.099231719970703,
          -3.611018657684326,
          -13.0983247756958,
          -5.912765026092529,
          -2.01657772064209,
          -12.881295204162598,
          -12.997596740722656,
          -5.798079013824463,
          -10.466659545898438,
          -10.395968437194824,
          -2.208911657333374,
          -12.190189361572266,
          -12.31690502166748,
          -10.860036849975586,
          -11.389662742614746,
          -10.666483879089355,
          -10.15124797821045,
          -10.003958702087402,
          -1.9834996461868286,
          -10.186250686645508,
          -4.445002555847168,
          -10.663660049438477,
          -11.080140113830566,
          -10.553393363952637,
          -10.860797882080078,
          -2.243926525115967,
          -10.674165725708008,
          -10.682256698608398,
          -1.62351655960083,
          -9.821003913879395,
          -10.753522872924805,
          -10.557165145874023,
          -10.527181625366211,
          -1.6477100849151611,
          -1.5403087139129639,
          -12.789941787719727,
          -10.325393676757812,
          -10.548269271850586,
          -11.880226135253906,
          -2.205223321914673,
          -1.8231213092803955,
          -2.009129047393799,
          -10.313543319702148,
          -10.772821426391602,
          -2.2941131591796875,
          -10.445853233337402,
          -1.6381809711456299,
          -10.477733612060547,
          -2.3349244594573975,
          -2.080195903778076,
          -5.746623516082764,
          -10.127860069274902,
          -10.653963088989258,
          -1.940982460975647,
          -1.3819094896316528,
          -10.943474769592285,
          -2.591155529022217,
          -1.6512367725372314,
          -1.761318325996399,
          -12.172159194946289,
          -2.896590232849121,
          -4.782548904418945,
          -10.759230613708496,
          -10.208362579345703,
          -10.688467025756836,
          -9.908321380615234,
          -1.8793809413909912,
          -12.65340518951416,
          -1.8324542045593262,
          1.966363787651062,
          -1.5837132930755615,
          -10.920439720153809,
          -1.9358023405075073,
          -1.7666949033737183,
          -2.546154737472534,
          -2.401268720626831,
          -12.8004732131958,
          -10.71298599243164,
          -10.616313934326172,
          -10.717881202697754,
          -10.12154769897461,
          -11.500568389892578,
          1.7451539039611816,
          -10.354148864746094,
          -10.7457914352417,
          -10.722586631774902,
          -1.6509758234024048,
          -4.452855587005615,
          -2.37357759475708,
          -12.76837158203125,
          -10.226053237915039,
          -1.5824065208435059,
          -2.1129932403564453,
          -10.92898941040039
         ],
         "y": [
          -0.09787136316299438,
          0.0029448808636516333,
          -0.08646121621131897,
          -0.05573546513915062,
          0.02015896886587143,
          -0.0448533333837986,
          -0.0050428020767867565,
          -0.10928072780370712,
          -0.016182884573936462,
          -0.08431179076433182,
          -0.10853513330221176,
          0.3042964041233063,
          -0.02239084057509899,
          -0.15404650568962097,
          -0.11488974094390869,
          -0.10433606058359146,
          0.2971276044845581,
          -0.006181665230542421,
          0.000752453925088048,
          -0.10632360726594925,
          -0.08462084829807281,
          0.003472115145996213,
          -0.0019327186746522784,
          0.2839963138103485,
          -0.016330119222402573,
          0.0048873876221477985,
          -0.08948967605829239,
          -0.07210253179073334,
          -0.01633147895336151,
          0.2725684642791748,
          -0.07956970483064651,
          -0.017895184457302094,
          0.004069142509251833,
          0.27138397097587585,
          -0.006750176660716534,
          0.265835165977478,
          0.2906774580478668,
          -0.007375781424343586,
          -0.01734773814678192,
          -0.15354634821414948,
          -0.03632813319563866,
          -0.07425177097320557,
          0.299422949552536,
          0.2565978169441223,
          -0.08829844743013382,
          -0.01647980324923992,
          0.33613112568855286,
          -0.019994089379906654,
          0.000839340325910598,
          -0.0110904136672616,
          -0.12022694945335388,
          -0.09334948658943176,
          0.3114510178565979,
          0.2969719469547272,
          0.0075653837993741035,
          -0.081210196018219,
          -0.002712339162826538,
          0.22508518397808075,
          -0.009804345667362213,
          -0.07987159490585327,
          -0.007122014183551073,
          -0.0986395999789238,
          -0.016192736104130745,
          0.004640067461878061,
          0.014205782674252987,
          -0.0030495007522404194,
          -0.07683731615543365,
          -0.04365548864006996,
          -0.019083242863416672,
          -0.0030320046935230494,
          0.013510078191757202,
          0.03196556866168976,
          -0.05496375262737274,
          -0.08057473599910736,
          -0.022868657484650612,
          -0.02300557866692543,
          -0.013144535012543201,
          -0.013366788625717163,
          0.006600444670766592,
          -0.010033220052719116,
          -0.0897730141878128,
          -0.04150645434856415,
          0.03726920858025551,
          0.04460229352116585,
          -0.03984696790575981,
          0.036004967987537384,
          -0.06541603058576584,
          0.02759609743952751,
          -0.020083792507648468,
          -0.006938076578080654,
          -0.04307578131556511,
          -0.0964675322175026,
          0.00989037286490202,
          -0.011173767037689686,
          -0.013955765403807163,
          0.013724815100431442,
          -0.006074006203562021,
          -0.016528848558664322,
          0.3089340627193451,
          -0.09550606459379196,
          0.007333783898502588,
          -0.10997507721185684,
          0.0012689302675426006,
          -0.08602356910705566,
          0.013212884776294231,
          -0.0749753937125206,
          -0.06735757738351822,
          0.2881847620010376,
          -0.07787482440471649,
          -0.026551922783255577,
          -0.00474155880510807,
          0.020148318260908127,
          -0.05508247762918472,
          -0.05588093400001526,
          -0.07031247764825821,
          -0.008769296109676361,
          0.012335485778748989,
          0.2814277112483978,
          -0.10688570886850357,
          -0.10035444796085358,
          0.29045745730400085,
          0.023339910432696342,
          -0.08220463991165161,
          0.27179718017578125,
          -0.0913858488202095,
          -0.018231922760605812,
          -0.1039150208234787,
          0.0165106151252985,
          -0.05780614912509918,
          -0.019582383334636688,
          -0.025587057694792747,
          -0.02480289526283741,
          -0.18791109323501587,
          -0.13945923745632172,
          0.015952061861753464,
          -0.004849341232329607,
          0.019294312223792076,
          -0.00790902879089117,
          -0.02542167529463768,
          0.013907545246183872,
          -0.013886063359677792,
          -0.059528280049562454,
          0.28315699100494385,
          0.008941669017076492,
          -0.048236578702926636,
          -0.06735751032829285,
          -0.04351329058408737,
          -0.010803398676216602,
          -0.010339739732444286,
          -0.0032750372774899006,
          0.017562981694936752,
          -0.00488225556910038,
          -0.06867437809705734,
          0.009943119250237942,
          0.017949271947145462,
          -0.018633773550391197,
          -0.003390420228242874,
          -0.045554548501968384,
          0.016814613714814186,
          -0.002976677380502224,
          -0.06671199947595596,
          -0.061319559812545776,
          -0.037468425929546356,
          -0.10999270528554916,
          -0.006788581144064665,
          0.0030296097975224257,
          0.017690733075141907,
          0.00604590680450201,
          0.011636301875114441,
          -0.07067714631557465,
          -0.007017435505986214,
          0.020943662151694298,
          0.015623519197106361,
          -0.05984237417578697,
          -0.03297470137476921,
          -0.011010208167135715,
          -0.03496184200048447,
          -0.0387093648314476,
          0.033780090510845184,
          -0.08720311522483826,
          0.025293534621596336,
          0.04361797869205475,
          0.27223414182662964,
          -0.10414236038923264,
          -0.12880466878414154,
          -0.0009287602151744068,
          -0.023273369297385216,
          -0.08081912249326706,
          -0.03119068779051304,
          -0.015916135162115097,
          -0.07699275016784668,
          -0.04173526167869568,
          -0.03448999300599098,
          0.022338302806019783,
          -0.17623190581798553,
          -0.05307880416512489,
          -0.061968620866537094,
          -0.087461456656456,
          0.014223963022232056,
          -0.12266518920660019,
          -0.05222479999065399,
          -0.03877071291208267,
          0.011019572615623474,
          -0.09520235657691956,
          0.031249292194843292,
          0.0054194992408156395,
          -0.05614585801959038,
          -0.025864148512482643,
          -0.04157724231481552,
          0.0018840357661247253,
          0.0031322769355028868,
          0.2789994776248932,
          -0.020679038017988205,
          0.2775428891181946,
          0.0036259968765079975,
          -0.01987277902662754,
          -0.003773028263822198,
          -0.0372345857322216,
          -0.07114098966121674,
          0.0007198368548415601,
          -0.011616517789661884,
          0.29132816195487976,
          -0.01114161778241396,
          -0.031312499195337296,
          -0.044142745435237885,
          -0.030851513147354126,
          -0.04131242632865906,
          -0.04851255565881729,
          -0.037552643567323685,
          -0.01593570038676262,
          -0.004089938942342997,
          -0.11756835132837296,
          0.2987750172615051,
          -0.10540484637022018,
          -0.08509460836648941,
          0.022685306146740913,
          -0.02485295943915844,
          -0.11005926877260208,
          -0.01693449728190899,
          -0.04677296057343483,
          -0.01692895218729973,
          -0.07796641439199448,
          -0.09676589071750641,
          -0.05568129941821098,
          -0.012924511916935444,
          -0.03789708390831947,
          -0.07579723745584488,
          -0.08913722634315491,
          -0.00914246030151844,
          -0.08117605745792389,
          0.3100999891757965,
          -0.06007281318306923,
          -0.08911548554897308,
          -0.0722130760550499,
          -0.033412158489227295,
          -0.021881835535168648,
          -0.0029625440947711468,
          -0.02662299945950508,
          -0.01704316772520542,
          -0.10383924841880798,
          0.0025173535104840994,
          -0.07824728637933731,
          -0.08771313726902008,
          -0.10976094007492065,
          -0.031211216002702713,
          -0.09737827628850937,
          -0.08933892101049423,
          -0.10694792121648788,
          -0.0901738703250885,
          -0.00358066544868052,
          -0.014935408718883991,
          -0.029302621260285378,
          -0.0016745999455451965,
          0.004615601152181625,
          -0.018825307488441467,
          -0.09281641244888306,
          -0.01933133229613304,
          -0.020272646099328995,
          -0.005841303616762161,
          -0.09659841656684875,
          -0.21572135388851166,
          0.30304154753685,
          0.007023125421255827,
          -0.0073936330154538155,
          -0.039387281984090805,
          0.28360894322395325,
          -0.016931109130382538
         ],
         "z": [
          0.07087544351816177,
          0.03515154495835304,
          0.013686733320355415,
          -0.019488375633955002,
          -0.02241293527185917,
          0.03408855199813843,
          -0.04376466944813728,
          -0.043171461671590805,
          0.0069889407604932785,
          0.035724565386772156,
          0.004555491730570793,
          -0.010142561048269272,
          0.007594742346554995,
          0.09439779072999954,
          -0.04894357547163963,
          0.05470146983861923,
          0.021119561046361923,
          -0.054781828075647354,
          -0.02282155491411686,
          0.03828590363264084,
          -0.031410135328769684,
          0.12099543958902359,
          -0.015196004882454872,
          0.00036632560659199953,
          -0.0038546056021004915,
          -0.03218894824385643,
          0.03572140634059906,
          -0.02964179404079914,
          -0.028737304732203484,
          0.021272597834467888,
          -0.03552348166704178,
          -0.04305984079837799,
          -0.0254155732691288,
          0.022921698167920113,
          -0.0011334122391417623,
          -0.06976083666086197,
          -0.03020339645445347,
          -0.021411968395113945,
          -0.00298945140093565,
          0.09411852806806564,
          0.028024453669786453,
          -0.06088996306061745,
          -0.04865765944123268,
          -0.028453197330236435,
          -0.007093307562172413,
          -0.02173190750181675,
          -0.04209327697753906,
          -0.06698302179574966,
          -0.03453224524855614,
          0.010307466611266136,
          -0.030270542949438095,
          -0.03673218935728073,
          -0.03160577267408371,
          -0.019997483119368553,
          -0.061898887157440186,
          0.12591108679771423,
          -0.07499641180038452,
          -0.02378036640584469,
          -0.015625184401869774,
          0.011932091787457466,
          -0.036392636597156525,
          0.02392943948507309,
          -0.016435060650110245,
          0.062273912131786346,
          -0.03624916449189186,
          -0.05532599985599518,
          -0.05138269439339638,
          0.0422925241291523,
          -0.013283316045999527,
          -0.022683730348944664,
          -0.03410692140460014,
          -0.09814903885126114,
          0.036948975175619125,
          0.015806397423148155,
          0.021377721801400185,
          -0.026874560862779617,
          -0.004067575559020042,
          0.049810849130153656,
          -0.05310583487153053,
          0.022662485018372536,
          -0.06743482500314713,
          -0.0672924667596817,
          -0.027958374470472336,
          0.042267970740795135,
          0.032593633979558945,
          -0.04462403059005737,
          -0.025813311338424683,
          -0.07164203375577927,
          -0.0026488585863262415,
          -0.03886323794722557,
          0.018216507509350777,
          0.020148230716586113,
          0.04146168753504753,
          0.003322148695588112,
          -0.010294938459992409,
          -0.007095260079950094,
          -0.04707523435354233,
          -0.00858142040669918,
          0.07788517326116562,
          0.05075255408883095,
          -0.05688926950097084,
          -0.002840546891093254,
          -0.004642934072762728,
          -0.04776366800069809,
          -0.002677727723494172,
          -0.01473307702690363,
          -0.05257638916373253,
          0.11725868284702301,
          0.05346190556883812,
          0.07709510624408722,
          -0.007022058591246605,
          -0.075662761926651,
          -0.044633347541093826,
          -0.01759013719856739,
          -0.01876075193285942,
          0.1494792401790619,
          0.05412120372056961,
          -0.021043596789240837,
          -0.01973404735326767,
          -0.02643347531557083,
          -0.00457265367731452,
          -0.0476025715470314,
          0.17410816252231598,
          -0.07682233303785324,
          0.02246740087866783,
          -0.005871803965419531,
          0.057227723300457,
          0.0019905283115804195,
          -0.00565246120095253,
          -0.05700488016009331,
          0.12253904342651367,
          -0.05972893908619881,
          0.2258090078830719,
          0.08141639083623886,
          -0.0676511600613594,
          -0.02151084505021572,
          0.12296627461910248,
          -0.05527091398835182,
          -0.10144571214914322,
          -0.03654003515839577,
          0.01736173965036869,
          0.03151492029428482,
          -0.0109311044216156,
          -0.033383388072252274,
          -0.0032330460380762815,
          0.029001737013459206,
          -0.028388360515236855,
          -0.02275584265589714,
          -0.011885604821145535,
          -0.034828007221221924,
          -0.02626117132604122,
          -0.01255009789019823,
          0.028035392984747887,
          -0.055746279656887054,
          0.022857651114463806,
          0.06111784279346466,
          0.015148011036217213,
          -0.041649673134088516,
          0.026284508407115936,
          -0.028390849009156227,
          -0.050617799162864685,
          0.012067102827131748,
          -0.040721435099840164,
          -0.02951354719698429,
          -0.032302506268024445,
          -0.0525486022233963,
          -0.029428593814373016,
          -0.04661132022738457,
          0.0016744646709412336,
          -0.04933866858482361,
          0.08245156705379486,
          0.008137347176671028,
          0.012691534124314785,
          0.1304796189069748,
          -0.03289390727877617,
          -0.03081468865275383,
          0.08871316909790039,
          -0.01763928309082985,
          0.04038042947649956,
          -0.010376942344009876,
          -0.07417237758636475,
          0.015449435450136662,
          0.036824584007263184,
          -0.049078140407800674,
          0.12704816460609436,
          -0.024512361735105515,
          -0.027679476886987686,
          0.005474704317748547,
          -0.06313502788543701,
          -0.01393540482968092,
          -0.006231134757399559,
          0.004699144046753645,
          0.013089187443256378,
          -0.01621129736304283,
          0.17683137953281403,
          0.08967717736959457,
          0.057514432817697525,
          -0.038537610322237015,
          0.010476147755980492,
          0.07351291179656982,
          0.04153318703174591,
          -0.03916570544242859,
          0.0037874775007367134,
          -0.027861129492521286,
          -0.001187013927847147,
          -0.010839199647307396,
          0.00021055359684396535,
          0.04095505550503731,
          -0.041511695832014084,
          -0.0009079411975108087,
          -0.016146069392561913,
          -0.0011854652548208833,
          -0.01569516398012638,
          0.045169323682785034,
          0.013853343203663826,
          0.03143282234668732,
          -0.021978141739964485,
          0.0652737021446228,
          -0.02123085968196392,
          0.01991543360054493,
          -0.0137474425137043,
          -0.01698436215519905,
          -0.023109210655093193,
          0.002204879419878125,
          -0.00036103662569075823,
          -0.04204469919204712,
          -0.051679156720638275,
          -0.012424688786268234,
          0.03966017812490463,
          -0.027002640068531036,
          0.03345554322004318,
          0.06733277440071106,
          -0.06736104190349579,
          0.013578541576862335,
          -0.006422285921871662,
          0.007727311458438635,
          0.023159930482506752,
          0.027326367795467377,
          -0.03684690222144127,
          -0.00760250398889184,
          -0.0031306676100939512,
          -0.008678574115037918,
          0.03191521018743515,
          0.02899104729294777,
          -0.02304711751639843,
          -0.02516808733344078,
          0.018376711755990982,
          -0.03227680176496506,
          0.013734194450080395,
          -0.024975575506687164,
          -0.06034700572490692,
          0.027468277141451836,
          0.05093073472380638,
          -0.001099006156437099,
          0.06960350275039673,
          0.051834460347890854,
          -0.05936405435204506,
          0.01223960891366005,
          -0.06923889368772507,
          0.04941464588046074,
          0.08710923045873642,
          -0.04913586378097534,
          0.005041270516812801,
          0.0017260171007364988,
          0.04250812157988548,
          -0.003595242276787758,
          -0.03161272779107094,
          0.0032676542177796364,
          0.030511610209941864,
          0.07392434775829315,
          0.015084865503013134,
          0.007276354823261499,
          -0.026530209928750992,
          -0.007408566772937775,
          0.02049168571829796,
          0.06077510863542557,
          -0.058449991047382355,
          0.006403603125363588,
          0.04281213879585266,
          -0.03801266849040985,
          0.13270454108715057,
          -0.0424114428460598,
          0.054217442870140076,
          -0.05023505911231041,
          0.006037552375346422,
          -0.08245689421892166,
          -0.027480030432343483
         ]
        },
        {
         "marker": {
          "color": "rgba(255, 128, 2, 0.8)"
         },
         "mode": "markers",
         "name": "Cluster 1",
         "text": [
          "0 510 website request served <br>8 510 user logged in <br>2 510 item added to cart <br>6 510 item added to cart <br>4 510 item added to cart <br>6 510 item added to cart <br>6 510 item added to cart <br>6 510 item added to cart <br>2 510 item added to cart <br>6 510 item added to cart <br>5 510 hermes chosen for shipping <br>5 510 klarna chosen for payment <br>1 510 order placed succesful <br>",
          "0 526 website request served <br>5 526 login not succesfull <br>0 526 login not succesfull <br>4 526 login not succesfull <br>8 526 login not succesfull <br>2 526 login not succesfull <br>8 526 user logged in <br>3 526 item added to cart <br>4 526 item added to cart <br>4 526 item added to cart <br>3 526 item added to cart <br>7 526 item added to cart <br>3 526 dpd chosen for shipping <br>7 526 klarna chosen for payment <br>4 526 order placed succesful <br>",
          "0 542 website request served <br>4 542 user logged in <br>4 542 item added to cart <br>6 542 item added to cart <br>4 542 item added to cart <br>3 542 item added to cart <br>5 542 item added to cart <br>5 542 item added to cart <br>7 542 item added to cart <br>1 542 hermes chosen for shipping <br>3 542 sofortueberweisung chosen for payment <br>6 542 order placed succesful <br>",
          "0 578 website request served <br>8 578 user logged in <br>1 578 item added to cart <br>9 578 item added to cart <br>4 578 item added to cart <br>5 578 item added to cart <br>3 578 item added to cart <br>3 578 item added to cart <br>4 578 item added to cart <br>4 578 dpd chosen for shipping <br>7 578 sofortueberweisung chosen for payment <br>2 578 order placed succesful <br>",
          "0 619 website request served <br>1 619 login not succesfull <br>5 619 login not succesfull <br>4 619 login not succesfull <br>4 619 user logged in <br>9 619 item added to cart <br>1 619 item added to cart <br>3 619 item added to cart <br>7 619 item added to cart <br>3 619 item added to cart <br>7 619 item added to cart <br>2 619 item added to cart <br>4 619 hermes chosen for shipping <br>5 619 sofortueberweisung chosen for payment <br>5 619 order placed succesful <br>",
          "0 640 website request served <br>4 640 login not succesfull <br>2 640 login not succesfull <br>7 640 user logged in <br>4 640 item added to cart <br>5 640 item added to cart <br>6 640 item added to cart <br>5 640 item added to cart <br>6 640 item added to cart <br>0 640 item added to cart <br>7 640 item added to cart <br>4 640 hermes chosen for shipping <br>7 640 klarna chosen for payment <br>1 640 order placed succesful <br>",
          "0 657 website request served <br>6 657 user loged in <br>3 657 item added to cart <br>6 657 item added to cart <br>6 657 item added to cart <br>1 657 item added to cart <br>9 657 item added to cart <br>3 657 item added to cart <br>5 657 item added to cart <br>7 657 item added to cart <br>4 657 item added to cart <br>3 657 item added to cart <br>3 657 item added to cart <br>6 657 item added to cart <br>6 657 hermes chosen for shipping <br>1 657 sofortueberweisung chosen for payment <br>7 657 order place succesful <br>",
          "0 671 website request served <br>4 671 login not succesfull <br>4 671 user loged in <br>4 671 item added to cart <br>6 671 item added to cart <br>5 671 item added to cart <br>4 671 item added to cart <br>3 671 item added to cart <br>4 671 item added to cart <br>3 671 item added to cart <br>6 671 item added to cart <br>5 671 hermes chosen for shipping <br>3 671 sofortueberweisung chosen for payment <br>7 671 order place succesful <br>",
          "0 736 website request served <br>7 736 login not succesfull <br>6 736 login not succesfull <br>4 736 user logged in <br>4 736 item added to cart <br>6 736 item added to cart <br>6 736 item added to cart <br>0 736 item added to cart <br>7 736 item added to cart <br>3 736 item added to cart <br>7 736 item added to cart <br>4 736 hermes chosen for shipping <br>3 736 paypal chosen for payment <br>4 736 order placed succesful <br>",
          "0 760 website request served <br>5 760 login not succesfull <br>5 760 user logged in <br>1 760 item added to cart <br>8 760 item added to cart <br>5 760 item added to cart <br>3 760 item added to cart <br>5 760 item added to cart <br>3 760 item added to cart <br>5 760 item added to cart <br>4 760 dpd chosen for shipping <br>4 760 paypal chosen for payment <br>7 760 order placed succesful <br>",
          "0 768 website request served <br>8 768 login not succesfull <br>3 768 login not succesfull <br>7 768 login not succesfull <br>4 768 login not succesfull <br>2 768 login not succesfull <br>7 768 user loged in <br>1 768 item added to cart <br>7 768 item added to cart <br>6 768 item added to cart <br>3 768 dhl chosen fr shipping <br>6 768 klarna chosen for payment <br>1 768 order place succesful <br>",
          "0 774 website request served <br>0 774 user logged in <br>8 774 item added to cart <br>2 774 item added to cart <br>7 774 item added to cart <br>6 774 item added to cart <br>2 774 item added to cart <br>6 774 item added to cart <br>5 774 item added to cart <br>1 774 dpd chosen for shipping <br>7 774 klarna chosen for payment <br>5 774 order placed succesful <br>",
          "0 836 website request served <br>3 836 user logged in <br>6 836 item added to cart <br>4 836 item added to cart <br>6 836 item added to cart <br>1 836 item added to cart <br>6 836 item added to cart <br>2 836 item added to cart <br>7 836 item added to cart <br>2 836 item added to cart <br>7 836 item added to cart <br>3 836 item added to cart <br>3 836 item added to cart <br>5 836 dpd chosen for shipping <br>7 836 paypal chosen for payment <br>5 836 order placed succesful <br>",
          "0 874 website request served <br>9 874 login not succesfull <br>1 874 login not succesfull <br>6 874 user logged in <br>4 874 item added to cart <br>2 874 item added to cart <br>5 874 item added to cart <br>6 874 item added to cart <br>7 874 item added to cart <br>1 874 item added to cart <br>6 874 dpd chosen for shipping <br>7 874 paypal chosen for payment <br>4 874 order placed succesful <br>"
         ],
         "type": "scatter3d",
         "x": [
          49.34138488769531,
          66.50202178955078,
          40.457618713378906,
          40.85952377319336,
          66.51133728027344,
          57.64962387084961,
          82.77702331542969,
          58.76873779296875,
          58.26670837402344,
          48.103031158447266,
          46.627384185791016,
          39.234493255615234,
          74.72322845458984,
          48.14243698120117
         ],
         "y": [
          -0.533236563205719,
          1.2339571714401245,
          -0.45715320110321045,
          -0.46332842111587524,
          0.43255653977394104,
          0.13900481164455414,
          -0.9243415594100952,
          -0.28423479199409485,
          0.16066096723079681,
          -0.09986265748739243,
          1.1939308643341064,
          -0.4767706096172333,
          -0.7627817392349243,
          0.1668369621038437
         ],
         "z": [
          0.006480976473540068,
          0.15326882898807526,
          -0.060483675450086594,
          0.002815019339323044,
          -0.08260564506053925,
          -0.003410842502489686,
          -0.08948449790477753,
          0.06323251873254776,
          0.06730814278125763,
          -0.0736101046204567,
          0.13940876722335815,
          0.06634613126516342,
          -0.0686953067779541,
          0.018685434013605118
         ]
        },
        {
         "marker": {
          "color": "rgba(0, 255, 200, 0.8)"
         },
         "mode": "markers",
         "name": "Cluster 2",
         "text": [
          "0 507 website request served <br>7 507 user logged in <br>2 507 item added to cart <br>9 507 item added to cart <br>3 507 item added to cart <br>2 507 item added to cart <br>6 507 dhl chosen for shipping <br>7 507 paypal chosen for payment <br>1 507 order placed succesful <br>",
          "0 515 website request served <br>7 515 user logged in <br>6 515 item added to cart <br>1 515 item added to cart <br>4 515 item added to cart <br>9 515 dhl chosen for shipping <br>0 515 klarna chosen for payment <br>8 515 order placed succesful <br>",
          "0 517 website request served <br>7 517 user logged in <br>6 517 item added to cart <br>2 517 item added to cart <br>6 517 item added to cart <br>4 517 dhl chosen for shipping <br>7 517 klarna chosen for payment <br>1 517 order placed succesful <br>",
          "0 546 website request served <br>8 546 user logged in <br>2 546 item added to cart <br>8 546 item added to cart <br>5 546 item added to cart <br>2 546 item added to cart <br>5 546 item added to cart <br>4 546 dhl chosen for shipping <br>3 546 sofortueberweisung chosen for payment <br>8 546 order placed succesful <br>",
          "0 548 website request served <br>6 548 user logged in <br>6 548 item added to cart <br>3 548 item added to cart <br>3 548 item added to cart <br>7 548 hermes chosen for shipping <br>4 548 klarna chosen for payment <br>5 548 order placed succesful <br>",
          "0 550 website request served <br>4 550 user logged in <br>3 550 item added to cart <br>5 550 item added to cart <br>5 550 item added to cart <br>1 550 dpd chosen for shipping <br>6 550 paypal chosen for payment <br>4 550 order placed succesful <br>",
          "0 551 website request served <br>7 551 user logged in <br>1 551 item added to cart <br>6 551 item added to cart <br>6 551 item added to cart <br>2 551 dhl chosen for shipping <br>5 551 paypal chosen for payment <br>8 551 order placed succesful <br>",
          "0 557 website request served <br>5 557 login not succesfull <br>3 557 login not succesfull <br>5 557 login not succesfull <br>3 557 user loged in <br>6 557 item added cart <br>3 557 item added cart <br>6 557 item added cart <br>7 557 dhl chosen for shipping <br>3 557 paypal chosen for payment <br>3 557 order place succesful <br>",
          "0 558 website request served <br>3 558 login not succesfull <br>8 558 login not succesfull <br>3 558 user logged in <br>4 558 item added to cart <br>6 558 hermes chosen for shipping <br>5 558 paypal chosen for payment <br>5 558 order placed succesful <br>",
          "0 559 website request served <br>2 559 user logged in <br>3 559 item added to cart <br>8 559 item added to cart <br>1 559 item added to cart <br>3 559 item added to cart <br>6 559 item added to cart <br>6 559 dpd chosen for shipping <br>4 559 klarna chosen for payment <br>5 559 order placed succesful <br>",
          "0 560 website request served <br>4 560 user logged in <br>4 560 item added to cart <br>1 560 item added to cart <br>6 560 item added to cart <br>7 560 hermes chosen for shipping <br>1 560 klarna chosen for payment <br>8 560 order placed succesful <br>",
          "0 566 website request served <br>3 566 user logged in <br>8 566 item added to cart <br>3 566 item added to cart <br>7 566 item added to cart <br>4 566 item added to cart <br>2 566 hermes chosen for shipping <br>8 566 klarna chosen for payment <br>3 566 order placed succesful <br>",
          "0 570 website request served <br>2 570 login not succesfull <br>7 570 user logged in <br>2 570 item added to cart <br>9 570 item added to cart <br>1 570 item added to cart <br>6 570 dpd chosen for shipping <br>5 570 klarna chosen for payment <br>5 570 order placed succesful <br>",
          "0 577 website request served <br>6 577 user logged in <br>3 577 item added to cart <br>6 577 item added to cart <br>6 577 item added to cart <br>3 577 dpd chosen for shipping <br>4 577 paypal chosen for payment <br>7 577 order placed succesful <br>",
          "0 585 website request served <br>4 585 user logged in <br>4 585 item added to cart <br>3 585 item added to cart <br>9 585 item added to cart <br>2 585 item added to cart <br>3 585 dpd chosen for shipping <br>8 585 klarna chosen for payment <br>1 585 order placed succesful <br>",
          "0 586 website request served <br>2 586 login not succesfull <br>5 586 login not succesfull <br>5 586 user logged in <br>3 586 item added to cart <br>5 586 item added to cart <br>6 586 item added to cart <br>4 586 item added to cart <br>5 586 dpd chosen for shipping <br>2 586 paypal chosen for payment <br>5 586 order placed succesful <br>",
          "0 589 website request served <br>7 589 user loged in <br>4 589 item added to cart <br>4 589 item added to cart <br>5 589 item added to cart <br>7 589 hermes chosen for shipping <br>4 589 chosen for payment <br>3 589 order place succesful <br>",
          "0 591 website request served <br>5 591 user logged in <br>5 591 item added to cart <br>8 591 item added to cart <br>4 591 item added to cart <br>1 591 item added to cart <br>5 591 hermes chosen for shipping <br>5 591 paypal chosen for payment <br>4 591 order placed succesful <br>",
          "0 599 website request served <br>2 599 user logged in <br>6 599 item added to cart <br>3 599 item added to cart <br>6 599 item added to cart <br>2 599 item added to cart <br>5 599 dpd chosen for shipping <br>8 599 klarna chosen for payment <br>4 599 order placed succesful <br>",
          "0 600 website request served <br>2 600 login not succesfull <br>7 600 login not succesfull <br>7 600 user logged in <br>4 600 item added to cart <br>5 600 item added to cart <br>0 600 dhl chosen for shipping <br>6 600 paypal chosen for payment <br>7 600 order placed succesful <br>",
          "0 604 website request served <br>4 604 user logged in <br>9 604 item added to cart <br>2 604 item added to cart <br>5 604 item added to cart <br>6 604 hermes chosen for shipping <br>6 604 klarna chosen for payment <br>2 604 order placed succesful <br>",
          "0 605 website request served <br>7 605 user logged in <br>5 605 item added to cart <br>3 605 item added to cart <br>5 605 item added to cart <br>6 605 dhl chosen for shipping <br>3 605 sofortueberweisung chosen for payment <br>7 605 order placed succesful <br>",
          "0 607 website request served <br>5 607 login not succesfull <br>3 607 user logged in <br>7 607 item added to cart <br>5 607 item added to cart <br>3 607 hermes chosen for shipping <br>2 607 klarna chosen for payment <br>6 607 order placed succesful <br>",
          "0 609 website request served <br>4 609 login not succesfull <br>4 609 user logged in <br>3 609 item added to cart <br>7 609 item added to cart <br>3 609 dhl chosen for shipping <br>5 609 sofortueberweisung chosen for payment <br>4 609 order placed succesful <br>",
          "0 620 website request served <br>5 620 login not succesfull <br>4 620 user logged in <br>6 620 item added to cart <br>3 620 item added to cart <br>6 620 dpd chosen for shipping <br>4 620 paypal chosen for payment <br>8 620 order placed succesful <br>",
          "0 623 website request served <br>7 623 user logged in <br>1 623 item added to cart <br>8 623 item added to cart <br>2 623 item added to cart <br>5 623 dhl chosen for shipping <br>5 623 sofortueberweisung chosen for payment <br>4 623 order placed succesful <br>",
          "0 625 website request served <br>3 625 user loged in <br>9 625 item added cart <br>4 625 item added cart <br>6 625 item added cart <br>3 625 item added cart <br>2 625 dpd chosen for shipping <br>5 625 paypal chosen for payment <br>7 625 order place succesful <br>",
          "0 629 website request served <br>4 629 login not succesfull <br>9 629 user logged in <br>2 629 item added to cart <br>5 629 item added to cart <br>5 629 item added to cart <br>3 629 item added to cart <br>6 629 item added to cart <br>4 629 dpd chosen for shipping <br>5 629 sofortueberweisung chosen for payment <br>6 629 order placed succesful <br>",
          "0 638 website request served <br>3 638 user logged in <br>6 638 item added to cart <br>3 638 item added to cart <br>7 638 item added to cart <br>1 638 item added to cart <br>3 638 dhl chosen for shipping <br>7 638 klarna chosen for payment <br>3 638 order placed succesful <br>",
          "0 642 website request served <br>1 642 login not succesfull <br>7 642 login not succesfull <br>5 642 user logged in <br>4 642 item added to cart <br>2 642 dhl chosen for shipping <br>5 642 sofortueberweisung chosen for payment <br>5 642 order placed succesful <br>",
          "0 643 website request served <br>9 643 login not succesfull <br>3 643 user logged in <br>4 643 item added to cart <br>5 643 item added to cart <br>4 643 dpd chosen for shipping <br>3 643 klarna chosen for payment <br>7 643 order placed succesful <br>",
          "0 644 website request served <br>3 644 login not succesfull <br>4 644 user logged in <br>4 644 item added to cart <br>5 644 item added to cart <br>6 644 hermes chosen for shipping <br>5 644 sofortueberweisung chosen for payment <br>2 644 order placed succesful <br>",
          "0 647 website request served <br>2 647 login not succesfull <br>5 647 login not succesfull <br>4 647 user logged in <br>5 647 item added to cart <br>4 647 item added to cart <br>6 647 dpd chosen for shipping <br>1 647 klarna chosen for payment <br>8 647 order placed succesful <br>",
          "0 648 website request served <br>3 648 user logged in <br>3 648 item added to cart <br>4 648 item added to cart <br>9 648 item added to cart <br>3 648 hermes chosen for shipping <br>6 648 sofortueberweisung chosen for payment <br>3 648 order placed succesful <br>",
          "0 650 website request served <br>9 650 user logged in <br>3 650 item added to cart <br>2 650 item added to cart <br>6 650 item added to cart <br>5 650 dpd chosen for shipping <br>4 650 paypal chosen for payment <br>4 650 order placed succesful <br>",
          "0 658 website request served <br>4 658 user logged in <br>6 658 item added to cart <br>7 658 item added to cart <br>5 658 item added to cart <br>4 658 hermes chosen for shipping <br>3 658 klarna chosen for payment <br>7 658 order placed succesful <br>",
          "0 659 website request served <br>5 659 user loged in <br>4 659 item added to cart <br>7 659 item added to cart <br>4 659 item added to cart <br>6 659 item added to cart <br>5 659 hermes chosen for shipping <br>3 659 sofortueberweisung chosen for payment <br>5 659 order place succesful <br>",
          "0 660 website request served <br>4 660 login not succesfull <br>3 660 user logged in <br>7 660 item added to cart <br>4 660 item added to cart <br>4 660 dpd chosen for shipping <br>5 660 sofortueberweisung chosen for payment <br>7 660 order placed succesful <br>",
          "0 666 website request served <br>5 666 login not succesfull <br>4 666 login not succesfull <br>6 666 login not succesfull <br>5 666 user logged in <br>2 666 item added to cart <br>2 666 dpd chosen for shipping <br>5 666 paypal chosen for payment <br>8 666 order placed succesful <br>",
          "0 667 website request served <br>4 667 user logged in <br>4 667 item added to cart <br>3 667 item added to cart <br>7 667 item added to cart <br>0 667 hermes chosen for shipping <br>8 667 sofortueberweisung chosen for payment <br>4 667 order placed succesful <br>",
          "0 668 website request served <br>4 668 login not succesfull <br>5 668 login not succesfull <br>5 668 user loged in <br>5 668 item added to cart <br>1 668 hermes chosen for shipping <br>6 668 chosen for payment <br>7 668 order place succesful <br>",
          "0 679 website request served <br>4 679 login not succesfull <br>4 679 user loged in <br>4 679 item added to cart <br>6 679 item added to cart <br>6 679 item added to cart <br>6 679 hermes chosen for shipping <br>4 679 klarna chosen for payment <br>4 679 order place succesful <br>",
          "0 681 website request served <br>2 681 user logged in <br>4 681 item added to cart <br>6 681 item added to cart <br>3 681 item added to cart <br>6 681 item added to cart <br>5 681 item added to cart <br>3 681 dpd chosen for shipping <br>7 681 klarna chosen for payment <br>2 681 order placed succesful <br>",
          "0 688 website request served <br>6 688 user logged in <br>4 688 item added to cart <br>5 688 item added to cart <br>4 688 item added to cart <br>2 688 item added to cart <br>7 688 item added to cart <br>4 688 item added to cart <br>5 688 hermes chosen for shipping <br>4 688 sofortueberweisung chosen for payment <br>7 688 order placed succesful <br>",
          "0 698 website request served <br>5 698 user logged in <br>4 698 item added to cart <br>7 698 item added to cart <br>6 698 item added to cart <br>2 698 dpd chosen for shipping <br>5 698 klarna chosen for payment <br>4 698 order placed succesful <br>",
          "0 702 website request served <br>5 702 user logged in <br>5 702 item added to cart <br>6 702 item added to cart <br>3 702 item added to cart <br>3 702 dhl chosen for shipping <br>7 702 klarna chosen for payment <br>4 702 order placed succesful <br>",
          "0 703 website request served <br>4 703 login not succesfull <br>5 703 user logged in <br>3 703 item added to cart <br>6 703 item added to cart <br>3 703 dhl chosen for shipping <br>8 703 klarna chosen for payment <br>2 703 order placed succesful <br>",
          "0 708 website request served <br>2 708 user logged in <br>6 708 item added to cart <br>6 708 item added to cart <br>4 708 item added to cart <br>1 708 item added to cart <br>5 708 item added to cart <br>5 708 dpd chosen for shipping <br>7 708 sofortueberweisung chosen for payment <br>3 708 order placed succesful <br>",
          "0 712 website request served <br>3 712 user logged in <br>2 712 item added to cart <br>5 712 item added to cart <br>8 712 item added to cart <br>0 712 item added to cart <br>7 712 dhl chosen for shipping <br>5 712 paypal chosen for payment <br>2 712 order placed succesful <br>",
          "0 715 website request served <br>5 715 login not succesfull <br>6 715 user logged in <br>3 715 item added to cart <br>5 715 item added to cart <br>2 715 item added to cart <br>4 715 dhl chosen for shipping <br>5 715 klarna chosen for payment <br>4 715 order placed succesful <br>",
          "0 716 website request served <br>6 716 login not succesfull <br>5 716 user loged in <br>2 716 item added cart <br>6 716 item added cart <br>3 716 item added cart <br>7 716 hermes chosen for shipping <br>1 716 sofortueberweisung chosen for payment <br>5 716 order place succesful <br>",
          "0 719 website request served <br>5 719 user logged in <br>2 719 item added to cart <br>8 719 item added to cart <br>1 719 item added to cart <br>5 719 dhl chosen for shipping <br>4 719 paypal chosen for payment <br>8 719 order placed succesful <br>",
          "0 720 website request served <br>3 720 login not succesfull <br>7 720 login not succesfull <br>2 720 user loged in <br>4 720 item added to cart <br>4 720 dpd chosen for shipping <br>5 720 chosen for payment <br>7 720 order place succesful <br>",
          "0 724 website request served <br>6 724 login not succesfull <br>4 724 login not succesfull <br>4 724 user logged in <br>4 724 item added to cart <br>4 724 dhl chosen for shipping <br>7 724 klarna chosen for payment <br>2 724 order placed succesful <br>",
          "0 729 website request served <br>6 729 login not succesfull <br>2 729 login not succesfull <br>4 729 user logged in <br>9 729 item added to cart <br>2 729 item added to cart <br>2 729 item added to cart <br>9 729 dhl chosen for shipping <br>2 729 sofortueberweisung chosen for payment <br>3 729 order placed succesful <br>",
          "0 730 website request served <br>6 730 login not succesfull <br>5 730 login not succesfull <br>1 730 user loged in <br>8 730 item added cart <br>5 730 dpd chosen for shipping <br>5 730 klana chosen for payment <br>3 730 order place succesful <br>",
          "0 733 website request served <br>8 733 login not succesfull <br>5 733 user loged in <br>4 733 item added cart <br>6 733 item added cart <br>5 733 dpd chosen for shipping <br>0 733 klana chosen for payment <br>5 733 order place succesful <br>",
          "0 735 website request served <br>6 735 login not succesfull <br>6 735 user logged in <br>6 735 item added to cart <br>1 735 item added to cart <br>8 735 item added to cart <br>3 735 item added to cart <br>5 735 hermes chosen for shipping <br>3 735 sofortueberweisung chosen for payment <br>6 735 order placed succesful <br>",
          "0 743 website request served <br>5 743 user logged in <br>4 743 item added to cart <br>8 743 item added to cart <br>5 743 item added to cart <br>2 743 item added to cart <br>4 743 dhl chosen for shipping <br>6 743 paypal chosen for payment <br>1 743 order placed succesful <br>",
          "0 754 website request served <br>1 754 user logged in <br>5 754 item added to cart <br>7 754 item added to cart <br>6 754 item added to cart <br>2 754 dhl chosen for shipping <br>3 754 sofortueberweisung chosen for payment <br>4 754 order placed succesful <br>",
          "0 755 website request served <br>4 755 user logged in <br>5 755 item added to cart <br>7 755 item added to cart <br>2 755 item added to cart <br>8 755 hermes chosen for shipping <br>1 755 sofortueberweisung chosen for payment <br>7 755 order placed succesful <br>",
          "0 756 website request served <br>8 756 user logged in <br>4 756 item added to cart <br>6 756 item added to cart <br>3 756 item added to cart <br>3 756 item added to cart <br>5 756 item added to cart <br>6 756 dpd chosen for shipping <br>6 756 klarna chosen for payment <br>2 756 order placed succesful <br>",
          "0 757 website request served <br>6 757 user loged in <br>4 757 item added to cart <br>5 757 item added to cart <br>2 757 item added to cart <br>3 757 item added to cart <br>7 757 dhl chosen fr shipping <br>2 757 chosen for payment <br>6 757 order place succesful <br>",
          "0 761 website request served <br>3 761 user logged in <br>4 761 item added to cart <br>8 761 item added to cart <br>2 761 item added to cart <br>6 761 dhl chosen for shipping <br>4 761 klarna chosen for payment <br>3 761 order placed succesful <br>",
          "0 766 website request served <br>9 766 user logged in <br>3 766 item added to cart <br>3 766 item added to cart <br>6 766 item added to cart <br>4 766 dpd chosen for shipping <br>5 766 sofortueberweisung chosen for payment <br>5 766 order placed succesful <br>",
          "0 769 website request served <br>2 769 login not succesfull <br>9 769 user logged in <br>1 769 item added to cart <br>5 769 item added to cart <br>4 769 item added to cart <br>8 769 hermes chosen for shipping <br>3 769 klarna chosen for payment <br>6 769 order placed succesful <br>",
          "0 773 website request served <br>5 773 user logged in <br>5 773 item added to cart <br>4 773 item added to cart <br>6 773 item added to cart <br>2 773 item added to cart <br>5 773 item added to cart <br>5 773 hermes chosen for shipping <br>2 773 sofortueberweisung chosen for payment <br>8 773 order placed succesful <br>",
          "0 786 website request served <br>7 786 login not succesfull <br>3 786 user logged in <br>4 786 item added to cart <br>3 786 item added to cart <br>7 786 hermes chosen for shipping <br>6 786 klarna chosen for payment <br>3 786 order placed succesful <br>",
          "0 788 website request served <br>2 788 user logged in <br>7 788 item added to cart <br>2 788 item added to cart <br>4 788 item added to cart <br>6 788 item added to cart <br>5 788 dhl chosen for shipping <br>6 788 paypal chosen for payment <br>2 788 order placed succesful <br>",
          "0 793 website request served <br>4 793 user loged in <br>1 793 item added cart <br>5 793 item added cart <br>3 793 item added cart <br>9 793 item added cart <br>0 793 dhl chosen for shipping <br>5 793 paypal chosen for payment <br>6 793 order place succesful <br>",
          "0 794 website request served <br>6 794 login not succesfull <br>6 794 user logged in <br>2 794 item added to cart <br>6 794 item added to cart <br>1 794 hermes chosen for shipping <br>7 794 paypal chosen for payment <br>2 794 order placed succesful <br>",
          "0 803 website request served <br>9 803 user logged in <br>4 803 item added to cart <br>2 803 item added to cart <br>3 803 item added to cart <br>9 803 dpd chosen for shipping <br>2 803 klarna chosen for payment <br>8 803 order placed succesful <br>",
          "0 804 website request served <br>6 804 login not succesfull <br>4 804 login not succesfull <br>4 804 user logged in <br>5 804 item added to cart <br>6 804 dpd chosen for shipping <br>3 804 klarna chosen for payment <br>4 804 order placed succesful <br>",
          "0 806 website request served <br>9 806 login not succesfull <br>4 806 login not succesfull <br>3 806 login not succesfull <br>3 806 user logged in <br>7 806 item added to cart <br>6 806 hermes chosen for shipping <br>2 806 paypal chosen for payment <br>8 806 order placed succesful <br>",
          "0 808 website request served <br>5 808 user logged in <br>2 808 item added to cart <br>6 808 item added to cart <br>4 808 item added to cart <br>6 808 item added to cart <br>3 808 item added to cart <br>4 808 dpd chosen for shipping <br>7 808 paypal chosen for payment <br>6 808 order placed succesful <br>",
          "0 809 website request served <br>5 809 user logged in <br>6 809 item added to cart <br>3 809 item added to cart <br>6 809 item added to cart <br>3 809 hermes chosen for shipping <br>7 809 sofortueberweisung chosen for payment <br>3 809 order placed succesful <br>",
          "0 811 website request served <br>1 811 login not succesfull <br>5 811 login not succesfull <br>4 811 user logged in <br>8 811 item added to cart <br>4 811 item added to cart <br>1 811 item added to cart <br>5 811 dhl chosen for shipping <br>6 811 paypal chosen for payment <br>4 811 order placed succesful <br>",
          "0 815 website request served <br>1 815 user loged in <br>6 815 item added cart <br>2 815 item added cart <br>7 815 item added cart <br>3 815 item added cart <br>8 815 item added cart <br>1 815 item added cart <br>8 815 item added cart <br>4 815 dpd chosen for shipping <br>5 815 sofortueberweisung chosen for payment <br>4 815 order place succesful <br>",
          "0 823 website request served <br>5 823 user logged in <br>7 823 item added to cart <br>3 823 item added to cart <br>2 823 item added to cart <br>8 823 item added to cart <br>3 823 dhl chosen for shipping <br>5 823 klarna chosen for payment <br>4 823 order placed succesful <br>",
          "0 831 website request served <br>3 831 user logged in <br>2 831 item added to cart <br>5 831 item added to cart <br>3 831 item added to cart <br>8 831 hermes chosen for shipping <br>5 831 paypal chosen for payment <br>3 831 order placed succesful <br>",
          "0 834 website request served <br>9 834 user logged in <br>1 834 item added to cart <br>7 834 item added to cart <br>3 834 item added to cart <br>6 834 dhl chosen for shipping <br>6 834 sofortueberweisung chosen for payment <br>4 834 order placed succesful <br>",
          "0 839 website request served <br>4 839 user logged in <br>3 839 item added to cart <br>7 839 item added to cart <br>5 839 item added to cart <br>4 839 hermes chosen for shipping <br>4 839 sofortueberweisung chosen for payment <br>4 839 order placed succesful <br>",
          "0 841 website request served <br>4 841 login not succesfull <br>2 841 login not succesfull <br>9 841 login not succesfull <br>3 841 user logged in <br>3 841 item added to cart <br>6 841 hermes chosen for shipping <br>4 841 klarna chosen for payment <br>4 841 order placed succesful <br>",
          "0 845 website request served <br>5 845 login not succesfull <br>2 845 user logged in <br>9 845 item added to cart <br>2 845 item added to cart <br>3 845 item added to cart <br>8 845 dhl chosen for shipping <br>4 845 paypal chosen for payment <br>5 845 order placed succesful <br>",
          "0 851 website request served <br>5 851 user logged in <br>6 851 item added to cart <br>5 851 item added to cart <br>5 851 item added to cart <br>3 851 dpd chosen for shipping <br>5 851 sofortueberweisung chosen for payment <br>4 851 order placed succesful <br>",
          "0 852 website request served <br>9 852 user logged in <br>2 852 item added to cart <br>4 852 item added to cart <br>8 852 item added to cart <br>1 852 dpd chosen for shipping <br>4 852 paypal chosen for payment <br>5 852 order placed succesful <br>",
          "0 861 website request served <br>3 861 user logged in <br>4 861 item added to cart <br>3 861 item added to cart <br>5 861 item added to cart <br>8 861 item added to cart <br>0 861 dpd chosen for shipping <br>8 861 klarna chosen for payment <br>2 861 order placed succesful <br>",
          "0 862 website request served <br>4 862 login not succesfull <br>1 862 login not succesfull <br>6 862 user logged in <br>5 862 item added to cart <br>4 862 item added to cart <br>7 862 hermes chosen for shipping <br>4 862 klarna chosen for payment <br>3 862 order placed succesful <br>",
          "0 863 website request served <br>6 863 user logged in <br>1 863 item added to cart <br>8 863 item added to cart <br>4 863 item added to cart <br>6 863 item added to cart <br>2 863 item added to cart <br>8 863 dpd chosen for shipping <br>2 863 klarna chosen for payment <br>3 863 order placed succesful <br>",
          "0 865 website request served <br>3 865 user logged in <br>5 865 item added to cart <br>2 865 item added to cart <br>8 865 item added to cart <br>1 865 dhl chosen for shipping <br>6 865 klarna chosen for payment <br>4 865 order placed succesful <br>",
          "0 866 website request served <br>4 866 user logged in <br>4 866 item added to cart <br>5 866 item added to cart <br>7 866 item added to cart <br>3 866 hermes chosen for shipping <br>4 866 paypal chosen for payment <br>2 866 order placed succesful <br>",
          "0 871 website request served <br>6 871 user logged in <br>4 871 item added to cart <br>4 871 item added to cart <br>8 871 item added to cart <br>5 871 item added to cart <br>3 871 dpd chosen for shipping <br>4 871 klarna chosen for payment <br>5 871 order placed succesful <br>",
          "0 873 website request served <br>5 873 user logged in <br>4 873 item added to cart <br>6 873 item added to cart <br>5 873 item added to cart <br>5 873 dhl chosen for shipping <br>5 873 klarna chosen for payment <br>3 873 order placed succesful <br>",
          "0 879 website request served <br>2 879 login not succesfull <br>6 879 user logged in <br>2 879 item added to cart <br>5 879 item added to cart <br>5 879 dpd chosen for shipping <br>3 879 klarna chosen for payment <br>9 879 order placed succesful <br>",
          "0 881 website request served <br>2 881 login not succesfull <br>8 881 login not succesfull <br>0 881 user logged in <br>8 881 item added to cart <br>4 881 dpd chosen for shipping <br>6 881 sofortueberweisung chosen for payment <br>2 881 order placed succesful <br>",
          "0 882 website request served <br>5 882 login not succesfull <br>8 882 user logged in <br>5 882 item added to cart <br>5 882 item added to cart <br>0 882 item added to cart <br>4 882 item added to cart <br>5 882 hermes chosen for shipping <br>8 882 sofortueberweisung chosen for payment <br>3 882 order placed succesful <br>",
          "0 884 website request served <br>7 884 user logged in <br>4 884 item added to cart <br>5 884 item added to cart <br>3 884 item added to cart <br>4 884 dpd chosen for shipping <br>4 884 paypal chosen for payment <br>4 884 order placed succesful <br>",
          "0 885 website request served <br>7 885 login not succesfull <br>1 885 user loged in <br>7 885 item added to cart <br>6 885 item added to cart <br>4 885 dhl chosen fr shipping <br>4 885 sofortueberweisung chosen for payment <br>4 885 order place succesful <br>",
          "0 889 website request served <br>5 889 user logged in <br>5 889 item added to cart <br>7 889 item added to cart <br>5 889 item added to cart <br>0 889 dhl chosen for shipping <br>8 889 klarna chosen for payment <br>2 889 order placed succesful <br>",
          "0 891 website request served <br>6 891 login not succesfull <br>2 891 user logged in <br>2 891 item added to cart <br>7 891 item added to cart <br>2 891 dhl chosen for shipping <br>6 891 klarna chosen for payment <br>6 891 order placed succesful <br>",
          "0 895 website request served <br>3 895 user logged in <br>7 895 item added to cart <br>6 895 item added to cart <br>4 895 item added to cart <br>5 895 dhl chosen for shipping <br>5 895 paypal chosen for payment <br>2 895 order placed succesful <br>",
          "0 899 website request served <br>3 899 login not succesfull <br>3 899 login not succesfull <br>6 899 login not succesfull <br>1 899 user logged in <br>8 899 item added to cart <br>6 899 item added to cart <br>1 899 hermes chosen for shipping <br>4 899 paypal chosen for payment <br>6 899 order placed succesful <br>",
          "0 902 website request served <br>7 902 user logged in <br>1 902 item added to cart <br>7 902 item added to cart <br>3 902 item added to cart <br>6 902 dpd chosen for shipping <br>1 902 klarna chosen for payment <br>9 902 order placed succesful <br>",
          "0 904 website request served <br>6 904 user loged in <br>4 904 item added to cart <br>7 904 item added to cart <br>1 904 item added to cart <br>3 904 dhl chosen fr shipping <br>5 904 klarna chosen for payment <br>5 904 order place succesful <br>"
         ],
         "type": "scatter3d",
         "x": [
          15.164918899536133,
          6.1711225509643555,
          6.158962249755859,
          24.329992294311523,
          6.913222789764404,
          6.397838592529297,
          6.109107494354248,
          28.002254486083984,
          6.675088405609131,
          24.122697830200195,
          5.962878704071045,
          15.627328872680664,
          14.581158638000488,
          6.7449774742126465,
          15.0694580078125,
          31.7667236328125,
          4.8729047775268555,
          15.388116836547852,
          15.701363563537598,
          14.78081226348877,
          7.097104549407959,
          7.148988246917725,
          7.007843971252441,
          7.2111053466796875,
          7.4603962898254395,
          6.926692008972168,
          9.402444839477539,
          32.13548278808594,
          15.243086814880371,
          6.920874118804932,
          6.962154865264893,
          7.541123867034912,
          14.846028327941895,
          6.388848781585693,
          6.716695308685303,
          7.148799419403076,
          15.843002319335938,
          6.3532514572143555,
          15.904784202575684,
          7.782791614532471,
          5.3639678955078125,
          15.963379859924316,
          24.626996994018555,
          33.394168853759766,
          7.461312770843506,
          6.588225364685059,
          6.832115650177002,
          24.21826934814453,
          14.579229354858398,
          16.752349853515625,
          10.718098640441895,
          7.0879807472229,
          5.764425277709961,
          6.979275226593018,
          22.423320770263672,
          4.388855457305908,
          3.361104965209961,
          23.584087371826172,
          15.159453392028809,
          6.5738444328308105,
          5.636199951171875,
          23.448383331298828,
          12.065717697143555,
          6.640632152557373,
          6.36660099029541,
          14.29738998413086,
          23.570188522338867,
          6.072835922241211,
          14.951799392700195,
          8.08480453491211,
          6.191043376922607,
          6.494564533233643,
          6.221929550170898,
          13.796996116638184,
          22.718231201171875,
          6.463136672973633,
          23.75895881652832,
          28.99622917175293,
          15.337271690368652,
          6.436319828033447,
          6.131046295166016,
          7.087643623352051,
          14.941444396972656,
          15.384410858154297,
          7.230454921722412,
          6.641591548919678,
          14.646846771240234,
          14.837430000305176,
          23.038835525512695,
          6.913572788238525,
          6.069941997528076,
          15.100793838500977,
          7.171933174133301,
          6.927769184112549,
          6.01101016998291,
          23.75053596496582,
          6.8294677734375,
          5.348675727844238,
          6.352903842926025,
          6.787222862243652,
          6.60380220413208,
          22.892261505126953,
          5.878714084625244,
          5.4467644691467285
         ],
         "y": [
          -0.21884453296661377,
          -0.2152673751115799,
          -0.1728902906179428,
          -0.31885915994644165,
          -0.19109003245830536,
          -0.15328015387058258,
          -0.12306007742881775,
          0.8199896812438965,
          0.6057085990905762,
          -0.2963361144065857,
          -0.175138920545578,
          -0.23133039474487305,
          0.13138483464717865,
          -0.1523616462945938,
          -0.23712486028671265,
          0.3967188596725464,
          -0.22451448440551758,
          -0.20406271517276764,
          -0.24122357368469238,
          0.5201447606086731,
          -0.15343432128429413,
          -0.13425497710704803,
          0.19481973350048065,
          0.1738734096288681,
          0.20562615990638733,
          -0.13053330779075623,
          -0.13297143578529358,
          -0.04521321877837181,
          -0.22788625955581665,
          0.5834316611289978,
          0.18468955159187317,
          0.2713947892189026,
          0.481344997882843,
          -0.20300708711147308,
          -0.16553866863250732,
          -0.15055717527866364,
          -0.20861276984214783,
          0.21344409883022308,
          0.9260980486869812,
          -0.1255084127187729,
          0.532961368560791,
          0.15061524510383606,
          -0.27829816937446594,
          -0.3793947696685791,
          -0.12388595938682556,
          -0.1411871463060379,
          0.22294136881828308,
          -0.2878090441226959,
          -0.2098533809185028,
          0.16461923718452454,
          0.21393059194087982,
          -0.08498955518007278,
          0.5526288151741028,
          0.5800144076347351,
          0.38500604033470154,
          0.6103248596191406,
          0.2772723436355591,
          0.07184308767318726,
          -0.2631213963031769,
          -0.1459454894065857,
          -0.14646708965301514,
          -0.3468795716762543,
          -0.33766910433769226,
          -0.14351022243499756,
          -0.1776229739189148,
          0.10374576598405838,
          -0.26928743720054626,
          0.1979411095380783,
          -0.2597610056400299,
          -0.10776777565479279,
          0.16476759314537048,
          -0.18398582935333252,
          0.5334036350250244,
          0.8237228393554688,
          -0.2712099552154541,
          -0.21927423775196075,
          0.43808799982070923,
          -0.24975496530532837,
          -0.22442029416561127,
          -0.1430637240409851,
          -0.15188392996788025,
          -0.15064562857151031,
          0.8370293378829956,
          0.15213941037654877,
          -0.1021193265914917,
          -0.181894913315773,
          -0.2527964115142822,
          0.5090882182121277,
          -0.3356059789657593,
          -0.16456152498722076,
          -0.15883001685142517,
          -0.21834635734558105,
          -0.12017803639173508,
          0.20469796657562256,
          0.539311945438385,
          0.06370492279529572,
          -0.1815856397151947,
          0.1597088873386383,
          -0.10121108591556549,
          0.21756824851036072,
          -0.148757204413414,
          0.7324403524398804,
          -0.1620151698589325,
          -0.22920061647891998
         ],
         "z": [
          0.04755876213312149,
          0.05763508751988411,
          0.05975634977221489,
          0.03999904915690422,
          -0.05190734565258026,
          -0.02719683013856411,
          0.014019571244716644,
          -0.017269287258386612,
          -0.06263689696788788,
          -0.01345868967473507,
          0.02326464280486107,
          0.010182435624301434,
          0.010431802831590176,
          -0.06738395243883133,
          -0.006667655892670155,
          -0.10123337805271149,
          0.009047416038811207,
          -0.02338731475174427,
          -0.004085665103048086,
          0.061723493039608,
          0.0063423048704862595,
          -0.015391271561384201,
          -0.04463661462068558,
          -0.047034088522195816,
          0.0025574262253940105,
          -0.0369858592748642,
          0.09884055703878403,
          -0.030917087569832802,
          -0.0030016927048563957,
          -0.04245086759328842,
          -0.041442885994911194,
          -0.04491366446018219,
          -0.020375333726406097,
          -0.08853474259376526,
          -0.0006355973309837282,
          -0.02072306163609028,
          -0.04344230517745018,
          -0.043598342686891556,
          -0.023764753714203835,
          0.021481506526470184,
          0.0033058524131774902,
          0.0935869961977005,
          -0.028157858178019524,
          0.0034987947437912226,
          -0.03816407173871994,
          -0.04703224450349808,
          -0.01138137374073267,
          -0.061667025089263916,
          0.08591334521770477,
          -0.06963388621807098,
          0.021535711362957954,
          -0.007250519935041666,
          0.04007399082183838,
          0.03023817576467991,
          0.039123840630054474,
          0.017248360440135002,
          0.08069489151239395,
          0.04229804128408432,
          0.023882374167442322,
          -0.08675100654363632,
          -0.028446244075894356,
          -0.0033034791704267263,
          0.12596863508224487,
          0.03708859160542488,
          -0.03944683447480202,
          0.00825252290815115,
          -0.0009491240489296615,
          -0.055731117725372314,
          0.06315874308347702,
          0.15120090544223785,
          0.0314456969499588,
          0.029326319694519043,
          -0.032513294368982315,
          -0.0034828619100153446,
          0.0007382454932667315,
          -0.045310284942388535,
          0.01601170189678669,
          0.16523389518260956,
          -0.014477127231657505,
          -0.07611788809299469,
          -0.021557630971074104,
          -0.025573091581463814,
          -0.031213613227009773,
          -0.0439535491168499,
          -0.07999550551176071,
          -0.020774472504854202,
          0.045335542410612106,
          -0.01708194985985756,
          0.014012501575052738,
          -0.029155390337109566,
          0.014162497594952583,
          -0.019680287688970566,
          -0.08419398218393326,
          -0.01750398427248001,
          0.04421011358499527,
          -0.005240115337073803,
          -0.0315934456884861,
          0.1196916401386261,
          0.07554211467504501,
          0.021928342059254646,
          -0.07285123318433762,
          -0.02391953580081463,
          -0.012557487934827805,
          0.048712730407714844
         ]
        }
       ],
       "layout": {
        "template": {
         "data": {
          "bar": [
           {
            "error_x": {
             "color": "#2a3f5f"
            },
            "error_y": {
             "color": "#2a3f5f"
            },
            "marker": {
             "line": {
              "color": "#E5ECF6",
              "width": 0.5
             },
             "pattern": {
              "fillmode": "overlay",
              "size": 10,
              "solidity": 0.2
             }
            },
            "type": "bar"
           }
          ],
          "barpolar": [
           {
            "marker": {
             "line": {
              "color": "#E5ECF6",
              "width": 0.5
             },
             "pattern": {
              "fillmode": "overlay",
              "size": 10,
              "solidity": 0.2
             }
            },
            "type": "barpolar"
           }
          ],
          "carpet": [
           {
            "aaxis": {
             "endlinecolor": "#2a3f5f",
             "gridcolor": "white",
             "linecolor": "white",
             "minorgridcolor": "white",
             "startlinecolor": "#2a3f5f"
            },
            "baxis": {
             "endlinecolor": "#2a3f5f",
             "gridcolor": "white",
             "linecolor": "white",
             "minorgridcolor": "white",
             "startlinecolor": "#2a3f5f"
            },
            "type": "carpet"
           }
          ],
          "choropleth": [
           {
            "colorbar": {
             "outlinewidth": 0,
             "ticks": ""
            },
            "type": "choropleth"
           }
          ],
          "contour": [
           {
            "colorbar": {
             "outlinewidth": 0,
             "ticks": ""
            },
            "colorscale": [
             [
              0,
              "#0d0887"
             ],
             [
              0.1111111111111111,
              "#46039f"
             ],
             [
              0.2222222222222222,
              "#7201a8"
             ],
             [
              0.3333333333333333,
              "#9c179e"
             ],
             [
              0.4444444444444444,
              "#bd3786"
             ],
             [
              0.5555555555555556,
              "#d8576b"
             ],
             [
              0.6666666666666666,
              "#ed7953"
             ],
             [
              0.7777777777777778,
              "#fb9f3a"
             ],
             [
              0.8888888888888888,
              "#fdca26"
             ],
             [
              1,
              "#f0f921"
             ]
            ],
            "type": "contour"
           }
          ],
          "contourcarpet": [
           {
            "colorbar": {
             "outlinewidth": 0,
             "ticks": ""
            },
            "type": "contourcarpet"
           }
          ],
          "heatmap": [
           {
            "colorbar": {
             "outlinewidth": 0,
             "ticks": ""
            },
            "colorscale": [
             [
              0,
              "#0d0887"
             ],
             [
              0.1111111111111111,
              "#46039f"
             ],
             [
              0.2222222222222222,
              "#7201a8"
             ],
             [
              0.3333333333333333,
              "#9c179e"
             ],
             [
              0.4444444444444444,
              "#bd3786"
             ],
             [
              0.5555555555555556,
              "#d8576b"
             ],
             [
              0.6666666666666666,
              "#ed7953"
             ],
             [
              0.7777777777777778,
              "#fb9f3a"
             ],
             [
              0.8888888888888888,
              "#fdca26"
             ],
             [
              1,
              "#f0f921"
             ]
            ],
            "type": "heatmap"
           }
          ],
          "heatmapgl": [
           {
            "colorbar": {
             "outlinewidth": 0,
             "ticks": ""
            },
            "colorscale": [
             [
              0,
              "#0d0887"
             ],
             [
              0.1111111111111111,
              "#46039f"
             ],
             [
              0.2222222222222222,
              "#7201a8"
             ],
             [
              0.3333333333333333,
              "#9c179e"
             ],
             [
              0.4444444444444444,
              "#bd3786"
             ],
             [
              0.5555555555555556,
              "#d8576b"
             ],
             [
              0.6666666666666666,
              "#ed7953"
             ],
             [
              0.7777777777777778,
              "#fb9f3a"
             ],
             [
              0.8888888888888888,
              "#fdca26"
             ],
             [
              1,
              "#f0f921"
             ]
            ],
            "type": "heatmapgl"
           }
          ],
          "histogram": [
           {
            "marker": {
             "pattern": {
              "fillmode": "overlay",
              "size": 10,
              "solidity": 0.2
             }
            },
            "type": "histogram"
           }
          ],
          "histogram2d": [
           {
            "colorbar": {
             "outlinewidth": 0,
             "ticks": ""
            },
            "colorscale": [
             [
              0,
              "#0d0887"
             ],
             [
              0.1111111111111111,
              "#46039f"
             ],
             [
              0.2222222222222222,
              "#7201a8"
             ],
             [
              0.3333333333333333,
              "#9c179e"
             ],
             [
              0.4444444444444444,
              "#bd3786"
             ],
             [
              0.5555555555555556,
              "#d8576b"
             ],
             [
              0.6666666666666666,
              "#ed7953"
             ],
             [
              0.7777777777777778,
              "#fb9f3a"
             ],
             [
              0.8888888888888888,
              "#fdca26"
             ],
             [
              1,
              "#f0f921"
             ]
            ],
            "type": "histogram2d"
           }
          ],
          "histogram2dcontour": [
           {
            "colorbar": {
             "outlinewidth": 0,
             "ticks": ""
            },
            "colorscale": [
             [
              0,
              "#0d0887"
             ],
             [
              0.1111111111111111,
              "#46039f"
             ],
             [
              0.2222222222222222,
              "#7201a8"
             ],
             [
              0.3333333333333333,
              "#9c179e"
             ],
             [
              0.4444444444444444,
              "#bd3786"
             ],
             [
              0.5555555555555556,
              "#d8576b"
             ],
             [
              0.6666666666666666,
              "#ed7953"
             ],
             [
              0.7777777777777778,
              "#fb9f3a"
             ],
             [
              0.8888888888888888,
              "#fdca26"
             ],
             [
              1,
              "#f0f921"
             ]
            ],
            "type": "histogram2dcontour"
           }
          ],
          "mesh3d": [
           {
            "colorbar": {
             "outlinewidth": 0,
             "ticks": ""
            },
            "type": "mesh3d"
           }
          ],
          "parcoords": [
           {
            "line": {
             "colorbar": {
              "outlinewidth": 0,
              "ticks": ""
             }
            },
            "type": "parcoords"
           }
          ],
          "pie": [
           {
            "automargin": true,
            "type": "pie"
           }
          ],
          "scatter": [
           {
            "marker": {
             "colorbar": {
              "outlinewidth": 0,
              "ticks": ""
             }
            },
            "type": "scatter"
           }
          ],
          "scatter3d": [
           {
            "line": {
             "colorbar": {
              "outlinewidth": 0,
              "ticks": ""
             }
            },
            "marker": {
             "colorbar": {
              "outlinewidth": 0,
              "ticks": ""
             }
            },
            "type": "scatter3d"
           }
          ],
          "scattercarpet": [
           {
            "marker": {
             "colorbar": {
              "outlinewidth": 0,
              "ticks": ""
             }
            },
            "type": "scattercarpet"
           }
          ],
          "scattergeo": [
           {
            "marker": {
             "colorbar": {
              "outlinewidth": 0,
              "ticks": ""
             }
            },
            "type": "scattergeo"
           }
          ],
          "scattergl": [
           {
            "marker": {
             "colorbar": {
              "outlinewidth": 0,
              "ticks": ""
             }
            },
            "type": "scattergl"
           }
          ],
          "scattermapbox": [
           {
            "marker": {
             "colorbar": {
              "outlinewidth": 0,
              "ticks": ""
             }
            },
            "type": "scattermapbox"
           }
          ],
          "scatterpolar": [
           {
            "marker": {
             "colorbar": {
              "outlinewidth": 0,
              "ticks": ""
             }
            },
            "type": "scatterpolar"
           }
          ],
          "scatterpolargl": [
           {
            "marker": {
             "colorbar": {
              "outlinewidth": 0,
              "ticks": ""
             }
            },
            "type": "scatterpolargl"
           }
          ],
          "scatterternary": [
           {
            "marker": {
             "colorbar": {
              "outlinewidth": 0,
              "ticks": ""
             }
            },
            "type": "scatterternary"
           }
          ],
          "surface": [
           {
            "colorbar": {
             "outlinewidth": 0,
             "ticks": ""
            },
            "colorscale": [
             [
              0,
              "#0d0887"
             ],
             [
              0.1111111111111111,
              "#46039f"
             ],
             [
              0.2222222222222222,
              "#7201a8"
             ],
             [
              0.3333333333333333,
              "#9c179e"
             ],
             [
              0.4444444444444444,
              "#bd3786"
             ],
             [
              0.5555555555555556,
              "#d8576b"
             ],
             [
              0.6666666666666666,
              "#ed7953"
             ],
             [
              0.7777777777777778,
              "#fb9f3a"
             ],
             [
              0.8888888888888888,
              "#fdca26"
             ],
             [
              1,
              "#f0f921"
             ]
            ],
            "type": "surface"
           }
          ],
          "table": [
           {
            "cells": {
             "fill": {
              "color": "#EBF0F8"
             },
             "line": {
              "color": "white"
             }
            },
            "header": {
             "fill": {
              "color": "#C8D4E3"
             },
             "line": {
              "color": "white"
             }
            },
            "type": "table"
           }
          ]
         },
         "layout": {
          "annotationdefaults": {
           "arrowcolor": "#2a3f5f",
           "arrowhead": 0,
           "arrowwidth": 1
          },
          "autotypenumbers": "strict",
          "coloraxis": {
           "colorbar": {
            "outlinewidth": 0,
            "ticks": ""
           }
          },
          "colorscale": {
           "diverging": [
            [
             0,
             "#8e0152"
            ],
            [
             0.1,
             "#c51b7d"
            ],
            [
             0.2,
             "#de77ae"
            ],
            [
             0.3,
             "#f1b6da"
            ],
            [
             0.4,
             "#fde0ef"
            ],
            [
             0.5,
             "#f7f7f7"
            ],
            [
             0.6,
             "#e6f5d0"
            ],
            [
             0.7,
             "#b8e186"
            ],
            [
             0.8,
             "#7fbc41"
            ],
            [
             0.9,
             "#4d9221"
            ],
            [
             1,
             "#276419"
            ]
           ],
           "sequential": [
            [
             0,
             "#0d0887"
            ],
            [
             0.1111111111111111,
             "#46039f"
            ],
            [
             0.2222222222222222,
             "#7201a8"
            ],
            [
             0.3333333333333333,
             "#9c179e"
            ],
            [
             0.4444444444444444,
             "#bd3786"
            ],
            [
             0.5555555555555556,
             "#d8576b"
            ],
            [
             0.6666666666666666,
             "#ed7953"
            ],
            [
             0.7777777777777778,
             "#fb9f3a"
            ],
            [
             0.8888888888888888,
             "#fdca26"
            ],
            [
             1,
             "#f0f921"
            ]
           ],
           "sequentialminus": [
            [
             0,
             "#0d0887"
            ],
            [
             0.1111111111111111,
             "#46039f"
            ],
            [
             0.2222222222222222,
             "#7201a8"
            ],
            [
             0.3333333333333333,
             "#9c179e"
            ],
            [
             0.4444444444444444,
             "#bd3786"
            ],
            [
             0.5555555555555556,
             "#d8576b"
            ],
            [
             0.6666666666666666,
             "#ed7953"
            ],
            [
             0.7777777777777778,
             "#fb9f3a"
            ],
            [
             0.8888888888888888,
             "#fdca26"
            ],
            [
             1,
             "#f0f921"
            ]
           ]
          },
          "colorway": [
           "#636efa",
           "#EF553B",
           "#00cc96",
           "#ab63fa",
           "#FFA15A",
           "#19d3f3",
           "#FF6692",
           "#B6E880",
           "#FF97FF",
           "#FECB52"
          ],
          "font": {
           "color": "#2a3f5f"
          },
          "geo": {
           "bgcolor": "white",
           "lakecolor": "white",
           "landcolor": "#E5ECF6",
           "showlakes": true,
           "showland": true,
           "subunitcolor": "white"
          },
          "hoverlabel": {
           "align": "left"
          },
          "hovermode": "closest",
          "mapbox": {
           "style": "light"
          },
          "paper_bgcolor": "white",
          "plot_bgcolor": "#E5ECF6",
          "polar": {
           "angularaxis": {
            "gridcolor": "white",
            "linecolor": "white",
            "ticks": ""
           },
           "bgcolor": "#E5ECF6",
           "radialaxis": {
            "gridcolor": "white",
            "linecolor": "white",
            "ticks": ""
           }
          },
          "scene": {
           "xaxis": {
            "backgroundcolor": "#E5ECF6",
            "gridcolor": "white",
            "gridwidth": 2,
            "linecolor": "white",
            "showbackground": true,
            "ticks": "",
            "zerolinecolor": "white"
           },
           "yaxis": {
            "backgroundcolor": "#E5ECF6",
            "gridcolor": "white",
            "gridwidth": 2,
            "linecolor": "white",
            "showbackground": true,
            "ticks": "",
            "zerolinecolor": "white"
           },
           "zaxis": {
            "backgroundcolor": "#E5ECF6",
            "gridcolor": "white",
            "gridwidth": 2,
            "linecolor": "white",
            "showbackground": true,
            "ticks": "",
            "zerolinecolor": "white"
           }
          },
          "shapedefaults": {
           "line": {
            "color": "#2a3f5f"
           }
          },
          "ternary": {
           "aaxis": {
            "gridcolor": "white",
            "linecolor": "white",
            "ticks": ""
           },
           "baxis": {
            "gridcolor": "white",
            "linecolor": "white",
            "ticks": ""
           },
           "bgcolor": "#E5ECF6",
           "caxis": {
            "gridcolor": "white",
            "linecolor": "white",
            "ticks": ""
           }
          },
          "title": {
           "x": 0.05
          },
          "xaxis": {
           "automargin": true,
           "gridcolor": "white",
           "linecolor": "white",
           "ticks": "",
           "title": {
            "standoff": 15
           },
           "zerolinecolor": "white",
           "zerolinewidth": 2
          },
          "yaxis": {
           "automargin": true,
           "gridcolor": "white",
           "linecolor": "white",
           "ticks": "",
           "title": {
            "standoff": 15
           },
           "zerolinecolor": "white",
           "zerolinewidth": 2
          }
         }
        },
        "title": {
         "text": "Visualizing Clusters in three Dimensions Using PCA"
        },
        "xaxis": {
         "ticklen": 2,
         "title": {
          "text": "PC1"
         },
         "zeroline": false
        },
        "yaxis": {
         "ticklen": 5,
         "title": {
          "text": "PC2"
         },
         "zeroline": false
        }
       }
      },
      "text/html": [
       "<div>                            <div id=\"f3016230-1b3f-49f7-83e3-e519866cc750\" class=\"plotly-graph-div\" style=\"height:525px; width:100%;\"></div>            <script type=\"text/javascript\">                require([\"plotly\"], function(Plotly) {                    window.PLOTLYENV=window.PLOTLYENV || {};                                    if (document.getElementById(\"f3016230-1b3f-49f7-83e3-e519866cc750\")) {                    Plotly.newPlot(                        \"f3016230-1b3f-49f7-83e3-e519866cc750\",                        [{\"marker\":{\"color\":\"rgba(255, 128, 255, 0.8)\"},\"mode\":\"markers\",\"name\":\"Cluster 0\",\"text\":[\"0 502 website request served <br>7 502 user logged in <br>3 502 item added to cart <br>7 502 item added to cart <br>0 502 dhl chosen for shipping <br>4 502 klarna chosen for payment <br>6 502 order placed succesful <br>\",\"0 503 website request served <br>3 503 user loged in <br>4 503 item added cart <br>6 503 dpd chosen for shipping <br>4 503 sofortueberweisung chosen for payment <br>2 503 order place succesful <br>\",\"0 504 website request served <br>1 504 user logged in <br>7 504 item added to cart <br>6 504 item added to cart <br>3 504 hermes chosen for shipping <br>2 504 sofortueberweisung chosen for payment <br>8 504 order placed succesful <br>\",\"0 505 website request served <br>3 505 user logged in <br>4 505 item added to cart <br>4 505 hermes chosen for shipping <br>6 505 sofortueberweisung chosen for payment <br>3 505 order placed succesful <br>\",\"0 506 website request served <br>5 506 user logged in <br>8 506 item added to cart <br>1 506 dhl chosen for shipping <br>6 506 klarna chosen for payment <br>7 506 order placed succesful <br>\",\"0 508 website request served <br>6 508 user loged in <br>1 508 item added cart <br>7 508 hermes chosen for shipping <br>3 508 klana chosen for payment <br>6 508 order place succesful <br>\",\"0 509 website request served <br>5 509 user logged in <br>8 509 item added to cart <br>2 509 hermes chosen for shipping <br>5 509 klarna chosen for payment <br>5 509 order placed succesful <br>\",\"0 511 website request served <br>7 511 user logged in <br>6 511 item added to cart <br>5 511 item added to cart <br>6 511 hermes chosen for shipping <br>3 511 klarna chosen for payment <br>3 511 order placed succesful <br>\",\"0 512 website request served <br>3 512 user loged in <br>5 512 item added to cart <br>2 512 dpd chosen for shipping <br>8 512 sofortueberweisung chosen for payment <br>5 512 order place succesful <br>\",\"0 513 website request served <br>4 513 user loged in <br>6 513 item added cart <br>3 513 item added cart <br>3 513 dpd chosen for shipping <br>8 513 paypal chosen for payment <br>2 513 order place succesful <br>\",\"0 514 website request served <br>4 514 user logged in <br>6 514 item added to cart <br>6 514 item added to cart <br>2 514 hermes chosen for shipping <br>4 514 sofortueberweisung chosen for payment <br>5 514 order placed succesful <br>\",\"0 516 website request served <br>3 516 login not succesfull <br>7 516 user logged in <br>2 516 item added to cart <br>8 516 hermes chosen for shipping <br>5 516 paypal chosen for payment <br>3 516 order placed succesful <br>\",\"0 518 website request served <br>2 518 user logged in <br>7 518 item added to cart <br>6 518 dpd chosen for shipping <br>2 518 klarna chosen for payment <br>6 518 order placed succesful <br>\",\"0 519 website request served <br>6 519 user loged in <br>4 519 item added to cart <br>7 519 item added to cart <br>3 519 dhl chosen fr shipping <br>6 519 sofortueberweisung chosen for payment <br>7 519 order place succesful <br>\",\"0 520 website request served <br>3 520 user logged in <br>4 520 item added to cart <br>3 520 item added to cart <br>6 520 dpd chosen for shipping <br>5 520 klarna chosen for payment <br>5 520 order placed succesful <br>\",\"0 521 website request served <br>6 521 user loged in <br>7 521 item added to cart <br>4 521 item added to cart <br>1 521 hermes chosen for shipping <br>4 521 sofortueberweisung chosen for payment <br>9 521 order place succesful <br>\",\"0 522 website request served <br>8 522 login not succesfull <br>6 522 user logged in <br>1 522 item added to cart <br>8 522 hermes chosen for shipping <br>1 522 sofortueberweisung chosen for payment <br>8 522 order placed succesful <br>\",\"0 523 website request served <br>2 523 user logged in <br>6 523 item added to cart <br>4 523 hermes chosen for shipping <br>3 523 klarna chosen for payment <br>5 523 order placed succesful <br>\",\"0 524 website request served <br>4 524 user logged in <br>5 524 item added to cart <br>2 524 hermes chosen for shipping <br>6 524 sofortueberweisung chosen for payment <br>4 524 order placed succesful <br>\",\"0 525 website request served <br>3 525 user loged in <br>5 525 item added cart <br>3 525 item added cart <br>8 525 item added cart <br>2 525 dpd chosen for shipping <br>3 525 paypal chosen for payment <br>6 525 order place succesful <br>\",\"0 527 website request served <br>3 527 user logged in <br>6 527 item added to cart <br>6 527 item added to cart <br>3 527 hermes chosen for shipping <br>4 527 paypal chosen for payment <br>8 527 order placed succesful <br>\",\"0 528 website request served <br>9 528 user loged in <br>1 528 item added cart <br>8 528 dpd chosen for shipping <br>0 528 paypal chosen for payment <br>7 528 order place succesful <br>\",\"0 529 website request served <br>2 529 user loged in <br>5 529 item added to cart <br>5 529 hermes chosen for shipping <br>4 529 klarna chosen for payment <br>5 529 order place succesful <br>\",\"0 530 website request served <br>6 530 login not succesfull <br>5 530 user logged in <br>6 530 item added to cart <br>2 530 dpd chosen for shipping <br>6 530 klarna chosen for payment <br>3 530 order placed succesful <br>\",\"0 531 website request served <br>6 531 user logged in <br>7 531 item added to cart <br>1 531 dhl chosen for shipping <br>5 531 paypal chosen for payment <br>4 531 order placed succesful <br>\",\"0 532 website request served <br>3 532 user logged in <br>5 532 item added to cart <br>7 532 dpd chosen for shipping <br>3 532 sofortueberweisung chosen for payment <br>8 532 order placed succesful <br>\",\"0 533 website request served <br>8 533 user logged in <br>1 533 item added to cart <br>8 533 item added to cart <br>1 533 hermes chosen for shipping <br>7 533 sofortueberweisung chosen for payment <br>4 533 order placed succesful <br>\",\"0 534 website request served <br>1 534 user logged in <br>7 534 item added to cart <br>5 534 item added to cart <br>2 534 hermes chosen for shipping <br>7 534 klarna chosen for payment <br>5 534 order placed succesful <br>\",\"0 535 website request served <br>6 535 user logged in <br>1 535 item added to cart <br>8 535 hermes chosen for shipping <br>4 535 klarna chosen for payment <br>6 535 order placed succesful <br>\",\"0 536 website request served <br>2 536 login not succesfull <br>5 536 user logged in <br>7 536 item added to cart <br>6 536 dpd chosen for shipping <br>1 536 paypal chosen for payment <br>7 536 order placed succesful <br>\",\"0 537 website request served <br>5 537 user logged in <br>4 537 item added to cart <br>6 537 item added to cart <br>4 537 hermes chosen for shipping <br>6 537 paypal chosen for payment <br>3 537 order placed succesful <br>\",\"0 538 website request served <br>1 538 user logged in <br>5 538 item added to cart <br>7 538 dpd chosen for shipping <br>3 538 paypal chosen for payment <br>4 538 order placed succesful <br>\",\"0 539 website request served <br>4 539 user logged in <br>5 539 item added to cart <br>7 539 dhl chosen for shipping <br>4 539 klarna chosen for payment <br>3 539 order placed succesful <br>\",\"0 540 website request served <br>2 540 login not succesfull <br>8 540 user logged in <br>0 540 item added to cart <br>6 540 dpd chosen for shipping <br>6 540 klarna chosen for payment <br>5 540 order placed succesful <br>\",\"0 541 website request served <br>6 541 user logged in <br>6 541 item added to cart <br>4 541 hermes chosen for shipping <br>1 541 sofortueberweisung chosen for payment <br>8 541 order placed succesful <br>\",\"0 543 website request served <br>5 543 login not succesfull <br>4 543 user logged in <br>1 543 item added to cart <br>5 543 hermes chosen for shipping <br>7 543 klarna chosen for payment <br>3 543 order placed succesful <br>\",\"0 544 website request served <br>2 544 login not succesfull <br>5 544 user logged in <br>5 544 item added to cart <br>4 544 hermes chosen for shipping <br>3 544 paypal chosen for payment <br>9 544 order placed succesful <br>\",\"0 545 website request served <br>9 545 user logged in <br>3 545 item added to cart <br>5 545 dhl chosen for shipping <br>6 545 klarna chosen for payment <br>5 545 order placed succesful <br>\",\"0 547 website request served <br>4 547 user logged in <br>4 547 item added to cart <br>5 547 hermes chosen for shipping <br>6 547 sofortueberweisung chosen for payment <br>4 547 order placed succesful <br>\",\"0 549 website request served <br>6 549 user loged in <br>8 549 item added to cart <br>4 549 item added to cart <br>3 549 dhl chosen fr shipping <br>3 549 sofortueberweisung chosen for payment <br>6 549 order place succesful <br>\",\"0 552 website request served <br>2 552 user loged in <br>3 552 item added cart <br>8 552 item added cart <br>3 552 hermes chosen for shipping <br>6 552 paypal chosen for payment <br>4 552 order place succesful <br>\",\"0 553 website request served <br>5 553 user logged in <br>5 553 item added to cart <br>5 553 item added to cart <br>5 553 dhl chosen for shipping <br>2 553 paypal chosen for payment <br>7 553 order placed succesful <br>\",\"0 554 website request served <br>5 554 login not succesfull <br>2 554 user logged in <br>7 554 item added to cart <br>3 554 hermes chosen for shipping <br>5 554 klarna chosen for payment <br>2 554 order placed succesful <br>\",\"0 555 website request served <br>3 555 login not succesfull <br>6 555 user logged in <br>4 555 item added to cart <br>2 555 hermes chosen for shipping <br>6 555 sofortueberweisung chosen for payment <br>1 555 order placed succesful <br>\",\"0 556 website request served <br>6 556 user logged in <br>7 556 item added to cart <br>2 556 item added to cart <br>6 556 hermes chosen for shipping <br>3 556 sofortueberweisung chosen for payment <br>7 556 order placed succesful <br>\",\"0 561 website request served <br>3 561 user logged in <br>6 561 item added to cart <br>4 561 dhl chosen for shipping <br>2 561 klarna chosen for payment <br>5 561 order placed succesful <br>\",\"0 562 website request served <br>5 562 login not succesfull <br>2 562 user logged in <br>8 562 item added to cart <br>2 562 dpd chosen for shipping <br>5 562 sofortueberweisung chosen for payment <br>7 562 order placed succesful <br>\",\"0 563 website request served <br>3 563 user logged in <br>3 563 item added to cart <br>5 563 dhl chosen for shipping <br>3 563 paypal chosen for payment <br>6 563 order placed succesful <br>\",\"0 564 website request served <br>8 564 user logged in <br>1 564 item added to cart <br>7 564 dhl chosen for shipping <br>7 564 sofortueberweisung chosen for payment <br>3 564 order placed succesful <br>\",\"0 565 website request served <br>3 565 user logged in <br>9 565 item added to cart <br>2 565 dpd chosen for shipping <br>6 565 sofortueberweisung chosen for payment <br>3 565 order placed succesful <br>\",\"0 567 website request served <br>4 567 user logged in <br>4 567 item added to cart <br>9 567 item added to cart <br>4 567 dpd chosen for shipping <br>1 567 klarna chosen for payment <br>5 567 order placed succesful <br>\",\"0 568 website request served <br>9 568 user logged in <br>3 568 item added to cart <br>7 568 item added to cart <br>3 568 dhl chosen for shipping <br>5 568 sofortueberweisung chosen for payment <br>3 568 order placed succesful <br>\",\"0 569 website request served <br>4 569 login not succesfull <br>5 569 user logged in <br>7 569 item added to cart <br>1 569 dhl chosen for shipping <br>9 569 klarna chosen for payment <br>1 569 order placed succesful <br>\",\"0 571 website request served <br>4 571 login not succesfull <br>8 571 user logged in <br>5 571 item added to cart <br>2 571 dpd chosen for shipping <br>5 571 sofortueberweisung chosen for payment <br>7 571 order placed succesful <br>\",\"0 572 website request served <br>5 572 user logged in <br>4 572 item added to cart <br>5 572 hermes chosen for shipping <br>9 572 klarna chosen for payment <br>1 572 order placed succesful <br>\",\"0 573 website request served <br>1 573 user loged in <br>7 573 item added to cart <br>6 573 dhl chosen fr shipping <br>4 573 klarna chosen for payment <br>2 573 order place succesful <br>\",\"0 574 website request served <br>6 574 user logged in <br>3 574 item added to cart <br>4 574 dpd chosen for shipping <br>5 574 paypal chosen for payment <br>3 574 order placed succesful <br>\",\"0 575 website request served <br>7 575 login not succesfull <br>1 575 user logged in <br>6 575 item added to cart <br>6 575 hermes chosen for shipping <br>3 575 sofortueberweisung chosen for payment <br>6 575 order placed succesful <br>\",\"0 576 website request served <br>6 576 user logged in <br>8 576 item added to cart <br>3 576 dhl chosen for shipping <br>5 576 klarna chosen for payment <br>2 576 order placed succesful <br>\",\"0 579 website request served <br>7 579 user logged in <br>2 579 item added to cart <br>8 579 item added to cart <br>4 579 hermes chosen for shipping <br>3 579 klarna chosen for payment <br>4 579 order placed succesful <br>\",\"0 580 website request served <br>2 580 user logged in <br>3 580 item added to cart <br>7 580 dpd chosen for shipping <br>5 580 klarna chosen for payment <br>4 580 order placed succesful <br>\",\"0 581 website request served <br>7 581 user logged in <br>1 581 item added to cart <br>4 581 item added to cart <br>7 581 dhl chosen for shipping <br>3 581 klarna chosen for payment <br>6 581 order placed succesful <br>\",\"0 582 website request served <br>2 582 user logged in <br>7 582 item added to cart <br>4 582 hermes chosen for shipping <br>3 582 klarna chosen for payment <br>7 582 order placed succesful <br>\",\"0 583 website request served <br>2 583 user loged in <br>4 583 item added cart <br>8 583 dhl chosen for shipping <br>3 583 paypal chosen for payment <br>4 583 order place succesful <br>\",\"0 584 website request served <br>6 584 user logged in <br>2 584 item added to cart <br>5 584 hermes chosen for shipping <br>5 584 paypal chosen for payment <br>2 584 order placed succesful <br>\",\"0 587 website request served <br>3 587 user logged in <br>5 587 item added to cart <br>7 587 dpd chosen for shipping <br>4 587 paypal chosen for payment <br>3 587 order placed succesful <br>\",\"0 588 website request served <br>7 588 user logged in <br>2 588 item added to cart <br>7 588 item added to cart <br>5 588 hermes chosen for shipping <br>5 588 klarna chosen for payment <br>3 588 order placed succesful <br>\",\"0 590 website request served <br>0 590 user logged in <br>9 590 item added to cart <br>3 590 item added to cart <br>6 590 dhl chosen for shipping <br>1 590 klarna chosen for payment <br>7 590 order placed succesful <br>\",\"0 592 website request served <br>1 592 user logged in <br>7 592 item added to cart <br>3 592 dhl chosen for shipping <br>4 592 paypal chosen for payment <br>4 592 order placed succesful <br>\",\"0 593 website request served <br>5 593 user logged in <br>7 593 item added to cart <br>4 593 hermes chosen for shipping <br>2 593 paypal chosen for payment <br>4 593 order placed succesful <br>\",\"0 594 website request served <br>7 594 user logged in <br>2 594 item added to cart <br>5 594 dpd chosen for shipping <br>5 594 paypal chosen for payment <br>6 594 order placed succesful <br>\",\"0 595 website request served <br>5 595 user logged in <br>4 595 item added to cart <br>5 595 hermes chosen for shipping <br>5 595 sofortueberweisung chosen for payment <br>5 595 order placed succesful <br>\",\"0 596 website request served <br>5 596 user logged in <br>3 596 item added to cart <br>9 596 item added to cart <br>0 596 dhl chosen for shipping <br>5 596 sofortueberweisung chosen for payment <br>4 596 order placed succesful <br>\",\"0 597 website request served <br>4 597 user loged in <br>5 597 item added cart <br>5 597 item added cart <br>7 597 item added cart <br>6 597 dhl chosen for shipping <br>5 597 klana chosen for payment <br>3 597 order place succesful <br>\",\"0 598 website request served <br>2 598 user loged in <br>7 598 item added cart <br>4 598 dpd chosen for shipping <br>3 598 sofortueberweisung chosen for payment <br>5 598 order place succesful <br>\",\"0 601 website request served <br>7 601 user logged in <br>1 601 item added to cart <br>7 601 hermes chosen for shipping <br>4 601 sofortueberweisung chosen for payment <br>4 601 order placed succesful <br>\",\"0 602 website request served <br>3 602 user logged in <br>4 602 item added to cart <br>4 602 dhl chosen for shipping <br>5 602 paypal chosen for payment <br>4 602 order placed succesful <br>\",\"0 603 website request served <br>4 603 user logged in <br>4 603 item added to cart <br>8 603 dpd chosen for shipping <br>0 603 sofortueberweisung chosen for payment <br>9 603 order placed succesful <br>\",\"0 606 website request served <br>5 606 user logged in <br>8 606 item added to cart <br>5 606 hermes chosen for shipping <br>4 606 klarna chosen for payment <br>3 606 order placed succesful <br>\",\"0 608 website request served <br>1 608 user loged in <br>7 608 item added to cart <br>2 608 dpd chosen for shipping <br>7 608 klarna chosen for payment <br>3 608 order place succesful <br>\",\"0 610 website request served <br>6 610 user logged in <br>1 610 item added to cart <br>7 610 item added to cart <br>6 610 dpd chosen for shipping <br>5 610 paypal chosen for payment <br>3 610 order placed succesful <br>\",\"0 611 website request served <br>3 611 user logged in <br>5 611 item added to cart <br>5 611 item added to cart <br>4 611 hermes chosen for shipping <br>3 611 sofortueberweisung chosen for payment <br>8 611 order placed succesful <br>\",\"0 612 website request served <br>4 612 user logged in <br>8 612 item added to cart <br>4 612 dhl chosen for shipping <br>5 612 sofortueberweisung chosen for payment <br>6 612 order placed succesful <br>\",\"0 613 website request served <br>6 613 user logged in <br>7 613 item added to cart <br>0 613 hermes chosen for shipping <br>5 613 paypal chosen for payment <br>7 613 order placed succesful <br>\",\"0 614 website request served <br>2 614 user loged in <br>4 614 item added to cart <br>6 614 dpd chosen for shipping <br>6 614 sofortueberweisung chosen for payment <br>3 614 order place succesful <br>\",\"0 615 website request served <br>5 615 user loged in <br>5 615 item added cart <br>6 615 hermes chosen for shipping <br>5 615 sofortueberweisung chosen for payment <br>2 615 order place succesful <br>\",\"0 616 website request served <br>6 616 user logged in <br>6 616 item added to cart <br>1 616 item added to cart <br>6 616 hermes chosen for shipping <br>4 616 sofortueberweisung chosen for payment <br>7 616 order placed succesful <br>\",\"0 617 website request served <br>2 617 user logged in <br>5 617 item added to cart <br>5 617 dhl chosen for shipping <br>5 617 klarna chosen for payment <br>7 617 order placed succesful <br>\",\"0 618 website request served <br>5 618 user logged in <br>1 618 item added to cart <br>9 618 dpd chosen for shipping <br>1 618 klarna chosen for payment <br>8 618 order placed succesful <br>\",\"0 621 website request served <br>3 621 user logged in <br>4 621 item added to cart <br>6 621 dpd chosen for shipping <br>3 621 sofortueberweisung chosen for payment <br>5 621 order placed succesful <br>\",\"0 622 website request served <br>4 622 user logged in <br>6 622 item added to cart <br>1 622 hermes chosen for shipping <br>6 622 sofortueberweisung chosen for payment <br>4 622 order placed succesful <br>\",\"0 624 website request served <br>6 624 user logged in <br>1 624 item added to cart <br>6 624 item added to cart <br>3 624 dpd chosen for shipping <br>8 624 sofortueberweisung chosen for payment <br>2 624 order placed succesful <br>\",\"0 626 website request served <br>5 626 user logged in <br>9 626 item added to cart <br>0 626 dhl chosen for shipping <br>8 626 sofortueberweisung chosen for payment <br>6 626 order placed succesful <br>\",\"0 627 website request served <br>3 627 user logged in <br>8 627 item added to cart <br>3 627 dhl chosen for shipping <br>4 627 klarna chosen for payment <br>7 627 order placed succesful <br>\",\"0 628 website request served <br>4 628 user logged in <br>4 628 item added to cart <br>4 628 dhl chosen for shipping <br>7 628 paypal chosen for payment <br>4 628 order placed succesful <br>\",\"0 630 website request served <br>4 630 user loged in <br>5 630 item added cart <br>3 630 dpd chosen for shipping <br>6 630 sofortueberweisung chosen for payment <br>5 630 order place succesful <br>\",\"0 631 website request served <br>6 631 user logged in <br>6 631 item added to cart <br>3 631 hermes chosen for shipping <br>5 631 sofortueberweisung chosen for payment <br>4 631 order placed succesful <br>\",\"0 632 website request served <br>4 632 user logged in <br>1 632 item added to cart <br>7 632 dhl chosen for shipping <br>4 632 klarna chosen for payment <br>5 632 order placed succesful <br>\",\"0 633 website request served <br>2 633 login not succesfull <br>7 633 user logged in <br>0 633 item added to cart <br>8 633 dpd chosen for shipping <br>5 633 klarna chosen for payment <br>4 633 order placed succesful <br>\",\"0 634 website request served <br>7 634 user loged in <br>5 634 item added cart <br>1 634 item added cart <br>6 634 item added cart <br>6 634 dpd chosen for shipping <br>2 634 sofortueberweisung chosen for payment <br>5 634 order place succesful <br>\",\"0 635 website request served <br>2 635 user logged in <br>4 635 item added to cart <br>5 635 hermes chosen for shipping <br>5 635 paypal chosen for payment <br>3 635 order placed succesful <br>\",\"0 636 website request served <br>1 636 user logged in <br>4 636 item added to cart <br>7 636 item added to cart <br>3 636 dpd chosen for shipping <br>7 636 sofortueberweisung chosen for payment <br>4 636 order placed succesful <br>\",\"0 637 website request served <br>6 637 user logged in <br>5 637 item added to cart <br>4 637 hermes chosen for shipping <br>5 637 paypal chosen for payment <br>0 637 order placed succesful <br>\",\"0 639 website request served <br>5 639 user logged in <br>3 639 item added to cart <br>4 639 item added to cart <br>3 639 hermes chosen for shipping <br>7 639 sofortueberweisung chosen for payment <br>2 639 order placed succesful <br>\",\"0 641 website request served <br>6 641 user logged in <br>7 641 item added to cart <br>2 641 dhl chosen for shipping <br>6 641 sofortueberweisung chosen for payment <br>3 641 order placed succesful <br>\",\"0 645 website request served <br>6 645 user logged in <br>4 645 item added to cart <br>7 645 item added to cart <br>2 645 dhl chosen for shipping <br>7 645 klarna chosen for payment <br>3 645 order placed succesful <br>\",\"0 646 website request served <br>4 646 user logged in <br>7 646 item added to cart <br>3 646 item added to cart <br>6 646 hermes chosen for shipping <br>1 646 sofortueberweisung chosen for payment <br>6 646 order placed succesful <br>\",\"0 649 website request served <br>9 649 login not succesfull <br>2 649 user loged in <br>5 649 item added cart <br>8 649 dhl chosen for shipping <br>0 649 klana chosen for payment <br>5 649 order place succesful <br>\",\"0 651 website request served <br>4 651 user loged in <br>5 651 item added to cart <br>9 651 dpd chosen for shipping <br>3 651 chosen for payment <br>5 651 order place succesful <br>\",\"0 652 website request served <br>7 652 user loged in <br>2 652 item added cart <br>8 652 dpd chosen for shipping <br>1 652 klana chosen for payment <br>8 652 order place succesful <br>\",\"0 653 website request served <br>5 653 user logged in <br>1 653 item added to cart <br>7 653 dhl chosen for shipping <br>2 653 paypal chosen for payment <br>4 653 order placed succesful <br>\",\"0 654 website request served <br>3 654 user logged in <br>9 654 item added to cart <br>5 654 hermes chosen for shipping <br>3 654 klarna chosen for payment <br>5 654 order placed succesful <br>\",\"0 655 website request served <br>4 655 user logged in <br>3 655 item added to cart <br>8 655 item added to cart <br>3 655 hermes chosen for shipping <br>5 655 paypal chosen for payment <br>6 655 order placed succesful <br>\",\"0 656 website request served <br>6 656 user logged in <br>6 656 item added to cart <br>5 656 item added to cart <br>1 656 hermes chosen for shipping <br>7 656 klarna chosen for payment <br>5 656 order placed succesful <br>\",\"0 661 website request served <br>4 661 user logged in <br>4 661 item added to cart <br>7 661 item added to cart <br>5 661 dpd chosen for shipping <br>4 661 klarna chosen for payment <br>4 661 order placed succesful <br>\",\"0 662 website request served <br>2 662 user loged in <br>4 662 item added cart <br>8 662 dpd chosen for shipping <br>0 662 paypal chosen for payment <br>9 662 order place succesful <br>\",\"0 663 website request served <br>1 663 user logged in <br>5 663 item added to cart <br>4 663 dpd chosen for shipping <br>8 663 paypal chosen for payment <br>0 663 order placed succesful <br>\",\"0 664 website request served <br>3 664 login not succesfull <br>6 664 user logged in <br>3 664 item added to cart <br>5 664 dpd chosen for shipping <br>4 664 paypal chosen for payment <br>6 664 order placed succesful <br>\",\"0 665 website request served <br>4 665 user loged in <br>3 665 item added to cart <br>4 665 item added to cart <br>5 665 dpd chosen for shipping <br>5 665 klarna chosen for payment <br>5 665 order place succesful <br>\",\"0 669 website request served <br>4 669 user logged in <br>4 669 item added to cart <br>6 669 item added to cart <br>2 669 dpd chosen for shipping <br>5 669 klarna chosen for payment <br>4 669 order placed succesful <br>\",\"0 670 website request served <br>8 670 login not succesfull <br>4 670 user logged in <br>5 670 item added to cart <br>3 670 dhl chosen for shipping <br>7 670 sofortueberweisung chosen for payment <br>1 670 order placed succesful <br>\",\"0 672 website request served <br>4 672 user logged in <br>1 672 item added to cart <br>7 672 dpd chosen for shipping <br>5 672 sofortueberweisung chosen for payment <br>5 672 order placed succesful <br>\",\"0 673 website request served <br>6 673 user loged in <br>8 673 item added cart <br>0 673 item added cart <br>6 673 item added cart <br>6 673 dhl chosen for shipping <br>5 673 klana chosen for payment <br>3 673 order place succesful <br>\",\"0 674 website request served <br>5 674 login not succesfull <br>5 674 user logged in <br>6 674 item added to cart <br>3 674 hermes chosen for shipping <br>3 674 paypal chosen for payment <br>4 674 order placed succesful <br>\",\"0 675 website request served <br>4 675 user logged in <br>8 675 item added to cart <br>2 675 item added to cart <br>7 675 hermes chosen for shipping <br>2 675 sofortueberweisung chosen for payment <br>4 675 order placed succesful <br>\",\"0 676 website request served <br>6 676 user logged in <br>6 676 item added to cart <br>2 676 hermes chosen for shipping <br>3 676 klarna chosen for payment <br>7 676 order placed succesful <br>\",\"0 677 website request served <br>5 677 user loged in <br>3 677 item added to cart <br>7 677 item added to cart <br>1 677 dhl chosen fr shipping <br>4 677 klarna chosen for payment <br>6 677 order place succesful <br>\",\"0 678 website request served <br>5 678 user logged in <br>6 678 item added to cart <br>0 678 hermes chosen for shipping <br>6 678 klarna chosen for payment <br>5 678 order placed succesful <br>\",\"0 680 website request served <br>8 680 user logged in <br>2 680 item added to cart <br>7 680 item added to cart <br>6 680 dhl chosen for shipping <br>4 680 paypal chosen for payment <br>5 680 order placed succesful <br>\",\"0 682 website request served <br>4 682 user logged in <br>3 682 item added to cart <br>6 682 hermes chosen for shipping <br>3 682 paypal chosen for payment <br>5 682 order placed succesful <br>\",\"0 683 website request served <br>5 683 user loged in <br>8 683 item added to cart <br>0 683 dhl chosen fr shipping <br>8 683 klarna chosen for payment <br>3 683 order place succesful <br>\",\"0 684 website request served <br>3 684 user logged in <br>7 684 item added to cart <br>5 684 hermes chosen for shipping <br>1 684 sofortueberweisung chosen for payment <br>6 684 order placed succesful <br>\",\"0 685 website request served <br>8 685 user loged in <br>2 685 item added to cart <br>9 685 item added to cart <br>0 685 dhl chosen fr shipping <br>4 685 chosen for payment <br>8 685 order place succesful <br>\",\"0 686 website request served <br>4 686 user loged in <br>2 686 item added to cart <br>6 686 dhl chosen fr shipping <br>5 686 chosen for payment <br>3 686 order place succesful <br>\",\"0 687 website request served <br>5 687 user logged in <br>3 687 item added to cart <br>6 687 hermes chosen for shipping <br>1 687 klarna chosen for payment <br>8 687 order placed succesful <br>\",\"0 689 website request served <br>4 689 user logged in <br>3 689 item added to cart <br>7 689 dpd chosen for shipping <br>4 689 sofortueberweisung chosen for payment <br>2 689 order placed succesful <br>\",\"0 690 website request served <br>0 690 user loged in <br>8 690 item added cart <br>6 690 hermes chosen for shipping <br>2 690 sofortueberweisung chosen for payment <br>2 690 order place succesful <br>\",\"0 691 website request served <br>5 691 user logged in <br>2 691 item added to cart <br>7 691 hermes chosen for shipping <br>3 691 sofortueberweisung chosen for payment <br>4 691 order placed succesful <br>\",\"0 692 website request served <br>3 692 user logged in <br>5 692 item added to cart <br>5 692 item added to cart <br>8 692 dhl chosen for shipping <br>3 692 paypal chosen for payment <br>3 692 order placed succesful <br>\",\"0 693 website request served <br>4 693 user logged in <br>2 693 item added to cart <br>5 693 dhl chosen for shipping <br>5 693 klarna chosen for payment <br>4 693 order placed succesful <br>\",\"0 694 website request served <br>9 694 user logged in <br>0 694 item added to cart <br>5 694 hermes chosen for shipping <br>4 694 sofortueberweisung chosen for payment <br>7 694 order placed succesful <br>\",\"0 695 website request served <br>7 695 user logged in <br>6 695 item added to cart <br>0 695 item added to cart <br>5 695 hermes chosen for shipping <br>7 695 sofortueberweisung chosen for payment <br>2 695 order placed succesful <br>\",\"0 696 website request served <br>5 696 login not succesfull <br>3 696 user logged in <br>6 696 item added to cart <br>0 696 dpd chosen for shipping <br>7 696 paypal chosen for payment <br>5 696 order placed succesful <br>\",\"0 697 website request served <br>4 697 user logged in <br>9 697 item added to cart <br>5 697 hermes chosen for shipping <br>1 697 paypal chosen for payment <br>7 697 order placed succesful <br>\",\"0 699 website request served <br>8 699 user logged in <br>1 699 item added to cart <br>7 699 item added to cart <br>5 699 hermes chosen for shipping <br>5 699 sofortueberweisung chosen for payment <br>2 699 order placed succesful <br>\",\"0 700 website request served <br>6 700 user logged in <br>5 700 item added to cart <br>6 700 item added to cart <br>3 700 dhl chosen for shipping <br>8 700 paypal chosen for payment <br>2 700 order placed succesful <br>\",\"0 701 website request served <br>3 701 user logged in <br>6 701 item added to cart <br>4 701 item added to cart <br>5 701 hermes chosen for shipping <br>1 701 sofortueberweisung chosen for payment <br>7 701 order placed succesful <br>\",\"0 704 website request served <br>6 704 user logged in <br>5 704 item added to cart <br>3 704 hermes chosen for shipping <br>9 704 klarna chosen for payment <br>4 704 order placed succesful <br>\",\"0 705 website request served <br>5 705 user logged in <br>4 705 item added to cart <br>3 705 dpd chosen for shipping <br>7 705 sofortueberweisung chosen for payment <br>4 705 order placed succesful <br>\",\"0 706 website request served <br>7 706 user logged in <br>4 706 item added to cart <br>4 706 hermes chosen for shipping <br>7 706 sofortueberweisung chosen for payment <br>1 706 order placed succesful <br>\",\"0 707 website request served <br>3 707 user logged in <br>3 707 item added to cart <br>8 707 hermes chosen for shipping <br>5 707 klarna chosen for payment <br>2 707 order placed succesful <br>\",\"0 709 website request served <br>6 709 user logged in <br>2 709 item added to cart <br>8 709 dpd chosen for shipping <br>4 709 paypal chosen for payment <br>4 709 order placed succesful <br>\",\"0 710 website request served <br>7 710 user logged in <br>7 710 item added to cart <br>3 710 item added to cart <br>7 710 dhl chosen for shipping <br>1 710 paypal chosen for payment <br>8 710 order placed succesful <br>\",\"0 711 website request served <br>6 711 user logged in <br>4 711 item added to cart <br>7 711 dpd chosen for shipping <br>3 711 sofortueberweisung chosen for payment <br>6 711 order placed succesful <br>\",\"0 713 website request served <br>6 713 user loged in <br>6 713 item added cart <br>4 713 hermes chosen for shipping <br>3 713 paypal chosen for payment <br>8 713 order place succesful <br>\",\"0 714 website request served <br>5 714 user loged in <br>9 714 item added cart <br>1 714 dpd chosen for shipping <br>8 714 klana chosen for payment <br>2 714 order place succesful <br>\",\"0 717 website request served <br>1 717 user logged in <br>8 717 item added to cart <br>6 717 dhl chosen for shipping <br>2 717 paypal chosen for payment <br>7 717 order placed succesful <br>\",\"0 718 website request served <br>6 718 user logged in <br>6 718 item added to cart <br>2 718 item added to cart <br>5 718 dpd chosen for shipping <br>5 718 sofortueberweisung chosen for payment <br>4 718 order placed succesful <br>\",\"0 721 website request served <br>6 721 user loged in <br>6 721 item added cart <br>4 721 dhl chosen for shipping <br>3 721 sofortueberweisung chosen for payment <br>3 721 order place succesful <br>\",\"0 722 website request served <br>4 722 user logged in <br>5 722 item added to cart <br>6 722 hermes chosen for shipping <br>2 722 klarna chosen for payment <br>6 722 order placed succesful <br>\",\"0 723 website request served <br>3 723 user loged in <br>5 723 item added to cart <br>5 723 item added to cart <br>5 723 hermes chosen for shipping <br>5 723 sofortueberweisung chosen for payment <br>4 723 order place succesful <br>\",\"0 725 website request served <br>8 725 user logged in <br>2 725 item added to cart <br>6 725 item added to cart <br>6 725 dhl chosen for shipping <br>1 725 paypal chosen for payment <br>6 725 order placed succesful <br>\",\"0 726 website request served <br>1 726 user logged in <br>7 726 item added to cart <br>6 726 item added to cart <br>5 726 hermes chosen for shipping <br>1 726 klarna chosen for payment <br>8 726 order placed succesful <br>\",\"0 727 website request served <br>4 727 user logged in <br>5 727 item added to cart <br>6 727 item added to cart <br>4 727 dhl chosen for shipping <br>4 727 paypal chosen for payment <br>7 727 order placed succesful <br>\",\"0 728 website request served <br>2 728 user logged in <br>5 728 item added to cart <br>5 728 dhl chosen for shipping <br>4 728 klarna chosen for payment <br>4 728 order placed succesful <br>\",\"0 731 website request served <br>2 731 user logged in <br>5 731 item added to cart <br>5 731 dhl chosen for shipping <br>6 731 paypal chosen for payment <br>5 731 order placed succesful <br>\",\"0 732 website request served <br>6 732 user logged in <br>3 732 item added to cart <br>6 732 dpd chosen for shipping <br>7 732 paypal chosen for payment <br>5 732 order placed succesful <br>\",\"0 734 website request served <br>2 734 user logged in <br>6 734 item added to cart <br>5 734 dhl chosen for shipping <br>6 734 paypal chosen for payment <br>3 734 order placed succesful <br>\",\"0 737 website request served <br>6 737 user logged in <br>5 737 item added to cart <br>4 737 dhl chosen for shipping <br>8 737 klarna chosen for payment <br>1 737 order placed succesful <br>\",\"0 738 website request served <br>4 738 user logged in <br>5 738 item added to cart <br>4 738 item added to cart <br>5 738 hermes chosen for shipping <br>5 738 klarna chosen for payment <br>6 738 order placed succesful <br>\",\"0 739 website request served <br>0 739 user logged in <br>4 739 item added to cart <br>7 739 dpd chosen for shipping <br>7 739 sofortueberweisung chosen for payment <br>0 739 order placed succesful <br>\",\"0 740 website request served <br>0 740 user logged in <br>6 740 item added to cart <br>5 740 dpd chosen for shipping <br>7 740 sofortueberweisung chosen for payment <br>5 740 order placed succesful <br>\",\"0 741 website request served <br>1 741 user logged in <br>4 741 item added to cart <br>7 741 dhl chosen for shipping <br>4 741 klarna chosen for payment <br>2 741 order placed succesful <br>\",\"0 742 website request served <br>5 742 user loged in <br>9 742 item added to cart <br>0 742 dpd chosen for shipping <br>8 742 chosen for payment <br>4 742 order place succesful <br>\",\"0 744 website request served <br>2 744 user logged in <br>9 744 item added to cart <br>5 744 dpd chosen for shipping <br>3 744 sofortueberweisung chosen for payment <br>3 744 order placed succesful <br>\",\"0 745 website request served <br>6 745 user logged in <br>4 745 item added to cart <br>5 745 dhl chosen for shipping <br>4 745 sofortueberweisung chosen for payment <br>7 745 order placed succesful <br>\",\"0 746 website request served <br>6 746 user loged in <br>2 746 item added cart <br>7 746 dhl chosen for shipping <br>3 746 klana chosen for payment <br>6 746 order place succesful <br>\",\"0 747 website request served <br>8 747 user logged in <br>5 747 item added to cart <br>5 747 item added to cart <br>2 747 dpd chosen for shipping <br>7 747 sofortueberweisung chosen for payment <br>1 747 order placed succesful <br>\",\"0 748 website request served <br>8 748 user loged in <br>2 748 item added cart <br>5 748 dhl chosen for shipping <br>6 748 sofortueberweisung chosen for payment <br>5 748 order place succesful <br>\",\"0 749 website request served <br>6 749 user logged in <br>2 749 item added to cart <br>9 749 item added to cart <br>5 749 dpd chosen for shipping <br>2 749 klarna chosen for payment <br>7 749 order placed succesful <br>\",\"0 750 website request served <br>6 750 user logged in <br>4 750 item added to cart <br>5 750 dpd chosen for shipping <br>5 750 klarna chosen for payment <br>5 750 order placed succesful <br>\",\"0 751 website request served <br>6 751 user loged in <br>6 751 item added cart <br>2 751 dhl chosen for shipping <br>5 751 sofortueberweisung chosen for payment <br>7 751 order place succesful <br>\",\"0 752 website request served <br>2 752 login not succesfull <br>8 752 user loged in <br>4 752 item added to cart <br>5 752 hermes chosen for shipping <br>5 752 klarna chosen for payment <br>2 752 order place succesful <br>\",\"0 753 website request served <br>3 753 user logged in <br>7 753 item added to cart <br>5 753 item added to cart <br>1 753 hermes chosen for shipping <br>6 753 paypal chosen for payment <br>8 753 order placed succesful <br>\",\"0 758 website request served <br>6 758 user loged in <br>6 758 item added to cart <br>0 758 item added to cart <br>6 758 hermes chosen for shipping <br>4 758 chosen for payment <br>6 758 order place succesful <br>\",\"0 759 website request served <br>5 759 user logged in <br>7 759 item added to cart <br>0 759 hermes chosen for shipping <br>7 759 paypal chosen for payment <br>5 759 order placed succesful <br>\",\"0 762 website request served <br>4 762 user logged in <br>6 762 item added to cart <br>5 762 dpd chosen for shipping <br>6 762 klarna chosen for payment <br>2 762 order placed succesful <br>\",\"0 763 website request served <br>7 763 user logged in <br>3 763 item added to cart <br>1 763 item added to cart <br>7 763 dpd chosen for shipping <br>4 763 klarna chosen for payment <br>8 763 order placed succesful <br>\",\"0 764 website request served <br>3 764 user logged in <br>3 764 item added to cart <br>7 764 dpd chosen for shipping <br>3 764 klarna chosen for payment <br>5 764 order placed succesful <br>\",\"0 765 website request served <br>8 765 user logged in <br>4 765 item added to cart <br>5 765 dpd chosen for shipping <br>3 765 sofortueberweisung chosen for payment <br>2 765 order placed succesful <br>\",\"0 767 website request served <br>6 767 user logged in <br>4 767 item added to cart <br>5 767 item added to cart <br>3 767 hermes chosen for shipping <br>7 767 klarna chosen for payment <br>2 767 order placed succesful <br>\",\"0 770 website request served <br>4 770 user logged in <br>4 770 item added to cart <br>6 770 hermes chosen for shipping <br>7 770 paypal chosen for payment <br>4 770 order placed succesful <br>\",\"0 771 website request served <br>8 771 user logged in <br>4 771 item added to cart <br>4 771 dpd chosen for shipping <br>2 771 klarna chosen for payment <br>6 771 order placed succesful <br>\",\"0 772 website request served <br>5 772 user logged in <br>5 772 item added to cart <br>0 772 dhl chosen for shipping <br>6 772 sofortueberweisung chosen for payment <br>3 772 order placed succesful <br>\",\"0 775 website request served <br>7 775 user loged in <br>0 775 item added to cart <br>6 775 item added to cart <br>8 775 dhl chosen fr shipping <br>2 775 klarna chosen for payment <br>4 775 order place succesful <br>\",\"0 776 website request served <br>6 776 user loged in <br>1 776 item added cart <br>7 776 dhl chosen for shipping <br>4 776 klana chosen for payment <br>2 776 order place succesful <br>\",\"0 777 website request served <br>2 777 user loged in <br>7 777 item added cart <br>1 777 item added cart <br>7 777 hermes chosen for shipping <br>2 777 paypal chosen for payment <br>4 777 order place succesful <br>\",\"0 778 website request served <br>3 778 user logged in <br>3 778 item added to cart <br>5 778 item added to cart <br>7 778 hermes chosen for shipping <br>2 778 klarna chosen for payment <br>4 778 order placed succesful <br>\",\"0 779 website request served <br>5 779 user loged in <br>3 779 item added cart <br>4 779 hermes chosen for shipping <br>8 779 klana chosen for payment <br>5 779 order place succesful <br>\",\"0 780 website request served <br>4 780 user loged in <br>3 780 item added to cart <br>9 780 hermes chosen for shipping <br>1 780 chosen for payment <br>4 780 order place succesful <br>\",\"0 781 website request served <br>3 781 user loged in <br>7 781 item added cart <br>2 781 item added cart <br>8 781 dpd chosen for shipping <br>3 781 paypal chosen for payment <br>4 781 order place succesful <br>\",\"0 782 website request served <br>3 782 user logged in <br>6 782 item added to cart <br>3 782 dpd chosen for shipping <br>4 782 klarna chosen for payment <br>6 782 order placed succesful <br>\",\"0 783 website request served <br>3 783 user logged in <br>7 783 item added to cart <br>6 783 dpd chosen for shipping <br>0 783 paypal chosen for payment <br>8 783 order placed succesful <br>\",\"0 784 website request served <br>7 784 user logged in <br>2 784 item added to cart <br>7 784 item added to cart <br>5 784 dpd chosen for shipping <br>3 784 klarna chosen for payment <br>7 784 order placed succesful <br>\",\"0 785 website request served <br>2 785 user loged in <br>5 785 item added cart <br>4 785 dpd chosen for shipping <br>5 785 paypal chosen for payment <br>4 785 order place succesful <br>\",\"0 787 website request served <br>7 787 user loged in <br>3 787 item added cart <br>5 787 dpd chosen for shipping <br>4 787 paypal chosen for payment <br>6 787 order place succesful <br>\",\"0 789 website request served <br>4 789 user logged in <br>3 789 item added to cart <br>9 789 dhl chosen for shipping <br>2 789 klarna chosen for payment <br>3 789 order placed succesful <br>\",\"0 790 website request served <br>5 790 user loged in <br>9 790 item added to cart <br>1 790 dpd chosen for shipping <br>7 790 klarna chosen for payment <br>2 790 order place succesful <br>\",\"0 791 website request served <br>7 791 user logged in <br>3 791 item added to cart <br>3 791 hermes chosen for shipping <br>9 791 klarna chosen for payment <br>4 791 order placed succesful <br>\",\"0 792 website request served <br>7 792 user logged in <br>5 792 item added to cart <br>6 792 dpd chosen for shipping <br>4 792 sofortueberweisung chosen for payment <br>2 792 order placed succesful <br>\",\"0 795 website request served <br>5 795 user logged in <br>2 795 item added to cart <br>6 795 hermes chosen for shipping <br>5 795 paypal chosen for payment <br>2 795 order placed succesful <br>\",\"0 796 website request served <br>2 796 login not succesfull <br>6 796 user logged in <br>7 796 item added to cart <br>3 796 dpd chosen for shipping <br>5 796 sofortueberweisung chosen for payment <br>7 796 order placed succesful <br>\",\"0 797 website request served <br>2 797 user logged in <br>5 797 item added to cart <br>4 797 dpd chosen for shipping <br>4 797 paypal chosen for payment <br>4 797 order placed succesful <br>\",\"0 798 website request served <br>5 798 login not succesfull <br>8 798 user loged in <br>1 798 item added cart <br>6 798 dpd chosen for shipping <br>4 798 sofortueberweisung chosen for payment <br>6 798 order place succesful <br>\",\"0 799 website request served <br>4 799 user logged in <br>1 799 item added to cart <br>7 799 dhl chosen for shipping <br>4 799 paypal chosen for payment <br>6 799 order placed succesful <br>\",\"0 800 website request served <br>3 800 user loged in <br>5 800 item added to cart <br>5 800 dhl chosen fr shipping <br>3 800 klarna chosen for payment <br>8 800 order place succesful <br>\",\"0 801 website request served <br>3 801 user logged in <br>8 801 item added to cart <br>4 801 hermes chosen for shipping <br>4 801 paypal chosen for payment <br>3 801 order placed succesful <br>\",\"0 802 website request served <br>4 802 user loged in <br>4 802 item added to cart <br>6 802 hermes chosen for shipping <br>2 802 klarna chosen for payment <br>6 802 order place succesful <br>\",\"0 805 website request served <br>2 805 user logged in <br>7 805 item added to cart <br>3 805 item added to cart <br>4 805 hermes chosen for shipping <br>7 805 paypal chosen for payment <br>5 805 order placed succesful <br>\",\"0 807 website request served <br>7 807 user logged in <br>6 807 item added to cart <br>4 807 dhl chosen for shipping <br>2 807 sofortueberweisung chosen for payment <br>9 807 order placed succesful <br>\",\"0 810 website request served <br>1 810 user logged in <br>4 810 item added to cart <br>6 810 hermes chosen for shipping <br>4 810 paypal chosen for payment <br>6 810 order placed succesful <br>\",\"0 812 website request served <br>4 812 login not succesfull <br>7 812 user logged in <br>2 812 item added to cart <br>5 812 hermes chosen for shipping <br>6 812 sofortueberweisung chosen for payment <br>5 812 order placed succesful <br>\",\"0 813 website request served <br>6 813 user logged in <br>2 813 item added to cart <br>3 813 dhl chosen for shipping <br>4 813 sofortueberweisung chosen for payment <br>7 813 order placed succesful <br>\",\"0 814 website request served <br>4 814 user logged in <br>7 814 item added to cart <br>6 814 dpd chosen for shipping <br>1 814 sofortueberweisung chosen for payment <br>6 814 order placed succesful <br>\",\"0 816 website request served <br>4 816 user logged in <br>4 816 item added to cart <br>8 816 hermes chosen for shipping <br>4 816 klarna chosen for payment <br>4 816 order placed succesful <br>\",\"0 817 website request served <br>3 817 user logged in <br>6 817 item added to cart <br>3 817 dpd chosen for shipping <br>3 817 paypal chosen for payment <br>8 817 order placed succesful <br>\",\"0 818 website request served <br>5 818 user logged in <br>5 818 item added to cart <br>5 818 item added to cart <br>2 818 hermes chosen for shipping <br>7 818 sofortueberweisung chosen for payment <br>3 818 order placed succesful <br>\",\"0 819 website request served <br>5 819 user logged in <br>2 819 item added to cart <br>8 819 item added to cart <br>4 819 dpd chosen for shipping <br>2 819 paypal chosen for payment <br>6 819 order placed succesful <br>\",\"0 820 website request served <br>1 820 user loged in <br>6 820 item added cart <br>5 820 dpd chosen for shipping <br>4 820 klana chosen for payment <br>8 820 order place succesful <br>\",\"0 821 website request served <br>5 821 user logged in <br>5 821 item added to cart <br>2 821 dpd chosen for shipping <br>7 821 klarna chosen for payment <br>3 821 order placed succesful <br>\",\"0 822 website request served <br>2 822 user logged in <br>8 822 item added to cart <br>0 822 dpd chosen for shipping <br>5 822 paypal chosen for payment <br>6 822 order placed succesful <br>\",\"0 824 website request served <br>4 824 user loged in <br>9 824 item added to cart <br>1 824 dhl chosen fr shipping <br>8 824 sofortueberweisung chosen for payment <br>3 824 order place succesful <br>\",\"0 825 website request served <br>3 825 login not succesfull <br>8 825 user logged in <br>4 825 item added to cart <br>5 825 hermes chosen for shipping <br>3 825 sofortueberweisung chosen for payment <br>3 825 order placed succesful <br>\",\"0 826 website request served <br>3 826 user logged in <br>6 826 item added to cart <br>4 826 item added to cart <br>4 826 dpd chosen for shipping <br>2 826 klarna chosen for payment <br>8 826 order placed succesful <br>\",\"0 827 website request served <br>4 827 user logged in <br>4 827 item added to cart <br>4 827 item added to cart <br>5 827 dhl chosen for shipping <br>7 827 sofortueberweisung chosen for payment <br>1 827 order placed succesful <br>\",\"0 828 website request served <br>6 828 user logged in <br>2 828 item added to cart <br>5 828 dhl chosen for shipping <br>7 828 paypal chosen for payment <br>4 828 order placed succesful <br>\",\"0 829 website request served <br>2 829 user logged in <br>9 829 item added to cart <br>3 829 hermes chosen for shipping <br>6 829 klarna chosen for payment <br>1 829 order placed succesful <br>\",\"0 830 website request served <br>3 830 user logged in <br>5 830 item added to cart <br>9 830 item added to cart <br>0 830 dpd chosen for shipping <br>6 830 klarna chosen for payment <br>5 830 order placed succesful <br>\",\"0 832 website request served <br>5 832 user logged in <br>8 832 item added to cart <br>4 832 dpd chosen for shipping <br>4 832 paypal chosen for payment <br>5 832 order placed succesful <br>\",\"0 833 website request served <br>4 833 user logged in <br>4 833 item added to cart <br>5 833 item added to cart <br>5 833 dpd chosen for shipping <br>4 833 klarna chosen for payment <br>5 833 order placed succesful <br>\",\"0 835 website request served <br>7 835 user logged in <br>1 835 item added to cart <br>6 835 dhl chosen for shipping <br>7 835 klarna chosen for payment <br>4 835 order placed succesful <br>\",\"0 837 website request served <br>5 837 user logged in <br>1 837 item added to cart <br>7 837 item added to cart <br>1 837 dhl chosen for shipping <br>5 837 paypal chosen for payment <br>4 837 order placed succesful <br>\",\"0 838 website request served <br>4 838 user logged in <br>2 838 item added to cart <br>4 838 item added to cart <br>4 838 dpd chosen for shipping <br>9 838 sofortueberweisung chosen for payment <br>0 838 order placed succesful <br>\",\"0 840 website request served <br>9 840 user loged in <br>2 840 item added cart <br>4 840 item added cart <br>5 840 dpd chosen for shipping <br>5 840 sofortueberweisung chosen for payment <br>7 840 order place succesful <br>\",\"0 842 website request served <br>6 842 user logged in <br>4 842 item added to cart <br>1 842 hermes chosen for shipping <br>7 842 sofortueberweisung chosen for payment <br>3 842 order placed succesful <br>\",\"0 843 website request served <br>4 843 user loged in <br>7 843 item added to cart <br>6 843 dpd chosen for shipping <br>3 843 sofortueberweisung chosen for payment <br>3 843 order place succesful <br>\",\"0 844 website request served <br>2 844 user logged in <br>6 844 item added to cart <br>2 844 item added to cart <br>8 844 hermes chosen for shipping <br>4 844 paypal chosen for payment <br>4 844 order placed succesful <br>\",\"0 846 website request served <br>4 846 user logged in <br>3 846 item added to cart <br>4 846 item added to cart <br>3 846 dhl chosen for shipping <br>7 846 paypal chosen for payment <br>4 846 order placed succesful <br>\",\"0 847 website request served <br>4 847 user logged in <br>2 847 item added to cart <br>9 847 hermes chosen for shipping <br>1 847 klarna chosen for payment <br>8 847 order placed succesful <br>\",\"0 848 website request served <br>5 848 user logged in <br>6 848 item added to cart <br>5 848 item added to cart <br>1 848 dhl chosen for shipping <br>7 848 paypal chosen for payment <br>6 848 order placed succesful <br>\",\"0 849 website request served <br>6 849 login not succesfull <br>5 849 user logged in <br>4 849 item added to cart <br>6 849 dhl chosen for shipping <br>5 849 sofortueberweisung chosen for payment <br>3 849 order placed succesful <br>\",\"0 850 website request served <br>2 850 user logged in <br>6 850 item added to cart <br>3 850 item added to cart <br>7 850 dhl chosen for shipping <br>4 850 klarna chosen for payment <br>6 850 order placed succesful <br>\",\"0 853 website request served <br>6 853 user loged in <br>3 853 item added to cart <br>5 853 hermes chosen for shipping <br>7 853 chosen for payment <br>1 853 order place succesful <br>\",\"0 854 website request served <br>1 854 user logged in <br>5 854 item added to cart <br>8 854 item added to cart <br>4 854 hermes chosen for shipping <br>1 854 paypal chosen for payment <br>8 854 order placed succesful <br>\",\"0 855 website request served <br>3 855 user loged in <br>5 855 item added cart <br>6 855 item added cart <br>4 855 dpd chosen for shipping <br>6 855 sofortueberweisung chosen for payment <br>2 855 order place succesful <br>\",\"0 856 website request served <br>2 856 user loged in <br>7 856 item added to cart <br>6 856 hermes chosen for shipping <br>1 856 sofortueberweisung chosen for payment <br>9 856 order place succesful <br>\",\"0 857 website request served <br>6 857 user logged in <br>5 857 item added to cart <br>6 857 hermes chosen for shipping <br>3 857 klarna chosen for payment <br>5 857 order placed succesful <br>\",\"0 858 website request served <br>7 858 user logged in <br>3 858 item added to cart <br>9 858 dhl chosen for shipping <br>4 858 klarna chosen for payment <br>2 858 order placed succesful <br>\",\"0 859 website request served <br>5 859 user logged in <br>2 859 item added to cart <br>5 859 dpd chosen for shipping <br>3 859 sofortueberweisung chosen for payment <br>5 859 order placed succesful <br>\",\"0 860 website request served <br>3 860 user logged in <br>4 860 item added to cart <br>7 860 item added to cart <br>4 860 dpd chosen for shipping <br>0 860 klarna chosen for payment <br>5 860 order placed succesful <br>\",\"0 864 website request served <br>1 864 user loged in <br>8 864 item added cart <br>0 864 hermes chosen for shipping <br>6 864 paypal chosen for payment <br>7 864 order place succesful <br>\",\"0 867 website request served <br>6 867 user logged in <br>2 867 item added to cart <br>5 867 item added to cart <br>3 867 hermes chosen for shipping <br>7 867 klarna chosen for payment <br>3 867 order placed succesful <br>\",\"0 868 website request served <br>5 868 user loged in <br>7 868 item added cart <br>5 868 item added cart <br>2 868 item added cart <br>4 868 dpd chosen for shipping <br>3 868 sofortueberweisung chosen for payment <br>7 868 order place succesful <br>\",\"0 869 website request served <br>4 869 user logged in <br>4 869 item added to cart <br>6 869 item added to cart <br>3 869 hermes chosen for shipping <br>8 869 sofortueberweisung chosen for payment <br>2 869 order placed succesful <br>\",\"0 870 website request served <br>0 870 user logged in <br>5 870 item added to cart <br>4 870 dhl chosen for shipping <br>9 870 paypal chosen for payment <br>1 870 order placed succesful <br>\",\"0 872 website request served <br>4 872 user logged in <br>6 872 item added to cart <br>4 872 item added to cart <br>4 872 dhl chosen for shipping <br>4 872 sofortueberweisung chosen for payment <br>6 872 order placed succesful <br>\",\"0 875 website request served <br>4 875 user logged in <br>5 875 item added to cart <br>2 875 item added to cart <br>8 875 hermes chosen for shipping <br>5 875 klarna chosen for payment <br>2 875 order placed succesful <br>\",\"0 876 website request served <br>1 876 user logged in <br>9 876 item added to cart <br>1 876 item added to cart <br>8 876 hermes chosen for shipping <br>2 876 klarna chosen for payment <br>6 876 order placed succesful <br>\",\"0 877 website request served <br>7 877 user logged in <br>0 877 item added to cart <br>6 877 item added to cart <br>3 877 hermes chosen for shipping <br>8 877 sofortueberweisung chosen for payment <br>3 877 order placed succesful <br>\",\"0 878 website request served <br>7 878 user loged in <br>6 878 item added cart <br>6 878 dpd chosen for shipping <br>1 878 klana chosen for payment <br>8 878 order place succesful <br>\",\"0 880 website request served <br>2 880 user logged in <br>4 880 item added to cart <br>7 880 hermes chosen for shipping <br>7 880 paypal chosen for payment <br>2 880 order placed succesful <br>\",\"0 883 website request served <br>9 883 user logged in <br>2 883 item added to cart <br>3 883 hermes chosen for shipping <br>8 883 sofortueberweisung chosen for payment <br>1 883 order placed succesful <br>\",\"0 886 website request served <br>8 886 user logged in <br>5 886 item added to cart <br>1 886 hermes chosen for shipping <br>7 886 paypal chosen for payment <br>5 886 order placed succesful <br>\",\"0 887 website request served <br>2 887 user logged in <br>3 887 item added to cart <br>4 887 dhl chosen for shipping <br>7 887 paypal chosen for payment <br>3 887 order placed succesful <br>\",\"0 888 website request served <br>9 888 user logged in <br>1 888 item added to cart <br>7 888 dpd chosen for shipping <br>1 888 klarna chosen for payment <br>8 888 order placed succesful <br>\",\"0 890 website request served <br>5 890 user loged in <br>2 890 item added cart <br>7 890 item added cart <br>6 890 item added cart <br>1 890 dhl chosen for shipping <br>4 890 sofortueberweisung chosen for payment <br>5 890 order place succesful <br>\",\"0 892 website request served <br>3 892 user logged in <br>5 892 item added to cart <br>3 892 dpd chosen for shipping <br>5 892 klarna chosen for payment <br>8 892 order placed succesful <br>\",\"0 893 website request served <br>4 893 user logged in <br>2 893 item added to cart <br>7 893 hermes chosen for shipping <br>3 893 sofortueberweisung chosen for payment <br>8 893 order placed succesful <br>\",\"0 894 website request served <br>4 894 user logged in <br>5 894 item added to cart <br>9 894 dhl chosen for shipping <br>0 894 sofortueberweisung chosen for payment <br>9 894 order placed succesful <br>\",\"0 896 website request served <br>6 896 user logged in <br>3 896 item added to cart <br>4 896 item added to cart <br>3 896 dpd chosen for shipping <br>6 896 klarna chosen for payment <br>2 896 order placed succesful <br>\",\"0 897 website request served <br>2 897 user loged in <br>6 897 item added to cart <br>4 897 item added to cart <br>6 897 dhl chosen fr shipping <br>2 897 chosen for payment <br>6 897 order place succesful <br>\",\"0 898 website request served <br>3 898 login not succesfull <br>5 898 user logged in <br>5 898 item added to cart <br>1 898 dhl chosen for shipping <br>8 898 paypal chosen for payment <br>5 898 order placed succesful <br>\",\"0 900 website request served <br>7 900 user loged in <br>4 900 item added cart <br>5 900 hermes chosen for shipping <br>2 900 paypal chosen for payment <br>8 900 order place succesful <br>\",\"0 901 website request served <br>4 901 user logged in <br>6 901 item added to cart <br>1 901 dhl chosen for shipping <br>6 901 klarna chosen for payment <br>5 901 order placed succesful <br>\",\"0 903 website request served <br>7 903 user logged in <br>3 903 item added to cart <br>5 903 item added to cart <br>7 903 dhl chosen for shipping <br>5 903 klarna chosen for payment <br>0 903 order placed succesful <br>\",\"0 905 website request served <br>5 905 login not succesfull <br>3 905 user logged in <br>6 905 item added to cart <br>4 905 dhl chosen for shipping <br>3 905 sofortueberweisung chosen for payment <br>4 905 order placed succesful <br>\",\"0 906 website request served <br>3 906 user logged in <br>8 906 item added to cart <br>1 906 dhl chosen for shipping <br>9 906 paypal chosen for payment <br>5 906 order placed succesful <br>\"],\"x\":[-2.0807583332061768,-12.27541732788086,-1.9563795328140259,-10.460615158081055,-10.101180076599121,-13.329347610473633,-10.728891372680664,-2.106559991836548,-10.431676864624023,-5.63132905960083,-1.695702075958252,-2.273444890975952,-10.084949493408203,-2.744717597961426,-2.223419666290283,-2.7505810260772705,-2.4296822547912598,-10.628305435180664,-10.017036437988281,1.6074497699737549,-2.2676148414611816,-13.07142448425293,-9.964280128479004,-2.0817222595214844,-10.406258583068848,-10.409061431884766,-2.5223870277404785,-2.024139165878296,-10.81787109375,-2.4705922603607178,-1.8344529867172241,-11.123141288757324,-9.94346809387207,-2.3444325923919678,-10.846959114074707,-2.478907823562622,-2.3458328247070312,-10.510761260986328,-10.216904640197754,-2.885105848312378,-4.944157123565674,-2.0264551639556885,-1.5050865411758423,-1.907065510749817,-1.8913958072662354,-9.900300025939941,-1.2944751977920532,-10.209609985351562,-10.701981544494629,-10.390360832214355,-2.017141580581665,-1.9305436611175537,-2.100611925125122,-1.2503448724746704,-10.387432098388672,-11.902739524841309,-10.381308555603027,-2.234079360961914,-9.728567123413086,-2.1896941661834717,-10.37488842010498,-2.1796820163726807,-10.34863567352295,-11.829894065856934,-9.977984428405762,-10.277273178100586,-1.969355583190918,-1.7495917081832886,-10.315564155578613,-10.179605484008789,-10.362222671508789,-9.804525375366211,-1.569828987121582,2.0542519092559814,-12.056605339050293,-10.33262825012207,-9.85519790649414,-10.369242668151855,-10.118465423583984,-10.770037651062012,-2.4869933128356934,-1.4276578426361084,-9.232048034667969,-10.057087898254395,-10.493496894836426,-11.396815299987793,-1.8873704671859741,-9.719132423400879,-11.153907775878906,-9.790875434875488,-10.73342514038086,-2.182410955429077,-10.317212104797363,-10.18960952758789,-10.18496036529541,-12.069342613220215,-10.264670372009277,-10.260136604309082,-2.372445583343506,1.7746615409851074,-9.925992965698242,-2.0802855491638184,-10.319601058959961,-1.6410784721374512,-10.01929759979248,-1.2701431512832642,-1.7738534212112427,-4.406277179718018,-12.641365051269531,-12.902220726013184,-10.795110702514648,-10.006936073303223,-1.6477001905441284,-1.3668066263198853,-2.0008544921875,-12.395127296447754,-10.043079376220703,-1.7882111072540283,-1.9657742977142334,-1.8496336936950684,-1.2721177339553833,-10.039996147155762,1.6196730136871338,-1.9103820323944092,-1.774735689163208,-10.393915176391602,-2.454676866531372,-10.123326301574707,-1.244839072227478,-10.685750961303711,-11.142502784729004,-10.857596397399902,-4.669267654418945,-12.564095497131348,-9.610977172851562,-10.108031272888184,-11.704781532287598,-9.997001647949219,-0.8870052099227905,-9.417686462402344,-10.054680824279785,-2.36838698387146,-1.5348944664001465,-10.460187911987305,-1.4456387758255005,-1.890536904335022,-1.156225323677063,-10.366122245788574,-10.385488510131836,-10.448243141174316,-9.90687084197998,-9.718246459960938,-1.7184334993362427,-9.925010681152344,-11.762290000915527,-12.96158218383789,-10.418475151062012,-1.235208511352539,-11.786797523498535,-9.478995323181152,-1.1315730810165405,-1.6964261531829834,-1.7062363624572754,-2.10616397857666,-9.764519691467285,-9.861578941345215,-9.567270278930664,-9.976635932922363,-10.037725448608398,-1.332629919052124,-10.285555839538574,-9.494978904724121,-9.82276725769043,-11.692909240722656,-10.29142951965332,-9.674844741821289,-13.22736930847168,-1.7158210277557373,-11.476713180541992,-1.897294282913208,-9.706950187683105,-11.264571189880371,-2.4233992099761963,-2.473315954208374,-3.724362373352051,-10.940691947937012,-10.649808883666992,-2.4764463901519775,-10.69688606262207,-10.802196502685547,-2.056244373321533,-10.593600273132324,-10.381473541259766,-10.099231719970703,-3.611018657684326,-13.0983247756958,-5.912765026092529,-2.01657772064209,-12.881295204162598,-12.997596740722656,-5.798079013824463,-10.466659545898438,-10.395968437194824,-2.208911657333374,-12.190189361572266,-12.31690502166748,-10.860036849975586,-11.389662742614746,-10.666483879089355,-10.15124797821045,-10.003958702087402,-1.9834996461868286,-10.186250686645508,-4.445002555847168,-10.663660049438477,-11.080140113830566,-10.553393363952637,-10.860797882080078,-2.243926525115967,-10.674165725708008,-10.682256698608398,-1.62351655960083,-9.821003913879395,-10.753522872924805,-10.557165145874023,-10.527181625366211,-1.6477100849151611,-1.5403087139129639,-12.789941787719727,-10.325393676757812,-10.548269271850586,-11.880226135253906,-2.205223321914673,-1.8231213092803955,-2.009129047393799,-10.313543319702148,-10.772821426391602,-2.2941131591796875,-10.445853233337402,-1.6381809711456299,-10.477733612060547,-2.3349244594573975,-2.080195903778076,-5.746623516082764,-10.127860069274902,-10.653963088989258,-1.940982460975647,-1.3819094896316528,-10.943474769592285,-2.591155529022217,-1.6512367725372314,-1.761318325996399,-12.172159194946289,-2.896590232849121,-4.782548904418945,-10.759230613708496,-10.208362579345703,-10.688467025756836,-9.908321380615234,-1.8793809413909912,-12.65340518951416,-1.8324542045593262,1.966363787651062,-1.5837132930755615,-10.920439720153809,-1.9358023405075073,-1.7666949033737183,-2.546154737472534,-2.401268720626831,-12.8004732131958,-10.71298599243164,-10.616313934326172,-10.717881202697754,-10.12154769897461,-11.500568389892578,1.7451539039611816,-10.354148864746094,-10.7457914352417,-10.722586631774902,-1.6509758234024048,-4.452855587005615,-2.37357759475708,-12.76837158203125,-10.226053237915039,-1.5824065208435059,-2.1129932403564453,-10.92898941040039],\"y\":[-0.09787136316299438,0.0029448808636516333,-0.08646121621131897,-0.05573546513915062,0.02015896886587143,-0.0448533333837986,-0.0050428020767867565,-0.10928072780370712,-0.016182884573936462,-0.08431179076433182,-0.10853513330221176,0.3042964041233063,-0.02239084057509899,-0.15404650568962097,-0.11488974094390869,-0.10433606058359146,0.2971276044845581,-0.006181665230542421,0.000752453925088048,-0.10632360726594925,-0.08462084829807281,0.003472115145996213,-0.0019327186746522784,0.2839963138103485,-0.016330119222402573,0.0048873876221477985,-0.08948967605829239,-0.07210253179073334,-0.01633147895336151,0.2725684642791748,-0.07956970483064651,-0.017895184457302094,0.004069142509251833,0.27138397097587585,-0.006750176660716534,0.265835165977478,0.2906774580478668,-0.007375781424343586,-0.01734773814678192,-0.15354634821414948,-0.03632813319563866,-0.07425177097320557,0.299422949552536,0.2565978169441223,-0.08829844743013382,-0.01647980324923992,0.33613112568855286,-0.019994089379906654,0.000839340325910598,-0.0110904136672616,-0.12022694945335388,-0.09334948658943176,0.3114510178565979,0.2969719469547272,0.0075653837993741035,-0.081210196018219,-0.002712339162826538,0.22508518397808075,-0.009804345667362213,-0.07987159490585327,-0.007122014183551073,-0.0986395999789238,-0.016192736104130745,0.004640067461878061,0.014205782674252987,-0.0030495007522404194,-0.07683731615543365,-0.04365548864006996,-0.019083242863416672,-0.0030320046935230494,0.013510078191757202,0.03196556866168976,-0.05496375262737274,-0.08057473599910736,-0.022868657484650612,-0.02300557866692543,-0.013144535012543201,-0.013366788625717163,0.006600444670766592,-0.010033220052719116,-0.0897730141878128,-0.04150645434856415,0.03726920858025551,0.04460229352116585,-0.03984696790575981,0.036004967987537384,-0.06541603058576584,0.02759609743952751,-0.020083792507648468,-0.006938076578080654,-0.04307578131556511,-0.0964675322175026,0.00989037286490202,-0.011173767037689686,-0.013955765403807163,0.013724815100431442,-0.006074006203562021,-0.016528848558664322,0.3089340627193451,-0.09550606459379196,0.007333783898502588,-0.10997507721185684,0.0012689302675426006,-0.08602356910705566,0.013212884776294231,-0.0749753937125206,-0.06735757738351822,0.2881847620010376,-0.07787482440471649,-0.026551922783255577,-0.00474155880510807,0.020148318260908127,-0.05508247762918472,-0.05588093400001526,-0.07031247764825821,-0.008769296109676361,0.012335485778748989,0.2814277112483978,-0.10688570886850357,-0.10035444796085358,0.29045745730400085,0.023339910432696342,-0.08220463991165161,0.27179718017578125,-0.0913858488202095,-0.018231922760605812,-0.1039150208234787,0.0165106151252985,-0.05780614912509918,-0.019582383334636688,-0.025587057694792747,-0.02480289526283741,-0.18791109323501587,-0.13945923745632172,0.015952061861753464,-0.004849341232329607,0.019294312223792076,-0.00790902879089117,-0.02542167529463768,0.013907545246183872,-0.013886063359677792,-0.059528280049562454,0.28315699100494385,0.008941669017076492,-0.048236578702926636,-0.06735751032829285,-0.04351329058408737,-0.010803398676216602,-0.010339739732444286,-0.0032750372774899006,0.017562981694936752,-0.00488225556910038,-0.06867437809705734,0.009943119250237942,0.017949271947145462,-0.018633773550391197,-0.003390420228242874,-0.045554548501968384,0.016814613714814186,-0.002976677380502224,-0.06671199947595596,-0.061319559812545776,-0.037468425929546356,-0.10999270528554916,-0.006788581144064665,0.0030296097975224257,0.017690733075141907,0.00604590680450201,0.011636301875114441,-0.07067714631557465,-0.007017435505986214,0.020943662151694298,0.015623519197106361,-0.05984237417578697,-0.03297470137476921,-0.011010208167135715,-0.03496184200048447,-0.0387093648314476,0.033780090510845184,-0.08720311522483826,0.025293534621596336,0.04361797869205475,0.27223414182662964,-0.10414236038923264,-0.12880466878414154,-0.0009287602151744068,-0.023273369297385216,-0.08081912249326706,-0.03119068779051304,-0.015916135162115097,-0.07699275016784668,-0.04173526167869568,-0.03448999300599098,0.022338302806019783,-0.17623190581798553,-0.05307880416512489,-0.061968620866537094,-0.087461456656456,0.014223963022232056,-0.12266518920660019,-0.05222479999065399,-0.03877071291208267,0.011019572615623474,-0.09520235657691956,0.031249292194843292,0.0054194992408156395,-0.05614585801959038,-0.025864148512482643,-0.04157724231481552,0.0018840357661247253,0.0031322769355028868,0.2789994776248932,-0.020679038017988205,0.2775428891181946,0.0036259968765079975,-0.01987277902662754,-0.003773028263822198,-0.0372345857322216,-0.07114098966121674,0.0007198368548415601,-0.011616517789661884,0.29132816195487976,-0.01114161778241396,-0.031312499195337296,-0.044142745435237885,-0.030851513147354126,-0.04131242632865906,-0.04851255565881729,-0.037552643567323685,-0.01593570038676262,-0.004089938942342997,-0.11756835132837296,0.2987750172615051,-0.10540484637022018,-0.08509460836648941,0.022685306146740913,-0.02485295943915844,-0.11005926877260208,-0.01693449728190899,-0.04677296057343483,-0.01692895218729973,-0.07796641439199448,-0.09676589071750641,-0.05568129941821098,-0.012924511916935444,-0.03789708390831947,-0.07579723745584488,-0.08913722634315491,-0.00914246030151844,-0.08117605745792389,0.3100999891757965,-0.06007281318306923,-0.08911548554897308,-0.0722130760550499,-0.033412158489227295,-0.021881835535168648,-0.0029625440947711468,-0.02662299945950508,-0.01704316772520542,-0.10383924841880798,0.0025173535104840994,-0.07824728637933731,-0.08771313726902008,-0.10976094007492065,-0.031211216002702713,-0.09737827628850937,-0.08933892101049423,-0.10694792121648788,-0.0901738703250885,-0.00358066544868052,-0.014935408718883991,-0.029302621260285378,-0.0016745999455451965,0.004615601152181625,-0.018825307488441467,-0.09281641244888306,-0.01933133229613304,-0.020272646099328995,-0.005841303616762161,-0.09659841656684875,-0.21572135388851166,0.30304154753685,0.007023125421255827,-0.0073936330154538155,-0.039387281984090805,0.28360894322395325,-0.016931109130382538],\"z\":[0.07087544351816177,0.03515154495835304,0.013686733320355415,-0.019488375633955002,-0.02241293527185917,0.03408855199813843,-0.04376466944813728,-0.043171461671590805,0.0069889407604932785,0.035724565386772156,0.004555491730570793,-0.010142561048269272,0.007594742346554995,0.09439779072999954,-0.04894357547163963,0.05470146983861923,0.021119561046361923,-0.054781828075647354,-0.02282155491411686,0.03828590363264084,-0.031410135328769684,0.12099543958902359,-0.015196004882454872,0.00036632560659199953,-0.0038546056021004915,-0.03218894824385643,0.03572140634059906,-0.02964179404079914,-0.028737304732203484,0.021272597834467888,-0.03552348166704178,-0.04305984079837799,-0.0254155732691288,0.022921698167920113,-0.0011334122391417623,-0.06976083666086197,-0.03020339645445347,-0.021411968395113945,-0.00298945140093565,0.09411852806806564,0.028024453669786453,-0.06088996306061745,-0.04865765944123268,-0.028453197330236435,-0.007093307562172413,-0.02173190750181675,-0.04209327697753906,-0.06698302179574966,-0.03453224524855614,0.010307466611266136,-0.030270542949438095,-0.03673218935728073,-0.03160577267408371,-0.019997483119368553,-0.061898887157440186,0.12591108679771423,-0.07499641180038452,-0.02378036640584469,-0.015625184401869774,0.011932091787457466,-0.036392636597156525,0.02392943948507309,-0.016435060650110245,0.062273912131786346,-0.03624916449189186,-0.05532599985599518,-0.05138269439339638,0.0422925241291523,-0.013283316045999527,-0.022683730348944664,-0.03410692140460014,-0.09814903885126114,0.036948975175619125,0.015806397423148155,0.021377721801400185,-0.026874560862779617,-0.004067575559020042,0.049810849130153656,-0.05310583487153053,0.022662485018372536,-0.06743482500314713,-0.0672924667596817,-0.027958374470472336,0.042267970740795135,0.032593633979558945,-0.04462403059005737,-0.025813311338424683,-0.07164203375577927,-0.0026488585863262415,-0.03886323794722557,0.018216507509350777,0.020148230716586113,0.04146168753504753,0.003322148695588112,-0.010294938459992409,-0.007095260079950094,-0.04707523435354233,-0.00858142040669918,0.07788517326116562,0.05075255408883095,-0.05688926950097084,-0.002840546891093254,-0.004642934072762728,-0.04776366800069809,-0.002677727723494172,-0.01473307702690363,-0.05257638916373253,0.11725868284702301,0.05346190556883812,0.07709510624408722,-0.007022058591246605,-0.075662761926651,-0.044633347541093826,-0.01759013719856739,-0.01876075193285942,0.1494792401790619,0.05412120372056961,-0.021043596789240837,-0.01973404735326767,-0.02643347531557083,-0.00457265367731452,-0.0476025715470314,0.17410816252231598,-0.07682233303785324,0.02246740087866783,-0.005871803965419531,0.057227723300457,0.0019905283115804195,-0.00565246120095253,-0.05700488016009331,0.12253904342651367,-0.05972893908619881,0.2258090078830719,0.08141639083623886,-0.0676511600613594,-0.02151084505021572,0.12296627461910248,-0.05527091398835182,-0.10144571214914322,-0.03654003515839577,0.01736173965036869,0.03151492029428482,-0.0109311044216156,-0.033383388072252274,-0.0032330460380762815,0.029001737013459206,-0.028388360515236855,-0.02275584265589714,-0.011885604821145535,-0.034828007221221924,-0.02626117132604122,-0.01255009789019823,0.028035392984747887,-0.055746279656887054,0.022857651114463806,0.06111784279346466,0.015148011036217213,-0.041649673134088516,0.026284508407115936,-0.028390849009156227,-0.050617799162864685,0.012067102827131748,-0.040721435099840164,-0.02951354719698429,-0.032302506268024445,-0.0525486022233963,-0.029428593814373016,-0.04661132022738457,0.0016744646709412336,-0.04933866858482361,0.08245156705379486,0.008137347176671028,0.012691534124314785,0.1304796189069748,-0.03289390727877617,-0.03081468865275383,0.08871316909790039,-0.01763928309082985,0.04038042947649956,-0.010376942344009876,-0.07417237758636475,0.015449435450136662,0.036824584007263184,-0.049078140407800674,0.12704816460609436,-0.024512361735105515,-0.027679476886987686,0.005474704317748547,-0.06313502788543701,-0.01393540482968092,-0.006231134757399559,0.004699144046753645,0.013089187443256378,-0.01621129736304283,0.17683137953281403,0.08967717736959457,0.057514432817697525,-0.038537610322237015,0.010476147755980492,0.07351291179656982,0.04153318703174591,-0.03916570544242859,0.0037874775007367134,-0.027861129492521286,-0.001187013927847147,-0.010839199647307396,0.00021055359684396535,0.04095505550503731,-0.041511695832014084,-0.0009079411975108087,-0.016146069392561913,-0.0011854652548208833,-0.01569516398012638,0.045169323682785034,0.013853343203663826,0.03143282234668732,-0.021978141739964485,0.0652737021446228,-0.02123085968196392,0.01991543360054493,-0.0137474425137043,-0.01698436215519905,-0.023109210655093193,0.002204879419878125,-0.00036103662569075823,-0.04204469919204712,-0.051679156720638275,-0.012424688786268234,0.03966017812490463,-0.027002640068531036,0.03345554322004318,0.06733277440071106,-0.06736104190349579,0.013578541576862335,-0.006422285921871662,0.007727311458438635,0.023159930482506752,0.027326367795467377,-0.03684690222144127,-0.00760250398889184,-0.0031306676100939512,-0.008678574115037918,0.03191521018743515,0.02899104729294777,-0.02304711751639843,-0.02516808733344078,0.018376711755990982,-0.03227680176496506,0.013734194450080395,-0.024975575506687164,-0.06034700572490692,0.027468277141451836,0.05093073472380638,-0.001099006156437099,0.06960350275039673,0.051834460347890854,-0.05936405435204506,0.01223960891366005,-0.06923889368772507,0.04941464588046074,0.08710923045873642,-0.04913586378097534,0.005041270516812801,0.0017260171007364988,0.04250812157988548,-0.003595242276787758,-0.03161272779107094,0.0032676542177796364,0.030511610209941864,0.07392434775829315,0.015084865503013134,0.007276354823261499,-0.026530209928750992,-0.007408566772937775,0.02049168571829796,0.06077510863542557,-0.058449991047382355,0.006403603125363588,0.04281213879585266,-0.03801266849040985,0.13270454108715057,-0.0424114428460598,0.054217442870140076,-0.05023505911231041,0.006037552375346422,-0.08245689421892166,-0.027480030432343483],\"type\":\"scatter3d\"},{\"marker\":{\"color\":\"rgba(255, 128, 2, 0.8)\"},\"mode\":\"markers\",\"name\":\"Cluster 1\",\"text\":[\"0 510 website request served <br>8 510 user logged in <br>2 510 item added to cart <br>6 510 item added to cart <br>4 510 item added to cart <br>6 510 item added to cart <br>6 510 item added to cart <br>6 510 item added to cart <br>2 510 item added to cart <br>6 510 item added to cart <br>5 510 hermes chosen for shipping <br>5 510 klarna chosen for payment <br>1 510 order placed succesful <br>\",\"0 526 website request served <br>5 526 login not succesfull <br>0 526 login not succesfull <br>4 526 login not succesfull <br>8 526 login not succesfull <br>2 526 login not succesfull <br>8 526 user logged in <br>3 526 item added to cart <br>4 526 item added to cart <br>4 526 item added to cart <br>3 526 item added to cart <br>7 526 item added to cart <br>3 526 dpd chosen for shipping <br>7 526 klarna chosen for payment <br>4 526 order placed succesful <br>\",\"0 542 website request served <br>4 542 user logged in <br>4 542 item added to cart <br>6 542 item added to cart <br>4 542 item added to cart <br>3 542 item added to cart <br>5 542 item added to cart <br>5 542 item added to cart <br>7 542 item added to cart <br>1 542 hermes chosen for shipping <br>3 542 sofortueberweisung chosen for payment <br>6 542 order placed succesful <br>\",\"0 578 website request served <br>8 578 user logged in <br>1 578 item added to cart <br>9 578 item added to cart <br>4 578 item added to cart <br>5 578 item added to cart <br>3 578 item added to cart <br>3 578 item added to cart <br>4 578 item added to cart <br>4 578 dpd chosen for shipping <br>7 578 sofortueberweisung chosen for payment <br>2 578 order placed succesful <br>\",\"0 619 website request served <br>1 619 login not succesfull <br>5 619 login not succesfull <br>4 619 login not succesfull <br>4 619 user logged in <br>9 619 item added to cart <br>1 619 item added to cart <br>3 619 item added to cart <br>7 619 item added to cart <br>3 619 item added to cart <br>7 619 item added to cart <br>2 619 item added to cart <br>4 619 hermes chosen for shipping <br>5 619 sofortueberweisung chosen for payment <br>5 619 order placed succesful <br>\",\"0 640 website request served <br>4 640 login not succesfull <br>2 640 login not succesfull <br>7 640 user logged in <br>4 640 item added to cart <br>5 640 item added to cart <br>6 640 item added to cart <br>5 640 item added to cart <br>6 640 item added to cart <br>0 640 item added to cart <br>7 640 item added to cart <br>4 640 hermes chosen for shipping <br>7 640 klarna chosen for payment <br>1 640 order placed succesful <br>\",\"0 657 website request served <br>6 657 user loged in <br>3 657 item added to cart <br>6 657 item added to cart <br>6 657 item added to cart <br>1 657 item added to cart <br>9 657 item added to cart <br>3 657 item added to cart <br>5 657 item added to cart <br>7 657 item added to cart <br>4 657 item added to cart <br>3 657 item added to cart <br>3 657 item added to cart <br>6 657 item added to cart <br>6 657 hermes chosen for shipping <br>1 657 sofortueberweisung chosen for payment <br>7 657 order place succesful <br>\",\"0 671 website request served <br>4 671 login not succesfull <br>4 671 user loged in <br>4 671 item added to cart <br>6 671 item added to cart <br>5 671 item added to cart <br>4 671 item added to cart <br>3 671 item added to cart <br>4 671 item added to cart <br>3 671 item added to cart <br>6 671 item added to cart <br>5 671 hermes chosen for shipping <br>3 671 sofortueberweisung chosen for payment <br>7 671 order place succesful <br>\",\"0 736 website request served <br>7 736 login not succesfull <br>6 736 login not succesfull <br>4 736 user logged in <br>4 736 item added to cart <br>6 736 item added to cart <br>6 736 item added to cart <br>0 736 item added to cart <br>7 736 item added to cart <br>3 736 item added to cart <br>7 736 item added to cart <br>4 736 hermes chosen for shipping <br>3 736 paypal chosen for payment <br>4 736 order placed succesful <br>\",\"0 760 website request served <br>5 760 login not succesfull <br>5 760 user logged in <br>1 760 item added to cart <br>8 760 item added to cart <br>5 760 item added to cart <br>3 760 item added to cart <br>5 760 item added to cart <br>3 760 item added to cart <br>5 760 item added to cart <br>4 760 dpd chosen for shipping <br>4 760 paypal chosen for payment <br>7 760 order placed succesful <br>\",\"0 768 website request served <br>8 768 login not succesfull <br>3 768 login not succesfull <br>7 768 login not succesfull <br>4 768 login not succesfull <br>2 768 login not succesfull <br>7 768 user loged in <br>1 768 item added to cart <br>7 768 item added to cart <br>6 768 item added to cart <br>3 768 dhl chosen fr shipping <br>6 768 klarna chosen for payment <br>1 768 order place succesful <br>\",\"0 774 website request served <br>0 774 user logged in <br>8 774 item added to cart <br>2 774 item added to cart <br>7 774 item added to cart <br>6 774 item added to cart <br>2 774 item added to cart <br>6 774 item added to cart <br>5 774 item added to cart <br>1 774 dpd chosen for shipping <br>7 774 klarna chosen for payment <br>5 774 order placed succesful <br>\",\"0 836 website request served <br>3 836 user logged in <br>6 836 item added to cart <br>4 836 item added to cart <br>6 836 item added to cart <br>1 836 item added to cart <br>6 836 item added to cart <br>2 836 item added to cart <br>7 836 item added to cart <br>2 836 item added to cart <br>7 836 item added to cart <br>3 836 item added to cart <br>3 836 item added to cart <br>5 836 dpd chosen for shipping <br>7 836 paypal chosen for payment <br>5 836 order placed succesful <br>\",\"0 874 website request served <br>9 874 login not succesfull <br>1 874 login not succesfull <br>6 874 user logged in <br>4 874 item added to cart <br>2 874 item added to cart <br>5 874 item added to cart <br>6 874 item added to cart <br>7 874 item added to cart <br>1 874 item added to cart <br>6 874 dpd chosen for shipping <br>7 874 paypal chosen for payment <br>4 874 order placed succesful <br>\"],\"x\":[49.34138488769531,66.50202178955078,40.457618713378906,40.85952377319336,66.51133728027344,57.64962387084961,82.77702331542969,58.76873779296875,58.26670837402344,48.103031158447266,46.627384185791016,39.234493255615234,74.72322845458984,48.14243698120117],\"y\":[-0.533236563205719,1.2339571714401245,-0.45715320110321045,-0.46332842111587524,0.43255653977394104,0.13900481164455414,-0.9243415594100952,-0.28423479199409485,0.16066096723079681,-0.09986265748739243,1.1939308643341064,-0.4767706096172333,-0.7627817392349243,0.1668369621038437],\"z\":[0.006480976473540068,0.15326882898807526,-0.060483675450086594,0.002815019339323044,-0.08260564506053925,-0.003410842502489686,-0.08948449790477753,0.06323251873254776,0.06730814278125763,-0.0736101046204567,0.13940876722335815,0.06634613126516342,-0.0686953067779541,0.018685434013605118],\"type\":\"scatter3d\"},{\"marker\":{\"color\":\"rgba(0, 255, 200, 0.8)\"},\"mode\":\"markers\",\"name\":\"Cluster 2\",\"text\":[\"0 507 website request served <br>7 507 user logged in <br>2 507 item added to cart <br>9 507 item added to cart <br>3 507 item added to cart <br>2 507 item added to cart <br>6 507 dhl chosen for shipping <br>7 507 paypal chosen for payment <br>1 507 order placed succesful <br>\",\"0 515 website request served <br>7 515 user logged in <br>6 515 item added to cart <br>1 515 item added to cart <br>4 515 item added to cart <br>9 515 dhl chosen for shipping <br>0 515 klarna chosen for payment <br>8 515 order placed succesful <br>\",\"0 517 website request served <br>7 517 user logged in <br>6 517 item added to cart <br>2 517 item added to cart <br>6 517 item added to cart <br>4 517 dhl chosen for shipping <br>7 517 klarna chosen for payment <br>1 517 order placed succesful <br>\",\"0 546 website request served <br>8 546 user logged in <br>2 546 item added to cart <br>8 546 item added to cart <br>5 546 item added to cart <br>2 546 item added to cart <br>5 546 item added to cart <br>4 546 dhl chosen for shipping <br>3 546 sofortueberweisung chosen for payment <br>8 546 order placed succesful <br>\",\"0 548 website request served <br>6 548 user logged in <br>6 548 item added to cart <br>3 548 item added to cart <br>3 548 item added to cart <br>7 548 hermes chosen for shipping <br>4 548 klarna chosen for payment <br>5 548 order placed succesful <br>\",\"0 550 website request served <br>4 550 user logged in <br>3 550 item added to cart <br>5 550 item added to cart <br>5 550 item added to cart <br>1 550 dpd chosen for shipping <br>6 550 paypal chosen for payment <br>4 550 order placed succesful <br>\",\"0 551 website request served <br>7 551 user logged in <br>1 551 item added to cart <br>6 551 item added to cart <br>6 551 item added to cart <br>2 551 dhl chosen for shipping <br>5 551 paypal chosen for payment <br>8 551 order placed succesful <br>\",\"0 557 website request served <br>5 557 login not succesfull <br>3 557 login not succesfull <br>5 557 login not succesfull <br>3 557 user loged in <br>6 557 item added cart <br>3 557 item added cart <br>6 557 item added cart <br>7 557 dhl chosen for shipping <br>3 557 paypal chosen for payment <br>3 557 order place succesful <br>\",\"0 558 website request served <br>3 558 login not succesfull <br>8 558 login not succesfull <br>3 558 user logged in <br>4 558 item added to cart <br>6 558 hermes chosen for shipping <br>5 558 paypal chosen for payment <br>5 558 order placed succesful <br>\",\"0 559 website request served <br>2 559 user logged in <br>3 559 item added to cart <br>8 559 item added to cart <br>1 559 item added to cart <br>3 559 item added to cart <br>6 559 item added to cart <br>6 559 dpd chosen for shipping <br>4 559 klarna chosen for payment <br>5 559 order placed succesful <br>\",\"0 560 website request served <br>4 560 user logged in <br>4 560 item added to cart <br>1 560 item added to cart <br>6 560 item added to cart <br>7 560 hermes chosen for shipping <br>1 560 klarna chosen for payment <br>8 560 order placed succesful <br>\",\"0 566 website request served <br>3 566 user logged in <br>8 566 item added to cart <br>3 566 item added to cart <br>7 566 item added to cart <br>4 566 item added to cart <br>2 566 hermes chosen for shipping <br>8 566 klarna chosen for payment <br>3 566 order placed succesful <br>\",\"0 570 website request served <br>2 570 login not succesfull <br>7 570 user logged in <br>2 570 item added to cart <br>9 570 item added to cart <br>1 570 item added to cart <br>6 570 dpd chosen for shipping <br>5 570 klarna chosen for payment <br>5 570 order placed succesful <br>\",\"0 577 website request served <br>6 577 user logged in <br>3 577 item added to cart <br>6 577 item added to cart <br>6 577 item added to cart <br>3 577 dpd chosen for shipping <br>4 577 paypal chosen for payment <br>7 577 order placed succesful <br>\",\"0 585 website request served <br>4 585 user logged in <br>4 585 item added to cart <br>3 585 item added to cart <br>9 585 item added to cart <br>2 585 item added to cart <br>3 585 dpd chosen for shipping <br>8 585 klarna chosen for payment <br>1 585 order placed succesful <br>\",\"0 586 website request served <br>2 586 login not succesfull <br>5 586 login not succesfull <br>5 586 user logged in <br>3 586 item added to cart <br>5 586 item added to cart <br>6 586 item added to cart <br>4 586 item added to cart <br>5 586 dpd chosen for shipping <br>2 586 paypal chosen for payment <br>5 586 order placed succesful <br>\",\"0 589 website request served <br>7 589 user loged in <br>4 589 item added to cart <br>4 589 item added to cart <br>5 589 item added to cart <br>7 589 hermes chosen for shipping <br>4 589 chosen for payment <br>3 589 order place succesful <br>\",\"0 591 website request served <br>5 591 user logged in <br>5 591 item added to cart <br>8 591 item added to cart <br>4 591 item added to cart <br>1 591 item added to cart <br>5 591 hermes chosen for shipping <br>5 591 paypal chosen for payment <br>4 591 order placed succesful <br>\",\"0 599 website request served <br>2 599 user logged in <br>6 599 item added to cart <br>3 599 item added to cart <br>6 599 item added to cart <br>2 599 item added to cart <br>5 599 dpd chosen for shipping <br>8 599 klarna chosen for payment <br>4 599 order placed succesful <br>\",\"0 600 website request served <br>2 600 login not succesfull <br>7 600 login not succesfull <br>7 600 user logged in <br>4 600 item added to cart <br>5 600 item added to cart <br>0 600 dhl chosen for shipping <br>6 600 paypal chosen for payment <br>7 600 order placed succesful <br>\",\"0 604 website request served <br>4 604 user logged in <br>9 604 item added to cart <br>2 604 item added to cart <br>5 604 item added to cart <br>6 604 hermes chosen for shipping <br>6 604 klarna chosen for payment <br>2 604 order placed succesful <br>\",\"0 605 website request served <br>7 605 user logged in <br>5 605 item added to cart <br>3 605 item added to cart <br>5 605 item added to cart <br>6 605 dhl chosen for shipping <br>3 605 sofortueberweisung chosen for payment <br>7 605 order placed succesful <br>\",\"0 607 website request served <br>5 607 login not succesfull <br>3 607 user logged in <br>7 607 item added to cart <br>5 607 item added to cart <br>3 607 hermes chosen for shipping <br>2 607 klarna chosen for payment <br>6 607 order placed succesful <br>\",\"0 609 website request served <br>4 609 login not succesfull <br>4 609 user logged in <br>3 609 item added to cart <br>7 609 item added to cart <br>3 609 dhl chosen for shipping <br>5 609 sofortueberweisung chosen for payment <br>4 609 order placed succesful <br>\",\"0 620 website request served <br>5 620 login not succesfull <br>4 620 user logged in <br>6 620 item added to cart <br>3 620 item added to cart <br>6 620 dpd chosen for shipping <br>4 620 paypal chosen for payment <br>8 620 order placed succesful <br>\",\"0 623 website request served <br>7 623 user logged in <br>1 623 item added to cart <br>8 623 item added to cart <br>2 623 item added to cart <br>5 623 dhl chosen for shipping <br>5 623 sofortueberweisung chosen for payment <br>4 623 order placed succesful <br>\",\"0 625 website request served <br>3 625 user loged in <br>9 625 item added cart <br>4 625 item added cart <br>6 625 item added cart <br>3 625 item added cart <br>2 625 dpd chosen for shipping <br>5 625 paypal chosen for payment <br>7 625 order place succesful <br>\",\"0 629 website request served <br>4 629 login not succesfull <br>9 629 user logged in <br>2 629 item added to cart <br>5 629 item added to cart <br>5 629 item added to cart <br>3 629 item added to cart <br>6 629 item added to cart <br>4 629 dpd chosen for shipping <br>5 629 sofortueberweisung chosen for payment <br>6 629 order placed succesful <br>\",\"0 638 website request served <br>3 638 user logged in <br>6 638 item added to cart <br>3 638 item added to cart <br>7 638 item added to cart <br>1 638 item added to cart <br>3 638 dhl chosen for shipping <br>7 638 klarna chosen for payment <br>3 638 order placed succesful <br>\",\"0 642 website request served <br>1 642 login not succesfull <br>7 642 login not succesfull <br>5 642 user logged in <br>4 642 item added to cart <br>2 642 dhl chosen for shipping <br>5 642 sofortueberweisung chosen for payment <br>5 642 order placed succesful <br>\",\"0 643 website request served <br>9 643 login not succesfull <br>3 643 user logged in <br>4 643 item added to cart <br>5 643 item added to cart <br>4 643 dpd chosen for shipping <br>3 643 klarna chosen for payment <br>7 643 order placed succesful <br>\",\"0 644 website request served <br>3 644 login not succesfull <br>4 644 user logged in <br>4 644 item added to cart <br>5 644 item added to cart <br>6 644 hermes chosen for shipping <br>5 644 sofortueberweisung chosen for payment <br>2 644 order placed succesful <br>\",\"0 647 website request served <br>2 647 login not succesfull <br>5 647 login not succesfull <br>4 647 user logged in <br>5 647 item added to cart <br>4 647 item added to cart <br>6 647 dpd chosen for shipping <br>1 647 klarna chosen for payment <br>8 647 order placed succesful <br>\",\"0 648 website request served <br>3 648 user logged in <br>3 648 item added to cart <br>4 648 item added to cart <br>9 648 item added to cart <br>3 648 hermes chosen for shipping <br>6 648 sofortueberweisung chosen for payment <br>3 648 order placed succesful <br>\",\"0 650 website request served <br>9 650 user logged in <br>3 650 item added to cart <br>2 650 item added to cart <br>6 650 item added to cart <br>5 650 dpd chosen for shipping <br>4 650 paypal chosen for payment <br>4 650 order placed succesful <br>\",\"0 658 website request served <br>4 658 user logged in <br>6 658 item added to cart <br>7 658 item added to cart <br>5 658 item added to cart <br>4 658 hermes chosen for shipping <br>3 658 klarna chosen for payment <br>7 658 order placed succesful <br>\",\"0 659 website request served <br>5 659 user loged in <br>4 659 item added to cart <br>7 659 item added to cart <br>4 659 item added to cart <br>6 659 item added to cart <br>5 659 hermes chosen for shipping <br>3 659 sofortueberweisung chosen for payment <br>5 659 order place succesful <br>\",\"0 660 website request served <br>4 660 login not succesfull <br>3 660 user logged in <br>7 660 item added to cart <br>4 660 item added to cart <br>4 660 dpd chosen for shipping <br>5 660 sofortueberweisung chosen for payment <br>7 660 order placed succesful <br>\",\"0 666 website request served <br>5 666 login not succesfull <br>4 666 login not succesfull <br>6 666 login not succesfull <br>5 666 user logged in <br>2 666 item added to cart <br>2 666 dpd chosen for shipping <br>5 666 paypal chosen for payment <br>8 666 order placed succesful <br>\",\"0 667 website request served <br>4 667 user logged in <br>4 667 item added to cart <br>3 667 item added to cart <br>7 667 item added to cart <br>0 667 hermes chosen for shipping <br>8 667 sofortueberweisung chosen for payment <br>4 667 order placed succesful <br>\",\"0 668 website request served <br>4 668 login not succesfull <br>5 668 login not succesfull <br>5 668 user loged in <br>5 668 item added to cart <br>1 668 hermes chosen for shipping <br>6 668 chosen for payment <br>7 668 order place succesful <br>\",\"0 679 website request served <br>4 679 login not succesfull <br>4 679 user loged in <br>4 679 item added to cart <br>6 679 item added to cart <br>6 679 item added to cart <br>6 679 hermes chosen for shipping <br>4 679 klarna chosen for payment <br>4 679 order place succesful <br>\",\"0 681 website request served <br>2 681 user logged in <br>4 681 item added to cart <br>6 681 item added to cart <br>3 681 item added to cart <br>6 681 item added to cart <br>5 681 item added to cart <br>3 681 dpd chosen for shipping <br>7 681 klarna chosen for payment <br>2 681 order placed succesful <br>\",\"0 688 website request served <br>6 688 user logged in <br>4 688 item added to cart <br>5 688 item added to cart <br>4 688 item added to cart <br>2 688 item added to cart <br>7 688 item added to cart <br>4 688 item added to cart <br>5 688 hermes chosen for shipping <br>4 688 sofortueberweisung chosen for payment <br>7 688 order placed succesful <br>\",\"0 698 website request served <br>5 698 user logged in <br>4 698 item added to cart <br>7 698 item added to cart <br>6 698 item added to cart <br>2 698 dpd chosen for shipping <br>5 698 klarna chosen for payment <br>4 698 order placed succesful <br>\",\"0 702 website request served <br>5 702 user logged in <br>5 702 item added to cart <br>6 702 item added to cart <br>3 702 item added to cart <br>3 702 dhl chosen for shipping <br>7 702 klarna chosen for payment <br>4 702 order placed succesful <br>\",\"0 703 website request served <br>4 703 login not succesfull <br>5 703 user logged in <br>3 703 item added to cart <br>6 703 item added to cart <br>3 703 dhl chosen for shipping <br>8 703 klarna chosen for payment <br>2 703 order placed succesful <br>\",\"0 708 website request served <br>2 708 user logged in <br>6 708 item added to cart <br>6 708 item added to cart <br>4 708 item added to cart <br>1 708 item added to cart <br>5 708 item added to cart <br>5 708 dpd chosen for shipping <br>7 708 sofortueberweisung chosen for payment <br>3 708 order placed succesful <br>\",\"0 712 website request served <br>3 712 user logged in <br>2 712 item added to cart <br>5 712 item added to cart <br>8 712 item added to cart <br>0 712 item added to cart <br>7 712 dhl chosen for shipping <br>5 712 paypal chosen for payment <br>2 712 order placed succesful <br>\",\"0 715 website request served <br>5 715 login not succesfull <br>6 715 user logged in <br>3 715 item added to cart <br>5 715 item added to cart <br>2 715 item added to cart <br>4 715 dhl chosen for shipping <br>5 715 klarna chosen for payment <br>4 715 order placed succesful <br>\",\"0 716 website request served <br>6 716 login not succesfull <br>5 716 user loged in <br>2 716 item added cart <br>6 716 item added cart <br>3 716 item added cart <br>7 716 hermes chosen for shipping <br>1 716 sofortueberweisung chosen for payment <br>5 716 order place succesful <br>\",\"0 719 website request served <br>5 719 user logged in <br>2 719 item added to cart <br>8 719 item added to cart <br>1 719 item added to cart <br>5 719 dhl chosen for shipping <br>4 719 paypal chosen for payment <br>8 719 order placed succesful <br>\",\"0 720 website request served <br>3 720 login not succesfull <br>7 720 login not succesfull <br>2 720 user loged in <br>4 720 item added to cart <br>4 720 dpd chosen for shipping <br>5 720 chosen for payment <br>7 720 order place succesful <br>\",\"0 724 website request served <br>6 724 login not succesfull <br>4 724 login not succesfull <br>4 724 user logged in <br>4 724 item added to cart <br>4 724 dhl chosen for shipping <br>7 724 klarna chosen for payment <br>2 724 order placed succesful <br>\",\"0 729 website request served <br>6 729 login not succesfull <br>2 729 login not succesfull <br>4 729 user logged in <br>9 729 item added to cart <br>2 729 item added to cart <br>2 729 item added to cart <br>9 729 dhl chosen for shipping <br>2 729 sofortueberweisung chosen for payment <br>3 729 order placed succesful <br>\",\"0 730 website request served <br>6 730 login not succesfull <br>5 730 login not succesfull <br>1 730 user loged in <br>8 730 item added cart <br>5 730 dpd chosen for shipping <br>5 730 klana chosen for payment <br>3 730 order place succesful <br>\",\"0 733 website request served <br>8 733 login not succesfull <br>5 733 user loged in <br>4 733 item added cart <br>6 733 item added cart <br>5 733 dpd chosen for shipping <br>0 733 klana chosen for payment <br>5 733 order place succesful <br>\",\"0 735 website request served <br>6 735 login not succesfull <br>6 735 user logged in <br>6 735 item added to cart <br>1 735 item added to cart <br>8 735 item added to cart <br>3 735 item added to cart <br>5 735 hermes chosen for shipping <br>3 735 sofortueberweisung chosen for payment <br>6 735 order placed succesful <br>\",\"0 743 website request served <br>5 743 user logged in <br>4 743 item added to cart <br>8 743 item added to cart <br>5 743 item added to cart <br>2 743 item added to cart <br>4 743 dhl chosen for shipping <br>6 743 paypal chosen for payment <br>1 743 order placed succesful <br>\",\"0 754 website request served <br>1 754 user logged in <br>5 754 item added to cart <br>7 754 item added to cart <br>6 754 item added to cart <br>2 754 dhl chosen for shipping <br>3 754 sofortueberweisung chosen for payment <br>4 754 order placed succesful <br>\",\"0 755 website request served <br>4 755 user logged in <br>5 755 item added to cart <br>7 755 item added to cart <br>2 755 item added to cart <br>8 755 hermes chosen for shipping <br>1 755 sofortueberweisung chosen for payment <br>7 755 order placed succesful <br>\",\"0 756 website request served <br>8 756 user logged in <br>4 756 item added to cart <br>6 756 item added to cart <br>3 756 item added to cart <br>3 756 item added to cart <br>5 756 item added to cart <br>6 756 dpd chosen for shipping <br>6 756 klarna chosen for payment <br>2 756 order placed succesful <br>\",\"0 757 website request served <br>6 757 user loged in <br>4 757 item added to cart <br>5 757 item added to cart <br>2 757 item added to cart <br>3 757 item added to cart <br>7 757 dhl chosen fr shipping <br>2 757 chosen for payment <br>6 757 order place succesful <br>\",\"0 761 website request served <br>3 761 user logged in <br>4 761 item added to cart <br>8 761 item added to cart <br>2 761 item added to cart <br>6 761 dhl chosen for shipping <br>4 761 klarna chosen for payment <br>3 761 order placed succesful <br>\",\"0 766 website request served <br>9 766 user logged in <br>3 766 item added to cart <br>3 766 item added to cart <br>6 766 item added to cart <br>4 766 dpd chosen for shipping <br>5 766 sofortueberweisung chosen for payment <br>5 766 order placed succesful <br>\",\"0 769 website request served <br>2 769 login not succesfull <br>9 769 user logged in <br>1 769 item added to cart <br>5 769 item added to cart <br>4 769 item added to cart <br>8 769 hermes chosen for shipping <br>3 769 klarna chosen for payment <br>6 769 order placed succesful <br>\",\"0 773 website request served <br>5 773 user logged in <br>5 773 item added to cart <br>4 773 item added to cart <br>6 773 item added to cart <br>2 773 item added to cart <br>5 773 item added to cart <br>5 773 hermes chosen for shipping <br>2 773 sofortueberweisung chosen for payment <br>8 773 order placed succesful <br>\",\"0 786 website request served <br>7 786 login not succesfull <br>3 786 user logged in <br>4 786 item added to cart <br>3 786 item added to cart <br>7 786 hermes chosen for shipping <br>6 786 klarna chosen for payment <br>3 786 order placed succesful <br>\",\"0 788 website request served <br>2 788 user logged in <br>7 788 item added to cart <br>2 788 item added to cart <br>4 788 item added to cart <br>6 788 item added to cart <br>5 788 dhl chosen for shipping <br>6 788 paypal chosen for payment <br>2 788 order placed succesful <br>\",\"0 793 website request served <br>4 793 user loged in <br>1 793 item added cart <br>5 793 item added cart <br>3 793 item added cart <br>9 793 item added cart <br>0 793 dhl chosen for shipping <br>5 793 paypal chosen for payment <br>6 793 order place succesful <br>\",\"0 794 website request served <br>6 794 login not succesfull <br>6 794 user logged in <br>2 794 item added to cart <br>6 794 item added to cart <br>1 794 hermes chosen for shipping <br>7 794 paypal chosen for payment <br>2 794 order placed succesful <br>\",\"0 803 website request served <br>9 803 user logged in <br>4 803 item added to cart <br>2 803 item added to cart <br>3 803 item added to cart <br>9 803 dpd chosen for shipping <br>2 803 klarna chosen for payment <br>8 803 order placed succesful <br>\",\"0 804 website request served <br>6 804 login not succesfull <br>4 804 login not succesfull <br>4 804 user logged in <br>5 804 item added to cart <br>6 804 dpd chosen for shipping <br>3 804 klarna chosen for payment <br>4 804 order placed succesful <br>\",\"0 806 website request served <br>9 806 login not succesfull <br>4 806 login not succesfull <br>3 806 login not succesfull <br>3 806 user logged in <br>7 806 item added to cart <br>6 806 hermes chosen for shipping <br>2 806 paypal chosen for payment <br>8 806 order placed succesful <br>\",\"0 808 website request served <br>5 808 user logged in <br>2 808 item added to cart <br>6 808 item added to cart <br>4 808 item added to cart <br>6 808 item added to cart <br>3 808 item added to cart <br>4 808 dpd chosen for shipping <br>7 808 paypal chosen for payment <br>6 808 order placed succesful <br>\",\"0 809 website request served <br>5 809 user logged in <br>6 809 item added to cart <br>3 809 item added to cart <br>6 809 item added to cart <br>3 809 hermes chosen for shipping <br>7 809 sofortueberweisung chosen for payment <br>3 809 order placed succesful <br>\",\"0 811 website request served <br>1 811 login not succesfull <br>5 811 login not succesfull <br>4 811 user logged in <br>8 811 item added to cart <br>4 811 item added to cart <br>1 811 item added to cart <br>5 811 dhl chosen for shipping <br>6 811 paypal chosen for payment <br>4 811 order placed succesful <br>\",\"0 815 website request served <br>1 815 user loged in <br>6 815 item added cart <br>2 815 item added cart <br>7 815 item added cart <br>3 815 item added cart <br>8 815 item added cart <br>1 815 item added cart <br>8 815 item added cart <br>4 815 dpd chosen for shipping <br>5 815 sofortueberweisung chosen for payment <br>4 815 order place succesful <br>\",\"0 823 website request served <br>5 823 user logged in <br>7 823 item added to cart <br>3 823 item added to cart <br>2 823 item added to cart <br>8 823 item added to cart <br>3 823 dhl chosen for shipping <br>5 823 klarna chosen for payment <br>4 823 order placed succesful <br>\",\"0 831 website request served <br>3 831 user logged in <br>2 831 item added to cart <br>5 831 item added to cart <br>3 831 item added to cart <br>8 831 hermes chosen for shipping <br>5 831 paypal chosen for payment <br>3 831 order placed succesful <br>\",\"0 834 website request served <br>9 834 user logged in <br>1 834 item added to cart <br>7 834 item added to cart <br>3 834 item added to cart <br>6 834 dhl chosen for shipping <br>6 834 sofortueberweisung chosen for payment <br>4 834 order placed succesful <br>\",\"0 839 website request served <br>4 839 user logged in <br>3 839 item added to cart <br>7 839 item added to cart <br>5 839 item added to cart <br>4 839 hermes chosen for shipping <br>4 839 sofortueberweisung chosen for payment <br>4 839 order placed succesful <br>\",\"0 841 website request served <br>4 841 login not succesfull <br>2 841 login not succesfull <br>9 841 login not succesfull <br>3 841 user logged in <br>3 841 item added to cart <br>6 841 hermes chosen for shipping <br>4 841 klarna chosen for payment <br>4 841 order placed succesful <br>\",\"0 845 website request served <br>5 845 login not succesfull <br>2 845 user logged in <br>9 845 item added to cart <br>2 845 item added to cart <br>3 845 item added to cart <br>8 845 dhl chosen for shipping <br>4 845 paypal chosen for payment <br>5 845 order placed succesful <br>\",\"0 851 website request served <br>5 851 user logged in <br>6 851 item added to cart <br>5 851 item added to cart <br>5 851 item added to cart <br>3 851 dpd chosen for shipping <br>5 851 sofortueberweisung chosen for payment <br>4 851 order placed succesful <br>\",\"0 852 website request served <br>9 852 user logged in <br>2 852 item added to cart <br>4 852 item added to cart <br>8 852 item added to cart <br>1 852 dpd chosen for shipping <br>4 852 paypal chosen for payment <br>5 852 order placed succesful <br>\",\"0 861 website request served <br>3 861 user logged in <br>4 861 item added to cart <br>3 861 item added to cart <br>5 861 item added to cart <br>8 861 item added to cart <br>0 861 dpd chosen for shipping <br>8 861 klarna chosen for payment <br>2 861 order placed succesful <br>\",\"0 862 website request served <br>4 862 login not succesfull <br>1 862 login not succesfull <br>6 862 user logged in <br>5 862 item added to cart <br>4 862 item added to cart <br>7 862 hermes chosen for shipping <br>4 862 klarna chosen for payment <br>3 862 order placed succesful <br>\",\"0 863 website request served <br>6 863 user logged in <br>1 863 item added to cart <br>8 863 item added to cart <br>4 863 item added to cart <br>6 863 item added to cart <br>2 863 item added to cart <br>8 863 dpd chosen for shipping <br>2 863 klarna chosen for payment <br>3 863 order placed succesful <br>\",\"0 865 website request served <br>3 865 user logged in <br>5 865 item added to cart <br>2 865 item added to cart <br>8 865 item added to cart <br>1 865 dhl chosen for shipping <br>6 865 klarna chosen for payment <br>4 865 order placed succesful <br>\",\"0 866 website request served <br>4 866 user logged in <br>4 866 item added to cart <br>5 866 item added to cart <br>7 866 item added to cart <br>3 866 hermes chosen for shipping <br>4 866 paypal chosen for payment <br>2 866 order placed succesful <br>\",\"0 871 website request served <br>6 871 user logged in <br>4 871 item added to cart <br>4 871 item added to cart <br>8 871 item added to cart <br>5 871 item added to cart <br>3 871 dpd chosen for shipping <br>4 871 klarna chosen for payment <br>5 871 order placed succesful <br>\",\"0 873 website request served <br>5 873 user logged in <br>4 873 item added to cart <br>6 873 item added to cart <br>5 873 item added to cart <br>5 873 dhl chosen for shipping <br>5 873 klarna chosen for payment <br>3 873 order placed succesful <br>\",\"0 879 website request served <br>2 879 login not succesfull <br>6 879 user logged in <br>2 879 item added to cart <br>5 879 item added to cart <br>5 879 dpd chosen for shipping <br>3 879 klarna chosen for payment <br>9 879 order placed succesful <br>\",\"0 881 website request served <br>2 881 login not succesfull <br>8 881 login not succesfull <br>0 881 user logged in <br>8 881 item added to cart <br>4 881 dpd chosen for shipping <br>6 881 sofortueberweisung chosen for payment <br>2 881 order placed succesful <br>\",\"0 882 website request served <br>5 882 login not succesfull <br>8 882 user logged in <br>5 882 item added to cart <br>5 882 item added to cart <br>0 882 item added to cart <br>4 882 item added to cart <br>5 882 hermes chosen for shipping <br>8 882 sofortueberweisung chosen for payment <br>3 882 order placed succesful <br>\",\"0 884 website request served <br>7 884 user logged in <br>4 884 item added to cart <br>5 884 item added to cart <br>3 884 item added to cart <br>4 884 dpd chosen for shipping <br>4 884 paypal chosen for payment <br>4 884 order placed succesful <br>\",\"0 885 website request served <br>7 885 login not succesfull <br>1 885 user loged in <br>7 885 item added to cart <br>6 885 item added to cart <br>4 885 dhl chosen fr shipping <br>4 885 sofortueberweisung chosen for payment <br>4 885 order place succesful <br>\",\"0 889 website request served <br>5 889 user logged in <br>5 889 item added to cart <br>7 889 item added to cart <br>5 889 item added to cart <br>0 889 dhl chosen for shipping <br>8 889 klarna chosen for payment <br>2 889 order placed succesful <br>\",\"0 891 website request served <br>6 891 login not succesfull <br>2 891 user logged in <br>2 891 item added to cart <br>7 891 item added to cart <br>2 891 dhl chosen for shipping <br>6 891 klarna chosen for payment <br>6 891 order placed succesful <br>\",\"0 895 website request served <br>3 895 user logged in <br>7 895 item added to cart <br>6 895 item added to cart <br>4 895 item added to cart <br>5 895 dhl chosen for shipping <br>5 895 paypal chosen for payment <br>2 895 order placed succesful <br>\",\"0 899 website request served <br>3 899 login not succesfull <br>3 899 login not succesfull <br>6 899 login not succesfull <br>1 899 user logged in <br>8 899 item added to cart <br>6 899 item added to cart <br>1 899 hermes chosen for shipping <br>4 899 paypal chosen for payment <br>6 899 order placed succesful <br>\",\"0 902 website request served <br>7 902 user logged in <br>1 902 item added to cart <br>7 902 item added to cart <br>3 902 item added to cart <br>6 902 dpd chosen for shipping <br>1 902 klarna chosen for payment <br>9 902 order placed succesful <br>\",\"0 904 website request served <br>6 904 user loged in <br>4 904 item added to cart <br>7 904 item added to cart <br>1 904 item added to cart <br>3 904 dhl chosen fr shipping <br>5 904 klarna chosen for payment <br>5 904 order place succesful <br>\"],\"x\":[15.164918899536133,6.1711225509643555,6.158962249755859,24.329992294311523,6.913222789764404,6.397838592529297,6.109107494354248,28.002254486083984,6.675088405609131,24.122697830200195,5.962878704071045,15.627328872680664,14.581158638000488,6.7449774742126465,15.0694580078125,31.7667236328125,4.8729047775268555,15.388116836547852,15.701363563537598,14.78081226348877,7.097104549407959,7.148988246917725,7.007843971252441,7.2111053466796875,7.4603962898254395,6.926692008972168,9.402444839477539,32.13548278808594,15.243086814880371,6.920874118804932,6.962154865264893,7.541123867034912,14.846028327941895,6.388848781585693,6.716695308685303,7.148799419403076,15.843002319335938,6.3532514572143555,15.904784202575684,7.782791614532471,5.3639678955078125,15.963379859924316,24.626996994018555,33.394168853759766,7.461312770843506,6.588225364685059,6.832115650177002,24.21826934814453,14.579229354858398,16.752349853515625,10.718098640441895,7.0879807472229,5.764425277709961,6.979275226593018,22.423320770263672,4.388855457305908,3.361104965209961,23.584087371826172,15.159453392028809,6.5738444328308105,5.636199951171875,23.448383331298828,12.065717697143555,6.640632152557373,6.36660099029541,14.29738998413086,23.570188522338867,6.072835922241211,14.951799392700195,8.08480453491211,6.191043376922607,6.494564533233643,6.221929550170898,13.796996116638184,22.718231201171875,6.463136672973633,23.75895881652832,28.99622917175293,15.337271690368652,6.436319828033447,6.131046295166016,7.087643623352051,14.941444396972656,15.384410858154297,7.230454921722412,6.641591548919678,14.646846771240234,14.837430000305176,23.038835525512695,6.913572788238525,6.069941997528076,15.100793838500977,7.171933174133301,6.927769184112549,6.01101016998291,23.75053596496582,6.8294677734375,5.348675727844238,6.352903842926025,6.787222862243652,6.60380220413208,22.892261505126953,5.878714084625244,5.4467644691467285],\"y\":[-0.21884453296661377,-0.2152673751115799,-0.1728902906179428,-0.31885915994644165,-0.19109003245830536,-0.15328015387058258,-0.12306007742881775,0.8199896812438965,0.6057085990905762,-0.2963361144065857,-0.175138920545578,-0.23133039474487305,0.13138483464717865,-0.1523616462945938,-0.23712486028671265,0.3967188596725464,-0.22451448440551758,-0.20406271517276764,-0.24122357368469238,0.5201447606086731,-0.15343432128429413,-0.13425497710704803,0.19481973350048065,0.1738734096288681,0.20562615990638733,-0.13053330779075623,-0.13297143578529358,-0.04521321877837181,-0.22788625955581665,0.5834316611289978,0.18468955159187317,0.2713947892189026,0.481344997882843,-0.20300708711147308,-0.16553866863250732,-0.15055717527866364,-0.20861276984214783,0.21344409883022308,0.9260980486869812,-0.1255084127187729,0.532961368560791,0.15061524510383606,-0.27829816937446594,-0.3793947696685791,-0.12388595938682556,-0.1411871463060379,0.22294136881828308,-0.2878090441226959,-0.2098533809185028,0.16461923718452454,0.21393059194087982,-0.08498955518007278,0.5526288151741028,0.5800144076347351,0.38500604033470154,0.6103248596191406,0.2772723436355591,0.07184308767318726,-0.2631213963031769,-0.1459454894065857,-0.14646708965301514,-0.3468795716762543,-0.33766910433769226,-0.14351022243499756,-0.1776229739189148,0.10374576598405838,-0.26928743720054626,0.1979411095380783,-0.2597610056400299,-0.10776777565479279,0.16476759314537048,-0.18398582935333252,0.5334036350250244,0.8237228393554688,-0.2712099552154541,-0.21927423775196075,0.43808799982070923,-0.24975496530532837,-0.22442029416561127,-0.1430637240409851,-0.15188392996788025,-0.15064562857151031,0.8370293378829956,0.15213941037654877,-0.1021193265914917,-0.181894913315773,-0.2527964115142822,0.5090882182121277,-0.3356059789657593,-0.16456152498722076,-0.15883001685142517,-0.21834635734558105,-0.12017803639173508,0.20469796657562256,0.539311945438385,0.06370492279529572,-0.1815856397151947,0.1597088873386383,-0.10121108591556549,0.21756824851036072,-0.148757204413414,0.7324403524398804,-0.1620151698589325,-0.22920061647891998],\"z\":[0.04755876213312149,0.05763508751988411,0.05975634977221489,0.03999904915690422,-0.05190734565258026,-0.02719683013856411,0.014019571244716644,-0.017269287258386612,-0.06263689696788788,-0.01345868967473507,0.02326464280486107,0.010182435624301434,0.010431802831590176,-0.06738395243883133,-0.006667655892670155,-0.10123337805271149,0.009047416038811207,-0.02338731475174427,-0.004085665103048086,0.061723493039608,0.0063423048704862595,-0.015391271561384201,-0.04463661462068558,-0.047034088522195816,0.0025574262253940105,-0.0369858592748642,0.09884055703878403,-0.030917087569832802,-0.0030016927048563957,-0.04245086759328842,-0.041442885994911194,-0.04491366446018219,-0.020375333726406097,-0.08853474259376526,-0.0006355973309837282,-0.02072306163609028,-0.04344230517745018,-0.043598342686891556,-0.023764753714203835,0.021481506526470184,0.0033058524131774902,0.0935869961977005,-0.028157858178019524,0.0034987947437912226,-0.03816407173871994,-0.04703224450349808,-0.01138137374073267,-0.061667025089263916,0.08591334521770477,-0.06963388621807098,0.021535711362957954,-0.007250519935041666,0.04007399082183838,0.03023817576467991,0.039123840630054474,0.017248360440135002,0.08069489151239395,0.04229804128408432,0.023882374167442322,-0.08675100654363632,-0.028446244075894356,-0.0033034791704267263,0.12596863508224487,0.03708859160542488,-0.03944683447480202,0.00825252290815115,-0.0009491240489296615,-0.055731117725372314,0.06315874308347702,0.15120090544223785,0.0314456969499588,0.029326319694519043,-0.032513294368982315,-0.0034828619100153446,0.0007382454932667315,-0.045310284942388535,0.01601170189678669,0.16523389518260956,-0.014477127231657505,-0.07611788809299469,-0.021557630971074104,-0.025573091581463814,-0.031213613227009773,-0.0439535491168499,-0.07999550551176071,-0.020774472504854202,0.045335542410612106,-0.01708194985985756,0.014012501575052738,-0.029155390337109566,0.014162497594952583,-0.019680287688970566,-0.08419398218393326,-0.01750398427248001,0.04421011358499527,-0.005240115337073803,-0.0315934456884861,0.1196916401386261,0.07554211467504501,0.021928342059254646,-0.07285123318433762,-0.02391953580081463,-0.012557487934827805,0.048712730407714844],\"type\":\"scatter3d\"}],                        {\"template\":{\"data\":{\"barpolar\":[{\"marker\":{\"line\":{\"color\":\"#E5ECF6\",\"width\":0.5},\"pattern\":{\"fillmode\":\"overlay\",\"size\":10,\"solidity\":0.2}},\"type\":\"barpolar\"}],\"bar\":[{\"error_x\":{\"color\":\"#2a3f5f\"},\"error_y\":{\"color\":\"#2a3f5f\"},\"marker\":{\"line\":{\"color\":\"#E5ECF6\",\"width\":0.5},\"pattern\":{\"fillmode\":\"overlay\",\"size\":10,\"solidity\":0.2}},\"type\":\"bar\"}],\"carpet\":[{\"aaxis\":{\"endlinecolor\":\"#2a3f5f\",\"gridcolor\":\"white\",\"linecolor\":\"white\",\"minorgridcolor\":\"white\",\"startlinecolor\":\"#2a3f5f\"},\"baxis\":{\"endlinecolor\":\"#2a3f5f\",\"gridcolor\":\"white\",\"linecolor\":\"white\",\"minorgridcolor\":\"white\",\"startlinecolor\":\"#2a3f5f\"},\"type\":\"carpet\"}],\"choropleth\":[{\"colorbar\":{\"outlinewidth\":0,\"ticks\":\"\"},\"type\":\"choropleth\"}],\"contourcarpet\":[{\"colorbar\":{\"outlinewidth\":0,\"ticks\":\"\"},\"type\":\"contourcarpet\"}],\"contour\":[{\"colorbar\":{\"outlinewidth\":0,\"ticks\":\"\"},\"colorscale\":[[0.0,\"#0d0887\"],[0.1111111111111111,\"#46039f\"],[0.2222222222222222,\"#7201a8\"],[0.3333333333333333,\"#9c179e\"],[0.4444444444444444,\"#bd3786\"],[0.5555555555555556,\"#d8576b\"],[0.6666666666666666,\"#ed7953\"],[0.7777777777777778,\"#fb9f3a\"],[0.8888888888888888,\"#fdca26\"],[1.0,\"#f0f921\"]],\"type\":\"contour\"}],\"heatmapgl\":[{\"colorbar\":{\"outlinewidth\":0,\"ticks\":\"\"},\"colorscale\":[[0.0,\"#0d0887\"],[0.1111111111111111,\"#46039f\"],[0.2222222222222222,\"#7201a8\"],[0.3333333333333333,\"#9c179e\"],[0.4444444444444444,\"#bd3786\"],[0.5555555555555556,\"#d8576b\"],[0.6666666666666666,\"#ed7953\"],[0.7777777777777778,\"#fb9f3a\"],[0.8888888888888888,\"#fdca26\"],[1.0,\"#f0f921\"]],\"type\":\"heatmapgl\"}],\"heatmap\":[{\"colorbar\":{\"outlinewidth\":0,\"ticks\":\"\"},\"colorscale\":[[0.0,\"#0d0887\"],[0.1111111111111111,\"#46039f\"],[0.2222222222222222,\"#7201a8\"],[0.3333333333333333,\"#9c179e\"],[0.4444444444444444,\"#bd3786\"],[0.5555555555555556,\"#d8576b\"],[0.6666666666666666,\"#ed7953\"],[0.7777777777777778,\"#fb9f3a\"],[0.8888888888888888,\"#fdca26\"],[1.0,\"#f0f921\"]],\"type\":\"heatmap\"}],\"histogram2dcontour\":[{\"colorbar\":{\"outlinewidth\":0,\"ticks\":\"\"},\"colorscale\":[[0.0,\"#0d0887\"],[0.1111111111111111,\"#46039f\"],[0.2222222222222222,\"#7201a8\"],[0.3333333333333333,\"#9c179e\"],[0.4444444444444444,\"#bd3786\"],[0.5555555555555556,\"#d8576b\"],[0.6666666666666666,\"#ed7953\"],[0.7777777777777778,\"#fb9f3a\"],[0.8888888888888888,\"#fdca26\"],[1.0,\"#f0f921\"]],\"type\":\"histogram2dcontour\"}],\"histogram2d\":[{\"colorbar\":{\"outlinewidth\":0,\"ticks\":\"\"},\"colorscale\":[[0.0,\"#0d0887\"],[0.1111111111111111,\"#46039f\"],[0.2222222222222222,\"#7201a8\"],[0.3333333333333333,\"#9c179e\"],[0.4444444444444444,\"#bd3786\"],[0.5555555555555556,\"#d8576b\"],[0.6666666666666666,\"#ed7953\"],[0.7777777777777778,\"#fb9f3a\"],[0.8888888888888888,\"#fdca26\"],[1.0,\"#f0f921\"]],\"type\":\"histogram2d\"}],\"histogram\":[{\"marker\":{\"pattern\":{\"fillmode\":\"overlay\",\"size\":10,\"solidity\":0.2}},\"type\":\"histogram\"}],\"mesh3d\":[{\"colorbar\":{\"outlinewidth\":0,\"ticks\":\"\"},\"type\":\"mesh3d\"}],\"parcoords\":[{\"line\":{\"colorbar\":{\"outlinewidth\":0,\"ticks\":\"\"}},\"type\":\"parcoords\"}],\"pie\":[{\"automargin\":true,\"type\":\"pie\"}],\"scatter3d\":[{\"line\":{\"colorbar\":{\"outlinewidth\":0,\"ticks\":\"\"}},\"marker\":{\"colorbar\":{\"outlinewidth\":0,\"ticks\":\"\"}},\"type\":\"scatter3d\"}],\"scattercarpet\":[{\"marker\":{\"colorbar\":{\"outlinewidth\":0,\"ticks\":\"\"}},\"type\":\"scattercarpet\"}],\"scattergeo\":[{\"marker\":{\"colorbar\":{\"outlinewidth\":0,\"ticks\":\"\"}},\"type\":\"scattergeo\"}],\"scattergl\":[{\"marker\":{\"colorbar\":{\"outlinewidth\":0,\"ticks\":\"\"}},\"type\":\"scattergl\"}],\"scattermapbox\":[{\"marker\":{\"colorbar\":{\"outlinewidth\":0,\"ticks\":\"\"}},\"type\":\"scattermapbox\"}],\"scatterpolargl\":[{\"marker\":{\"colorbar\":{\"outlinewidth\":0,\"ticks\":\"\"}},\"type\":\"scatterpolargl\"}],\"scatterpolar\":[{\"marker\":{\"colorbar\":{\"outlinewidth\":0,\"ticks\":\"\"}},\"type\":\"scatterpolar\"}],\"scatter\":[{\"marker\":{\"colorbar\":{\"outlinewidth\":0,\"ticks\":\"\"}},\"type\":\"scatter\"}],\"scatterternary\":[{\"marker\":{\"colorbar\":{\"outlinewidth\":0,\"ticks\":\"\"}},\"type\":\"scatterternary\"}],\"surface\":[{\"colorbar\":{\"outlinewidth\":0,\"ticks\":\"\"},\"colorscale\":[[0.0,\"#0d0887\"],[0.1111111111111111,\"#46039f\"],[0.2222222222222222,\"#7201a8\"],[0.3333333333333333,\"#9c179e\"],[0.4444444444444444,\"#bd3786\"],[0.5555555555555556,\"#d8576b\"],[0.6666666666666666,\"#ed7953\"],[0.7777777777777778,\"#fb9f3a\"],[0.8888888888888888,\"#fdca26\"],[1.0,\"#f0f921\"]],\"type\":\"surface\"}],\"table\":[{\"cells\":{\"fill\":{\"color\":\"#EBF0F8\"},\"line\":{\"color\":\"white\"}},\"header\":{\"fill\":{\"color\":\"#C8D4E3\"},\"line\":{\"color\":\"white\"}},\"type\":\"table\"}]},\"layout\":{\"annotationdefaults\":{\"arrowcolor\":\"#2a3f5f\",\"arrowhead\":0,\"arrowwidth\":1},\"autotypenumbers\":\"strict\",\"coloraxis\":{\"colorbar\":{\"outlinewidth\":0,\"ticks\":\"\"}},\"colorscale\":{\"diverging\":[[0,\"#8e0152\"],[0.1,\"#c51b7d\"],[0.2,\"#de77ae\"],[0.3,\"#f1b6da\"],[0.4,\"#fde0ef\"],[0.5,\"#f7f7f7\"],[0.6,\"#e6f5d0\"],[0.7,\"#b8e186\"],[0.8,\"#7fbc41\"],[0.9,\"#4d9221\"],[1,\"#276419\"]],\"sequential\":[[0.0,\"#0d0887\"],[0.1111111111111111,\"#46039f\"],[0.2222222222222222,\"#7201a8\"],[0.3333333333333333,\"#9c179e\"],[0.4444444444444444,\"#bd3786\"],[0.5555555555555556,\"#d8576b\"],[0.6666666666666666,\"#ed7953\"],[0.7777777777777778,\"#fb9f3a\"],[0.8888888888888888,\"#fdca26\"],[1.0,\"#f0f921\"]],\"sequentialminus\":[[0.0,\"#0d0887\"],[0.1111111111111111,\"#46039f\"],[0.2222222222222222,\"#7201a8\"],[0.3333333333333333,\"#9c179e\"],[0.4444444444444444,\"#bd3786\"],[0.5555555555555556,\"#d8576b\"],[0.6666666666666666,\"#ed7953\"],[0.7777777777777778,\"#fb9f3a\"],[0.8888888888888888,\"#fdca26\"],[1.0,\"#f0f921\"]]},\"colorway\":[\"#636efa\",\"#EF553B\",\"#00cc96\",\"#ab63fa\",\"#FFA15A\",\"#19d3f3\",\"#FF6692\",\"#B6E880\",\"#FF97FF\",\"#FECB52\"],\"font\":{\"color\":\"#2a3f5f\"},\"geo\":{\"bgcolor\":\"white\",\"lakecolor\":\"white\",\"landcolor\":\"#E5ECF6\",\"showlakes\":true,\"showland\":true,\"subunitcolor\":\"white\"},\"hoverlabel\":{\"align\":\"left\"},\"hovermode\":\"closest\",\"mapbox\":{\"style\":\"light\"},\"paper_bgcolor\":\"white\",\"plot_bgcolor\":\"#E5ECF6\",\"polar\":{\"angularaxis\":{\"gridcolor\":\"white\",\"linecolor\":\"white\",\"ticks\":\"\"},\"bgcolor\":\"#E5ECF6\",\"radialaxis\":{\"gridcolor\":\"white\",\"linecolor\":\"white\",\"ticks\":\"\"}},\"scene\":{\"xaxis\":{\"backgroundcolor\":\"#E5ECF6\",\"gridcolor\":\"white\",\"gridwidth\":2,\"linecolor\":\"white\",\"showbackground\":true,\"ticks\":\"\",\"zerolinecolor\":\"white\"},\"yaxis\":{\"backgroundcolor\":\"#E5ECF6\",\"gridcolor\":\"white\",\"gridwidth\":2,\"linecolor\":\"white\",\"showbackground\":true,\"ticks\":\"\",\"zerolinecolor\":\"white\"},\"zaxis\":{\"backgroundcolor\":\"#E5ECF6\",\"gridcolor\":\"white\",\"gridwidth\":2,\"linecolor\":\"white\",\"showbackground\":true,\"ticks\":\"\",\"zerolinecolor\":\"white\"}},\"shapedefaults\":{\"line\":{\"color\":\"#2a3f5f\"}},\"ternary\":{\"aaxis\":{\"gridcolor\":\"white\",\"linecolor\":\"white\",\"ticks\":\"\"},\"baxis\":{\"gridcolor\":\"white\",\"linecolor\":\"white\",\"ticks\":\"\"},\"bgcolor\":\"#E5ECF6\",\"caxis\":{\"gridcolor\":\"white\",\"linecolor\":\"white\",\"ticks\":\"\"}},\"title\":{\"x\":0.05},\"xaxis\":{\"automargin\":true,\"gridcolor\":\"white\",\"linecolor\":\"white\",\"ticks\":\"\",\"title\":{\"standoff\":15},\"zerolinecolor\":\"white\",\"zerolinewidth\":2},\"yaxis\":{\"automargin\":true,\"gridcolor\":\"white\",\"linecolor\":\"white\",\"ticks\":\"\",\"title\":{\"standoff\":15},\"zerolinecolor\":\"white\",\"zerolinewidth\":2}}},\"title\":{\"text\":\"Visualizing Clusters in three Dimensions Using PCA\"},\"xaxis\":{\"ticklen\":2,\"title\":{\"text\":\"PC1\"},\"zeroline\":false},\"yaxis\":{\"ticklen\":5,\"title\":{\"text\":\"PC2\"},\"zeroline\":false}},                        {\"responsive\": true}                    ).then(function(){\n",
       "                            \n",
       "var gd = document.getElementById('f3016230-1b3f-49f7-83e3-e519866cc750');\n",
       "var x = new MutationObserver(function (mutations, observer) {{\n",
       "        var display = window.getComputedStyle(gd).display;\n",
       "        if (!display || display === 'none') {{\n",
       "            console.log([gd, 'removed!']);\n",
       "            Plotly.purge(gd);\n",
       "            observer.disconnect();\n",
       "        }}\n",
       "}});\n",
       "\n",
       "// Listen for the removal of the full notebook cells\n",
       "var notebookContainer = gd.closest('#notebook-container');\n",
       "if (notebookContainer) {{\n",
       "    x.observe(notebookContainer, {childList: true});\n",
       "}}\n",
       "\n",
       "// Listen for the clearing of the current output cell\n",
       "var outputEl = gd.closest('.output');\n",
       "if (outputEl) {{\n",
       "    x.observe(outputEl, {childList: true});\n",
       "}}\n",
       "\n",
       "                        })                };                });            </script>        </div>"
      ]
     },
     "metadata": {},
     "output_type": "display_data"
    }
   ],
   "source": [
    "#trace1 is for 'Cluster 0'\n",
    "trace1 = go.Scatter3d(\n",
    "                    x = cluster3d_0[\"PC1_3d\"],\n",
    "                    y = cluster3d_0[\"PC2_3d\"],\n",
    "                    z = cluster3d_0[\"PC3_3d\"],\n",
    "                    mode = \"markers\",\n",
    "                    name = \"Cluster 0\",\n",
    "                    marker = dict(color = 'rgba(255, 128, 255, 0.8)'),\n",
    "                    text = cluster3d_0['trace'])\n",
    "\n",
    "#trace2 is for 'Cluster 1'\n",
    "trace2 = go.Scatter3d(\n",
    "                    x = cluster3d_1[\"PC1_3d\"],\n",
    "                    y = cluster3d_1[\"PC2_3d\"],\n",
    "                    z = cluster3d_1[\"PC3_3d\"],\n",
    "                    mode = \"markers\",\n",
    "                    name = \"Cluster 1\",\n",
    "                    marker = dict(color = 'rgba(255, 128, 2, 0.8)'),\n",
    "                    text = cluster3d_1['trace'])\n",
    "\n",
    "#trace3 is for 'Cluster 2'\n",
    "trace3 = go.Scatter3d(\n",
    "                    x = cluster3d_2[\"PC1_3d\"],\n",
    "                    y = cluster3d_2[\"PC2_3d\"],\n",
    "                    z = cluster3d_2[\"PC3_3d\"],\n",
    "                    mode = \"markers\",\n",
    "                    name = \"Cluster 2\",\n",
    "                    marker = dict(color = 'rgba(0, 255, 200, 0.8)'),\n",
    "                    text = cluster3d_2['trace'])\n",
    "\n",
    "data = [trace1, trace2, trace3]\n",
    "\n",
    "title = \"Visualizing Clusters in three Dimensions Using PCA\"\n",
    "\n",
    "layout = dict(title = title,\n",
    "              xaxis= dict(title= 'PC1',ticklen= 2,zeroline= False),\n",
    "              yaxis= dict(title= 'PC2',ticklen= 5,zeroline= False)\n",
    "             )\n",
    "\n",
    "fig = dict(data = data, layout = layout)\n",
    "\n",
    "iplot(fig)\n",
    "#pio.write_html(fig,'test.html')"
   ]
  },
  {
   "cell_type": "code",
   "execution_count": 79,
   "metadata": {},
   "outputs": [
    {
     "data": {
      "image/png": "[encoded data removed]",
      "text/plain": [
       "<Figure size 942.375x900 with 30 Axes>"
      ]
     },
     "metadata": {
      "needs_background": "light"
     },
     "output_type": "display_data"
    }
   ],
   "source": [
    "fig = sns.pairplot(pca_5dPlot,hue='cluster', palette='tab10')\n",
    "fig.savefig('test.jpeg')"
   ]
  }
 ],
 "metadata": {
  "interpreter": {
   "hash": "df422252ddca448dec748899bb2233a87d75e086a83c99a048ca07d22454d15d"
  },
  "kernelspec": {
   "display_name": "Python 3 (ipykernel)",
   "language": "python",
   "name": "python3"
  },
  "language_info": {
   "codemirror_mode": {
    "name": "ipython",
    "version": 3
   },
   "file_extension": ".py",
   "mimetype": "text/x-python",
   "name": "python",
   "nbconvert_exporter": "python",
   "pygments_lexer": "ipython3",
   "version": "3.10.2"
  }
 },
 "nbformat": 4,
 "nbformat_minor": 2
}
