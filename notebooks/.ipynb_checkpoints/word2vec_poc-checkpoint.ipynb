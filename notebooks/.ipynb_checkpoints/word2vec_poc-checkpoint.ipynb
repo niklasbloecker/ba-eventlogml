{
 "cells": [
  {
   "cell_type": "code",
   "execution_count": 26,
   "metadata": {},
   "outputs": [],
   "source": [
    "from gensim.models import Word2Vec, KeyedVectors\n",
    "import pandas as pd\n",
    "import nltk\n",
    "import numpy as np\n",
    "#from preprocessing import loadLog, tokenize"
   ]
  },
  {
   "cell_type": "code",
   "execution_count": 3,
   "metadata": {},
   "outputs": [
    {
     "data": {
      "text/html": [
       "<div>\n",
       "<style scoped>\n",
       "    .dataframe tbody tr th:only-of-type {\n",
       "        vertical-align: middle;\n",
       "    }\n",
       "\n",
       "    .dataframe tbody tr th {\n",
       "        vertical-align: top;\n",
       "    }\n",
       "\n",
       "    .dataframe thead th {\n",
       "        text-align: right;\n",
       "    }\n",
       "</style>\n",
       "<table border=\"1\" class=\"dataframe\">\n",
       "  <thead>\n",
       "    <tr style=\"text-align: right;\">\n",
       "      <th></th>\n",
       "      <th>0</th>\n",
       "      <th>1</th>\n",
       "      <th>2</th>\n",
       "    </tr>\n",
       "  </thead>\n",
       "  <tbody>\n",
       "    <tr>\n",
       "      <th>0</th>\n",
       "      <td>2022-02-23 08:25:12</td>\n",
       "      <td>502</td>\n",
       "      <td>Website Request served</td>\n",
       "    </tr>\n",
       "    <tr>\n",
       "      <th>1</th>\n",
       "      <td>2022-02-23 09:51:22</td>\n",
       "      <td>502</td>\n",
       "      <td>User logged in</td>\n",
       "    </tr>\n",
       "    <tr>\n",
       "      <th>2</th>\n",
       "      <td>2022-02-23 10:31:19</td>\n",
       "      <td>502</td>\n",
       "      <td>Item added to cart</td>\n",
       "    </tr>\n",
       "    <tr>\n",
       "      <th>3</th>\n",
       "      <td>2022-02-23 11:56:22</td>\n",
       "      <td>502</td>\n",
       "      <td>Item added to cart</td>\n",
       "    </tr>\n",
       "    <tr>\n",
       "      <th>4</th>\n",
       "      <td>2022-02-23 12:03:37</td>\n",
       "      <td>502</td>\n",
       "      <td>DHL chosen for shipping</td>\n",
       "    </tr>\n",
       "    <tr>\n",
       "      <th>...</th>\n",
       "      <td>...</td>\n",
       "      <td>...</td>\n",
       "      <td>...</td>\n",
       "    </tr>\n",
       "    <tr>\n",
       "      <th>2940</th>\n",
       "      <td>2022-06-25 20:01:17</td>\n",
       "      <td>906</td>\n",
       "      <td>User logged in</td>\n",
       "    </tr>\n",
       "    <tr>\n",
       "      <th>2941</th>\n",
       "      <td>2022-06-25 21:42:25</td>\n",
       "      <td>906</td>\n",
       "      <td>Item added to cart</td>\n",
       "    </tr>\n",
       "    <tr>\n",
       "      <th>2942</th>\n",
       "      <td>2022-06-25 22:04:14</td>\n",
       "      <td>906</td>\n",
       "      <td>DHL chosen for shipping</td>\n",
       "    </tr>\n",
       "    <tr>\n",
       "      <th>2943</th>\n",
       "      <td>2022-06-25 23:53:55</td>\n",
       "      <td>906</td>\n",
       "      <td>Paypal chosen for payment</td>\n",
       "    </tr>\n",
       "    <tr>\n",
       "      <th>2944</th>\n",
       "      <td>2022-06-26 00:53:44</td>\n",
       "      <td>906</td>\n",
       "      <td>Order placed succesful</td>\n",
       "    </tr>\n",
       "  </tbody>\n",
       "</table>\n",
       "<p>2945 rows × 3 columns</p>\n",
       "</div>"
      ],
      "text/plain": [
       "                        0    1                          2\n",
       "0     2022-02-23 08:25:12  502     Website Request served\n",
       "1     2022-02-23 09:51:22  502             User logged in\n",
       "2     2022-02-23 10:31:19  502         Item added to cart\n",
       "3     2022-02-23 11:56:22  502         Item added to cart\n",
       "4     2022-02-23 12:03:37  502    DHL chosen for shipping\n",
       "...                   ...  ...                        ...\n",
       "2940  2022-06-25 20:01:17  906             User logged in\n",
       "2941  2022-06-25 21:42:25  906         Item added to cart\n",
       "2942  2022-06-25 22:04:14  906    DHL chosen for shipping\n",
       "2943  2022-06-25 23:53:55  906  Paypal chosen for payment\n",
       "2944  2022-06-26 00:53:44  906     Order placed succesful\n",
       "\n",
       "[2945 rows x 3 columns]"
      ]
     },
     "execution_count": 3,
     "metadata": {},
     "output_type": "execute_result"
    }
   ],
   "source": [
    "df = pd.read_csv('../logs/ecommerce_log.csv', delimiter=';', header=None)\n",
    "df = df.drop([df.columns[3]], axis=1)\n",
    "df"
   ]
  },
  {
   "cell_type": "code",
   "execution_count": 4,
   "metadata": {},
   "outputs": [
    {
     "data": {
      "text/plain": [
       "'2022-02-23 08:25:12 502                Website Request served'"
      ]
     },
     "execution_count": 4,
     "metadata": {},
     "output_type": "execute_result"
    }
   ],
   "source": [
    "x = df.to_string(header=False,index=False,index_names=False).split('\\n')\n",
    "x[0]"
   ]
  },
  {
   "cell_type": "code",
   "execution_count": 5,
   "metadata": {},
   "outputs": [
    {
     "name": "stderr",
     "output_type": "stream",
     "text": [
      "[nltk_data] Downloading package punkt to\n",
      "[nltk_data]     C:\\Users\\nbloe\\AppData\\Roaming\\nltk_data...\n",
      "[nltk_data]   Package punkt is already up-to-date!\n"
     ]
    },
    {
     "data": {
      "text/plain": [
       "True"
      ]
     },
     "execution_count": 5,
     "metadata": {},
     "output_type": "execute_result"
    }
   ],
   "source": [
    "nltk.download(\"punkt\")"
   ]
  },
  {
   "cell_type": "code",
   "execution_count": 6,
   "metadata": {},
   "outputs": [
    {
     "name": "stdout",
     "output_type": "stream",
     "text": [
      "['2022-02-23', '08:25:12', '502', 'Website', 'Request', 'served']\n"
     ]
    }
   ],
   "source": [
    "xVec = [nltk.word_tokenize(event) for event in x]\n",
    "print(xVec[0])"
   ]
  },
  {
   "cell_type": "code",
   "execution_count": 7,
   "metadata": {},
   "outputs": [],
   "source": [
    "model = Word2Vec(sentences=xVec, vector_size=100, window=4, min_count=1, workers=4)"
   ]
  },
  {
   "cell_type": "code",
   "execution_count": 8,
   "metadata": {},
   "outputs": [
    {
     "data": {
      "text/plain": [
       "array([-0.5863008 ,  0.4875649 ,  0.08014353,  0.10697131, -0.13619551,\n",
       "       -0.4263269 ,  0.01971867,  1.0389864 , -0.5698378 , -0.3556828 ,\n",
       "        0.05668448, -0.5601186 , -0.29142645,  0.1983361 ,  0.26722047,\n",
       "       -0.1899285 ,  0.13712999, -0.38661334, -0.12104645, -0.7534558 ,\n",
       "        0.13833742,  0.19514427,  0.38736868, -0.09944427, -0.28877863,\n",
       "        0.14192513, -0.3729152 , -0.22884321, -0.27767202,  0.21477047,\n",
       "        0.40344098, -0.17543189, -0.03244539, -0.36357176, -0.07014076,\n",
       "        0.28844914, -0.05834344,  0.03963174, -0.02914332, -0.37355745,\n",
       "        0.46001387, -0.21132085, -0.48155972,  0.2992102 ,  0.400137  ,\n",
       "       -0.2652201 , -0.31950915, -0.19627658,  0.13287793,  0.2752863 ,\n",
       "        0.18968719, -0.4264808 , -0.1195714 ,  0.14955217, -0.21983373,\n",
       "        0.00930344,  0.07657535, -0.24014553, -0.0616823 ,  0.10197222,\n",
       "        0.03808433,  0.12138541,  0.26497537,  0.17355993, -0.4303571 ,\n",
       "        0.27491656,  0.16152826,  0.28624606, -0.3308998 ,  0.58602524,\n",
       "       -0.18310703,  0.09680615,  0.21994019, -0.37119272,  0.43137494,\n",
       "        0.19322197, -0.11734159,  0.1059674 , -0.05240596, -0.077416  ,\n",
       "       -0.22460592, -0.1669537 ,  0.04742077,  0.20935415,  0.09440962,\n",
       "        0.08702971,  0.14547126,  0.14944725,  0.3481159 ,  0.07119614,\n",
       "        0.45134985, -0.06744492,  0.3267826 ,  0.23057863,  0.6159685 ,\n",
       "        0.36869082,  0.10849132, -0.31461975, -0.03979025,  0.32547283],\n",
       "      dtype=float32)"
      ]
     },
     "execution_count": 8,
     "metadata": {},
     "output_type": "execute_result"
    }
   ],
   "source": [
    "model.wv.get_vector('User')"
   ]
  },
  {
   "cell_type": "code",
   "execution_count": 9,
   "metadata": {},
   "outputs": [
    {
     "data": {
      "text/plain": [
       "[('logged', 0.9993391036987305),\n",
       " ('in', 0.9992095828056335),\n",
       " ('loged', 0.9991558790206909),\n",
       " ('Order', 0.9988263249397278),\n",
       " ('succesful', 0.9988254904747009),\n",
       " ('served', 0.9988163709640503),\n",
       " ('place', 0.9987384080886841),\n",
       " ('Website', 0.9987108707427979),\n",
       " ('Request', 0.9986981153488159),\n",
       " ('for', 0.9986829161643982)]"
      ]
     },
     "execution_count": 9,
     "metadata": {},
     "output_type": "execute_result"
    }
   ],
   "source": [
    "model.wv.similar_by_word('User')"
   ]
  },
  {
   "cell_type": "markdown",
   "metadata": {},
   "source": [
    "### Calculate Trace Vectors\n",
    "2 Possibilities: \n",
    "- Simply summing up word vectors produced by w2c\n",
    "- Using tf-idf to weigh in the importance of certain events"
   ]
  },
  {
   "cell_type": "markdown",
   "metadata": {},
   "source": [
    "##### Sort log for corresponding trace values "
   ]
  },
  {
   "cell_type": "code",
   "execution_count": 10,
   "metadata": {},
   "outputs": [],
   "source": [
    "traceids = df[1].unique()\n",
    "trace_list = []\n",
    "\n",
    "# Filter for each tradeid an convert each trade into lists, containing the events.\n",
    "for id in traceids:\n",
    "    df_trace= df.loc[df[1]==id] # df holding the entries for the specific trace ID\n",
    "    df_traceString = df_trace.to_string(header=False,index=False,index_names=False).split('\\n') # Converting each event into a string\n",
    "    df_traceToken = [nltk.word_tokenize(event) for event in df_traceString]\n",
    "    trace_list.append(df_traceToken)"
   ]
  },
  {
   "cell_type": "code",
   "execution_count": 11,
   "metadata": {},
   "outputs": [
    {
     "data": {
      "text/plain": [
       "[['2022-02-23', '15:38:35', '503', 'Website', 'Request', 'served'],\n",
       " ['2022-02-23', '16:25:54', '503', 'User', 'loged', 'in'],\n",
       " ['2022-02-23', '17:22:00', '503', 'Item', 'added', 'cart'],\n",
       " ['2022-02-23', '18:39:16', '503', 'DPD', 'chosen', 'for', 'shipping'],\n",
       " ['2022-02-23',\n",
       "  '19:35:03',\n",
       "  '503',\n",
       "  'Sofortueberweisung',\n",
       "  'chosen',\n",
       "  'for',\n",
       "  'payment'],\n",
       " ['2022-02-23', '20:09:58', '503', 'Order', 'place', 'succesful']]"
      ]
     },
     "execution_count": 11,
     "metadata": {},
     "output_type": "execute_result"
    }
   ],
   "source": [
    "trace_list[1] # trace_list now holds the tokenized entries to each trace trace_list[trace][event][token]"
   ]
  },
  {
   "cell_type": "code",
   "execution_count": 22,
   "metadata": {},
   "outputs": [],
   "source": [
    "trace_VecWordList = [[['x' for token in trace_list[trace][event]] for event in range(len(trace_list[trace]))] for trace in range(len(trace_list))]\n",
    "\n",
    "for trace in range(len(trace_VecWordList)):\n",
    "    for event in range(len(trace_VecWordList[trace])):\n",
    "        for token in range(len(trace_VecWordList[trace][event])):\n",
    "            vec_temp = model.wv.get_vector(trace_list[trace][event][token])\n",
    "            trace_VecWordList[trace][event][token] = vec_temp"
   ]
  },
  {
   "cell_type": "code",
   "execution_count": 28,
   "metadata": {},
   "outputs": [
    {
     "data": {
      "text/plain": [
       "array([-0.09638337,  0.09964254,  0.01325504,  0.02341944, -0.02222308,\n",
       "       -0.08206922,  0.01307984,  0.18993628, -0.10445663, -0.05808181,\n",
       "        0.01038984, -0.10736793, -0.0597076 ,  0.03829311,  0.04864879,\n",
       "       -0.02197029,  0.01526095, -0.07028924, -0.01597278, -0.14485234,\n",
       "        0.02343717,  0.03916576,  0.07675726, -0.01826531, -0.05518734,\n",
       "        0.01843359, -0.06552345, -0.04995762, -0.05904937,  0.0345258 ,\n",
       "        0.07851927, -0.03855348, -0.00954299, -0.06004349, -0.00533075,\n",
       "        0.04377344, -0.0156301 ,  0.00528847,  0.00210827, -0.06986278,\n",
       "        0.08130286, -0.03747939, -0.07878471,  0.06049965,  0.08058722,\n",
       "       -0.04009426, -0.06166665, -0.04175092,  0.02514098,  0.05549704,\n",
       "        0.03238076, -0.07260148, -0.02016556,  0.03663853, -0.0399198 ,\n",
       "        0.00375073,  0.0144625 , -0.05007904, -0.00828724,  0.00956502,\n",
       "        0.00393074,  0.0325841 ,  0.04884181,  0.02059308, -0.07532296,\n",
       "        0.04334939,  0.02344244,  0.05580251, -0.05638354,  0.11408187,\n",
       "       -0.03302185,  0.00697619,  0.03572802, -0.06120997,  0.06665231,\n",
       "        0.04066558, -0.02494905,  0.0234468 , -0.01734575, -0.01303975,\n",
       "       -0.03295997, -0.02596737,  0.01253777,  0.02936937,  0.02684192,\n",
       "        0.01115085,  0.02653072,  0.03439217,  0.06527328,  0.0113753 ,\n",
       "        0.07640108, -0.0158597 ,  0.04834567,  0.04912419,  0.113847  ,\n",
       "        0.05662598,  0.01845123, -0.06154222, -0.01783866,  0.04945485],\n",
       "      dtype=float32)"
      ]
     },
     "execution_count": 28,
     "metadata": {},
     "output_type": "execute_result"
    }
   ],
   "source": [
    "trace_VecWordList[0][0][0] # trace_VecWordList now holds the word vector in the same structure als trace_list"
   ]
  },
  {
   "cell_type": "markdown",
   "metadata": {},
   "source": [
    "##### Summing up vector values\n",
    "Using equal weight for each token"
   ]
  },
  {
   "cell_type": "code",
   "execution_count": 27,
   "metadata": {},
   "outputs": [
    {
     "data": {
      "text/plain": [
       "array([-0.10540325,  0.1082679 ,  0.01320376,  0.02709305, -0.01649285,\n",
       "       -0.08921216,  0.01806179,  0.19236825, -0.0990551 , -0.05815965,\n",
       "        0.00112099, -0.12018748, -0.0615453 ,  0.03660392,  0.05048572,\n",
       "       -0.01732261,  0.0233789 , -0.07447309, -0.01051071, -0.15106066,\n",
       "        0.01920407,  0.03568432,  0.08339425, -0.01273215, -0.04907519,\n",
       "        0.02675553, -0.07142184, -0.06003279, -0.06555425,  0.04564411,\n",
       "        0.07983059, -0.03827064, -0.01092934, -0.0557855 ,  0.00355495,\n",
       "        0.04365511, -0.00678894,  0.00099307,  0.00348159, -0.06848538,\n",
       "        0.07827996, -0.03010542, -0.07283897,  0.06123767,  0.09231221,\n",
       "       -0.03861605, -0.07331645, -0.04874169,  0.01836671,  0.06175528,\n",
       "        0.03712612, -0.0769515 , -0.02396288,  0.02966452, -0.03318953,\n",
       "        0.00984308,  0.02035352, -0.06011863, -0.0137709 ,  0.00326542,\n",
       "        0.00022103,  0.0297508 ,  0.04890973,  0.01769083, -0.0858798 ,\n",
       "        0.05164319,  0.02188109,  0.05717798, -0.06018936,  0.12021286,\n",
       "       -0.04134746,  0.01599102,  0.03327226, -0.06508102,  0.06304672,\n",
       "        0.03804201, -0.02566509,  0.02543091, -0.01381893, -0.0152273 ,\n",
       "       -0.02826887, -0.02454385,  0.01469875,  0.04068116,  0.0228307 ,\n",
       "        0.01804841,  0.02457867,  0.03733063,  0.07010978,  0.00790976,\n",
       "        0.08200699, -0.02043161,  0.04788898,  0.04281782,  0.11727139,\n",
       "        0.05061872,  0.01525699, -0.05660946, -0.02225346,  0.04938138],\n",
       "      dtype=float32)"
      ]
     },
     "execution_count": 27,
     "metadata": {},
     "output_type": "execute_result"
    }
   ],
   "source": [
    "np.add(trace_VecWordList[0][0][0],trace_VecWordList[0][0][1])"
   ]
  },
  {
   "cell_type": "markdown",
   "metadata": {},
   "source": [
    "##### Using TF-IDF to weigh in on event importance"
   ]
  },
  {
   "cell_type": "code",
   "execution_count": 14,
   "metadata": {},
   "outputs": [],
   "source": [
    "from sklearn.feature_extraction.text import TfidfVectorizer"
   ]
  },
  {
   "cell_type": "code",
   "execution_count": 15,
   "metadata": {},
   "outputs": [],
   "source": [
    "event_text = df[2].values.tolist() # Store all text values of events in a list for IDF Vectorizer"
   ]
  },
  {
   "cell_type": "code",
   "execution_count": null,
   "metadata": {},
   "outputs": [],
   "source": [
    "vectorizer = TfidfVectorizer()\n",
    "vectors = vectorizer.fit_transform(event_text)\n",
    "feature_names = vectorizer.get_feature_names_out()\n",
    "dense = vectors.todense()\n",
    "dense_list = dense.tolist()\n",
    "pd.DataFrame(dense_list, columns = feature_names).head()"
   ]
  },
  {
   "cell_type": "code",
   "execution_count": 17,
   "metadata": {},
   "outputs": [
    {
     "ename": "NameError",
     "evalue": "name 'tfid' is not defined",
     "output_type": "error",
     "traceback": [
      "\u001b[1;31m---------------------------------------------------------------------------\u001b[0m",
      "\u001b[1;31mNameError\u001b[0m                                 Traceback (most recent call last)",
      "Input \u001b[1;32mIn [17]\u001b[0m, in \u001b[0;36m<module>\u001b[1;34m\u001b[0m\n\u001b[1;32m----> 1\u001b[0m \u001b[43mtfid\u001b[49m[\u001b[38;5;241m0\u001b[39m]\u001b[38;5;241m.\u001b[39mtoarray()\n",
      "\u001b[1;31mNameError\u001b[0m: name 'tfid' is not defined"
     ]
    }
   ],
   "source": [
    "tfid[0].toarray()"
   ]
  }
 ],
 "metadata": {
  "interpreter": {
   "hash": "df422252ddca448dec748899bb2233a87d75e086a83c99a048ca07d22454d15d"
  },
  "kernelspec": {
   "display_name": "Python 3 (ipykernel)",
   "language": "python",
   "name": "python3"
  },
  "language_info": {
   "codemirror_mode": {
    "name": "ipython",
    "version": 3
   },
   "file_extension": ".py",
   "mimetype": "text/x-python",
   "name": "python",
   "nbconvert_exporter": "python",
   "pygments_lexer": "ipython3",
   "version": "3.10.2"
  }
 },
 "nbformat": 4,
 "nbformat_minor": 2
}
