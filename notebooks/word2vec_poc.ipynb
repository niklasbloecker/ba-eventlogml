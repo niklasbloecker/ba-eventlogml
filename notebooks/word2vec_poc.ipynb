{
 "cells": [
  {
   "cell_type": "code",
   "execution_count": 1,
   "metadata": {},
   "outputs": [],
   "source": [
    "from gensim.models import Word2Vec, KeyedVectors\n",
    "import pandas as pd\n",
    "import nltk\n",
    "import numpy as np\n",
    "#from preprocessing import loadLog, tokenize"
   ]
  },
  {
   "cell_type": "code",
   "execution_count": 2,
   "metadata": {},
   "outputs": [
    {
     "data": {
      "text/html": [
       "<div>\n",
       "<style scoped>\n",
       "    .dataframe tbody tr th:only-of-type {\n",
       "        vertical-align: middle;\n",
       "    }\n",
       "\n",
       "    .dataframe tbody tr th {\n",
       "        vertical-align: top;\n",
       "    }\n",
       "\n",
       "    .dataframe thead th {\n",
       "        text-align: right;\n",
       "    }\n",
       "</style>\n",
       "<table border=\"1\" class=\"dataframe\">\n",
       "  <thead>\n",
       "    <tr style=\"text-align: right;\">\n",
       "      <th></th>\n",
       "      <th>0</th>\n",
       "      <th>1</th>\n",
       "      <th>2</th>\n",
       "    </tr>\n",
       "  </thead>\n",
       "  <tbody>\n",
       "    <tr>\n",
       "      <th>0</th>\n",
       "      <td>2022-02-23 08:25:12</td>\n",
       "      <td>502</td>\n",
       "      <td>Website Request served</td>\n",
       "    </tr>\n",
       "    <tr>\n",
       "      <th>1</th>\n",
       "      <td>2022-02-23 09:51:22</td>\n",
       "      <td>502</td>\n",
       "      <td>User logged in</td>\n",
       "    </tr>\n",
       "    <tr>\n",
       "      <th>2</th>\n",
       "      <td>2022-02-23 10:31:19</td>\n",
       "      <td>502</td>\n",
       "      <td>Item added to cart</td>\n",
       "    </tr>\n",
       "    <tr>\n",
       "      <th>3</th>\n",
       "      <td>2022-02-23 11:56:22</td>\n",
       "      <td>502</td>\n",
       "      <td>Item added to cart</td>\n",
       "    </tr>\n",
       "    <tr>\n",
       "      <th>4</th>\n",
       "      <td>2022-02-23 12:03:37</td>\n",
       "      <td>502</td>\n",
       "      <td>DHL chosen for shipping</td>\n",
       "    </tr>\n",
       "    <tr>\n",
       "      <th>...</th>\n",
       "      <td>...</td>\n",
       "      <td>...</td>\n",
       "      <td>...</td>\n",
       "    </tr>\n",
       "    <tr>\n",
       "      <th>2940</th>\n",
       "      <td>2022-06-25 20:01:17</td>\n",
       "      <td>906</td>\n",
       "      <td>User logged in</td>\n",
       "    </tr>\n",
       "    <tr>\n",
       "      <th>2941</th>\n",
       "      <td>2022-06-25 21:42:25</td>\n",
       "      <td>906</td>\n",
       "      <td>Item added to cart</td>\n",
       "    </tr>\n",
       "    <tr>\n",
       "      <th>2942</th>\n",
       "      <td>2022-06-25 22:04:14</td>\n",
       "      <td>906</td>\n",
       "      <td>DHL chosen for shipping</td>\n",
       "    </tr>\n",
       "    <tr>\n",
       "      <th>2943</th>\n",
       "      <td>2022-06-25 23:53:55</td>\n",
       "      <td>906</td>\n",
       "      <td>Paypal chosen for payment</td>\n",
       "    </tr>\n",
       "    <tr>\n",
       "      <th>2944</th>\n",
       "      <td>2022-06-26 00:53:44</td>\n",
       "      <td>906</td>\n",
       "      <td>Order placed succesful</td>\n",
       "    </tr>\n",
       "  </tbody>\n",
       "</table>\n",
       "<p>2945 rows × 3 columns</p>\n",
       "</div>"
      ],
      "text/plain": [
       "                        0    1                          2\n",
       "0     2022-02-23 08:25:12  502     Website Request served\n",
       "1     2022-02-23 09:51:22  502             User logged in\n",
       "2     2022-02-23 10:31:19  502         Item added to cart\n",
       "3     2022-02-23 11:56:22  502         Item added to cart\n",
       "4     2022-02-23 12:03:37  502    DHL chosen for shipping\n",
       "...                   ...  ...                        ...\n",
       "2940  2022-06-25 20:01:17  906             User logged in\n",
       "2941  2022-06-25 21:42:25  906         Item added to cart\n",
       "2942  2022-06-25 22:04:14  906    DHL chosen for shipping\n",
       "2943  2022-06-25 23:53:55  906  Paypal chosen for payment\n",
       "2944  2022-06-26 00:53:44  906     Order placed succesful\n",
       "\n",
       "[2945 rows x 3 columns]"
      ]
     },
     "execution_count": 2,
     "metadata": {},
     "output_type": "execute_result"
    }
   ],
   "source": [
    "df = pd.read_csv('../logs/ecommerce_log.csv', delimiter=';', header=None)\n",
    "df = df.drop([df.columns[3]], axis=1)\n",
    "df"
   ]
  },
  {
   "cell_type": "code",
   "execution_count": 3,
   "metadata": {},
   "outputs": [
    {
     "data": {
      "text/plain": [
       "'2022-02-23 08:25:12 502                Website Request served'"
      ]
     },
     "execution_count": 3,
     "metadata": {},
     "output_type": "execute_result"
    }
   ],
   "source": [
    "x = df.to_string(header=False,index=False,index_names=False).split('\\n')\n",
    "x[0]"
   ]
  },
  {
   "cell_type": "code",
   "execution_count": 4,
   "metadata": {},
   "outputs": [
    {
     "name": "stderr",
     "output_type": "stream",
     "text": [
      "[nltk_data] Downloading package punkt to\n",
      "[nltk_data]     C:\\Users\\nbloe\\AppData\\Roaming\\nltk_data...\n",
      "[nltk_data]   Package punkt is already up-to-date!\n"
     ]
    },
    {
     "data": {
      "text/plain": [
       "True"
      ]
     },
     "execution_count": 4,
     "metadata": {},
     "output_type": "execute_result"
    }
   ],
   "source": [
    "nltk.download(\"punkt\")"
   ]
  },
  {
   "cell_type": "code",
   "execution_count": 5,
   "metadata": {},
   "outputs": [
    {
     "name": "stdout",
     "output_type": "stream",
     "text": [
      "['2022-02-23', '08:25:12', '502', 'Website', 'Request', 'served']\n"
     ]
    }
   ],
   "source": [
    "xVec = [nltk.word_tokenize(event) for event in x]\n",
    "print(xVec[0])"
   ]
  },
  {
   "cell_type": "code",
   "execution_count": 6,
   "metadata": {},
   "outputs": [],
   "source": [
    "model = Word2Vec(sentences=xVec, vector_size=100, window=4, min_count=1, workers=4)"
   ]
  },
  {
   "cell_type": "code",
   "execution_count": 7,
   "metadata": {},
   "outputs": [
    {
     "data": {
      "text/plain": [
       "array([-0.5940518 ,  0.49130073,  0.07868639,  0.10935442, -0.13178326,\n",
       "       -0.431945  ,  0.02251341,  1.0315506 , -0.56948674, -0.35486963,\n",
       "        0.05497612, -0.56463194, -0.29749495,  0.19819899,  0.2664801 ,\n",
       "       -0.19225816,  0.13266654, -0.38223517, -0.11779381, -0.7427251 ,\n",
       "        0.14546604,  0.19215912,  0.3897603 , -0.09711373, -0.29192543,\n",
       "        0.14073837, -0.36542735, -0.22322379, -0.27785334,  0.20179437,\n",
       "        0.40273815, -0.16835815, -0.04083753, -0.35680038, -0.0665308 ,\n",
       "        0.27712876, -0.05660896,  0.04790317, -0.02677449, -0.3702755 ,\n",
       "        0.46117857, -0.21365255, -0.4898719 ,  0.3015555 ,  0.39348957,\n",
       "       -0.26181734, -0.31789762, -0.19376549,  0.1341014 ,  0.2694371 ,\n",
       "        0.18957081, -0.42710918, -0.11305144,  0.14431651, -0.2135126 ,\n",
       "        0.00783498,  0.07564534, -0.24786736, -0.07033429,  0.10731077,\n",
       "        0.03983046,  0.12221579,  0.26641056,  0.17812373, -0.42232525,\n",
       "        0.2735623 ,  0.16427834,  0.28725433, -0.32933068,  0.5961787 ,\n",
       "       -0.18172444,  0.09126066,  0.22049715, -0.3733065 ,  0.42666143,\n",
       "        0.20473899, -0.1239834 ,  0.10172272, -0.04703827, -0.0852971 ,\n",
       "       -0.22832823, -0.17078146,  0.04979185,  0.20423505,  0.08716805,\n",
       "        0.08498025,  0.14711022,  0.1548384 ,  0.34214   ,  0.07507588,\n",
       "        0.45449677, -0.07123527,  0.32348052,  0.22867513,  0.619335  ,\n",
       "        0.36909878,  0.10631057, -0.32420897, -0.04253802,  0.32318178],\n",
       "      dtype=float32)"
      ]
     },
     "execution_count": 7,
     "metadata": {},
     "output_type": "execute_result"
    }
   ],
   "source": [
    "model.wv.get_vector('User')"
   ]
  },
  {
   "cell_type": "code",
   "execution_count": 8,
   "metadata": {},
   "outputs": [
    {
     "data": {
      "text/plain": [
       "[('logged', 0.9993377923965454),\n",
       " ('in', 0.999204695224762),\n",
       " ('loged', 0.9991512298583984),\n",
       " ('Order', 0.9988253712654114),\n",
       " ('succesful', 0.9988229274749756),\n",
       " ('served', 0.9988051056861877),\n",
       " ('place', 0.998736560344696),\n",
       " ('Website', 0.9986993074417114),\n",
       " ('Request', 0.9986844062805176),\n",
       " ('for', 0.9986718893051147)]"
      ]
     },
     "execution_count": 8,
     "metadata": {},
     "output_type": "execute_result"
    }
   ],
   "source": [
    "model.wv.similar_by_word('User')"
   ]
  },
  {
   "cell_type": "markdown",
   "metadata": {},
   "source": [
    "### Calculate Trace Vectors\n",
    "2 Possibilities: \n",
    "- Simply summing up word vectors produced by w2c\n",
    "- Using tf-idf to weigh in the importance of certain events"
   ]
  },
  {
   "cell_type": "markdown",
   "metadata": {},
   "source": [
    "##### Sort log for corresponding trace values "
   ]
  },
  {
   "cell_type": "code",
   "execution_count": 9,
   "metadata": {},
   "outputs": [],
   "source": [
    "traceids = df[1].unique()\n",
    "trace_list = []\n",
    "\n",
    "# Filter for each tradeid an convert each trade into lists, containing the events.\n",
    "for id in traceids:\n",
    "    df_trace= df.loc[df[1]==id] # df holding the entries for the specific trace ID\n",
    "    df_traceString = df_trace.to_string(header=False,index=False,index_names=False).split('\\n') # Converting each event into a string\n",
    "    df_traceToken = [nltk.word_tokenize(event) for event in df_traceString]\n",
    "    trace_list.append(df_traceToken)"
   ]
  },
  {
   "cell_type": "code",
   "execution_count": 10,
   "metadata": {},
   "outputs": [
    {
     "data": {
      "text/plain": [
       "[['2022-02-23', '15:38:35', '503', 'Website', 'Request', 'served'],\n",
       " ['2022-02-23', '16:25:54', '503', 'User', 'loged', 'in'],\n",
       " ['2022-02-23', '17:22:00', '503', 'Item', 'added', 'cart'],\n",
       " ['2022-02-23', '18:39:16', '503', 'DPD', 'chosen', 'for', 'shipping'],\n",
       " ['2022-02-23',\n",
       "  '19:35:03',\n",
       "  '503',\n",
       "  'Sofortueberweisung',\n",
       "  'chosen',\n",
       "  'for',\n",
       "  'payment'],\n",
       " ['2022-02-23', '20:09:58', '503', 'Order', 'place', 'succesful']]"
      ]
     },
     "execution_count": 10,
     "metadata": {},
     "output_type": "execute_result"
    }
   ],
   "source": [
    "trace_list[1] # trace_list now holds the tokenized entries to each trace trace_list[trace][event][token]"
   ]
  },
  {
   "cell_type": "code",
   "execution_count": 11,
   "metadata": {},
   "outputs": [],
   "source": [
    "trace_VecWordList = [[['x' for token in trace_list[trace][event]] for event in range(len(trace_list[trace]))] for trace in range(len(trace_list))]\n",
    "\n",
    "for trace in range(len(trace_VecWordList)):\n",
    "    for event in range(len(trace_VecWordList[trace])):\n",
    "        for token in range(len(trace_VecWordList[trace][event])):\n",
    "            vec_temp = model.wv.get_vector(trace_list[trace][event][token])\n",
    "            trace_VecWordList[trace][event][token] = vec_temp"
   ]
  },
  {
   "cell_type": "code",
   "execution_count": 12,
   "metadata": {},
   "outputs": [
    {
     "data": {
      "text/plain": [
       "array([-0.09779584,  0.10035191,  0.01301485,  0.02387704, -0.02146112,\n",
       "       -0.0830856 ,  0.01357802,  0.18856898, -0.104498  , -0.05786083,\n",
       "        0.01003336, -0.10818177, -0.06077594,  0.03826899,  0.04851247,\n",
       "       -0.02240507,  0.01443088, -0.06951978, -0.01539576, -0.14299472,\n",
       "        0.02469563,  0.03862039,  0.07722629, -0.0178235 , -0.05580613,\n",
       "        0.01824606, -0.06417972, -0.04892108, -0.05909598,  0.03217707,\n",
       "        0.07843202, -0.03724485, -0.01099197, -0.05886261, -0.00464725,\n",
       "        0.04172616, -0.01530062,  0.00681002,  0.0024635 , -0.06930793,\n",
       "        0.08149738, -0.03793086, -0.08037446,  0.06095518,  0.07939834,\n",
       "       -0.03946851, -0.06137856, -0.04129384,  0.02535676,  0.05448697,\n",
       "        0.03239105, -0.0726501 , -0.01895668,  0.03568915, -0.03879852,\n",
       "        0.00349782,  0.01426152, -0.05146905, -0.00984154,  0.01052658,\n",
       "        0.00421686,  0.0328161 ,  0.04911625,  0.02142886, -0.07391262,\n",
       "        0.04310221,  0.02399166,  0.05606858, -0.05610271,  0.11592314,\n",
       "       -0.03280076,  0.00603802,  0.0358131 , -0.06160976,  0.06582636,\n",
       "        0.04281829, -0.02613306,  0.02271505, -0.01639659, -0.01448895,\n",
       "       -0.03364439, -0.02672617,  0.01302623,  0.02841285,  0.02547206,\n",
       "        0.01078238,  0.0267924 ,  0.03537094,  0.06423523,  0.01207538,\n",
       "        0.07699149, -0.01649956,  0.04771059,  0.04880435,  0.11449533,\n",
       "        0.05665703,  0.01807779, -0.0632172 , -0.01830171,  0.048944  ],\n",
       "      dtype=float32)"
      ]
     },
     "execution_count": 12,
     "metadata": {},
     "output_type": "execute_result"
    }
   ],
   "source": [
    "trace_VecWordList[0][0][0] # trace_VecWordList now holds the word vector in the same structure als trace_list"
   ]
  },
  {
   "cell_type": "markdown",
   "metadata": {},
   "source": [
    "##### Summing up vector values\n",
    "Using equal weight for each token"
   ]
  },
  {
   "cell_type": "code",
   "execution_count": 25,
   "metadata": {},
   "outputs": [
    {
     "data": {
      "text/plain": [
       "array([-1.7732208 ,  1.5061026 ,  0.20985326,  0.39580762, -0.41969952,\n",
       "       -1.3350701 ,  0.09739044,  3.0525699 , -1.7508745 , -1.0546958 ,\n",
       "        0.21530071, -1.698124  , -0.8177281 ,  0.5815058 ,  0.8513632 ,\n",
       "       -0.49165756,  0.37394083, -1.1920189 , -0.37086987, -2.2271066 ,\n",
       "        0.42595804,  0.5865429 ,  1.2017881 , -0.33780292, -0.8551176 ,\n",
       "        0.40224898, -1.0706888 , -0.7530372 , -0.8244256 ,  0.55899143,\n",
       "        1.2573339 , -0.54879624, -0.10750362, -0.98149943, -0.16743213,\n",
       "        0.8630176 , -0.10521385,  0.19304293, -0.07075709, -1.1196117 ,\n",
       "        1.3656691 , -0.61478734, -1.466968  ,  0.88194764,  1.2041999 ,\n",
       "       -0.73984355, -1.0110309 , -0.53025854,  0.39333916,  0.8233538 ,\n",
       "        0.5281168 , -1.2220569 , -0.36653662,  0.47723958, -0.6036889 ,\n",
       "        0.01350018,  0.22801465, -0.7620679 , -0.2077476 ,  0.25326818,\n",
       "        0.10117194,  0.4012277 ,  0.81374156,  0.49761674, -1.2957555 ,\n",
       "        0.8091037 ,  0.38076127,  0.8024878 , -0.943316  ,  1.767876  ,\n",
       "       -0.58135235,  0.2954913 ,  0.6190978 , -1.0679678 ,  1.2246206 ,\n",
       "        0.5843414 , -0.39797744,  0.29489422, -0.1041823 , -0.22964536,\n",
       "       -0.6058425 , -0.5410499 ,  0.18983163,  0.5923625 ,  0.29316187,\n",
       "        0.2485773 ,  0.37602246,  0.4755705 ,  1.0733674 ,  0.24280477,\n",
       "        1.3122926 , -0.18134055,  0.9471022 ,  0.76886207,  1.8900932 ,\n",
       "        1.0910351 ,  0.23935303, -0.997108  , -0.14348397,  0.8885735 ],\n",
       "      dtype=float32)"
      ]
     },
     "execution_count": 25,
     "metadata": {},
     "output_type": "execute_result"
    }
   ],
   "source": [
    "arr = np.array([trace_VecWordList[0][0][0],trace_VecWordList[0][0][1],trace_VecWordList[0][0][2],trace_VecWordList[0][0][3]])\n",
    "np.add.reduce(trace_VecWordList[0][0])"
   ]
  },
  {
   "cell_type": "markdown",
   "metadata": {},
   "source": [
    "##### Using TF-IDF to weigh in on event importance"
   ]
  },
  {
   "cell_type": "code",
   "execution_count": 14,
   "metadata": {},
   "outputs": [],
   "source": [
    "from sklearn.feature_extraction.text import TfidfVectorizer"
   ]
  },
  {
   "cell_type": "code",
   "execution_count": 15,
   "metadata": {},
   "outputs": [],
   "source": [
    "event_text = df[2].values.tolist() # Store all text values of events in a list for IDF Vectorizer"
   ]
  },
  {
   "cell_type": "code",
   "execution_count": 16,
   "metadata": {},
   "outputs": [
    {
     "data": {
      "text/html": [
       "<div>\n",
       "<style scoped>\n",
       "    .dataframe tbody tr th:only-of-type {\n",
       "        vertical-align: middle;\n",
       "    }\n",
       "\n",
       "    .dataframe tbody tr th {\n",
       "        vertical-align: top;\n",
       "    }\n",
       "\n",
       "    .dataframe thead th {\n",
       "        text-align: right;\n",
       "    }\n",
       "</style>\n",
       "<table border=\"1\" class=\"dataframe\">\n",
       "  <thead>\n",
       "    <tr style=\"text-align: right;\">\n",
       "      <th></th>\n",
       "      <th>added</th>\n",
       "      <th>cart</th>\n",
       "      <th>chosen</th>\n",
       "      <th>dhl</th>\n",
       "      <th>dpd</th>\n",
       "      <th>for</th>\n",
       "      <th>fr</th>\n",
       "      <th>hermes</th>\n",
       "      <th>in</th>\n",
       "      <th>item</th>\n",
       "      <th>...</th>\n",
       "      <th>request</th>\n",
       "      <th>served</th>\n",
       "      <th>shipping</th>\n",
       "      <th>sofortueberweisung</th>\n",
       "      <th>sofortüberweisung</th>\n",
       "      <th>succesful</th>\n",
       "      <th>succesfull</th>\n",
       "      <th>to</th>\n",
       "      <th>user</th>\n",
       "      <th>website</th>\n",
       "    </tr>\n",
       "  </thead>\n",
       "  <tbody>\n",
       "    <tr>\n",
       "      <th>0</th>\n",
       "      <td>0.000000</td>\n",
       "      <td>0.000000</td>\n",
       "      <td>0.000000</td>\n",
       "      <td>0.000000</td>\n",
       "      <td>0.0</td>\n",
       "      <td>0.000000</td>\n",
       "      <td>0.0</td>\n",
       "      <td>0.0</td>\n",
       "      <td>0.000000</td>\n",
       "      <td>0.000000</td>\n",
       "      <td>...</td>\n",
       "      <td>0.57735</td>\n",
       "      <td>0.57735</td>\n",
       "      <td>0.00000</td>\n",
       "      <td>0.0</td>\n",
       "      <td>0.0</td>\n",
       "      <td>0.0</td>\n",
       "      <td>0.0</td>\n",
       "      <td>0.000000</td>\n",
       "      <td>0.000000</td>\n",
       "      <td>0.57735</td>\n",
       "    </tr>\n",
       "    <tr>\n",
       "      <th>1</th>\n",
       "      <td>0.000000</td>\n",
       "      <td>0.000000</td>\n",
       "      <td>0.000000</td>\n",
       "      <td>0.000000</td>\n",
       "      <td>0.0</td>\n",
       "      <td>0.000000</td>\n",
       "      <td>0.0</td>\n",
       "      <td>0.0</td>\n",
       "      <td>0.562409</td>\n",
       "      <td>0.000000</td>\n",
       "      <td>...</td>\n",
       "      <td>0.00000</td>\n",
       "      <td>0.00000</td>\n",
       "      <td>0.00000</td>\n",
       "      <td>0.0</td>\n",
       "      <td>0.0</td>\n",
       "      <td>0.0</td>\n",
       "      <td>0.0</td>\n",
       "      <td>0.000000</td>\n",
       "      <td>0.562409</td>\n",
       "      <td>0.00000</td>\n",
       "    </tr>\n",
       "    <tr>\n",
       "      <th>2</th>\n",
       "      <td>0.494288</td>\n",
       "      <td>0.494288</td>\n",
       "      <td>0.000000</td>\n",
       "      <td>0.000000</td>\n",
       "      <td>0.0</td>\n",
       "      <td>0.000000</td>\n",
       "      <td>0.0</td>\n",
       "      <td>0.0</td>\n",
       "      <td>0.000000</td>\n",
       "      <td>0.494288</td>\n",
       "      <td>...</td>\n",
       "      <td>0.00000</td>\n",
       "      <td>0.00000</td>\n",
       "      <td>0.00000</td>\n",
       "      <td>0.0</td>\n",
       "      <td>0.0</td>\n",
       "      <td>0.0</td>\n",
       "      <td>0.0</td>\n",
       "      <td>0.516757</td>\n",
       "      <td>0.000000</td>\n",
       "      <td>0.00000</td>\n",
       "    </tr>\n",
       "    <tr>\n",
       "      <th>3</th>\n",
       "      <td>0.494288</td>\n",
       "      <td>0.494288</td>\n",
       "      <td>0.000000</td>\n",
       "      <td>0.000000</td>\n",
       "      <td>0.0</td>\n",
       "      <td>0.000000</td>\n",
       "      <td>0.0</td>\n",
       "      <td>0.0</td>\n",
       "      <td>0.000000</td>\n",
       "      <td>0.494288</td>\n",
       "      <td>...</td>\n",
       "      <td>0.00000</td>\n",
       "      <td>0.00000</td>\n",
       "      <td>0.00000</td>\n",
       "      <td>0.0</td>\n",
       "      <td>0.0</td>\n",
       "      <td>0.0</td>\n",
       "      <td>0.0</td>\n",
       "      <td>0.516757</td>\n",
       "      <td>0.000000</td>\n",
       "      <td>0.00000</td>\n",
       "    </tr>\n",
       "    <tr>\n",
       "      <th>4</th>\n",
       "      <td>0.000000</td>\n",
       "      <td>0.000000</td>\n",
       "      <td>0.376952</td>\n",
       "      <td>0.687425</td>\n",
       "      <td>0.0</td>\n",
       "      <td>0.380025</td>\n",
       "      <td>0.0</td>\n",
       "      <td>0.0</td>\n",
       "      <td>0.000000</td>\n",
       "      <td>0.000000</td>\n",
       "      <td>...</td>\n",
       "      <td>0.00000</td>\n",
       "      <td>0.00000</td>\n",
       "      <td>0.49085</td>\n",
       "      <td>0.0</td>\n",
       "      <td>0.0</td>\n",
       "      <td>0.0</td>\n",
       "      <td>0.0</td>\n",
       "      <td>0.000000</td>\n",
       "      <td>0.000000</td>\n",
       "      <td>0.00000</td>\n",
       "    </tr>\n",
       "  </tbody>\n",
       "</table>\n",
       "<p>5 rows × 31 columns</p>\n",
       "</div>"
      ],
      "text/plain": [
       "      added      cart    chosen       dhl  dpd       for   fr  hermes  \\\n",
       "0  0.000000  0.000000  0.000000  0.000000  0.0  0.000000  0.0     0.0   \n",
       "1  0.000000  0.000000  0.000000  0.000000  0.0  0.000000  0.0     0.0   \n",
       "2  0.494288  0.494288  0.000000  0.000000  0.0  0.000000  0.0     0.0   \n",
       "3  0.494288  0.494288  0.000000  0.000000  0.0  0.000000  0.0     0.0   \n",
       "4  0.000000  0.000000  0.376952  0.687425  0.0  0.380025  0.0     0.0   \n",
       "\n",
       "         in      item  ...  request   served  shipping  sofortueberweisung  \\\n",
       "0  0.000000  0.000000  ...  0.57735  0.57735   0.00000                 0.0   \n",
       "1  0.562409  0.000000  ...  0.00000  0.00000   0.00000                 0.0   \n",
       "2  0.000000  0.494288  ...  0.00000  0.00000   0.00000                 0.0   \n",
       "3  0.000000  0.494288  ...  0.00000  0.00000   0.00000                 0.0   \n",
       "4  0.000000  0.000000  ...  0.00000  0.00000   0.49085                 0.0   \n",
       "\n",
       "   sofortüberweisung  succesful  succesfull        to      user  website  \n",
       "0                0.0        0.0         0.0  0.000000  0.000000  0.57735  \n",
       "1                0.0        0.0         0.0  0.000000  0.562409  0.00000  \n",
       "2                0.0        0.0         0.0  0.516757  0.000000  0.00000  \n",
       "3                0.0        0.0         0.0  0.516757  0.000000  0.00000  \n",
       "4                0.0        0.0         0.0  0.000000  0.000000  0.00000  \n",
       "\n",
       "[5 rows x 31 columns]"
      ]
     },
     "execution_count": 16,
     "metadata": {},
     "output_type": "execute_result"
    }
   ],
   "source": [
    "vectorizer = TfidfVectorizer()\n",
    "vectors = vectorizer.fit_transform(event_text)\n",
    "feature_names = vectorizer.get_feature_names_out()\n",
    "dense = vectors.todense()\n",
    "dense_list = dense.tolist()\n",
    "pd.DataFrame(dense_list, columns = feature_names).head()"
   ]
  },
  {
   "cell_type": "code",
   "execution_count": 17,
   "metadata": {},
   "outputs": [
    {
     "ename": "NameError",
     "evalue": "name 'tfid' is not defined",
     "output_type": "error",
     "traceback": [
      "\u001b[1;31m---------------------------------------------------------------------------\u001b[0m",
      "\u001b[1;31mNameError\u001b[0m                                 Traceback (most recent call last)",
      "Input \u001b[1;32mIn [17]\u001b[0m, in \u001b[0;36m<module>\u001b[1;34m\u001b[0m\n\u001b[1;32m----> 1\u001b[0m \u001b[43mtfid\u001b[49m[\u001b[38;5;241m0\u001b[39m]\u001b[38;5;241m.\u001b[39mtoarray()\n",
      "\u001b[1;31mNameError\u001b[0m: name 'tfid' is not defined"
     ]
    }
   ],
   "source": [
    "tfid[0].toarray()"
   ]
  }
 ],
 "metadata": {
  "interpreter": {
   "hash": "df422252ddca448dec748899bb2233a87d75e086a83c99a048ca07d22454d15d"
  },
  "kernelspec": {
   "display_name": "Python 3 (ipykernel)",
   "language": "python",
   "name": "python3"
  },
  "language_info": {
   "codemirror_mode": {
    "name": "ipython",
    "version": 3
   },
   "file_extension": ".py",
   "mimetype": "text/x-python",
   "name": "python",
   "nbconvert_exporter": "python",
   "pygments_lexer": "ipython3",
   "version": "3.10.2"
  }
 },
 "nbformat": 4,
 "nbformat_minor": 2
}
