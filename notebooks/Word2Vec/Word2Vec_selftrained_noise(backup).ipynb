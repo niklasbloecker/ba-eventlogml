{
 "cells": [
  {
   "cell_type": "code",
   "execution_count": 145,
   "id": "fea52ee6",
   "metadata": {},
   "outputs": [],
   "source": [
    "from gensim.models import Word2Vec, KeyedVectors\n",
    "from sklearn.cluster import KMeans, DBSCAN\n",
    "from datetime import datetime\n",
    "from sklearn import metrics\n",
    "from statistics import median\n",
    "from matplotlib import pyplot as plt\n",
    "import seaborn as sns\n",
    "import pandas as pd\n",
    "import numpy as np\n",
    "import nltk\n",
    "import pickle\n",
    "import math\n",
    "import copy"
   ]
  },
  {
   "cell_type": "markdown",
   "id": "ebe66b87",
   "metadata": {},
   "source": [
    "## Preprocess Data"
   ]
  },
  {
   "cell_type": "code",
   "execution_count": 108,
   "id": "4270bc17",
   "metadata": {},
   "outputs": [],
   "source": [
    "def preprocessing(file):\n",
    "    \"\"\"Method to handle the preparation of log event data for further usage in NLP learning methods.\n",
    "    Timestamps are being changed to time inbetween events in a certain trace. After that the values are categorized to\n",
    "    to further improve the quality of data\"\"\"\n",
    "    \n",
    "    # Convert the basic csv input into a first dataframe.\n",
    "    df = pd.read_csv('../../logs/'+file, delimiter=';', header=None)\n",
    "    df = df.drop([df.columns[3]], axis=1)\n",
    "    df.columns = ['timestamp','id','event']\n",
    "    \n",
    "    # Converting timestamps to time difference between events in trace. Difference will be in seconds and categorized to\n",
    "    # ease training of the model. First event will therefore always have a '0' value.\n",
    "    \n",
    "    FMT = '%Y-%m-%d %H:%M:%S' # timestamp format\n",
    "    timediff_list = []\n",
    "\n",
    "    for caseID in df['id'].unique():\n",
    "        caseIndex = 0 # Index for each trace dataframe. iterrows() Index represents index in global DF.\n",
    "        first_time = '' # Temp variable to hold the timestamp of the first event. Timestamp will be lost after first iteration.\n",
    "        for index, event in df[df['id'] == caseID].iterrows():\n",
    "            event_time = event['timestamp']\n",
    "            \n",
    "            if caseIndex == 0:\n",
    "                first_time = event_time\n",
    "                timediff_list.append(0.0) # Can't use previous time without previous event. Time differnece is therefore 0.0..\n",
    "            elif caseIndex == 1:\n",
    "                tdelta = datetime.strptime(event_time, FMT) - datetime.strptime(first_time, FMT) # Deduct current from from previous.\n",
    "                timediff_list.append(tdelta.total_seconds())\n",
    "            else: \n",
    "                prev_time = df[df['id'] == caseID].iloc[caseIndex-1]['timestamp'] # Timestamp of previous event.\n",
    "                tdelta = datetime.strptime(event_time, FMT) - datetime.strptime(prev_time, FMT) # Deduct current from from previous.\n",
    "                timediff_list.append(tdelta.total_seconds())\n",
    "            caseIndex += 1\n",
    "    \n",
    "    # Converting the build up timediff_list into a DataFrame, categorizing it and replace the new values with the given timestamps.\n",
    "    timediff_df = pd.DataFrame(timediff_list, columns=['timestamp_diff'])\n",
    "    timediff_df = pd.cut(timediff_df['timestamp_diff'],10, labels=False) # Categorizing differences into 10 bins with same width.\n",
    "    df = pd.concat([timediff_df,df.drop(['timestamp'], axis=1) ], axis=1, join='inner') # Dropping old timestamps and adding new\n",
    "    df['event'] = df['event'].str.lower() # Converting string to lower case.\n",
    "    \n",
    "    # Converting dataframe values into strings and tokenize each event after.\n",
    "    string_list = df.to_string(header=False,index=False,index_names=False).split('\\n')\n",
    "    token_list = [nltk.word_tokenize(event.lower()) for event in string_list] # List containing event tokens.\n",
    "    \n",
    "    # Creating a list containing word tokens for each trace ID.\n",
    "    traceids = df['id'].unique()\n",
    "    trace_list = []\n",
    "    \n",
    "    # Filter for each tradeid and convert each trade into lists, containing the events.\n",
    "    for id in traceids:\n",
    "        df_trace= df.loc[df['id']==id] # df holding the entries for the specific trace ID\n",
    "        traceString = df_trace.to_string(header=False,index=False,index_names=False).split('\\n') # Converting each event into a string\n",
    "        traceToken = [nltk.word_tokenize(event.lower()) for event in traceString]\n",
    "\n",
    "        trace_list.append(traceToken)\n",
    "    \n",
    "    return df, trace_list, token_list"
   ]
  },
  {
   "cell_type": "code",
   "execution_count": 109,
   "id": "c126c532",
   "metadata": {},
   "outputs": [],
   "source": [
    "df, traceToken, tokenList = preprocessing('ecommerce_anomalies.csv')"
   ]
  },
  {
   "cell_type": "markdown",
   "id": "f36e3acc",
   "metadata": {},
   "source": [
    "## Train model with tokenized events as sentences"
   ]
  },
  {
   "cell_type": "code",
   "execution_count": 110,
   "id": "928e61e2",
   "metadata": {},
   "outputs": [],
   "source": [
    "model = Word2Vec(sentences=tokenList, vector_size=300, window=4, min_count=1, workers=4)"
   ]
  },
  {
   "cell_type": "code",
   "execution_count": 111,
   "id": "9e198e1b",
   "metadata": {
    "scrolled": true
   },
   "outputs": [
    {
     "data": {
      "text/plain": [
       "array([-0.00483537,  0.13508362, -0.03606271, -0.05141715, -0.02427141,\n",
       "       -0.10324491,  0.03569371,  0.18938445, -0.00333038, -0.07559853,\n",
       "        0.09052547, -0.05370089,  0.01415919,  0.09312116,  0.01952615,\n",
       "       -0.07675106,  0.09158552, -0.03373357,  0.01452172, -0.09219291,\n",
       "       -0.02773323, -0.09271529,  0.03257441,  0.06823825, -0.0529548 ,\n",
       "        0.00684629, -0.07604725,  0.01073674, -0.09172002, -0.09938424,\n",
       "       -0.00373954, -0.03782084,  0.05240206, -0.03285397,  0.00953228,\n",
       "        0.04287131,  0.00605312, -0.07764072,  0.02364139, -0.00283182,\n",
       "       -0.06954329, -0.02832547,  0.03221961, -0.0651205 ,  0.07849248,\n",
       "        0.03250562, -0.03269544, -0.01374857,  0.02626683,  0.06424435,\n",
       "       -0.02873582,  0.04510002, -0.068891  ,  0.09871369,  0.04449491,\n",
       "        0.06044608, -0.01957995,  0.02239825,  0.01634771, -0.02711255,\n",
       "        0.03198564, -0.05556456, -0.02689281,  0.12590681,  0.01123207,\n",
       "        0.06791059, -0.00339826,  0.05700992, -0.0653517 ,  0.04708356,\n",
       "        0.04654688,  0.12969741,  0.08285142, -0.04600293,  0.09269601,\n",
       "       -0.04088877, -0.04124161,  0.00268302, -0.00667904, -0.02339594,\n",
       "       -0.02188312, -0.10097951, -0.03617708,  0.18239106, -0.00187928,\n",
       "       -0.01675396,  0.05037653, -0.03775565,  0.10758493,  0.04351654,\n",
       "        0.02590094, -0.09536735,  0.02681869, -0.02810105,  0.06655498,\n",
       "        0.0759549 ,  0.04351741, -0.01691237, -0.05207907,  0.03619275,\n",
       "        0.03448763, -0.02768832,  0.03429399,  0.02184892, -0.01155555,\n",
       "       -0.11453182, -0.02556462,  0.06257643, -0.08989625, -0.06099909,\n",
       "       -0.16454439, -0.09978064,  0.03861853,  0.08224355,  0.02972215,\n",
       "        0.04599581, -0.01278137,  0.03449927,  0.0694055 , -0.09937766,\n",
       "        0.10548678,  0.04709217,  0.03056947, -0.05513815, -0.01722248,\n",
       "        0.07661096, -0.08062478, -0.11532511, -0.00259826,  0.0797969 ,\n",
       "        0.08637536,  0.09364357,  0.06282827, -0.19837004, -0.00548812,\n",
       "        0.10267401, -0.06295219, -0.06043044, -0.15660411, -0.1126643 ,\n",
       "       -0.0016058 , -0.03302983, -0.03980343,  0.06626042,  0.00748668,\n",
       "        0.03813023, -0.12920852, -0.04402513,  0.00375099, -0.05834314,\n",
       "        0.04399635, -0.13037547,  0.0171623 , -0.077118  , -0.00871613,\n",
       "        0.0402998 , -0.12247912, -0.03996685, -0.04078659,  0.0364368 ,\n",
       "        0.01033026, -0.00302211, -0.09401585,  0.05463755,  0.00145159,\n",
       "        0.10527174, -0.0639879 , -0.00352973, -0.01207473,  0.1019534 ,\n",
       "       -0.07171595,  0.00851178,  0.06116411,  0.02957107,  0.07887798,\n",
       "        0.01129496, -0.03396717, -0.05923807,  0.02668448,  0.03176264,\n",
       "       -0.10121843,  0.03783512, -0.10329433, -0.04038742, -0.07010652,\n",
       "       -0.06993046,  0.22809257,  0.1624748 ,  0.07000058, -0.03198335,\n",
       "        0.12286522,  0.06238749, -0.07898408, -0.03384468, -0.01735784,\n",
       "       -0.08185983, -0.05655673, -0.04526737,  0.03193892, -0.00222033,\n",
       "       -0.02195982, -0.01709338,  0.03074671, -0.08637333,  0.08555059,\n",
       "       -0.08314224,  0.06940873,  0.10098504, -0.01073966, -0.02028669,\n",
       "       -0.03333791, -0.13417679, -0.02036436, -0.02871062,  0.03723666,\n",
       "       -0.03967075, -0.07127146, -0.16201533, -0.07442954, -0.09548217,\n",
       "        0.05122548,  0.02706577, -0.01800548, -0.09308007,  0.00705322,\n",
       "       -0.04794974,  0.06765748,  0.01684448, -0.04886293, -0.01574739,\n",
       "        0.05528759, -0.06166021,  0.01601051,  0.00193473, -0.06186451,\n",
       "        0.05150906,  0.0473204 ,  0.05914966,  0.03814554, -0.16511582,\n",
       "        0.07366928, -0.06745227,  0.00261432, -0.01066395,  0.02320878,\n",
       "       -0.11955576,  0.01313638, -0.01170781,  0.02501803,  0.0985195 ,\n",
       "        0.00614736, -0.0182671 ,  0.12335361, -0.0414439 , -0.01930963,\n",
       "       -0.03288237,  0.1408484 ,  0.06653079, -0.13356906, -0.06377758,\n",
       "        0.07373749, -0.03445309,  0.09963945, -0.09924822, -0.1510499 ,\n",
       "        0.00736183,  0.08750313,  0.05583216, -0.10470223,  0.07465609,\n",
       "       -0.02275503, -0.0179993 ,  0.02793501,  0.04835266,  0.00831615,\n",
       "        0.04530787,  0.06157714,  0.07334755, -0.09721185,  0.05378278,\n",
       "        0.03718944,  0.06178343, -0.08064024,  0.04407091, -0.01377412,\n",
       "       -0.0061003 , -0.03424196,  0.04826698,  0.011575  ,  0.08817396,\n",
       "        0.11818022,  0.10065209,  0.08529165,  0.0430015 ,  0.12657437,\n",
       "        0.12228676, -0.00459022, -0.00268651,  0.02421278, -0.10595872],\n",
       "      dtype=float32)"
      ]
     },
     "execution_count": 111,
     "metadata": {},
     "output_type": "execute_result"
    }
   ],
   "source": [
    "model.wv.get_vector('error501')"
   ]
  },
  {
   "cell_type": "code",
   "execution_count": 112,
   "id": "a4cd6bbb",
   "metadata": {},
   "outputs": [],
   "source": [
    "# Create duplicate of traceToken holding the token vectors.\n",
    "trace_VecWordList = copy.deepcopy(traceToken)\n",
    "for trace in range(len(trace_VecWordList)):\n",
    "    for event in range(len(trace_VecWordList[trace])):\n",
    "        for token in range(len(trace_VecWordList[trace][event])):\n",
    "            vec_temp = model.wv.get_vector(traceToken[trace][event][token])\n",
    "            trace_VecWordList[trace][event][token] = vec_temp"
   ]
  },
  {
   "cell_type": "markdown",
   "id": "7934a535",
   "metadata": {},
   "source": [
    "## Build trace vectors using IDF weighting"
   ]
  },
  {
   "cell_type": "code",
   "execution_count": 113,
   "id": "6966a984",
   "metadata": {},
   "outputs": [],
   "source": [
    "def build_traceVector(df, traceVectorList, traceWordList):\n",
    "    \"\"\"Method to process data created by word model. It will form a summed up vector for each trace and weigh in tokens with calculated IDF.\"\"\"\n",
    "    \n",
    "    unique_tokens = set() # Will hold unique values for all columns. \n",
    "    \n",
    "    unique_tokens.update(list(df['timestamp_diff'].map(str).unique()))\n",
    "    unique_tokens.update(list(df['id'].map(str).unique()))\n",
    "    unique_tokens.update(list(df['event'].str.lower().str.split(' ').sum()))\n",
    "    \n",
    "    idf_dict = dict.fromkeys(unique_tokens, 0) # Initiate dictionary holding all unique keys with 0 as values. \n",
    "    \n",
    "    #Building up dictionary and upping the counter for every event which contains the word.\n",
    "    for trace in traceWordList:\n",
    "        for event in trace:\n",
    "            for uniqueToken in unique_tokens:\n",
    "                if uniqueToken in event:\n",
    "                    idf_dict[uniqueToken] += 1\n",
    "    \n",
    "    # Calculating IDF with log of basis 10.\n",
    "    event_len = len(df)\n",
    "    for key in idf_dict:\n",
    "        if idf_dict[key] != 0:\n",
    "            idf_dict[key] = math.log10(event_len/(idf_dict[key]+1))\n",
    "    \n",
    "    # Building up list of IDF values for Case IDs and calculating the median. \n",
    "    unique_IDs = df['id'].unique() # automatically sorted \n",
    "    median_list = []\n",
    "    \n",
    "    for caseID in unique_IDs: \n",
    "        median_list.append(idf_dict[str(caseID)])\n",
    "    median_case = median(median_list) # Represents the median idf score for the case IDs.\n",
    "    \n",
    "    # Update traceVectorList by multiplying items with the idf score. Case ID will be multiplied by idf-score/median_case.\n",
    "    idfVectorList = copy.deepcopy(traceVectorList)\n",
    "    for traceID in range(len(traceVectorList)): #Representing array index and not real trace IDs\n",
    "        for eventID in range(len(traceVectorList[traceID])):\n",
    "            event_list = [] # List in which the multiplied vectors of each event token are stored.\n",
    "            for tokenID in range(len(traceVectorList[traceID][eventID])):\n",
    "                \n",
    "                if tokenID != 1: # Ignore case IDs\n",
    "                    idf_val = idf_dict[traceWordList[traceID][eventID][tokenID]] # Holding idf value of current token.\n",
    "                    word_vec = traceVectorList[traceID][eventID][tokenID] # The vector of current token.\n",
    "                    multiplied_Vec = np.multiply(idf_val,word_vec)\n",
    "                    event_list.append(multiplied_Vec)\n",
    "                \n",
    "            idfVectorList[traceID][eventID] = event_list # Add list of vectors to new list of multiplied values.\n",
    "    \n",
    "    # Instead of factoring in vector of case IDs we will take the trace length into account. It is more likely to have anomalies in traced with high deviation from median length.\n",
    "    # After that we will sum up the event vectors and then trace vectors in the next step.\n",
    "    idfSumList = copy.deepcopy(idfVectorList) # Will hold the summed up trace vectors.\n",
    "    for traceIndex in range(len(idfVectorList)):\n",
    "        median_difference = abs(median_case-idf_dict[str(unique_IDs[traceIndex])])+1 # Median minus the IDF of each case ID. Works because unique_IDs and traceVectorList are sorted..\n",
    "        #print(f\"Is multiplied by {median_difference}\")\n",
    "        for eventIndex in range(len(idfVectorList[traceIndex])):\n",
    "            idf_EventList = np.multiply(median_difference,idfVectorList[traceIndex][eventIndex]) # Multiplying all vectos by the median difference.\n",
    "            idfSumList[traceIndex][eventIndex] = np.add.reduce(idf_EventList) # Building the sum vector of the event vectors.\n",
    "            \n",
    "        idfSumList[traceIndex] = np.add.reduce(idfSumList[traceIndex])\n",
    "            \n",
    "    return idfSumList"
   ]
  },
  {
   "cell_type": "code",
   "execution_count": 114,
   "id": "b76f5ad3",
   "metadata": {},
   "outputs": [],
   "source": [
    "traceList = build_traceVector(df, trace_VecWordList, traceToken)\n",
    "df_traceList = pd.DataFrame(traceList)"
   ]
  },
  {
   "cell_type": "markdown",
   "id": "42ccd5cf",
   "metadata": {},
   "source": [
    "## Clustering the data\n",
    "K-Means and DBScan will be used. After clustering the data, we will reduce dimensions with PCA and T-SNE "
   ]
  },
  {
   "cell_type": "markdown",
   "id": "255f1921",
   "metadata": {},
   "source": [
    "KMeans Clustering\n",
    "Um die optimale Anzahl der Cluster für das Clustering zu bestimmen, bilden den einen \"Elbow\" Plot. In diesem wird vom jedem Punkt die Entfernung zu den jeweiligen Cluster Centern quadriert und anschließend summiert. Wir sehen also wie gut wie Cluster die jeweiligen Daten separieren."
   ]
  },
  {
   "cell_type": "code",
   "execution_count": 115,
   "id": "f30da435",
   "metadata": {},
   "outputs": [
    {
     "data": {
      "text/plain": [
       "<AxesSubplot:xlabel='k', ylabel='Distortion'>"
      ]
     },
     "execution_count": 115,
     "metadata": {},
     "output_type": "execute_result"
    },
    {
     "data": {
      "image/png": "[encoded data removed]",
      "text/plain": [
       "<Figure size 432x288 with 1 Axes>"
      ]
     },
     "metadata": {},
     "output_type": "display_data"
    }
   ],
   "source": [
    "distortions = []\n",
    "K = range(1,10)\n",
    "for k in K: \n",
    "    kmeanModel = KMeans(n_clusters=k)\n",
    "    kmeanModel.fit(traceList)\n",
    "    distortions.append(kmeanModel.inertia_)\n",
    "\n",
    "data_plot = pd.DataFrame({'k': K, 'Distortion': distortions})\n",
    "sns.set_theme(style=\"whitegrid\")\n",
    "sns.lineplot(x=\"k\", y=\"Distortion\", data = data_plot)"
   ]
  },
  {
   "cell_type": "markdown",
   "id": "6987925b",
   "metadata": {},
   "source": [
    "Cluster number k=4 is chosen"
   ]
  },
  {
   "cell_type": "code",
   "execution_count": 116,
   "id": "8ab392d2",
   "metadata": {},
   "outputs": [],
   "source": [
    "kmeans = KMeans(n_clusters=4).fit(traceList)"
   ]
  },
  {
   "cell_type": "code",
   "execution_count": 117,
   "id": "28cca209",
   "metadata": {},
   "outputs": [
    {
     "data": {
      "text/plain": [
       "array([[-0.43787165,  6.28063072, -1.711669  , ..., -0.4299909 ,\n",
       "         1.2344375 , -4.89450463],\n",
       "       [-0.88730122, 10.92670904, -2.92867091, ..., -0.63948889,\n",
       "         2.14230301, -8.5506454 ],\n",
       "       [-0.32259008,  4.92252218, -1.3459936 , ..., -0.38266016,\n",
       "         0.9712129 , -3.85029586],\n",
       "       [-0.59441898,  7.98563846, -2.16367013, ..., -0.50627378,\n",
       "         1.56673494, -6.23004111]])"
      ]
     },
     "execution_count": 117,
     "metadata": {},
     "output_type": "execute_result"
    }
   ],
   "source": [
    "df_traceList['kmeans_cluster'] = kmeans.predict(traceList)\n",
    "kmeans.cluster_centers_ # Centers of determined clusters"
   ]
  },
  {
   "cell_type": "markdown",
   "id": "8896f692",
   "metadata": {},
   "source": [
    "DBScan"
   ]
  },
  {
   "cell_type": "code",
   "execution_count": 176,
   "id": "2e8256a5",
   "metadata": {},
   "outputs": [
    {
     "name": "stdout",
     "output_type": "stream",
     "text": [
      "Estimated number of clusters: 7\n",
      "Estimated number of noise points: 99\n"
     ]
    }
   ],
   "source": [
    "db = DBSCAN(eps=0.8, min_samples=10).fit(traceList)\n",
    "labels = db.labels_\n",
    "\n",
    "# Number of clusters in labels, ignoring noise if present.\n",
    "n_clusters_ = len(set(labels)) - (1 if -1 in labels else 0)\n",
    "n_noise_ = list(labels).count(-1)\n",
    "\n",
    "df_traceList['dbscan_cluster'] = labels\n",
    "\n",
    "print(\"Estimated number of clusters: %d\" % n_clusters_)\n",
    "print(\"Estimated number of noise points: %d\" % n_noise_)\n",
    "#print(labels)"
   ]
  },
  {
   "cell_type": "code",
   "execution_count": 119,
   "id": "beed183e",
   "metadata": {},
   "outputs": [
    {
     "data": {
      "text/html": [
       "<div>\n",
       "<style scoped>\n",
       "    .dataframe tbody tr th:only-of-type {\n",
       "        vertical-align: middle;\n",
       "    }\n",
       "\n",
       "    .dataframe tbody tr th {\n",
       "        vertical-align: top;\n",
       "    }\n",
       "\n",
       "    .dataframe thead th {\n",
       "        text-align: right;\n",
       "    }\n",
       "</style>\n",
       "<table border=\"1\" class=\"dataframe\">\n",
       "  <thead>\n",
       "    <tr style=\"text-align: right;\">\n",
       "      <th></th>\n",
       "      <th>0</th>\n",
       "      <th>1</th>\n",
       "      <th>2</th>\n",
       "      <th>3</th>\n",
       "      <th>4</th>\n",
       "      <th>5</th>\n",
       "      <th>6</th>\n",
       "      <th>7</th>\n",
       "      <th>8</th>\n",
       "      <th>9</th>\n",
       "      <th>...</th>\n",
       "      <th>292</th>\n",
       "      <th>293</th>\n",
       "      <th>294</th>\n",
       "      <th>295</th>\n",
       "      <th>296</th>\n",
       "      <th>297</th>\n",
       "      <th>298</th>\n",
       "      <th>299</th>\n",
       "      <th>kmeans_cluster</th>\n",
       "      <th>dbscan_cluster</th>\n",
       "    </tr>\n",
       "  </thead>\n",
       "  <tbody>\n",
       "    <tr>\n",
       "      <th>0</th>\n",
       "      <td>-0.374975</td>\n",
       "      <td>5.247339</td>\n",
       "      <td>-1.432752</td>\n",
       "      <td>-1.935606</td>\n",
       "      <td>-0.983639</td>\n",
       "      <td>-4.344796</td>\n",
       "      <td>1.398286</td>\n",
       "      <td>7.749342</td>\n",
       "      <td>-0.119287</td>\n",
       "      <td>-2.949935</td>\n",
       "      <td>...</td>\n",
       "      <td>3.496136</td>\n",
       "      <td>1.590801</td>\n",
       "      <td>5.247377</td>\n",
       "      <td>4.662526</td>\n",
       "      <td>-0.060560</td>\n",
       "      <td>-0.394946</td>\n",
       "      <td>1.039190</td>\n",
       "      <td>-4.118405</td>\n",
       "      <td>2</td>\n",
       "      <td>0</td>\n",
       "    </tr>\n",
       "    <tr>\n",
       "      <th>1</th>\n",
       "      <td>-0.298515</td>\n",
       "      <td>4.701837</td>\n",
       "      <td>-1.282709</td>\n",
       "      <td>-1.742056</td>\n",
       "      <td>-0.869858</td>\n",
       "      <td>-3.883054</td>\n",
       "      <td>1.270835</td>\n",
       "      <td>6.880032</td>\n",
       "      <td>-0.094913</td>\n",
       "      <td>-2.602179</td>\n",
       "      <td>...</td>\n",
       "      <td>3.126852</td>\n",
       "      <td>1.424938</td>\n",
       "      <td>4.671951</td>\n",
       "      <td>4.158037</td>\n",
       "      <td>-0.033424</td>\n",
       "      <td>-0.375165</td>\n",
       "      <td>0.935325</td>\n",
       "      <td>-3.669677</td>\n",
       "      <td>2</td>\n",
       "      <td>1</td>\n",
       "    </tr>\n",
       "    <tr>\n",
       "      <th>2</th>\n",
       "      <td>-0.313734</td>\n",
       "      <td>4.784748</td>\n",
       "      <td>-1.303159</td>\n",
       "      <td>-1.777533</td>\n",
       "      <td>-0.875629</td>\n",
       "      <td>-3.964321</td>\n",
       "      <td>1.296370</td>\n",
       "      <td>7.003859</td>\n",
       "      <td>-0.090672</td>\n",
       "      <td>-2.647118</td>\n",
       "      <td>...</td>\n",
       "      <td>3.183376</td>\n",
       "      <td>1.464274</td>\n",
       "      <td>4.752366</td>\n",
       "      <td>4.234770</td>\n",
       "      <td>-0.049250</td>\n",
       "      <td>-0.378928</td>\n",
       "      <td>0.942995</td>\n",
       "      <td>-3.736517</td>\n",
       "      <td>2</td>\n",
       "      <td>1</td>\n",
       "    </tr>\n",
       "    <tr>\n",
       "      <th>3</th>\n",
       "      <td>-0.369985</td>\n",
       "      <td>5.201375</td>\n",
       "      <td>-1.419078</td>\n",
       "      <td>-1.918648</td>\n",
       "      <td>-0.980453</td>\n",
       "      <td>-4.312551</td>\n",
       "      <td>1.401201</td>\n",
       "      <td>7.687242</td>\n",
       "      <td>-0.121463</td>\n",
       "      <td>-2.924382</td>\n",
       "      <td>...</td>\n",
       "      <td>3.472711</td>\n",
       "      <td>1.588139</td>\n",
       "      <td>5.194179</td>\n",
       "      <td>4.634515</td>\n",
       "      <td>-0.051512</td>\n",
       "      <td>-0.379412</td>\n",
       "      <td>1.028157</td>\n",
       "      <td>-4.076300</td>\n",
       "      <td>2</td>\n",
       "      <td>0</td>\n",
       "    </tr>\n",
       "    <tr>\n",
       "      <th>4</th>\n",
       "      <td>-0.404084</td>\n",
       "      <td>6.411739</td>\n",
       "      <td>-1.768321</td>\n",
       "      <td>-2.386586</td>\n",
       "      <td>-1.192470</td>\n",
       "      <td>-5.201788</td>\n",
       "      <td>1.735646</td>\n",
       "      <td>9.299420</td>\n",
       "      <td>-0.150578</td>\n",
       "      <td>-3.569736</td>\n",
       "      <td>...</td>\n",
       "      <td>4.227163</td>\n",
       "      <td>1.969680</td>\n",
       "      <td>6.299884</td>\n",
       "      <td>5.695867</td>\n",
       "      <td>-0.126477</td>\n",
       "      <td>-0.441710</td>\n",
       "      <td>1.262638</td>\n",
       "      <td>-4.965176</td>\n",
       "      <td>0</td>\n",
       "      <td>-1</td>\n",
       "    </tr>\n",
       "  </tbody>\n",
       "</table>\n",
       "<p>5 rows × 302 columns</p>\n",
       "</div>"
      ],
      "text/plain": [
       "          0         1         2         3         4         5         6  \\\n",
       "0 -0.374975  5.247339 -1.432752 -1.935606 -0.983639 -4.344796  1.398286   \n",
       "1 -0.298515  4.701837 -1.282709 -1.742056 -0.869858 -3.883054  1.270835   \n",
       "2 -0.313734  4.784748 -1.303159 -1.777533 -0.875629 -3.964321  1.296370   \n",
       "3 -0.369985  5.201375 -1.419078 -1.918648 -0.980453 -4.312551  1.401201   \n",
       "4 -0.404084  6.411739 -1.768321 -2.386586 -1.192470 -5.201788  1.735646   \n",
       "\n",
       "          7         8         9  ...       292       293       294       295  \\\n",
       "0  7.749342 -0.119287 -2.949935  ...  3.496136  1.590801  5.247377  4.662526   \n",
       "1  6.880032 -0.094913 -2.602179  ...  3.126852  1.424938  4.671951  4.158037   \n",
       "2  7.003859 -0.090672 -2.647118  ...  3.183376  1.464274  4.752366  4.234770   \n",
       "3  7.687242 -0.121463 -2.924382  ...  3.472711  1.588139  5.194179  4.634515   \n",
       "4  9.299420 -0.150578 -3.569736  ...  4.227163  1.969680  6.299884  5.695867   \n",
       "\n",
       "        296       297       298       299  kmeans_cluster  dbscan_cluster  \n",
       "0 -0.060560 -0.394946  1.039190 -4.118405               2               0  \n",
       "1 -0.033424 -0.375165  0.935325 -3.669677               2               1  \n",
       "2 -0.049250 -0.378928  0.942995 -3.736517               2               1  \n",
       "3 -0.051512 -0.379412  1.028157 -4.076300               2               0  \n",
       "4 -0.126477 -0.441710  1.262638 -4.965176               0              -1  \n",
       "\n",
       "[5 rows x 302 columns]"
      ]
     },
     "execution_count": 119,
     "metadata": {},
     "output_type": "execute_result"
    }
   ],
   "source": [
    "df_traceList.head()"
   ]
  },
  {
   "cell_type": "markdown",
   "id": "b5c3f978",
   "metadata": {},
   "source": [
    "## Reducing the dimensions\n",
    "To visualize the datapoints we will reduce the dimensions using PCA and T-SNE. "
   ]
  },
  {
   "cell_type": "code",
   "execution_count": 120,
   "id": "cd22892d",
   "metadata": {},
   "outputs": [],
   "source": [
    "from sklearn.decomposition import PCA\n",
    "from sklearn.manifold import TSNE\n",
    "import plotly as py\n",
    "import plotly.graph_objs as go\n",
    "import plotly.io as pio\n",
    "from plotly.offline import download_plotlyjs, init_notebook_mode, plot, iplot"
   ]
  },
  {
   "cell_type": "markdown",
   "id": "98ff5a5b",
   "metadata": {},
   "source": [
    "### PCA\n",
    "Calculate the PCA values for different dimensions. We will do dimension reduction for 2D,3D and 4D."
   ]
  },
  {
   "cell_type": "code",
   "execution_count": 177,
   "id": "17bac74c",
   "metadata": {},
   "outputs": [],
   "source": [
    "pca_2d = PCA(n_components=2)\n",
    "PCs_2d = pd.DataFrame(pca_2d.fit_transform(df_traceList.drop([\"kmeans_cluster\",\"dbscan_cluster\"], axis=1)))\n",
    "PCs_2d.columns = [\"PC1\", \"PC2\"]\n",
    "\n",
    "pca_3d = PCA(n_components=3)\n",
    "PCs_3d = pd.DataFrame(pca_3d.fit_transform(df_traceList.drop([\"kmeans_cluster\",\"dbscan_cluster\"], axis=1)))\n",
    "PCs_3d.columns = [\"PC1\", \"PC2\",\"PC3\"]\n",
    "\n",
    "pca_4d = PCA(n_components=4)\n",
    "PCs_4d = pd.DataFrame(pca_4d.fit_transform(df_traceList.drop([\"kmeans_cluster\",\"dbscan_cluster\"], axis=1)))\n",
    "PCs_4d.columns = [\"PC1\", \"PC2\",\"PC3\",\"PC4\"]"
   ]
  },
  {
   "cell_type": "code",
   "execution_count": 178,
   "id": "123bab76",
   "metadata": {},
   "outputs": [],
   "source": [
    "df_pca_2d = pd.concat([PCs_2d,df_traceList[[\"dbscan_cluster\",'kmeans_cluster']]], axis=1, join='inner')\n",
    "df_pca_3d = pd.concat([PCs_3d,df_traceList[[\"dbscan_cluster\",'kmeans_cluster']]], axis=1, join='inner')\n",
    "df_pca_4d = pd.concat([PCs_4d,df_traceList[[\"dbscan_cluster\",'kmeans_cluster']]], axis=1, join='inner')"
   ]
  },
  {
   "cell_type": "markdown",
   "id": "0eca7f07",
   "metadata": {},
   "source": [
    "### T-SNE\n",
    "Im originalen Paper für T-SNE wird empfohlen die Dimensionen bei hoher Anzahl auf einen \"reasonable amount\" zu verringern. Daher werden wir hier mit Werten von 50 arbeiten."
   ]
  },
  {
   "cell_type": "code",
   "execution_count": 179,
   "id": "da29bc05",
   "metadata": {},
   "outputs": [
    {
     "name": "stderr",
     "output_type": "stream",
     "text": [
      "C:\\Users\\nbloe\\Documents\\ba-eventlogml\\venv\\lib\\site-packages\\sklearn\\manifold\\_t_sne.py:780: FutureWarning:\n",
      "\n",
      "The default initialization in TSNE will change from 'random' to 'pca' in 1.2.\n",
      "\n",
      "C:\\Users\\nbloe\\Documents\\ba-eventlogml\\venv\\lib\\site-packages\\sklearn\\manifold\\_t_sne.py:790: FutureWarning:\n",
      "\n",
      "The default learning rate in TSNE will change from 200.0 to 'auto' in 1.2.\n",
      "\n",
      "C:\\Users\\nbloe\\Documents\\ba-eventlogml\\venv\\lib\\site-packages\\sklearn\\manifold\\_t_sne.py:780: FutureWarning:\n",
      "\n",
      "The default initialization in TSNE will change from 'random' to 'pca' in 1.2.\n",
      "\n",
      "C:\\Users\\nbloe\\Documents\\ba-eventlogml\\venv\\lib\\site-packages\\sklearn\\manifold\\_t_sne.py:790: FutureWarning:\n",
      "\n",
      "The default learning rate in TSNE will change from 200.0 to 'auto' in 1.2.\n",
      "\n"
     ]
    }
   ],
   "source": [
    "# Training data\n",
    "pca_tsne = PCA(n_components=50).fit_transform(df_traceList.drop([\"kmeans_cluster\",\"dbscan_cluster\"], axis=1))\n",
    "\n",
    "tsne_2d_model = TSNE(n_components=2, perplexity = 100, random_state = 0, n_iter=10000)\n",
    "df_tsne_2d = pd.DataFrame(data=tsne_2d_model.fit_transform(pca_tsne), columns=('TSNE1', 'TSNE2'))\n",
    "df_tsne_2d = pd.concat([df_tsne_2d,df_traceList[[\"dbscan_cluster\",'kmeans_cluster']]], axis=1, join='inner') # Create df for plotting\n",
    "\n",
    "tsne_3d_model = TSNE(n_components=3, perplexity = 50, random_state = 0)\n",
    "df_tsne_3d = pd.DataFrame(data=tsne_3d_model.fit_transform(pca_tsne), columns=('TSNE1', 'TSNE2','TSNE3'))\n",
    "df_tsne_3d = pd.concat([df_tsne_3d,df_traceList[[\"dbscan_cluster\",'kmeans_cluster']]], axis=1, join='inner')"
   ]
  },
  {
   "cell_type": "code",
   "execution_count": 125,
   "id": "0e40319b",
   "metadata": {},
   "outputs": [
    {
     "data": {
      "text/html": [
       "<div>\n",
       "<style scoped>\n",
       "    .dataframe tbody tr th:only-of-type {\n",
       "        vertical-align: middle;\n",
       "    }\n",
       "\n",
       "    .dataframe tbody tr th {\n",
       "        vertical-align: top;\n",
       "    }\n",
       "\n",
       "    .dataframe thead th {\n",
       "        text-align: right;\n",
       "    }\n",
       "</style>\n",
       "<table border=\"1\" class=\"dataframe\">\n",
       "  <thead>\n",
       "    <tr style=\"text-align: right;\">\n",
       "      <th></th>\n",
       "      <th>TSNE1</th>\n",
       "      <th>TSNE2</th>\n",
       "      <th>TSNE3</th>\n",
       "      <th>dbscan_cluster</th>\n",
       "      <th>kmeans_cluster</th>\n",
       "    </tr>\n",
       "  </thead>\n",
       "  <tbody>\n",
       "    <tr>\n",
       "      <th>0</th>\n",
       "      <td>-8.671763</td>\n",
       "      <td>-2.164256</td>\n",
       "      <td>4.630880</td>\n",
       "      <td>0</td>\n",
       "      <td>2</td>\n",
       "    </tr>\n",
       "    <tr>\n",
       "      <th>1</th>\n",
       "      <td>10.596457</td>\n",
       "      <td>-1.644524</td>\n",
       "      <td>-4.398403</td>\n",
       "      <td>1</td>\n",
       "      <td>2</td>\n",
       "    </tr>\n",
       "    <tr>\n",
       "      <th>2</th>\n",
       "      <td>5.750142</td>\n",
       "      <td>-4.794951</td>\n",
       "      <td>-3.177409</td>\n",
       "      <td>1</td>\n",
       "      <td>2</td>\n",
       "    </tr>\n",
       "    <tr>\n",
       "      <th>3</th>\n",
       "      <td>-8.808739</td>\n",
       "      <td>-2.750318</td>\n",
       "      <td>3.917634</td>\n",
       "      <td>0</td>\n",
       "      <td>2</td>\n",
       "    </tr>\n",
       "    <tr>\n",
       "      <th>4</th>\n",
       "      <td>-0.652230</td>\n",
       "      <td>6.197357</td>\n",
       "      <td>3.850155</td>\n",
       "      <td>-1</td>\n",
       "      <td>0</td>\n",
       "    </tr>\n",
       "  </tbody>\n",
       "</table>\n",
       "</div>"
      ],
      "text/plain": [
       "       TSNE1     TSNE2     TSNE3  dbscan_cluster  kmeans_cluster\n",
       "0  -8.671763 -2.164256  4.630880               0               2\n",
       "1  10.596457 -1.644524 -4.398403               1               2\n",
       "2   5.750142 -4.794951 -3.177409               1               2\n",
       "3  -8.808739 -2.750318  3.917634               0               2\n",
       "4  -0.652230  6.197357  3.850155              -1               0"
      ]
     },
     "execution_count": 125,
     "metadata": {},
     "output_type": "execute_result"
    }
   ],
   "source": [
    "df_tsne_3d.head()"
   ]
  },
  {
   "cell_type": "markdown",
   "id": "cd4cc1c7",
   "metadata": {},
   "source": [
    "## Visualizing the data"
   ]
  },
  {
   "cell_type": "code",
   "execution_count": 180,
   "id": "96f4d1a2",
   "metadata": {},
   "outputs": [
    {
     "data": {
      "text/plain": [
       "<AxesSubplot:xlabel='TSNE1', ylabel='TSNE2'>"
      ]
     },
     "execution_count": 180,
     "metadata": {},
     "output_type": "execute_result"
    },
    {
     "data": {
      "image/png": "[encoded data removed]",
      "text/plain": [
       "<Figure size 1332x756 with 4 Axes>"
      ]
     },
     "metadata": {},
     "output_type": "display_data"
    }
   ],
   "source": [
    "sns.set()\n",
    "fig, axes = plt.subplots(2,2)\n",
    "fig.suptitle('Übersicht der Clustering Ergebnisse')\n",
    "fig.set_size_inches(18.5, 10.5)\n",
    "\n",
    "\n",
    "sns.scatterplot(x='PC1',y='PC2', data=df_pca_2d, hue='kmeans_cluster', palette='tab10', ax=axes[0,0])\n",
    "sns.scatterplot(x='PC1',y='PC2', data=df_pca_2d, hue='dbscan_cluster', palette='tab10', ax=axes[0,1])\n",
    "sns.scatterplot(x='TSNE1',y='TSNE2', data=df_tsne_2d, hue='kmeans_cluster', palette='tab10', ax=axes[1,0])\n",
    "sns.scatterplot(x='TSNE1',y='TSNE2', data=df_tsne_2d, hue='dbscan_cluster', palette='tab10', ax=axes[1,1])"
   ]
  },
  {
   "cell_type": "markdown",
   "id": "9d124b70",
   "metadata": {},
   "source": [
    "### 3D Visualisierung"
   ]
  },
  {
   "cell_type": "code",
   "execution_count": null,
   "id": "79bc7e04",
   "metadata": {},
   "outputs": [],
   "source": [
    "df_pca_3d_0 = df_pca_3d[df_pca_3d['kmeans_cluster'] == 0]\n",
    "df_pca_3d_1 = df_pca_3d[df_pca_3d['kmeans_cluster'] == 1]\n",
    "df_pca_3d_2 = df_pca_3d[df_pca_3d['kmeans_cluster'] == 2]\n",
    "df_pca_3d_3 = df_pca_3d[df_pca_3d['kmeans_cluster'] == 3]"
   ]
  },
  {
   "cell_type": "code",
   "execution_count": null,
   "id": "c8d6ea44",
   "metadata": {},
   "outputs": [],
   "source": [
    "#trace1 is for 'Cluster 0'\n",
    "trace1 = go.Scatter3d(\n",
    "                    x = df_pca_3d_0[\"PC1\"],\n",
    "                    y = df_pca_3d_0[\"PC2\"],\n",
    "                    z = df_pca_3d_0[\"PC3\"],\n",
    "                    mode = \"markers\",\n",
    "                    name = \"Cluster 0\",\n",
    "                    marker = dict(color = 'rgba(255, 128, 255, 0.8)'),\n",
    "                    text = df_pca_3d_0['traceStr'])\n",
    "\n",
    "#trace2 is for 'Cluster 1'\n",
    "trace2 = go.Scatter3d(\n",
    "                    x = df_pca_3d_1[\"PC1\"],\n",
    "                    y = df_pca_3d_1[\"PC2\"],\n",
    "                    z = df_pca_3d_1[\"PC3\"],\n",
    "                    mode = \"markers\",\n",
    "                    name = \"Cluster 1\",\n",
    "                    marker = dict(color = 'rgba(255, 128, 2, 0.8)'),\n",
    "                    text = df_pca_3d_1['traceStr'])\n",
    "\n",
    "#trace3 is for 'Cluster 2'\n",
    "trace3 = go.Scatter3d(\n",
    "                    x = df_pca_3d_2[\"PC1\"],\n",
    "                    y = df_pca_3d_2[\"PC2\"],\n",
    "                    z = df_pca_3d_2[\"PC3\"],\n",
    "                    mode = \"markers\",\n",
    "                    name = \"Cluster 2\",\n",
    "                    marker = dict(color = 'rgba(0, 255, 200, 0.8)'),\n",
    "                    text = df_pca_3d_2['traceStr'])\n",
    "\n",
    "trace4 = go.Scatter3d(\n",
    "                    x = df_pca_3d_2[\"PC1\"],\n",
    "                    y = df_pca_3d_2[\"PC2\"],\n",
    "                    z = df_pca_3d_2[\"PC3\"],\n",
    "                    mode = \"markers\",\n",
    "                    name = \"Cluster 2\",\n",
    "                    marker = dict(color = 'rgba(0, 255, 200, 0.8)'),\n",
    "                    text = df_pca_3d_2['traceStr'])\n",
    "\n",
    "data = [trace1, trace2, trace3, trace4]\n",
    "\n",
    "title = \"Visualizing Clusters in three Dimensions Using PCA\"\n",
    "\n",
    "layout = dict(title = title,\n",
    "              xaxis= dict(title= 'PC1',ticklen= 2,zeroline= False),\n",
    "              yaxis= dict(title= 'PC2',ticklen= 5,zeroline= False)\n",
    "             )\n",
    "\n",
    "fig = dict(data = data, layout = layout)\n",
    "\n",
    "iplot(fig)\n",
    "pio.write_html(fig,'./figs/pca3d_noise_kmeans.html')"
   ]
  }
 ],
 "metadata": {
  "kernelspec": {
   "display_name": "Python 3 (ipykernel)",
   "language": "python",
   "name": "python3"
  },
  "language_info": {
   "codemirror_mode": {
    "name": "ipython",
    "version": 3
   },
   "file_extension": ".py",
   "mimetype": "text/x-python",
   "name": "python",
   "nbconvert_exporter": "python",
   "pygments_lexer": "ipython3",
   "version": "3.10.2"
  }
 },
 "nbformat": 4,
 "nbformat_minor": 5
}
