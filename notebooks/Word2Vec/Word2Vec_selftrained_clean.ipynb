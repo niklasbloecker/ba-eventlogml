{
 "cells": [
  {
   "cell_type": "code",
   "execution_count": 134,
   "id": "fea52ee6",
   "metadata": {},
   "outputs": [],
   "source": [
    "from gensim.models import Word2Vec, KeyedVectors\n",
    "from sklearn.cluster import KMeans, DBSCAN\n",
    "from datetime import datetime\n",
    "from sklearn import metrics\n",
    "from statistics import median\n",
    "from matplotlib import pyplot as plt\n",
    "import seaborn as sns\n",
    "import pandas as pd\n",
    "import numpy as np\n",
    "import nltk\n",
    "import pickle\n",
    "import math\n",
    "import copy"
   ]
  },
  {
   "cell_type": "markdown",
   "id": "ebe66b87",
   "metadata": {},
   "source": [
    "## Preprocess Data"
   ]
  },
  {
   "cell_type": "code",
   "execution_count": 135,
   "id": "4270bc17",
   "metadata": {},
   "outputs": [],
   "source": [
    "def preprocessing(file):\n",
    "    \"\"\"Method to handle the preparation of log event data for further usage in NLP learning methods.\n",
    "    Timestamps are being changed to time inbetween events in a certain trace. After that the values are categorized to\n",
    "    to further improve the quality of data\"\"\"\n",
    "    \n",
    "    # Convert the basic csv input into a first dataframe.\n",
    "    df = pd.read_csv('../../logs/'+file, delimiter=';', header=None)\n",
    "    df = df.drop([df.columns[3]], axis=1)\n",
    "    df.columns = ['timestamp','id','event']\n",
    "    \n",
    "    # Converting timestamps to time difference between events in trace. Difference will be in seconds and categorized to\n",
    "    # ease training of the model. First event will therefore always have a '0' value.\n",
    "    \n",
    "    FMT = '%Y-%m-%d %H:%M:%S' # timestamp format\n",
    "    timediff_list = []\n",
    "\n",
    "    for caseID in df['id'].unique():\n",
    "        caseIndex = 0 # Index for each trace dataframe. iterrows() Index represents index in global DF.\n",
    "        first_time = '' # Temp variable to hold the timestamp of the first event. Timestamp will be lost after first iteration.\n",
    "        for index, event in df[df['id'] == caseID].iterrows():\n",
    "            event_time = event['timestamp']\n",
    "            \n",
    "            if caseIndex == 0:\n",
    "                first_time = event_time\n",
    "                timediff_list.append(0.0) # Can't use previous time without previous event. Time differnece is therefore 0.0..\n",
    "            elif caseIndex == 1:\n",
    "                tdelta = datetime.strptime(event_time, FMT) - datetime.strptime(first_time, FMT) # Deduct current from from previous.\n",
    "                timediff_list.append(tdelta.total_seconds())\n",
    "            else: \n",
    "                prev_time = df[df['id'] == caseID].iloc[caseIndex-1]['timestamp'] # Timestamp of previous event.\n",
    "                tdelta = datetime.strptime(event_time, FMT) - datetime.strptime(prev_time, FMT) # Deduct current from from previous.\n",
    "                timediff_list.append(tdelta.total_seconds())\n",
    "            caseIndex += 1\n",
    "    \n",
    "    # Converting the build up timediff_list into a DataFrame, categorizing it and replace the new values with the given timestamps.\n",
    "    timediff_df = pd.DataFrame(timediff_list, columns=['timestamp_diff'])\n",
    "    timediff_df = pd.cut(timediff_df['timestamp_diff'],10, labels=False) # Categorizing differences into 10 bins with same width.\n",
    "    df = pd.concat([timediff_df,df.drop(['timestamp'], axis=1) ], axis=1, join='inner') # Dropping old timestamps and adding new\n",
    "    df['event'] = df['event'].str.lower() # Converting string to lower case.\n",
    "    \n",
    "    # Converting dataframe values into strings and tokenize each event after.\n",
    "    string_list = df.to_string(header=False,index=False,index_names=False).split('\\n')\n",
    "    token_list = [nltk.word_tokenize(event.lower()) for event in string_list] # List containing event tokens.\n",
    "    \n",
    "    # Creating a list containing word tokens for each trace ID.\n",
    "    traceids = df['id'].unique()\n",
    "    trace_list = []\n",
    "    \n",
    "    # Filter for each tradeid and convert each trade into lists, containing the events.\n",
    "    for id in traceids:\n",
    "        df_trace= df.loc[df['id']==id] # df holding the entries for the specific trace ID\n",
    "        traceString = df_trace.to_string(header=False,index=False,index_names=False).split('\\n') # Converting each event into a string\n",
    "        traceToken = [nltk.word_tokenize(event.lower()) for event in traceString]\n",
    "\n",
    "        trace_list.append(traceToken)\n",
    "    \n",
    "    return df, trace_list, token_list"
   ]
  },
  {
   "cell_type": "code",
   "execution_count": 136,
   "id": "c126c532",
   "metadata": {},
   "outputs": [],
   "source": [
    "df, traceToken, tokenList = preprocessing('ecommerce_clean.csv')"
   ]
  },
  {
   "cell_type": "markdown",
   "id": "f36e3acc",
   "metadata": {},
   "source": [
    "## Train model with tokenized events as sentences"
   ]
  },
  {
   "cell_type": "code",
   "execution_count": 137,
   "id": "928e61e2",
   "metadata": {},
   "outputs": [],
   "source": [
    "model = Word2Vec(sentences=tokenList, vector_size=300, window=4, min_count=1, workers=4)"
   ]
  },
  {
   "cell_type": "code",
   "execution_count": 138,
   "id": "9e198e1b",
   "metadata": {
    "scrolled": true
   },
   "outputs": [
    {
     "data": {
      "text/plain": [
       "array([-3.48392278e-02,  1.84096977e-01, -6.28014803e-02,  1.87576283e-03,\n",
       "       -9.07592624e-02, -1.96422413e-01,  5.62529415e-02,  2.60445029e-01,\n",
       "       -2.85518840e-02, -1.12266347e-01,  1.38647258e-01, -4.48156632e-02,\n",
       "       -4.42252383e-02,  7.61561841e-02,  8.31729081e-03, -1.04565077e-01,\n",
       "        8.83111507e-02, -2.71839462e-02, -7.14858398e-02, -5.23309037e-02,\n",
       "       -5.66179939e-02, -8.31108615e-02,  1.94600467e-02,  1.23998344e-01,\n",
       "       -2.75200550e-02,  3.49171571e-02, -1.35808334e-01,  7.84423277e-02,\n",
       "       -1.37125850e-01, -1.50715157e-01, -1.29411146e-02, -8.08636099e-02,\n",
       "        1.54379860e-01, -6.90361559e-02,  1.73432007e-02,  2.67474595e-02,\n",
       "        4.39814292e-02, -4.23420183e-02,  6.51207566e-02, -1.45573309e-02,\n",
       "       -9.12535787e-02, -4.77766842e-02,  7.73927495e-02, -1.11033998e-01,\n",
       "        8.94974396e-02,  9.59949717e-02, -3.44280712e-02,  1.33079141e-02,\n",
       "        3.04699130e-02,  1.01759441e-01, -3.61184441e-02,  5.25465943e-02,\n",
       "       -1.10787392e-01,  1.42961755e-01,  5.97733594e-02,  6.06211349e-02,\n",
       "        2.44855471e-02,  5.51804975e-02,  5.83480857e-02, -1.38133653e-02,\n",
       "       -6.98760292e-03, -6.23003691e-02, -3.81072238e-02,  1.72336698e-01,\n",
       "        1.42691396e-02,  1.15974024e-01,  1.72846597e-02,  8.89663026e-02,\n",
       "       -1.08777516e-01,  1.57737896e-01,  8.55913833e-02,  1.18858673e-01,\n",
       "        1.45688400e-01, -1.31882817e-01,  1.95346981e-01, -3.79705913e-02,\n",
       "       -4.07568477e-02,  2.29011785e-04, -4.09922143e-03, -9.31168050e-02,\n",
       "       -1.04772843e-01, -6.35198131e-02, -1.04673840e-01,  3.07747960e-01,\n",
       "        2.48006283e-04, -2.47157905e-02,  3.27436924e-02, -6.94836751e-02,\n",
       "        1.76287025e-01,  6.91518560e-02,  6.00441881e-02, -1.44775882e-01,\n",
       "        5.58991767e-02, -7.99668138e-04,  1.09516062e-01,  8.41692761e-02,\n",
       "        5.56102023e-02, -6.83443099e-02, -6.11436740e-02,  2.34739222e-02,\n",
       "        5.58679588e-02,  3.05804759e-02, -5.75111099e-02,  6.96591660e-02,\n",
       "       -8.45050905e-03, -1.61171257e-01, -5.91354072e-02,  5.74952997e-02,\n",
       "       -1.46848083e-01, -4.17270139e-02, -2.84789205e-01, -8.91164467e-02,\n",
       "        4.40451279e-02,  6.68547675e-02,  1.18163332e-01,  1.55774448e-02,\n",
       "       -9.43825487e-03,  7.81102404e-02,  1.01708509e-01, -1.76793620e-01,\n",
       "        1.00134782e-01,  6.14023656e-02,  2.96452045e-02, -5.70384637e-02,\n",
       "       -1.55714955e-02,  9.08831507e-02, -2.08694085e-01, -2.09146008e-01,\n",
       "       -1.19288247e-02,  1.11119457e-01,  7.18485117e-02,  8.61416012e-02,\n",
       "        1.14967473e-01, -2.46974915e-01,  8.32000449e-02,  1.04070954e-01,\n",
       "       -4.32192758e-02, -6.41686171e-02, -1.37940928e-01, -1.22046806e-01,\n",
       "        5.98839410e-02, -2.77511049e-02, -6.90250099e-02,  1.35194182e-01,\n",
       "       -2.52216663e-02,  4.70547937e-02, -1.64297923e-01, -1.14409417e-01,\n",
       "        5.54829240e-02, -9.13533717e-02,  3.07660140e-02, -1.95723742e-01,\n",
       "        4.60906662e-02, -1.44880965e-01,  3.28016770e-03,  4.36936133e-02,\n",
       "       -1.32796422e-01, -6.92505464e-02, -8.57123137e-02,  1.12235606e-01,\n",
       "        2.35611442e-02,  4.98699173e-02, -1.25709593e-01,  1.38825610e-01,\n",
       "        1.28760813e-02,  1.62460998e-01, -1.25282690e-01, -2.73783617e-02,\n",
       "       -2.43576150e-02,  1.45298555e-01, -1.27509713e-01, -1.67328827e-02,\n",
       "        9.00503844e-02,  3.69149633e-02,  8.66266787e-02,  1.40842656e-02,\n",
       "       -4.31149378e-02, -5.49008884e-02,  8.54046121e-02,  8.62521864e-03,\n",
       "       -9.92051661e-02,  6.22941479e-02, -1.01261877e-01, -6.75129145e-02,\n",
       "       -1.69593632e-01, -1.32009670e-01,  2.84002811e-01,  1.95498884e-01,\n",
       "        7.88006186e-02, -3.32097225e-02,  2.25191057e-01,  7.40322918e-02,\n",
       "       -1.33589000e-01, -3.61516401e-02, -3.01920697e-02, -1.06426500e-01,\n",
       "       -6.87989220e-02, -4.90245372e-02,  2.29812842e-02, -1.85691025e-02,\n",
       "       -1.84669029e-02,  5.89498365e-03,  1.09146442e-02, -7.14280531e-02,\n",
       "        1.63362429e-01, -1.36967570e-01,  1.08417086e-01,  1.18852496e-01,\n",
       "       -1.73696354e-02, -7.84056336e-02, -1.13230631e-01, -1.48599729e-01,\n",
       "       -3.07282805e-02, -8.53915066e-02,  9.58241224e-02, -9.71319079e-02,\n",
       "       -1.15148529e-01, -2.49892965e-01, -1.22797959e-01, -1.99788272e-01,\n",
       "        5.10957316e-02,  1.02150828e-01,  1.64217297e-02, -1.21156827e-01,\n",
       "       -1.79756265e-02, -7.48455524e-02,  6.74072653e-02,  3.21570076e-02,\n",
       "       -8.23001489e-02,  2.02096794e-02,  1.01603374e-01, -6.88543841e-02,\n",
       "        3.45829204e-02,  1.81974529e-03, -1.38900846e-01,  6.80311918e-02,\n",
       "        7.33395219e-02,  9.14250165e-02,  8.60897228e-02, -2.05813825e-01,\n",
       "        5.86351305e-02, -1.05788223e-01,  5.50415076e-04, -8.01566467e-02,\n",
       "        4.47289944e-02, -1.42615616e-01, -1.16003081e-02, -6.70934618e-02,\n",
       "        4.95559424e-02,  8.07598531e-02,  6.63270354e-02, -1.88319292e-02,\n",
       "        1.37108847e-01, -6.13804273e-02, -4.97042015e-02, -1.03494778e-01,\n",
       "        2.24241182e-01,  6.61138147e-02, -1.57103404e-01, -5.61681911e-02,\n",
       "        7.29636922e-02, -8.77042860e-02,  1.06576063e-01, -1.45776153e-01,\n",
       "       -1.46290645e-01,  4.29617316e-02,  1.59322232e-01,  9.52002257e-02,\n",
       "       -1.97360754e-01,  9.31342095e-02, -4.10300232e-02,  4.05029915e-02,\n",
       "        1.35185290e-02,  7.10180178e-02, -1.97659922e-03,  4.17106450e-02,\n",
       "        1.32862717e-01,  1.43436924e-01, -1.96305245e-01,  8.08000639e-02,\n",
       "        5.05635999e-02,  1.20198987e-01, -8.04532245e-02,  8.06002244e-02,\n",
       "       -2.56445538e-02, -2.86211520e-02, -8.81263465e-02,  5.07697091e-02,\n",
       "       -1.62045173e-02,  8.49359855e-02,  1.33261874e-01,  1.57116055e-01,\n",
       "        1.28338948e-01,  5.87045215e-02,  2.17204630e-01,  1.48525611e-01,\n",
       "        1.18482765e-02, -6.09453954e-03,  5.12380265e-02, -1.27736658e-01],\n",
       "      dtype=float32)"
      ]
     },
     "execution_count": 138,
     "metadata": {},
     "output_type": "execute_result"
    }
   ],
   "source": [
    "model.wv.get_vector('user')"
   ]
  },
  {
   "cell_type": "code",
   "execution_count": 139,
   "id": "a4cd6bbb",
   "metadata": {},
   "outputs": [],
   "source": [
    "# Create duplicate of traceToken holding the token vectors.\n",
    "trace_VecWordList = copy.deepcopy(traceToken)\n",
    "for trace in range(len(trace_VecWordList)):\n",
    "    for event in range(len(trace_VecWordList[trace])):\n",
    "        for token in range(len(trace_VecWordList[trace][event])):\n",
    "            vec_temp = model.wv.get_vector(traceToken[trace][event][token])\n",
    "            trace_VecWordList[trace][event][token] = vec_temp"
   ]
  },
  {
   "cell_type": "markdown",
   "id": "7934a535",
   "metadata": {},
   "source": [
    "## Build trace vectors using IDF weighting"
   ]
  },
  {
   "cell_type": "code",
   "execution_count": 140,
   "id": "6966a984",
   "metadata": {},
   "outputs": [],
   "source": [
    "def build_traceVector(df, traceVectorList, traceWordList):\n",
    "    \"\"\"Method to process data created by word model. It will form a summed up vector for each trace and weigh in tokens with calculated IDF.\"\"\"\n",
    "    \n",
    "    unique_tokens = set() # Will hold unique values for all columns. \n",
    "    \n",
    "    unique_tokens.update(list(df['timestamp_diff'].map(str).unique()))\n",
    "    unique_tokens.update(list(df['id'].map(str).unique()))\n",
    "    unique_tokens.update(list(df['event'].str.lower().str.split(' ').sum()))\n",
    "    \n",
    "    idf_dict = dict.fromkeys(unique_tokens, 0) # Initiate dictionary holding all unique keys with 0 as values. \n",
    "    \n",
    "    #Building up dictionary and upping the counter for every event which contains the word.\n",
    "    for trace in traceWordList:\n",
    "        for event in trace:\n",
    "            for uniqueToken in unique_tokens:\n",
    "                if uniqueToken in event:\n",
    "                    idf_dict[uniqueToken] += 1\n",
    "    \n",
    "    # Calculating IDF with log of basis 10.\n",
    "    event_len = len(df)\n",
    "    for key in idf_dict:\n",
    "        if idf_dict[key] != 0:\n",
    "            idf_dict[key] = math.log10(event_len/(idf_dict[key]+1))\n",
    "    \n",
    "    # Building up list of IDF values for Case IDs and calculating the median. \n",
    "    unique_IDs = df['id'].unique() # automatically sorted \n",
    "    median_list = []\n",
    "    \n",
    "    for caseID in unique_IDs: \n",
    "        median_list.append(idf_dict[str(caseID)])\n",
    "    median_case = median(median_list) # Represents the median idf score for the case IDs.\n",
    "    \n",
    "    # Update traceVectorList by multiplying items with the idf score. Case ID will be multiplied by idf-score/median_case.\n",
    "    idfVectorList = copy.deepcopy(traceVectorList)\n",
    "    for traceID in range(len(traceVectorList)): #Representing array index and not real trace IDs\n",
    "        for eventID in range(len(traceVectorList[traceID])):\n",
    "            event_list = [] # List in which the multiplied vectors of each event token are stored.\n",
    "            for tokenID in range(len(traceVectorList[traceID][eventID])):\n",
    "                \n",
    "                if tokenID != 1: # Ignore case IDs\n",
    "                    idf_val = idf_dict[traceWordList[traceID][eventID][tokenID]] # Holding idf value of current token.\n",
    "                    word_vec = traceVectorList[traceID][eventID][tokenID] # The vector of current token.\n",
    "                    multiplied_Vec = np.multiply(idf_val,word_vec)\n",
    "                    event_list.append(multiplied_Vec)\n",
    "                \n",
    "            idfVectorList[traceID][eventID] = event_list # Add list of vectors to new list of multiplied values.\n",
    "    \n",
    "    # Instead of factoring in vector of case IDs we will take the trace length into account. It is more likely to have anomalies in traced with high deviation from median length.\n",
    "    # After that we will sum up the event vectors and then trace vectors in the next step.\n",
    "    idfSumList = copy.deepcopy(idfVectorList) # Will hold the summed up trace vectors.\n",
    "    for traceIndex in range(len(idfVectorList)):\n",
    "        median_difference = abs(median_case-idf_dict[str(unique_IDs[traceIndex])])+1 # Median minus the IDF of each case ID. Works because unique_IDs and traceVectorList are sorted..\n",
    "        #print(f\"Is multiplied by {median_difference}\")\n",
    "        for eventIndex in range(len(idfVectorList[traceIndex])):\n",
    "            idf_EventList = np.multiply(median_difference,idfVectorList[traceIndex][eventIndex]) # Multiplying all vectos by the median difference.\n",
    "            idfSumList[traceIndex][eventIndex] = np.add.reduce(idf_EventList)  # np.add.reduce(idfVectorList[traceIndex][eventIndex])Building the sum vector of the event vectors.\n",
    "            \n",
    "        idfSumList[traceIndex] = np.add.reduce(idfSumList[traceIndex])\n",
    "            \n",
    "    return idfSumList"
   ]
  },
  {
   "cell_type": "code",
   "execution_count": 141,
   "id": "b76f5ad3",
   "metadata": {},
   "outputs": [],
   "source": [
    "traceList = build_traceVector(df, trace_VecWordList, traceToken)\n",
    "df_traceList = pd.DataFrame(traceList)"
   ]
  },
  {
   "cell_type": "markdown",
   "id": "42ccd5cf",
   "metadata": {},
   "source": [
    "## Clustering the data\n",
    "K-Means and DBScan will be used. After clustering the data, we will reduce dimensions with PCA and T-SNE "
   ]
  },
  {
   "cell_type": "markdown",
   "id": "255f1921",
   "metadata": {},
   "source": [
    "KMeans Clustering\n",
    "Um die optimale Anzahl der Cluster für das Clustering zu bestimmen, bilden den einen \"Elbow\" Plot. In diesem wird vom jedem Punkt die Entfernung zu den jeweiligen Cluster Centern quadriert und anschließend summiert. Wir sehen also wie gut wie Cluster die jeweiligen Daten separieren."
   ]
  },
  {
   "cell_type": "code",
   "execution_count": 142,
   "id": "f30da435",
   "metadata": {},
   "outputs": [
    {
     "data": {
      "text/plain": [
       "<AxesSubplot:xlabel='k', ylabel='Distortion'>"
      ]
     },
     "execution_count": 142,
     "metadata": {},
     "output_type": "execute_result"
    },
    {
     "data": {
      "image/png": "[encoded data removed]",
      "text/plain": [
       "<Figure size 432x288 with 1 Axes>"
      ]
     },
     "metadata": {},
     "output_type": "display_data"
    }
   ],
   "source": [
    "distortions = []\n",
    "K = range(1,10)\n",
    "for k in K: \n",
    "    kmeanModel = KMeans(n_clusters=k)\n",
    "    kmeanModel.fit(traceList)\n",
    "    distortions.append(kmeanModel.inertia_)\n",
    "\n",
    "data_plot = pd.DataFrame({'k': K, 'Distortion': distortions})\n",
    "sns.set_theme(style=\"whitegrid\")\n",
    "sns.lineplot(x=\"k\", y=\"Distortion\", data = data_plot)"
   ]
  },
  {
   "cell_type": "markdown",
   "id": "6987925b",
   "metadata": {},
   "source": [
    "Cluster number k=4 is chosen"
   ]
  },
  {
   "cell_type": "code",
   "execution_count": 143,
   "id": "8ab392d2",
   "metadata": {},
   "outputs": [],
   "source": [
    "kmeans = KMeans(n_clusters=8).fit(traceList)"
   ]
  },
  {
   "cell_type": "code",
   "execution_count": 144,
   "id": "28cca209",
   "metadata": {},
   "outputs": [
    {
     "data": {
      "text/plain": [
       "array([[ -0.78524669,   4.47948876,  -1.42508718, ...,   0.09800621,\n",
       "          1.38316716,  -3.41600201],\n",
       "       [ -1.33928936,   7.3716585 ,  -2.33978224, ...,   0.30345377,\n",
       "          2.17261267,  -5.62773095],\n",
       "       [ -1.00278454,   5.586144  ,  -1.77544717, ...,   0.18644191,\n",
       "          1.6795702 ,  -4.26599892],\n",
       "       ...,\n",
       "       [ -2.63875985,  13.70353127,  -4.44732714, ...,   0.68963826,\n",
       "          4.01953506, -10.77447414],\n",
       "       [ -0.85676913,   4.79469145,  -1.53026495, ...,   0.13076477,\n",
       "          1.46674353,  -3.67458995],\n",
       "       [ -1.90318621,  10.27768974,  -3.27404852, ...,   0.4955058 ,\n",
       "          2.98483386,  -7.8703927 ]])"
      ]
     },
     "execution_count": 144,
     "metadata": {},
     "output_type": "execute_result"
    }
   ],
   "source": [
    "df_traceList['kmeans_cluster'] = kmeans.predict(traceList)\n",
    "kmeans.cluster_centers_ # Centers of determined clusters"
   ]
  },
  {
   "cell_type": "markdown",
   "id": "8896f692",
   "metadata": {},
   "source": [
    "DBScan"
   ]
  },
  {
   "cell_type": "code",
   "execution_count": 145,
   "id": "2e8256a5",
   "metadata": {},
   "outputs": [
    {
     "name": "stdout",
     "output_type": "stream",
     "text": [
      "Estimated number of clusters: 6\n",
      "Estimated number of noise points: 85\n"
     ]
    }
   ],
   "source": [
    "db = DBSCAN(eps=0.8, min_samples=10).fit(traceList)\n",
    "labels = db.labels_\n",
    "\n",
    "# Number of clusters in labels, ignoring noise if present.\n",
    "n_clusters_ = len(set(labels)) - (1 if -1 in labels else 0)\n",
    "n_noise_ = list(labels).count(-1)\n",
    "\n",
    "df_traceList['dbscan_cluster'] = labels\n",
    "\n",
    "print(\"Estimated number of clusters: %d\" % n_clusters_)\n",
    "print(\"Estimated number of noise points: %d\" % n_noise_)\n",
    "#print(labels)"
   ]
  },
  {
   "cell_type": "code",
   "execution_count": 146,
   "id": "58462596",
   "metadata": {},
   "outputs": [
    {
     "data": {
      "text/html": [
       "<div>\n",
       "<style scoped>\n",
       "    .dataframe tbody tr th:only-of-type {\n",
       "        vertical-align: middle;\n",
       "    }\n",
       "\n",
       "    .dataframe tbody tr th {\n",
       "        vertical-align: top;\n",
       "    }\n",
       "\n",
       "    .dataframe thead th {\n",
       "        text-align: right;\n",
       "    }\n",
       "</style>\n",
       "<table border=\"1\" class=\"dataframe\">\n",
       "  <thead>\n",
       "    <tr style=\"text-align: right;\">\n",
       "      <th></th>\n",
       "      <th>0</th>\n",
       "      <th>1</th>\n",
       "      <th>2</th>\n",
       "      <th>3</th>\n",
       "      <th>4</th>\n",
       "      <th>5</th>\n",
       "      <th>6</th>\n",
       "      <th>7</th>\n",
       "      <th>8</th>\n",
       "      <th>9</th>\n",
       "      <th>...</th>\n",
       "      <th>292</th>\n",
       "      <th>293</th>\n",
       "      <th>294</th>\n",
       "      <th>295</th>\n",
       "      <th>296</th>\n",
       "      <th>297</th>\n",
       "      <th>298</th>\n",
       "      <th>299</th>\n",
       "      <th>kmeans_cluster</th>\n",
       "      <th>dbscan_cluster</th>\n",
       "    </tr>\n",
       "  </thead>\n",
       "  <tbody>\n",
       "    <tr>\n",
       "      <th>0</th>\n",
       "      <td>-0.813586</td>\n",
       "      <td>4.657340</td>\n",
       "      <td>-1.489820</td>\n",
       "      <td>0.152818</td>\n",
       "      <td>-2.163179</td>\n",
       "      <td>-5.029841</td>\n",
       "      <td>1.380811</td>\n",
       "      <td>6.615672</td>\n",
       "      <td>-0.744293</td>\n",
       "      <td>-2.870474</td>\n",
       "      <td>...</td>\n",
       "      <td>3.198284</td>\n",
       "      <td>1.504118</td>\n",
       "      <td>5.447572</td>\n",
       "      <td>3.792156</td>\n",
       "      <td>0.430964</td>\n",
       "      <td>0.108124</td>\n",
       "      <td>1.417541</td>\n",
       "      <td>-3.549448</td>\n",
       "      <td>0</td>\n",
       "      <td>0</td>\n",
       "    </tr>\n",
       "    <tr>\n",
       "      <th>1</th>\n",
       "      <td>-1.239948</td>\n",
       "      <td>7.057353</td>\n",
       "      <td>-2.193145</td>\n",
       "      <td>0.399377</td>\n",
       "      <td>-3.193891</td>\n",
       "      <td>-7.643538</td>\n",
       "      <td>2.050629</td>\n",
       "      <td>9.881295</td>\n",
       "      <td>-1.185605</td>\n",
       "      <td>-4.245703</td>\n",
       "      <td>...</td>\n",
       "      <td>4.833715</td>\n",
       "      <td>2.248124</td>\n",
       "      <td>8.123124</td>\n",
       "      <td>5.651706</td>\n",
       "      <td>0.666610</td>\n",
       "      <td>0.316563</td>\n",
       "      <td>2.043335</td>\n",
       "      <td>-5.255342</td>\n",
       "      <td>4</td>\n",
       "      <td>-1</td>\n",
       "    </tr>\n",
       "    <tr>\n",
       "      <th>2</th>\n",
       "      <td>-0.773637</td>\n",
       "      <td>4.416899</td>\n",
       "      <td>-1.410908</td>\n",
       "      <td>0.144105</td>\n",
       "      <td>-2.060203</td>\n",
       "      <td>-4.791096</td>\n",
       "      <td>1.322583</td>\n",
       "      <td>6.306119</td>\n",
       "      <td>-0.713349</td>\n",
       "      <td>-2.728330</td>\n",
       "      <td>...</td>\n",
       "      <td>3.042442</td>\n",
       "      <td>1.433905</td>\n",
       "      <td>5.184127</td>\n",
       "      <td>3.608980</td>\n",
       "      <td>0.409225</td>\n",
       "      <td>0.101859</td>\n",
       "      <td>1.361548</td>\n",
       "      <td>-3.378777</td>\n",
       "      <td>0</td>\n",
       "      <td>0</td>\n",
       "    </tr>\n",
       "    <tr>\n",
       "      <th>3</th>\n",
       "      <td>-1.334616</td>\n",
       "      <td>7.201112</td>\n",
       "      <td>-2.302933</td>\n",
       "      <td>0.371103</td>\n",
       "      <td>-3.486862</td>\n",
       "      <td>-7.937757</td>\n",
       "      <td>1.971010</td>\n",
       "      <td>10.642743</td>\n",
       "      <td>-1.306275</td>\n",
       "      <td>-4.486426</td>\n",
       "      <td>...</td>\n",
       "      <td>5.087407</td>\n",
       "      <td>2.397648</td>\n",
       "      <td>8.865406</td>\n",
       "      <td>5.980869</td>\n",
       "      <td>0.578460</td>\n",
       "      <td>0.273853</td>\n",
       "      <td>2.180593</td>\n",
       "      <td>-5.609803</td>\n",
       "      <td>1</td>\n",
       "      <td>5</td>\n",
       "    </tr>\n",
       "    <tr>\n",
       "      <th>4</th>\n",
       "      <td>-0.770571</td>\n",
       "      <td>4.399536</td>\n",
       "      <td>-1.399058</td>\n",
       "      <td>0.141676</td>\n",
       "      <td>-2.059417</td>\n",
       "      <td>-4.785926</td>\n",
       "      <td>1.314405</td>\n",
       "      <td>6.279635</td>\n",
       "      <td>-0.703577</td>\n",
       "      <td>-2.712380</td>\n",
       "      <td>...</td>\n",
       "      <td>3.028686</td>\n",
       "      <td>1.418176</td>\n",
       "      <td>5.164397</td>\n",
       "      <td>3.592930</td>\n",
       "      <td>0.408767</td>\n",
       "      <td>0.095098</td>\n",
       "      <td>1.364567</td>\n",
       "      <td>-3.363304</td>\n",
       "      <td>0</td>\n",
       "      <td>0</td>\n",
       "    </tr>\n",
       "  </tbody>\n",
       "</table>\n",
       "<p>5 rows × 302 columns</p>\n",
       "</div>"
      ],
      "text/plain": [
       "          0         1         2         3         4         5         6  \\\n",
       "0 -0.813586  4.657340 -1.489820  0.152818 -2.163179 -5.029841  1.380811   \n",
       "1 -1.239948  7.057353 -2.193145  0.399377 -3.193891 -7.643538  2.050629   \n",
       "2 -0.773637  4.416899 -1.410908  0.144105 -2.060203 -4.791096  1.322583   \n",
       "3 -1.334616  7.201112 -2.302933  0.371103 -3.486862 -7.937757  1.971010   \n",
       "4 -0.770571  4.399536 -1.399058  0.141676 -2.059417 -4.785926  1.314405   \n",
       "\n",
       "           7         8         9  ...       292       293       294       295  \\\n",
       "0   6.615672 -0.744293 -2.870474  ...  3.198284  1.504118  5.447572  3.792156   \n",
       "1   9.881295 -1.185605 -4.245703  ...  4.833715  2.248124  8.123124  5.651706   \n",
       "2   6.306119 -0.713349 -2.728330  ...  3.042442  1.433905  5.184127  3.608980   \n",
       "3  10.642743 -1.306275 -4.486426  ...  5.087407  2.397648  8.865406  5.980869   \n",
       "4   6.279635 -0.703577 -2.712380  ...  3.028686  1.418176  5.164397  3.592930   \n",
       "\n",
       "        296       297       298       299  kmeans_cluster  dbscan_cluster  \n",
       "0  0.430964  0.108124  1.417541 -3.549448               0               0  \n",
       "1  0.666610  0.316563  2.043335 -5.255342               4              -1  \n",
       "2  0.409225  0.101859  1.361548 -3.378777               0               0  \n",
       "3  0.578460  0.273853  2.180593 -5.609803               1               5  \n",
       "4  0.408767  0.095098  1.364567 -3.363304               0               0  \n",
       "\n",
       "[5 rows x 302 columns]"
      ]
     },
     "execution_count": 146,
     "metadata": {},
     "output_type": "execute_result"
    }
   ],
   "source": [
    "df_traceList.head()"
   ]
  },
  {
   "cell_type": "code",
   "execution_count": 147,
   "id": "97f7d7f4",
   "metadata": {},
   "outputs": [],
   "source": [
    "trace_StrList = [] # Build list holding string for display in 3d Plot.\n",
    "for trace in traceToken:\n",
    "    traceStr = \"\"\n",
    "    for event in trace:\n",
    "        for word in event: \n",
    "            traceStr += word+' '\n",
    "        traceStr += '<br>'\n",
    "    trace_StrList.append(traceStr)\n",
    "\n",
    "df_traceList['traceStr'] = trace_StrList"
   ]
  },
  {
   "cell_type": "markdown",
   "id": "b5c3f978",
   "metadata": {},
   "source": [
    "## Reducing the dimensions\n",
    "To visualize the datapoints we will reduce the dimensions using PCA and T-SNE. "
   ]
  },
  {
   "cell_type": "code",
   "execution_count": 148,
   "id": "cd22892d",
   "metadata": {},
   "outputs": [],
   "source": [
    "from sklearn.decomposition import PCA\n",
    "from sklearn.manifold import TSNE\n",
    "import plotly as py\n",
    "import plotly.graph_objs as go\n",
    "import plotly.io as pio\n",
    "from plotly.offline import download_plotlyjs, init_notebook_mode, plot, iplot"
   ]
  },
  {
   "cell_type": "markdown",
   "id": "6aa67dd6",
   "metadata": {},
   "source": [
    "### PCA\n",
    "Calculate the PCA values for different dimensions. We will do dimension reduction for 2D,3D and 4D."
   ]
  },
  {
   "cell_type": "code",
   "execution_count": 149,
   "id": "1fcaa930",
   "metadata": {},
   "outputs": [],
   "source": [
    "pca_2d = PCA(n_components=2)\n",
    "PCs_2d = pd.DataFrame(pca_2d.fit_transform(df_traceList.drop([\"kmeans_cluster\",\"dbscan_cluster\",'traceStr'], axis=1)))\n",
    "PCs_2d.columns = [\"PC1\", \"PC2\"]\n",
    "\n",
    "pca_3d = PCA(n_components=3)\n",
    "PCs_3d = pd.DataFrame(pca_3d.fit_transform(df_traceList.drop([\"kmeans_cluster\",\"dbscan_cluster\",'traceStr'], axis=1)))\n",
    "PCs_3d.columns = [\"PC1\", \"PC2\",\"PC3\"]\n",
    "\n",
    "pca_4d = PCA(n_components=4)\n",
    "PCs_4d = pd.DataFrame(pca_4d.fit_transform(df_traceList.drop([\"kmeans_cluster\",\"dbscan_cluster\",'traceStr'], axis=1)))\n",
    "PCs_4d.columns = [\"PC1\", \"PC2\",\"PC3\",\"PC4\"]"
   ]
  },
  {
   "cell_type": "code",
   "execution_count": 150,
   "id": "eb97c379",
   "metadata": {},
   "outputs": [],
   "source": [
    "df_pca_2d = pd.concat([PCs_2d,df_traceList[[\"dbscan_cluster\",'kmeans_cluster','traceStr']]], axis=1, join='inner')\n",
    "df_pca_3d = pd.concat([PCs_3d,df_traceList[[\"dbscan_cluster\",'kmeans_cluster','traceStr']]], axis=1, join='inner')\n",
    "df_pca_4d = pd.concat([PCs_4d,df_traceList[[\"dbscan_cluster\",'kmeans_cluster','traceStr']]], axis=1, join='inner')"
   ]
  },
  {
   "cell_type": "markdown",
   "id": "001484d1",
   "metadata": {},
   "source": [
    "### T-SNE\n",
    "Im originalen Paper für T-SNE wird empfohlen die Dimensionen bei hoher Anzahl auf einen \"reasonable amount\" zu verringern. Daher werden wir hier mit Werten von 50 arbeiten."
   ]
  },
  {
   "cell_type": "code",
   "execution_count": 151,
   "id": "834a453f",
   "metadata": {},
   "outputs": [
    {
     "name": "stderr",
     "output_type": "stream",
     "text": [
      "C:\\Users\\nbloe\\Documents\\ba-eventlogml\\venv\\lib\\site-packages\\sklearn\\manifold\\_t_sne.py:780: FutureWarning:\n",
      "\n",
      "The default initialization in TSNE will change from 'random' to 'pca' in 1.2.\n",
      "\n",
      "C:\\Users\\nbloe\\Documents\\ba-eventlogml\\venv\\lib\\site-packages\\sklearn\\manifold\\_t_sne.py:790: FutureWarning:\n",
      "\n",
      "The default learning rate in TSNE will change from 200.0 to 'auto' in 1.2.\n",
      "\n",
      "C:\\Users\\nbloe\\Documents\\ba-eventlogml\\venv\\lib\\site-packages\\sklearn\\manifold\\_t_sne.py:780: FutureWarning:\n",
      "\n",
      "The default initialization in TSNE will change from 'random' to 'pca' in 1.2.\n",
      "\n",
      "C:\\Users\\nbloe\\Documents\\ba-eventlogml\\venv\\lib\\site-packages\\sklearn\\manifold\\_t_sne.py:790: FutureWarning:\n",
      "\n",
      "The default learning rate in TSNE will change from 200.0 to 'auto' in 1.2.\n",
      "\n"
     ]
    }
   ],
   "source": [
    "# Training data\n",
    "pca_tsne = PCA(n_components=50).fit_transform(df_traceList.drop([\"kmeans_cluster\",\"dbscan_cluster\",'traceStr'], axis=1))\n",
    "\n",
    "tsne_2d_model = TSNE(n_components=2, perplexity = 100, random_state = 0, n_iter=10000)\n",
    "df_tsne_2d = pd.DataFrame(data=tsne_2d_model.fit_transform(pca_tsne), columns=('TSNE1', 'TSNE2'))\n",
    "df_tsne_2d = pd.concat([df_tsne_2d,df_traceList[[\"dbscan_cluster\",'kmeans_cluster','traceStr']]], axis=1, join='inner') # Create df for plotting\n",
    "\n",
    "tsne_3d_model = TSNE(n_components=3, perplexity = 50, random_state = 0)\n",
    "df_tsne_3d = pd.DataFrame(data=tsne_3d_model.fit_transform(pca_tsne), columns=('TSNE1', 'TSNE2','TSNE3'))\n",
    "df_tsne_3d = pd.concat([df_tsne_3d,df_traceList[[\"dbscan_cluster\",'kmeans_cluster','traceStr']]], axis=1, join='inner')"
   ]
  },
  {
   "cell_type": "code",
   "execution_count": 161,
   "id": "dafdbe6b",
   "metadata": {},
   "outputs": [
    {
     "data": {
      "text/plain": [
       "0       6.632302\n",
       "1      -2.509211\n",
       "2      -6.684510\n",
       "3      -3.188783\n",
       "4      -8.183435\n",
       "         ...    \n",
       "595    -5.769586\n",
       "596    -1.555149\n",
       "597    -9.304017\n",
       "598    -0.017849\n",
       "599   -10.182350\n",
       "Name: TSNE1, Length: 600, dtype: float32"
      ]
     },
     "execution_count": 161,
     "metadata": {},
     "output_type": "execute_result"
    }
   ],
   "source": [
    "df_tsne_3d['TSNE1']"
   ]
  },
  {
   "cell_type": "markdown",
   "id": "8e0edd4d",
   "metadata": {},
   "source": [
    "## Visualizing the data"
   ]
  },
  {
   "cell_type": "code",
   "execution_count": 153,
   "id": "d2ba6742",
   "metadata": {
    "scrolled": false
   },
   "outputs": [
    {
     "data": {
      "text/plain": [
       "<AxesSubplot:xlabel='TSNE1', ylabel='TSNE2'>"
      ]
     },
     "execution_count": 153,
     "metadata": {},
     "output_type": "execute_result"
    },
    {
     "data": {
      "image/png": "[encoded data removed]",
      "text/plain": [
       "<Figure size 1332x756 with 4 Axes>"
      ]
     },
     "metadata": {},
     "output_type": "display_data"
    }
   ],
   "source": [
    "sns.set()\n",
    "fig, axes = plt.subplots(2,2)\n",
    "fig.suptitle('Übersicht der Clustering Ergebnisse')\n",
    "fig.set_size_inches(18.5, 10.5)\n",
    "\n",
    "\n",
    "sns.scatterplot(x='PC1',y='PC2', data=df_pca_2d, hue='kmeans_cluster', palette='tab10', ax=axes[0,0])\n",
    "sns.scatterplot(x='PC1',y='PC2', data=df_pca_2d, hue='dbscan_cluster', palette='tab10', ax=axes[0,1])\n",
    "sns.scatterplot(x='TSNE1',y='TSNE2', data=df_tsne_2d, hue='kmeans_cluster', palette='tab10', ax=axes[1,0])\n",
    "sns.scatterplot(x='TSNE1',y='TSNE2', data=df_tsne_2d, hue='dbscan_cluster', palette='tab10', ax=axes[1,1])"
   ]
  },
  {
   "cell_type": "markdown",
   "id": "0e427ed0",
   "metadata": {},
   "source": [
    "### 3D Visualisierung PCA"
   ]
  },
  {
   "cell_type": "code",
   "execution_count": 154,
   "id": "5a65a4e1",
   "metadata": {},
   "outputs": [],
   "source": [
    "import plotly as py\n",
    "import plotly.graph_objs as go\n",
    "import plotly.io as pio\n",
    "from plotly.offline import download_plotlyjs, init_notebook_mode, plot, iplot"
   ]
  },
  {
   "cell_type": "code",
   "execution_count": 155,
   "id": "948b504b",
   "metadata": {},
   "outputs": [],
   "source": [
    "df_pca_3d_0 = df_pca_3d[df_pca_3d['kmeans_cluster'] == 0]\n",
    "df_pca_3d_1 = df_pca_3d[df_pca_3d['kmeans_cluster'] == 1]\n",
    "df_pca_3d_2 = df_pca_3d[df_pca_3d['kmeans_cluster'] == 2]\n",
    "df_pca_3d_3 = df_pca_3d[df_pca_3d['kmeans_cluster'] == 3]"
   ]
  },
  {
   "cell_type": "code",
   "execution_count": 159,
   "id": "1cb9c171",
   "metadata": {},
   "outputs": [
    {
     "data": {
      "application/vnd.plotly.v1+json": {
       "config": {
        "linkText": "Export to plot.ly",
        "plotlyServerURL": "https://plot.ly",
        "showLink": false
       },
       "data": [
        {
         "marker": {
          "color": "rgba(255, 128, 255, 0.8)"
         },
         "mode": "markers",
         "name": "Cluster 0",
         "text": [
          "0 288 website request served <br>4 288 user logged in <br>3 288 item added to cart <br>3 288 dpd chosen for shipping <br>9 288 klarna chosen for payment <br>1 288 order placed succesful <br>",
          "0 290 website request served <br>4 290 user logged in <br>5 290 item added to cart <br>4 290 dhl chosen for shipping <br>4 290 sofortueberweisung chosen for payment <br>1 290 order placed succesful <br>",
          "0 292 website request served <br>6 292 user logged in <br>4 292 item added to cart <br>2 292 hermes chosen for shipping <br>5 292 paypal chosen for payment <br>4 292 order placed succesful <br>",
          "0 294 website request served <br>4 294 user logged in <br>3 294 item added to cart <br>6 294 dhl chosen for shipping <br>4 294 sofortueberweisung chosen for payment <br>6 294 order placed succesful <br>",
          "0 297 website request served <br>5 297 user logged in <br>4 297 item added to cart <br>5 297 dpd chosen for shipping <br>5 297 paypal chosen for payment <br>2 297 order placed succesful <br>",
          "0 299 website request served <br>7 299 user logged in <br>3 299 item added to cart <br>5 299 dhl chosen for shipping <br>4 299 sofortueberweisung chosen for payment <br>7 299 order placed succesful <br>",
          "0 300 website request served <br>7 300 user logged in <br>4 300 item added to cart <br>3 300 hermes chosen for shipping <br>4 300 klarna chosen for payment <br>5 300 order placed succesful <br>",
          "0 306 website request served <br>9 306 user logged in <br>2 306 item added to cart <br>5 306 dpd chosen for shipping <br>3 306 paypal chosen for payment <br>5 306 order placed succesful <br>",
          "0 308 website request served <br>5 308 user logged in <br>3 308 item added to cart <br>6 308 dpd chosen for shipping <br>3 308 paypal chosen for payment <br>2 308 order placed succesful <br>",
          "0 309 website request served <br>5 309 user logged in <br>5 309 item added to cart <br>2 309 dpd chosen for shipping <br>8 309 paypal chosen for payment <br>4 309 order placed succesful <br>",
          "0 313 website request served <br>4 313 user logged in <br>4 313 item added to cart <br>4 313 dpd chosen for shipping <br>3 313 paypal chosen for payment <br>6 313 order placed succesful <br>",
          "0 316 website request served <br>0 316 user logged in <br>7 316 item added to cart <br>3 316 hermes chosen for shipping <br>4 316 klarna chosen for payment <br>8 316 order placed succesful <br>",
          "0 319 website request served <br>2 319 user logged in <br>2 319 item added to cart <br>8 319 dpd chosen for shipping <br>2 319 sofortueberweisung chosen for payment <br>4 319 order placed succesful <br>",
          "0 320 website request served <br>5 320 user logged in <br>9 320 item added to cart <br>1 320 hermes chosen for shipping <br>4 320 sofortueberweisung chosen for payment <br>5 320 order placed succesful <br>",
          "0 321 website request served <br>1 321 user logged in <br>4 321 item added to cart <br>5 321 dpd chosen for shipping <br>5 321 sofortueberweisung chosen for payment <br>7 321 order placed succesful <br>",
          "0 324 website request served <br>2 324 user logged in <br>5 324 item added to cart <br>4 324 hermes chosen for shipping <br>7 324 klarna chosen for payment <br>5 324 order placed succesful <br>",
          "0 327 website request served <br>5 327 user logged in <br>3 327 item added to cart <br>6 327 hermes chosen for shipping <br>5 327 sofortueberweisung chosen for payment <br>2 327 order placed succesful <br>",
          "0 331 website request served <br>4 331 user logged in <br>7 331 item added to cart <br>6 331 hermes chosen for shipping <br>2 331 sofortueberweisung chosen for payment <br>7 331 order placed succesful <br>",
          "0 332 website request served <br>5 332 user logged in <br>2 332 item added to cart <br>3 332 dhl chosen for shipping <br>5 332 sofortueberweisung chosen for payment <br>5 332 order placed succesful <br>",
          "0 333 website request served <br>8 333 user logged in <br>2 333 item added to cart <br>5 333 dpd chosen for shipping <br>5 333 klarna chosen for payment <br>5 333 order placed succesful <br>",
          "0 334 website request served <br>3 334 user logged in <br>8 334 item added to cart <br>2 334 hermes chosen for shipping <br>6 334 paypal chosen for payment <br>4 334 order placed succesful <br>",
          "0 335 website request served <br>5 335 user logged in <br>4 335 item added to cart <br>2 335 dhl chosen for shipping <br>3 335 paypal chosen for payment <br>8 335 order placed succesful <br>",
          "0 336 website request served <br>6 336 user logged in <br>3 336 item added to cart <br>4 336 hermes chosen for shipping <br>5 336 paypal chosen for payment <br>5 336 order placed succesful <br>",
          "0 338 website request served <br>4 338 user logged in <br>9 338 item added to cart <br>0 338 dhl chosen for shipping <br>9 338 klarna chosen for payment <br>5 338 order placed succesful <br>",
          "0 339 website request served <br>5 339 user logged in <br>8 339 item added to cart <br>5 339 dhl chosen for shipping <br>2 339 paypal chosen for payment <br>4 339 order placed succesful <br>",
          "0 343 website request served <br>6 343 user logged in <br>1 343 item added to cart <br>3 343 hermes chosen for shipping <br>6 343 paypal chosen for payment <br>6 343 order placed succesful <br>",
          "0 353 website request served <br>0 353 user logged in <br>6 353 item added to cart <br>7 353 dpd chosen for shipping <br>1 353 paypal chosen for payment <br>5 353 order placed succesful <br>",
          "0 358 website request served <br>3 358 user logged in <br>7 358 item added to cart <br>3 358 dpd chosen for shipping <br>5 358 sofortueberweisung chosen for payment <br>2 358 order placed succesful <br>",
          "0 359 website request served <br>7 359 user logged in <br>3 359 item added to cart <br>2 359 dpd chosen for shipping <br>6 359 paypal chosen for payment <br>4 359 order placed succesful <br>",
          "0 360 website request served <br>4 360 user logged in <br>6 360 item added to cart <br>7 360 dpd chosen for shipping <br>2 360 klarna chosen for payment <br>5 360 order placed succesful <br>",
          "0 361 website request served <br>1 361 user logged in <br>6 361 item added to cart <br>6 361 dhl chosen for shipping <br>4 361 paypal chosen for payment <br>5 361 order placed succesful <br>",
          "0 369 website request served <br>3 369 user logged in <br>8 369 item added to cart <br>6 369 dhl chosen for shipping <br>2 369 sofortueberweisung chosen for payment <br>3 369 order placed succesful <br>",
          "0 376 website request served <br>8 376 user logged in <br>2 376 item added to cart <br>4 376 dpd chosen for shipping <br>5 376 klarna chosen for payment <br>4 376 order placed succesful <br>",
          "0 381 website request served <br>4 381 user logged in <br>3 381 item added to cart <br>2 381 dhl chosen for shipping <br>8 381 sofortueberweisung chosen for payment <br>3 381 order placed succesful <br>",
          "0 384 website request served <br>0 384 user logged in <br>5 384 item added to cart <br>4 384 dhl chosen for shipping <br>5 384 klarna chosen for payment <br>8 384 order placed succesful <br>",
          "0 386 website request served <br>3 386 user logged in <br>1 386 item added to cart <br>5 386 dpd chosen for shipping <br>4 386 sofortueberweisung chosen for payment <br>7 386 order placed succesful <br>",
          "0 388 website request served <br>4 388 user logged in <br>6 388 item added to cart <br>2 388 dpd chosen for shipping <br>5 388 sofortueberweisung chosen for payment <br>6 388 order placed succesful <br>",
          "0 392 website request served <br>2 392 user logged in <br>6 392 item added to cart <br>2 392 dpd chosen for shipping <br>5 392 klarna chosen for payment <br>5 392 order placed succesful <br>",
          "0 394 website request served <br>7 394 user logged in <br>2 394 item added to cart <br>4 394 dpd chosen for shipping <br>7 394 sofortueberweisung chosen for payment <br>2 394 order placed succesful <br>",
          "0 399 website request served <br>2 399 user logged in <br>9 399 item added to cart <br>0 399 dhl chosen for shipping <br>5 399 klarna chosen for payment <br>5 399 order placed succesful <br>",
          "0 405 website request served <br>5 405 user logged in <br>3 405 item added to cart <br>7 405 dhl chosen for shipping <br>1 405 sofortueberweisung chosen for payment <br>5 405 order placed succesful <br>",
          "0 410 website request served <br>6 410 user logged in <br>5 410 item added to cart <br>4 410 dpd chosen for shipping <br>6 410 paypal chosen for payment <br>5 410 order placed succesful <br>",
          "0 412 website request served <br>1 412 user logged in <br>7 412 item added to cart <br>4 412 dpd chosen for shipping <br>4 412 klarna chosen for payment <br>5 412 order placed succesful <br>",
          "0 416 website request served <br>3 416 user logged in <br>7 416 item added to cart <br>4 416 dhl chosen for shipping <br>4 416 klarna chosen for payment <br>6 416 order placed succesful <br>",
          "0 422 website request served <br>8 422 user logged in <br>4 422 item added to cart <br>4 422 dhl chosen for shipping <br>2 422 sofortueberweisung chosen for payment <br>8 422 order placed succesful <br>",
          "0 423 website request served <br>4 423 user logged in <br>6 423 item added to cart <br>2 423 dpd chosen for shipping <br>6 423 klarna chosen for payment <br>7 423 order placed succesful <br>",
          "0 425 website request served <br>9 425 user logged in <br>4 425 item added to cart <br>4 425 dhl chosen for shipping <br>4 425 paypal chosen for payment <br>5 425 order placed succesful <br>",
          "0 426 website request served <br>7 426 user logged in <br>1 426 item added to cart <br>5 426 dpd chosen for shipping <br>7 426 sofortueberweisung chosen for payment <br>4 426 order placed succesful <br>",
          "0 427 website request served <br>2 427 user logged in <br>5 427 item added to cart <br>4 427 dpd chosen for shipping <br>4 427 sofortueberweisung chosen for payment <br>8 427 order placed succesful <br>",
          "0 428 website request served <br>3 428 user logged in <br>8 428 item added to cart <br>5 428 hermes chosen for shipping <br>0 428 paypal chosen for payment <br>5 428 order placed succesful <br>",
          "0 431 website request served <br>7 431 user logged in <br>3 431 item added to cart <br>4 431 dpd chosen for shipping <br>3 431 paypal chosen for payment <br>8 431 order placed succesful <br>",
          "0 432 website request served <br>4 432 user logged in <br>1 432 item added to cart <br>5 432 hermes chosen for shipping <br>8 432 paypal chosen for payment <br>2 432 order placed succesful <br>",
          "0 435 website request served <br>3 435 user logged in <br>7 435 item added to cart <br>3 435 dhl chosen for shipping <br>4 435 sofortueberweisung chosen for payment <br>7 435 order placed succesful <br>",
          "0 437 website request served <br>7 437 user logged in <br>3 437 item added to cart <br>1 437 dpd chosen for shipping <br>7 437 paypal chosen for payment <br>4 437 order placed succesful <br>",
          "0 439 website request served <br>4 439 user logged in <br>2 439 item added to cart <br>9 439 dhl chosen for shipping <br>5 439 paypal chosen for payment <br>2 439 order placed succesful <br>",
          "0 441 website request served <br>4 441 user logged in <br>5 441 item added to cart <br>2 441 dpd chosen for shipping <br>9 441 paypal chosen for payment <br>2 441 order placed succesful <br>",
          "0 442 website request served <br>4 442 user logged in <br>4 442 item added to cart <br>8 442 hermes chosen for shipping <br>1 442 paypal chosen for payment <br>8 442 order placed succesful <br>",
          "0 444 website request served <br>3 444 user logged in <br>2 444 item added to cart <br>7 444 dpd chosen for shipping <br>6 444 sofortueberweisung chosen for payment <br>3 444 order placed succesful <br>",
          "0 445 website request served <br>5 445 user logged in <br>2 445 item added to cart <br>2 445 dhl chosen for shipping <br>6 445 klarna chosen for payment <br>4 445 order placed succesful <br>",
          "0 446 website request served <br>5 446 user logged in <br>5 446 item added to cart <br>5 446 hermes chosen for shipping <br>5 446 paypal chosen for payment <br>0 446 order placed succesful <br>",
          "0 451 website request served <br>2 451 user logged in <br>6 451 item added to cart <br>3 451 dhl chosen for shipping <br>8 451 paypal chosen for payment <br>4 451 order placed succesful <br>",
          "0 452 website request served <br>8 452 user logged in <br>5 452 item added to cart <br>4 452 hermes chosen for shipping <br>2 452 klarna chosen for payment <br>6 452 order placed succesful <br>",
          "0 455 website request served <br>1 455 user logged in <br>6 455 item added to cart <br>3 455 hermes chosen for shipping <br>3 455 paypal chosen for payment <br>7 455 order placed succesful <br>",
          "0 457 website request served <br>6 457 user logged in <br>3 457 item added to cart <br>7 457 dhl chosen for shipping <br>4 457 paypal chosen for payment <br>5 457 order placed succesful <br>",
          "0 458 website request served <br>2 458 user logged in <br>5 458 item added to cart <br>3 458 dhl chosen for shipping <br>6 458 paypal chosen for payment <br>7 458 order placed succesful <br>",
          "0 459 website request served <br>3 459 user logged in <br>4 459 item added to cart <br>7 459 dhl chosen for shipping <br>3 459 klarna chosen for payment <br>8 459 order placed succesful <br>",
          "0 460 website request served <br>5 460 user logged in <br>2 460 item added to cart <br>8 460 dpd chosen for shipping <br>1 460 paypal chosen for payment <br>4 460 order placed succesful <br>",
          "0 462 website request served <br>6 462 user logged in <br>1 462 item added to cart <br>6 462 dhl chosen for shipping <br>5 462 klarna chosen for payment <br>5 462 order placed succesful <br>",
          "0 464 website request served <br>7 464 user logged in <br>2 464 item added to cart <br>6 464 hermes chosen for shipping <br>2 464 klarna chosen for payment <br>8 464 order placed succesful <br>",
          "0 467 website request served <br>9 467 user logged in <br>1 467 item added to cart <br>7 467 dpd chosen for shipping <br>4 467 paypal chosen for payment <br>4 467 order placed succesful <br>",
          "0 468 website request served <br>5 468 user logged in <br>3 468 item added to cart <br>6 468 hermes chosen for shipping <br>4 468 paypal chosen for payment <br>4 468 order placed succesful <br>",
          "0 470 website request served <br>5 470 user logged in <br>4 470 item added to cart <br>9 470 hermes chosen for shipping <br>2 470 paypal chosen for payment <br>5 470 order placed succesful <br>",
          "0 474 website request served <br>4 474 user logged in <br>9 474 item added to cart <br>1 474 dpd chosen for shipping <br>6 474 paypal chosen for payment <br>5 474 order placed succesful <br>",
          "0 477 website request served <br>7 477 user logged in <br>2 477 item added to cart <br>6 477 hermes chosen for shipping <br>3 477 paypal chosen for payment <br>2 477 order placed succesful <br>",
          "0 481 website request served <br>4 481 user logged in <br>7 481 item added to cart <br>3 481 dpd chosen for shipping <br>4 481 klarna chosen for payment <br>6 481 order placed succesful <br>",
          "0 483 website request served <br>6 483 user logged in <br>2 483 item added to cart <br>5 483 hermes chosen for shipping <br>2 483 paypal chosen for payment <br>5 483 order placed succesful <br>",
          "0 484 website request served <br>6 484 user logged in <br>1 484 item added to cart <br>5 484 dpd chosen for shipping <br>6 484 klarna chosen for payment <br>6 484 order placed succesful <br>",
          "0 492 website request served <br>3 492 user logged in <br>4 492 item added to cart <br>6 492 dpd chosen for shipping <br>2 492 paypal chosen for payment <br>6 492 order placed succesful <br>",
          "0 495 website request served <br>6 495 user logged in <br>4 495 item added to cart <br>4 495 dpd chosen for shipping <br>5 495 paypal chosen for payment <br>5 495 order placed succesful <br>",
          "0 497 website request served <br>3 497 user logged in <br>9 497 item added to cart <br>3 497 hermes chosen for shipping <br>5 497 klarna chosen for payment <br>2 497 order placed succesful <br>",
          "0 498 website request served <br>7 498 user logged in <br>6 498 item added to cart <br>4 498 dhl chosen for shipping <br>5 498 paypal chosen for payment <br>5 498 order placed succesful <br>",
          "0 500 website request served <br>6 500 user logged in <br>6 500 item added to cart <br>2 500 hermes chosen for shipping <br>3 500 sofortueberweisung chosen for payment <br>4 500 order placed succesful <br>",
          "0 504 website request served <br>3 504 user logged in <br>7 504 item added to cart <br>5 504 hermes chosen for shipping <br>5 504 klarna chosen for payment <br>5 504 order placed succesful <br>",
          "0 505 website request served <br>4 505 user logged in <br>7 505 item added to cart <br>6 505 hermes chosen for shipping <br>3 505 klarna chosen for payment <br>3 505 order placed succesful <br>",
          "0 506 website request served <br>7 506 user logged in <br>6 506 item added to cart <br>1 506 dpd chosen for shipping <br>6 506 sofortueberweisung chosen for payment <br>5 506 order placed succesful <br>",
          "0 507 website request served <br>6 507 user logged in <br>3 507 item added to cart <br>5 507 dhl chosen for shipping <br>5 507 klarna chosen for payment <br>3 507 order placed succesful <br>",
          "0 510 website request served <br>2 510 user logged in <br>4 510 item added to cart <br>6 510 dhl chosen for shipping <br>4 510 sofortueberweisung chosen for payment <br>3 510 order placed succesful <br>",
          "0 511 website request served <br>7 511 user logged in <br>4 511 item added to cart <br>7 511 hermes chosen for shipping <br>1 511 paypal chosen for payment <br>5 511 order placed succesful <br>",
          "0 521 website request served <br>0 521 user logged in <br>8 521 item added to cart <br>2 521 hermes chosen for shipping <br>4 521 paypal chosen for payment <br>4 521 order placed succesful <br>",
          "0 522 website request served <br>4 522 user logged in <br>4 522 item added to cart <br>3 522 dpd chosen for shipping <br>6 522 klarna chosen for payment <br>7 522 order placed succesful <br>",
          "0 523 website request served <br>5 523 user logged in <br>6 523 item added to cart <br>4 523 hermes chosen for shipping <br>4 523 klarna chosen for payment <br>3 523 order placed succesful <br>",
          "0 524 website request served <br>9 524 user logged in <br>4 524 item added to cart <br>1 524 dhl chosen for shipping <br>5 524 klarna chosen for payment <br>5 524 order placed succesful <br>",
          "0 534 website request served <br>5 534 user logged in <br>5 534 item added to cart <br>5 534 dhl chosen for shipping <br>7 534 paypal chosen for payment <br>4 534 order placed succesful <br>",
          "0 535 website request served <br>5 535 user logged in <br>7 535 item added to cart <br>1 535 dhl chosen for shipping <br>5 535 paypal chosen for payment <br>7 535 order placed succesful <br>",
          "0 536 website request served <br>6 536 user logged in <br>8 536 item added to cart <br>2 536 hermes chosen for shipping <br>4 536 paypal chosen for payment <br>7 536 order placed succesful <br>",
          "0 538 website request served <br>3 538 user logged in <br>7 538 item added to cart <br>0 538 dpd chosen for shipping <br>8 538 klarna chosen for payment <br>5 538 order placed succesful <br>",
          "0 541 website request served <br>5 541 user logged in <br>6 541 item added to cart <br>2 541 dpd chosen for shipping <br>7 541 paypal chosen for payment <br>2 541 order placed succesful <br>",
          "0 542 website request served <br>3 542 user logged in <br>1 542 item added to cart <br>4 542 hermes chosen for shipping <br>8 542 sofortueberweisung chosen for payment <br>2 542 order placed succesful <br>",
          "0 547 website request served <br>7 547 user logged in <br>6 547 item added to cart <br>1 547 dpd chosen for shipping <br>4 547 klarna chosen for payment <br>6 547 order placed succesful <br>",
          "0 548 website request served <br>5 548 user logged in <br>6 548 item added to cart <br>7 548 dpd chosen for shipping <br>3 548 sofortueberweisung chosen for payment <br>4 548 order placed succesful <br>",
          "0 550 website request served <br>4 550 user logged in <br>6 550 item added to cart <br>2 550 dhl chosen for shipping <br>6 550 sofortueberweisung chosen for payment <br>2 550 order placed succesful <br>",
          "0 552 website request served <br>5 552 user logged in <br>4 552 item added to cart <br>3 552 hermes chosen for shipping <br>6 552 paypal chosen for payment <br>7 552 order placed succesful <br>",
          "0 553 website request served <br>5 553 user logged in <br>6 553 item added to cart <br>5 553 dpd chosen for shipping <br>4 553 sofortueberweisung chosen for payment <br>3 553 order placed succesful <br>",
          "0 557 website request served <br>3 557 user logged in <br>7 557 item added to cart <br>4 557 hermes chosen for shipping <br>4 557 klarna chosen for payment <br>3 557 order placed succesful <br>",
          "0 560 website request served <br>1 560 user logged in <br>6 560 item added to cart <br>4 560 hermes chosen for shipping <br>5 560 sofortueberweisung chosen for payment <br>5 560 order placed succesful <br>",
          "0 561 website request served <br>7 561 user logged in <br>3 561 item added to cart <br>6 561 hermes chosen for shipping <br>1 561 sofortueberweisung chosen for payment <br>8 561 order placed succesful <br>",
          "0 563 website request served <br>7 563 user logged in <br>1 563 item added to cart <br>6 563 dhl chosen for shipping <br>7 563 paypal chosen for payment <br>4 563 order placed succesful <br>",
          "0 564 website request served <br>2 564 user logged in <br>7 564 item added to cart <br>2 564 hermes chosen for shipping <br>7 564 paypal chosen for payment <br>3 564 order placed succesful <br>",
          "0 566 website request served <br>7 566 user logged in <br>4 566 item added to cart <br>1 566 hermes chosen for shipping <br>6 566 klarna chosen for payment <br>6 566 order placed succesful <br>",
          "0 567 website request served <br>3 567 user logged in <br>7 567 item added to cart <br>1 567 dhl chosen for shipping <br>6 567 paypal chosen for payment <br>4 567 order placed succesful <br>",
          "0 570 website request served <br>3 570 user logged in <br>7 570 item added to cart <br>0 570 dpd chosen for shipping <br>5 570 sofortueberweisung chosen for payment <br>8 570 order placed succesful <br>",
          "0 576 website request served <br>7 576 user logged in <br>4 576 item added to cart <br>3 576 dhl chosen for shipping <br>5 576 klarna chosen for payment <br>4 576 order placed succesful <br>",
          "0 579 website request served <br>4 579 user logged in <br>1 579 item added to cart <br>6 579 dpd chosen for shipping <br>3 579 klarna chosen for payment <br>5 579 order placed succesful <br>",
          "0 583 website request served <br>3 583 user logged in <br>6 583 item added to cart <br>2 583 hermes chosen for shipping <br>9 583 paypal chosen for payment <br>0 583 order placed succesful <br>",
          "0 591 website request served <br>6 591 user logged in <br>2 591 item added to cart <br>5 591 dhl chosen for shipping <br>2 591 sofortueberweisung chosen for payment <br>5 591 order placed succesful <br>",
          "0 596 website request served <br>3 596 user logged in <br>4 596 item added to cart <br>3 596 hermes chosen for shipping <br>6 596 paypal chosen for payment <br>6 596 order placed succesful <br>",
          "0 607 website request served <br>7 607 user logged in <br>1 607 item added to cart <br>7 607 dpd chosen for shipping <br>4 607 sofortueberweisung chosen for payment <br>7 607 order placed succesful <br>",
          "0 612 website request served <br>5 612 user logged in <br>3 612 item added to cart <br>6 612 dpd chosen for shipping <br>4 612 klarna chosen for payment <br>3 612 order placed succesful <br>",
          "0 614 website request served <br>5 614 user logged in <br>2 614 item added to cart <br>6 614 dpd chosen for shipping <br>6 614 klarna chosen for payment <br>2 614 order placed succesful <br>",
          "0 615 website request served <br>5 615 user logged in <br>7 615 item added to cart <br>4 615 hermes chosen for shipping <br>4 615 paypal chosen for payment <br>4 615 order placed succesful <br>",
          "0 621 website request served <br>1 621 user logged in <br>4 621 item added to cart <br>8 621 hermes chosen for shipping <br>2 621 paypal chosen for payment <br>3 621 order placed succesful <br>",
          "0 623 website request served <br>4 623 user logged in <br>1 623 item added to cart <br>7 623 dpd chosen for shipping <br>5 623 paypal chosen for payment <br>2 623 order placed succesful <br>",
          "0 627 website request served <br>1 627 user logged in <br>7 627 item added to cart <br>5 627 hermes chosen for shipping <br>3 627 sofortueberweisung chosen for payment <br>4 627 order placed succesful <br>",
          "0 628 website request served <br>5 628 user logged in <br>1 628 item added to cart <br>6 628 hermes chosen for shipping <br>5 628 paypal chosen for payment <br>2 628 order placed succesful <br>",
          "0 630 website request served <br>6 630 user logged in <br>3 630 item added to cart <br>5 630 dpd chosen for shipping <br>2 630 klarna chosen for payment <br>5 630 order placed succesful <br>",
          "0 631 website request served <br>5 631 user logged in <br>8 631 item added to cart <br>2 631 hermes chosen for shipping <br>7 631 paypal chosen for payment <br>3 631 order placed succesful <br>",
          "0 635 website request served <br>0 635 user logged in <br>4 635 item added to cart <br>7 635 dhl chosen for shipping <br>4 635 sofortueberweisung chosen for payment <br>3 635 order placed succesful <br>",
          "0 638 website request served <br>6 638 user logged in <br>6 638 item added to cart <br>4 638 dpd chosen for shipping <br>4 638 sofortueberweisung chosen for payment <br>4 638 order placed succesful <br>",
          "0 639 website request served <br>6 639 user logged in <br>5 639 item added to cart <br>2 639 dhl chosen for shipping <br>8 639 paypal chosen for payment <br>0 639 order placed succesful <br>",
          "0 640 website request served <br>1 640 user logged in <br>7 640 item added to cart <br>1 640 dhl chosen for shipping <br>6 640 klarna chosen for payment <br>4 640 order placed succesful <br>",
          "0 643 website request served <br>3 643 user logged in <br>4 643 item added to cart <br>7 643 dhl chosen for shipping <br>2 643 sofortueberweisung chosen for payment <br>5 643 order placed succesful <br>",
          "0 646 website request served <br>4 646 user logged in <br>4 646 item added to cart <br>2 646 dpd chosen for shipping <br>9 646 sofortueberweisung chosen for payment <br>3 646 order placed succesful <br>",
          "0 648 website request served <br>7 648 user logged in <br>3 648 item added to cart <br>3 648 hermes chosen for shipping <br>8 648 paypal chosen for payment <br>3 648 order placed succesful <br>",
          "0 651 website request served <br>5 651 user logged in <br>5 651 item added to cart <br>4 651 dhl chosen for shipping <br>2 651 klarna chosen for payment <br>5 651 order placed succesful <br>",
          "0 655 website request served <br>1 655 user logged in <br>5 655 item added to cart <br>4 655 dpd chosen for shipping <br>7 655 sofortueberweisung chosen for payment <br>4 655 order placed succesful <br>",
          "0 656 website request served <br>5 656 user logged in <br>6 656 item added to cart <br>4 656 hermes chosen for shipping <br>6 656 paypal chosen for payment <br>1 656 order placed succesful <br>",
          "0 657 website request served <br>5 657 user logged in <br>2 657 item added to cart <br>5 657 dhl chosen for shipping <br>7 657 paypal chosen for payment <br>2 657 order placed succesful <br>",
          "0 658 website request served <br>2 658 user logged in <br>5 658 item added to cart <br>3 658 dhl chosen for shipping <br>5 658 paypal chosen for payment <br>5 658 order placed succesful <br>",
          "0 661 website request served <br>3 661 user logged in <br>6 661 item added to cart <br>7 661 dhl chosen for shipping <br>2 661 paypal chosen for payment <br>4 661 order placed succesful <br>",
          "0 662 website request served <br>2 662 user logged in <br>3 662 item added to cart <br>9 662 hermes chosen for shipping <br>3 662 klarna chosen for payment <br>5 662 order placed succesful <br>",
          "0 664 website request served <br>3 664 user logged in <br>5 664 item added to cart <br>5 664 dhl chosen for shipping <br>1 664 sofortueberweisung chosen for payment <br>7 664 order placed succesful <br>",
          "0 665 website request served <br>6 665 user logged in <br>7 665 item added to cart <br>4 665 dhl chosen for shipping <br>2 665 sofortueberweisung chosen for payment <br>7 665 order placed succesful <br>",
          "0 667 website request served <br>6 667 user logged in <br>5 667 item added to cart <br>4 667 dhl chosen for shipping <br>4 667 sofortueberweisung chosen for payment <br>3 667 order placed succesful <br>",
          "0 668 website request served <br>7 668 user logged in <br>6 668 item added to cart <br>2 668 dhl chosen for shipping <br>4 668 sofortueberweisung chosen for payment <br>5 668 order placed succesful <br>",
          "0 669 website request served <br>1 669 user logged in <br>4 669 item added to cart <br>6 669 dpd chosen for shipping <br>5 669 klarna chosen for payment <br>6 669 order placed succesful <br>",
          "0 670 website request served <br>3 670 user logged in <br>5 670 item added to cart <br>5 670 dhl chosen for shipping <br>7 670 paypal chosen for payment <br>0 670 order placed succesful <br>",
          "0 674 website request served <br>5 674 user logged in <br>4 674 item added to cart <br>4 674 dpd chosen for shipping <br>5 674 paypal chosen for payment <br>3 674 order placed succesful <br>",
          "0 678 website request served <br>6 678 user logged in <br>1 678 item added to cart <br>5 678 hermes chosen for shipping <br>5 678 klarna chosen for payment <br>5 678 order placed succesful <br>",
          "0 680 website request served <br>6 680 user logged in <br>5 680 item added to cart <br>1 680 dpd chosen for shipping <br>8 680 klarna chosen for payment <br>0 680 order placed succesful <br>",
          "0 681 website request served <br>2 681 user logged in <br>6 681 item added to cart <br>5 681 hermes chosen for shipping <br>5 681 klarna chosen for payment <br>3 681 order placed succesful <br>",
          "0 682 website request served <br>4 682 user logged in <br>2 682 item added to cart <br>6 682 dhl chosen for shipping <br>7 682 klarna chosen for payment <br>3 682 order placed succesful <br>",
          "0 683 website request served <br>2 683 user logged in <br>4 683 item added to cart <br>6 683 hermes chosen for shipping <br>4 683 klarna chosen for payment <br>7 683 order placed succesful <br>",
          "0 689 website request served <br>4 689 user logged in <br>3 689 item added to cart <br>2 689 dpd chosen for shipping <br>6 689 paypal chosen for payment <br>5 689 order placed succesful <br>",
          "0 690 website request served <br>4 690 user logged in <br>4 690 item added to cart <br>5 690 dpd chosen for shipping <br>1 690 klarna chosen for payment <br>5 690 order placed succesful <br>",
          "0 692 website request served <br>4 692 user logged in <br>6 692 item added to cart <br>3 692 dhl chosen for shipping <br>3 692 klarna chosen for payment <br>5 692 order placed succesful <br>",
          "0 694 website request served <br>6 694 user logged in <br>2 694 item added to cart <br>6 694 dpd chosen for shipping <br>4 694 klarna chosen for payment <br>7 694 order placed succesful <br>",
          "0 695 website request served <br>8 695 user logged in <br>5 695 item added to cart <br>3 695 hermes chosen for shipping <br>2 695 sofortueberweisung chosen for payment <br>8 695 order placed succesful <br>",
          "0 696 website request served <br>4 696 user logged in <br>9 696 item added to cart <br>0 696 hermes chosen for shipping <br>7 696 paypal chosen for payment <br>6 696 order placed succesful <br>",
          "0 702 website request served <br>3 702 user logged in <br>8 702 item added to cart <br>1 702 dpd chosen for shipping <br>6 702 paypal chosen for payment <br>4 702 order placed succesful <br>",
          "0 703 website request served <br>4 703 user logged in <br>3 703 item added to cart <br>6 703 dhl chosen for shipping <br>5 703 paypal chosen for payment <br>3 703 order placed succesful <br>",
          "0 704 website request served <br>4 704 user logged in <br>6 704 item added to cart <br>5 704 dpd chosen for shipping <br>5 704 klarna chosen for payment <br>4 704 order placed succesful <br>",
          "0 709 website request served <br>2 709 user logged in <br>3 709 item added to cart <br>8 709 dhl chosen for shipping <br>5 709 sofortueberweisung chosen for payment <br>4 709 order placed succesful <br>",
          "0 710 website request served <br>5 710 user logged in <br>4 710 item added to cart <br>5 710 hermes chosen for shipping <br>6 710 klarna chosen for payment <br>2 710 order placed succesful <br>",
          "0 713 website request served <br>6 713 user logged in <br>5 713 item added to cart <br>3 713 hermes chosen for shipping <br>6 713 sofortueberweisung chosen for payment <br>3 713 order placed succesful <br>",
          "0 714 website request served <br>5 714 user logged in <br>6 714 item added to cart <br>5 714 dpd chosen for shipping <br>2 714 paypal chosen for payment <br>5 714 order placed succesful <br>",
          "0 717 website request served <br>5 717 user logged in <br>2 717 item added to cart <br>7 717 dhl chosen for shipping <br>2 717 sofortueberweisung chosen for payment <br>5 717 order placed succesful <br>",
          "0 718 website request served <br>5 718 user logged in <br>3 718 item added to cart <br>6 718 dhl chosen for shipping <br>4 718 klarna chosen for payment <br>6 718 order placed succesful <br>",
          "0 719 website request served <br>3 719 user logged in <br>4 719 item added to cart <br>7 719 dhl chosen for shipping <br>5 719 sofortueberweisung chosen for payment <br>5 719 order placed succesful <br>",
          "0 720 website request served <br>8 720 user logged in <br>4 720 item added to cart <br>4 720 dpd chosen for shipping <br>4 720 klarna chosen for payment <br>4 720 order placed succesful <br>",
          "0 724 website request served <br>3 724 user logged in <br>6 724 item added to cart <br>5 724 dhl chosen for shipping <br>2 724 paypal chosen for payment <br>5 724 order placed succesful <br>",
          "0 725 website request served <br>6 725 user logged in <br>4 725 item added to cart <br>5 725 hermes chosen for shipping <br>4 725 paypal chosen for payment <br>4 725 order placed succesful <br>",
          "0 727 website request served <br>0 727 user logged in <br>9 727 item added to cart <br>0 727 hermes chosen for shipping <br>5 727 sofortueberweisung chosen for payment <br>7 727 order placed succesful <br>",
          "0 730 website request served <br>3 730 user logged in <br>3 730 item added to cart <br>7 730 hermes chosen for shipping <br>4 730 sofortueberweisung chosen for payment <br>2 730 order placed succesful <br>",
          "0 731 website request served <br>9 731 user logged in <br>4 731 item added to cart <br>3 731 dhl chosen for shipping <br>5 731 klarna chosen for payment <br>2 731 order placed succesful <br>",
          "0 732 website request served <br>4 732 user logged in <br>4 732 item added to cart <br>7 732 dhl chosen for shipping <br>3 732 klarna chosen for payment <br>3 732 order placed succesful <br>",
          "0 733 website request served <br>5 733 user logged in <br>3 733 item added to cart <br>3 733 dpd chosen for shipping <br>4 733 klarna chosen for payment <br>6 733 order placed succesful <br>",
          "0 734 website request served <br>2 734 user logged in <br>6 734 item added to cart <br>6 734 hermes chosen for shipping <br>2 734 paypal chosen for payment <br>5 734 order placed succesful <br>",
          "0 736 website request served <br>7 736 user logged in <br>5 736 item added to cart <br>3 736 dhl chosen for shipping <br>3 736 paypal chosen for payment <br>5 736 order placed succesful <br>",
          "0 738 website request served <br>3 738 user logged in <br>3 738 item added to cart <br>4 738 dhl chosen for shipping <br>4 738 klarna chosen for payment <br>5 738 order placed succesful <br>",
          "0 741 website request served <br>2 741 user logged in <br>3 741 item added to cart <br>7 741 hermes chosen for shipping <br>6 741 sofortueberweisung chosen for payment <br>5 741 order placed succesful <br>",
          "0 747 website request served <br>8 747 user logged in <br>0 747 item added to cart <br>5 747 dhl chosen for shipping <br>4 747 paypal chosen for payment <br>7 747 order placed succesful <br>",
          "0 749 website request served <br>5 749 user logged in <br>3 749 item added to cart <br>6 749 dpd chosen for shipping <br>4 749 paypal chosen for payment <br>5 749 order placed succesful <br>",
          "0 754 website request served <br>6 754 user logged in <br>1 754 item added to cart <br>3 754 dpd chosen for shipping <br>7 754 klarna chosen for payment <br>5 754 order placed succesful <br>",
          "0 757 website request served <br>8 757 user logged in <br>5 757 item added to cart <br>5 757 dpd chosen for shipping <br>2 757 paypal chosen for payment <br>2 757 order placed succesful <br>",
          "0 759 website request served <br>6 759 user logged in <br>5 759 item added to cart <br>3 759 dhl chosen for shipping <br>4 759 sofortueberweisung chosen for payment <br>6 759 order placed succesful <br>",
          "0 764 website request served <br>5 764 user logged in <br>7 764 item added to cart <br>5 764 dpd chosen for shipping <br>4 764 sofortueberweisung chosen for payment <br>4 764 order placed succesful <br>",
          "0 768 website request served <br>3 768 user logged in <br>4 768 item added to cart <br>6 768 hermes chosen for shipping <br>3 768 klarna chosen for payment <br>7 768 order placed succesful <br>",
          "0 774 website request served <br>3 774 user logged in <br>5 774 item added to cart <br>2 774 hermes chosen for shipping <br>7 774 paypal chosen for payment <br>3 774 order placed succesful <br>",
          "0 776 website request served <br>5 776 user logged in <br>7 776 item added to cart <br>3 776 hermes chosen for shipping <br>3 776 paypal chosen for payment <br>4 776 order placed succesful <br>",
          "0 777 website request served <br>7 777 user logged in <br>5 777 item added to cart <br>6 777 dpd chosen for shipping <br>0 777 sofortueberweisung chosen for payment <br>5 777 order placed succesful <br>",
          "0 778 website request served <br>6 778 user logged in <br>4 778 item added to cart <br>4 778 dpd chosen for shipping <br>7 778 sofortueberweisung chosen for payment <br>3 778 order placed succesful <br>",
          "0 779 website request served <br>5 779 user logged in <br>4 779 item added to cart <br>6 779 hermes chosen for shipping <br>5 779 paypal chosen for payment <br>5 779 order placed succesful <br>",
          "0 784 website request served <br>4 784 user logged in <br>6 784 item added to cart <br>4 784 dhl chosen for shipping <br>2 784 paypal chosen for payment <br>3 784 order placed succesful <br>",
          "0 788 website request served <br>5 788 user logged in <br>6 788 item added to cart <br>5 788 dpd chosen for shipping <br>4 788 sofortueberweisung chosen for payment <br>5 788 order placed succesful <br>",
          "0 791 website request served <br>3 791 user logged in <br>6 791 item added to cart <br>2 791 dhl chosen for shipping <br>6 791 sofortueberweisung chosen for payment <br>3 791 order placed succesful <br>",
          "0 795 website request served <br>4 795 user logged in <br>5 795 item added to cart <br>3 795 dhl chosen for shipping <br>6 795 sofortueberweisung chosen for payment <br>3 795 order placed succesful <br>",
          "0 796 website request served <br>6 796 user logged in <br>8 796 item added to cart <br>4 796 dpd chosen for shipping <br>5 796 paypal chosen for payment <br>2 796 order placed succesful <br>",
          "0 804 website request served <br>5 804 user logged in <br>2 804 item added to cart <br>7 804 dpd chosen for shipping <br>5 804 sofortueberweisung chosen for payment <br>4 804 order placed succesful <br>",
          "0 808 website request served <br>3 808 user logged in <br>5 808 item added to cart <br>3 808 dpd chosen for shipping <br>5 808 sofortueberweisung chosen for payment <br>8 808 order placed succesful <br>",
          "0 809 website request served <br>3 809 user logged in <br>5 809 item added to cart <br>3 809 dpd chosen for shipping <br>4 809 klarna chosen for payment <br>6 809 order placed succesful <br>",
          "0 814 website request served <br>2 814 user logged in <br>7 814 item added to cart <br>3 814 dpd chosen for shipping <br>6 814 paypal chosen for payment <br>3 814 order placed succesful <br>",
          "0 815 website request served <br>4 815 user logged in <br>8 815 item added to cart <br>3 815 hermes chosen for shipping <br>6 815 sofortueberweisung chosen for payment <br>5 815 order placed succesful <br>",
          "0 816 website request served <br>6 816 user logged in <br>4 816 item added to cart <br>6 816 dhl chosen for shipping <br>2 816 klarna chosen for payment <br>6 816 order placed succesful <br>",
          "0 817 website request served <br>1 817 user logged in <br>5 817 item added to cart <br>4 817 hermes chosen for shipping <br>4 817 klarna chosen for payment <br>4 817 order placed succesful <br>",
          "0 819 website request served <br>6 819 user logged in <br>4 819 item added to cart <br>2 819 hermes chosen for shipping <br>5 819 paypal chosen for payment <br>6 819 order placed succesful <br>",
          "0 821 website request served <br>5 821 user logged in <br>2 821 item added to cart <br>6 821 dhl chosen for shipping <br>3 821 sofortueberweisung chosen for payment <br>5 821 order placed succesful <br>",
          "0 825 website request served <br>4 825 user logged in <br>7 825 item added to cart <br>5 825 dhl chosen for shipping <br>1 825 paypal chosen for payment <br>7 825 order placed succesful <br>",
          "0 827 website request served <br>4 827 user logged in <br>6 827 item added to cart <br>4 827 dpd chosen for shipping <br>3 827 klarna chosen for payment <br>8 827 order placed succesful <br>",
          "0 828 website request served <br>7 828 user logged in <br>6 828 item added to cart <br>4 828 dpd chosen for shipping <br>2 828 sofortueberweisung chosen for payment <br>7 828 order placed succesful <br>",
          "0 829 website request served <br>1 829 user logged in <br>7 829 item added to cart <br>6 829 hermes chosen for shipping <br>0 829 klarna chosen for payment <br>6 829 order placed succesful <br>",
          "0 835 website request served <br>8 835 user logged in <br>3 835 item added to cart <br>3 835 dpd chosen for shipping <br>5 835 sofortueberweisung chosen for payment <br>3 835 order placed succesful <br>",
          "0 844 website request served <br>6 844 user logged in <br>6 844 item added to cart <br>6 844 hermes chosen for shipping <br>0 844 klarna chosen for payment <br>8 844 order placed succesful <br>",
          "0 845 website request served <br>4 845 user logged in <br>2 845 item added to cart <br>4 845 hermes chosen for shipping <br>5 845 klarna chosen for payment <br>8 845 order placed succesful <br>",
          "0 851 website request served <br>6 851 user logged in <br>4 851 item added to cart <br>3 851 dpd chosen for shipping <br>7 851 sofortueberweisung chosen for payment <br>5 851 order placed succesful <br>",
          "0 854 website request served <br>6 854 user logged in <br>3 854 item added to cart <br>6 854 dhl chosen for shipping <br>5 854 sofortueberweisung chosen for payment <br>2 854 order placed succesful <br>",
          "0 855 website request served <br>5 855 user logged in <br>7 855 item added to cart <br>3 855 dpd chosen for shipping <br>5 855 sofortueberweisung chosen for payment <br>4 855 order placed succesful <br>",
          "0 859 website request served <br>7 859 user logged in <br>2 859 item added to cart <br>5 859 dhl chosen for shipping <br>2 859 sofortueberweisung chosen for payment <br>6 859 order placed succesful <br>",
          "0 861 website request served <br>5 861 user logged in <br>5 861 item added to cart <br>6 861 hermes chosen for shipping <br>1 861 sofortueberweisung chosen for payment <br>4 861 order placed succesful <br>",
          "0 862 website request served <br>4 862 user logged in <br>3 862 item added to cart <br>5 862 dpd chosen for shipping <br>4 862 sofortueberweisung chosen for payment <br>4 862 order placed succesful <br>",
          "0 866 website request served <br>4 866 user logged in <br>9 866 item added to cart <br>1 866 dpd chosen for shipping <br>4 866 sofortueberweisung chosen for payment <br>4 866 order placed succesful <br>",
          "0 868 website request served <br>4 868 user logged in <br>2 868 item added to cart <br>6 868 hermes chosen for shipping <br>3 868 paypal chosen for payment <br>5 868 order placed succesful <br>",
          "0 869 website request served <br>4 869 user logged in <br>2 869 item added to cart <br>4 869 hermes chosen for shipping <br>7 869 sofortueberweisung chosen for payment <br>5 869 order placed succesful <br>",
          "0 872 website request served <br>6 872 user logged in <br>4 872 item added to cart <br>6 872 dhl chosen for shipping <br>4 872 klarna chosen for payment <br>5 872 order placed succesful <br>",
          "0 874 website request served <br>4 874 user logged in <br>6 874 item added to cart <br>4 874 dhl chosen for shipping <br>4 874 sofortueberweisung chosen for payment <br>3 874 order placed succesful <br>",
          "0 875 website request served <br>3 875 user logged in <br>4 875 item added to cart <br>7 875 hermes chosen for shipping <br>2 875 paypal chosen for payment <br>6 875 order placed succesful <br>",
          "0 880 website request served <br>6 880 user logged in <br>3 880 item added to cart <br>4 880 hermes chosen for shipping <br>6 880 paypal chosen for payment <br>4 880 order placed succesful <br>",
          "0 883 website request served <br>7 883 user logged in <br>2 883 item added to cart <br>4 883 hermes chosen for shipping <br>4 883 klarna chosen for payment <br>4 883 order placed succesful <br>",
          "0 885 website request served <br>5 885 user logged in <br>4 885 item added to cart <br>6 885 dhl chosen for shipping <br>3 885 klarna chosen for payment <br>4 885 order placed succesful <br>",
          "0 887 website request served <br>4 887 user logged in <br>7 887 item added to cart <br>4 887 dhl chosen for shipping <br>5 887 paypal chosen for payment <br>4 887 order placed succesful <br>"
         ],
         "type": "scatter3d",
         "x": [
          -7.739471912384033,
          -9.831872940063477,
          -9.985060691833496,
          -9.950242042541504,
          -10.30135440826416,
          -9.61116886138916,
          -10.008485794067383,
          -8.505792617797852,
          -9.493318557739258,
          -9.258957862854004,
          -10.2673921585083,
          -9.03865909576416,
          -8.248847961425781,
          -8.340779304504395,
          -9.4393892288208,
          -9.748377799987793,
          -9.766246795654297,
          -9.09884262084961,
          -10.015646934509277,
          -9.193220138549805,
          -8.685683250427246,
          -8.935084342956543,
          -10.250802993774414,
          -7.684062480926514,
          -9.194883346557617,
          -8.713276863098145,
          -9.185364723205566,
          -9.357721328735352,
          -9.28810977935791,
          -9.479352951049805,
          -9.219672203063965,
          -8.422198295593262,
          -9.187583923339844,
          -8.710628509521484,
          -9.718816757202148,
          -9.179585456848145,
          -9.7542085647583,
          -9.421647071838379,
          -8.889586448669434,
          -8.702730178833008,
          -9.118338584899902,
          -10.241584777832031,
          -9.332664489746094,
          -9.675392150878906,
          -8.185027122497559,
          -9.18810749053955,
          -9.215795516967773,
          -8.977192878723145,
          -9.291481971740723,
          -9.572229385375977,
          -8.799880027770996,
          -8.278887748718262,
          -9.351364135742188,
          -8.682037353515625,
          -8.175978660583496,
          -8.240050315856934,
          -7.7563982009887695,
          -9.066469192504883,
          -9.354759216308594,
          -10.874431610107422,
          -8.643832206726074,
          -8.876931190490723,
          -8.573777198791504,
          -9.746767044067383,
          -9.226860046386719,
          -8.667254447937012,
          -8.301107406616211,
          -9.153931617736816,
          -7.894827842712402,
          -7.862643718719482,
          -10.247986793518066,
          -8.740556716918945,
          -8.036406517028809,
          -8.7459716796875,
          -9.739459037780762,
          -9.467975616455078,
          -8.926749229431152,
          -9.459051132202148,
          -10.530014038085938,
          -8.155207633972168,
          -10.006571769714355,
          -9.472174644470215,
          -10.014126777648926,
          -9.460249900817871,
          -8.859715461730957,
          -9.88341999053955,
          -9.718762397766113,
          -8.919620513916016,
          -9.303665161132812,
          -9.739459991455078,
          -10.179431915283203,
          -8.19503402709961,
          -10.297820091247559,
          -8.880595207214355,
          -8.483290672302246,
          -9.063706398010254,
          -9.027998924255371,
          -8.054429054260254,
          -8.752985954284668,
          -9.846183776855469,
          -9.167407989501953,
          -9.788612365722656,
          -10.30837631225586,
          -9.748679161071777,
          -9.588109970092773,
          -7.82653284072876,
          -8.58652400970459,
          -8.575028419494629,
          -8.730766296386719,
          -8.788919448852539,
          -9.167614936828613,
          -9.966642379760742,
          -9.246622085571289,
          -8.262077331542969,
          -9.461480140686035,
          -9.699753761291504,
          -8.514994621276855,
          -9.944674491882324,
          -9.130393028259277,
          -10.334024429321289,
          -8.01907730102539,
          -8.881309509277344,
          -9.15735912322998,
          -9.032854080200195,
          -9.684565544128418,
          -8.517555236816406,
          -10.14029598236084,
          -10.271294593811035,
          -8.976219177246094,
          -8.022318840026855,
          -9.55063247680664,
          -8.535501480102539,
          -8.520669937133789,
          -10.168730735778809,
          -9.436566352844238,
          -9.261512756347656,
          -9.255184173583984,
          -9.980302810668945,
          -9.224040985107422,
          -8.155208587646484,
          -9.11833667755127,
          -9.056998252868652,
          -10.24149227142334,
          -9.51918888092041,
          -9.215182304382324,
          -10.110591888427734,
          -10.561454772949219,
          -9.487028121948242,
          -8.53660774230957,
          -9.662341117858887,
          -9.155484199523926,
          -9.454313278198242,
          -9.750306129455566,
          -9.7948579788208,
          -9.880600929260254,
          -9.18810749053955,
          -7.972697734832764,
          -8.579595565795898,
          -8.272781372070312,
          -9.949156761169434,
          -10.461461067199707,
          -8.970434188842773,
          -9.919323921203613,
          -9.737911224365234,
          -10.01292896270752,
          -9.290529251098633,
          -9.849164009094238,
          -10.07336711883545,
          -9.704668998718262,
          -9.68905258178711,
          -10.50496768951416,
          -8.978763580322266,
          -9.332673072814941,
          -8.370351791381836,
          -9.70683479309082,
          -9.944674491882324,
          -9.176724433898926,
          -9.781031608581543,
          -10.16903018951416,
          -9.304049491882324,
          -9.325181007385254,
          -10.273027420043945,
          -8.787251472473145,
          -8.739051818847656,
          -9.953058242797852,
          -10.394418716430664,
          -9.460249900817871,
          -9.30014419555664,
          -9.820054054260254,
          -10.17856502532959,
          -9.843364715576172,
          -10.510608673095703,
          -9.683414459228516,
          -10.568181991577148,
          -9.17335033416748,
          -9.984504699707031,
          -8.967708587646484,
          -9.87450885772705,
          -9.300244331359863,
          -9.944674491882324,
          -9.031121253967285,
          -9.243756294250488,
          -9.294983863830566,
          -9.769815444946289,
          -9.696632385253906,
          -9.72439956665039,
          -8.877776145935059,
          -9.159261703491211,
          -9.12106704711914,
          -8.803337097167969,
          -9.04043960571289,
          -8.889734268188477,
          -9.165355682373047,
          -9.846184730529785,
          -9.433149337768555,
          -10.137428283691406,
          -8.999283790588379,
          -9.588109016418457,
          -10.59398365020752,
          -8.357365608215332,
          -9.72807502746582,
          -9.849465370178223,
          -10.106145858764648,
          -10.238672256469727,
          -9.265884399414062,
          -9.956737518310547,
          -9.742738723754883,
          -10.13758659362793,
          -10.292181968688965
         ],
         "y": [
          0.11925633251667023,
          0.052261948585510254,
          0.039543651044368744,
          0.02459442988038063,
          0.05455666035413742,
          0.03104684315621853,
          0.02477540448307991,
          0.11029648780822754,
          0.06293566524982452,
          0.1020834818482399,
          0.023104099556803703,
          0.09198974817991257,
          0.10887831449508667,
          0.09929870814085007,
          0.05227901041507721,
          0.044153016060590744,
          0.04138033464550972,
          0.022262824699282646,
          0.06073695793747902,
          0.10786745697259903,
          0.09729546308517456,
          0.11665312200784683,
          0.03777273744344711,
          0.15460839867591858,
          0.11522862315177917,
          0.07139836996793747,
          0.08589327335357666,
          0.04456508159637451,
          0.048264987766742706,
          0.04382099211215973,
          0.08053112030029297,
          0.10641786456108093,
          0.0902595967054367,
          0.10088279843330383,
          0.11110129952430725,
          0.053700707852840424,
          0.030826294794678688,
          0.06907127797603607,
          0.040466275066137314,
          0.12989386916160583,
          0.07565608620643616,
          0.0360233448445797,
          0.05764906853437424,
          0.03759365156292915,
          0.13676194846630096,
          0.04055677726864815,
          0.08361318707466125,
          0.047832902520895004,
          0.07608157396316528,
          0.1082577183842659,
          0.08848404884338379,
          0.13050098717212677,
          0.03246743977069855,
          0.06644899398088455,
          0.12521350383758545,
          0.11206682026386261,
          0.15722724795341492,
          0.04129597917199135,
          0.07341604679822922,
          0.05931032449007034,
          0.11338141560554504,
          0.09285682439804077,
          0.07491344213485718,
          0.049415502697229385,
          0.07021679729223251,
          0.09861402958631516,
          0.1334390640258789,
          0.086318239569664,
          0.1092124655842781,
          0.10618322342634201,
          0.02896769903600216,
          0.0971321165561676,
          0.11616342514753342,
          0.06612288951873779,
          0.024445790797472,
          0.06914731860160828,
          0.06989778578281403,
          0.04943964257836342,
          0.030487559735774994,
          0.10576028376817703,
          0.04799754172563553,
          0.029305635020136833,
          0.04238494858145714,
          0.031731318682432175,
          0.05454866960644722,
          0.06107053533196449,
          0.03985864296555519,
          0.062087561935186386,
          0.10122005641460419,
          0.02444566786289215,
          0.025953153148293495,
          0.12956398725509644,
          0.05126592889428139,
          0.08698197454214096,
          0.09142838418483734,
          0.10373519361019135,
          0.06763974577188492,
          0.1147279366850853,
          0.05991753190755844,
          0.019075872376561165,
          0.055968452244997025,
          0.03332742676138878,
          0.023517224937677383,
          0.026194937527179718,
          0.05051656812429428,
          0.10382390767335892,
          0.07490547001361847,
          0.06494789570569992,
          0.05698017030954361,
          0.08077456802129745,
          0.08956120163202286,
          0.040864087641239166,
          0.0690508708357811,
          0.11497768014669418,
          0.06804552674293518,
          0.03592671826481819,
          0.04338918253779411,
          0.03911858797073364,
          0.0658004954457283,
          0.017566408962011337,
          0.13192036747932434,
          0.08146744966506958,
          0.05076169595122337,
          0.08851046115159988,
          0.05849440023303032,
          0.10492392629384995,
          0.03757143393158913,
          0.001220236299559474,
          0.13165391981601715,
          0.10769501328468323,
          0.04748557135462761,
          0.07549292594194412,
          0.09576897323131561,
          0.06468600779771805,
          0.043472591787576675,
          0.06444017589092255,
          0.08406112343072891,
          0.07793228328227997,
          0.061413463205099106,
          0.10576124489307404,
          0.0756557285785675,
          0.03835352510213852,
          0.0278655756264925,
          0.042796093970537186,
          0.06436498463153839,
          0.0723775178194046,
          0.0351751409471035,
          0.07349877059459686,
          0.13485056161880493,
          0.05555647611618042,
          0.05839686840772629,
          0.03208019211888313,
          0.052709683775901794,
          0.06209377199411392,
          0.05226432904601097,
          0.04055677726864815,
          0.1397007554769516,
          0.0883089229464531,
          0.1195957139134407,
          0.05528140813112259,
          0.027472149580717087,
          0.09945801645517349,
          0.04532920941710472,
          0.02753390744328499,
          0.060092538595199585,
          0.06686746329069138,
          0.04757792875170708,
          0.03549224138259888,
          0.06065291911363602,
          0.07466091215610504,
          0.018737206235527992,
          0.09407442063093185,
          0.03281976655125618,
          0.11162356287240982,
          0.042283620685338974,
          0.03911846503615379,
          0.06587845087051392,
          0.06291166692972183,
          0.04672878980636597,
          0.03693481534719467,
          0.10967786610126495,
          0.04071258381009102,
          0.07341165095567703,
          0.12288380414247513,
          0.033398255705833435,
          0.012118048965930939,
          0.031731318682432175,
          0.05881569907069206,
          0.03801954165101051,
          0.03734300658106804,
          0.010268579237163067,
          0.03635285049676895,
          0.05705147609114647,
          0.02209685556590557,
          0.0556240938603878,
          0.03809000551700592,
          0.09881159663200378,
          0.0329166017472744,
          0.08454065769910812,
          0.039118822664022446,
          0.05848919227719307,
          0.06810608506202698,
          0.05488179996609688,
          0.05035142973065376,
          0.04507811740040779,
          0.05746832117438316,
          0.07817552238702774,
          0.07641716301441193,
          0.025202304124832153,
          0.07666998356580734,
          0.0859617367386818,
          0.09401438385248184,
          0.08731688559055328,
          0.019075749441981316,
          0.054198846220970154,
          0.022341404110193253,
          0.06359846144914627,
          0.050515372306108475,
          0.009177043102681637,
          0.0846300944685936,
          0.049766816198825836,
          0.021172646433115005,
          0.03735191747546196,
          0.019059624522924423,
          0.045324210077524185,
          0.025700367987155914,
          0.026543334126472473,
          0.042038775980472565,
          0.033653080463409424
         ],
         "z": [
          -0.11106561869382858,
          -0.03476183861494064,
          -0.042138125747442245,
          -0.005573275964707136,
          -0.044182565063238144,
          -0.03242817148566246,
          -0.029544735327363014,
          -0.11167869716882706,
          -0.050737638026475906,
          -0.08195625245571136,
          0.0018122518667951226,
          -0.06888221949338913,
          -0.0965539962053299,
          -0.11195959895849228,
          -0.043920841068029404,
          -0.058599717915058136,
          -0.04805710166692734,
          -0.04152028262615204,
          -0.05578433349728584,
          -0.09110769629478455,
          -0.09165933728218079,
          -0.09938614815473557,
          -0.03755540773272514,
          -0.14351023733615875,
          -0.09987404942512512,
          -0.0719083845615387,
          -0.05884317681193352,
          -0.03998330608010292,
          -0.04159552603960037,
          -0.03899914771318436,
          -0.06788678467273712,
          -0.08836500346660614,
          -0.06663630902767181,
          -0.08083400130271912,
          -0.06978657841682434,
          -0.043431833386421204,
          -0.016709115356206894,
          -0.06495923548936844,
          -0.04765922203660011,
          -0.11632761359214783,
          -0.07358533889055252,
          -0.018443068489432335,
          -0.04666401073336601,
          -0.02786262147128582,
          -0.1073480024933815,
          -0.03429447114467621,
          -0.07704700529575348,
          -0.046526193618774414,
          -0.051657482981681824,
          -0.08159701526165009,
          -0.06725534796714783,
          -0.12837882339954376,
          -0.0319407619535923,
          -0.06410202383995056,
          -0.1341789811849594,
          -0.11626189947128296,
          -0.13758671283721924,
          -0.03527915105223656,
          -0.07064150273799896,
          -0.044311556965112686,
          -0.09468156099319458,
          -0.08906231075525284,
          -0.08343512564897537,
          -0.043182071298360825,
          -0.07174839079380035,
          -0.08208832889795303,
          -0.11348339915275574,
          -0.07703881710767746,
          -0.1202339231967926,
          -0.10549745708703995,
          -0.025319037958979607,
          -0.11482667177915573,
          -0.11042378097772598,
          -0.08505681902170181,
          -0.009944823570549488,
          -0.08293935656547546,
          -0.05441676825284958,
          -0.034285757690668106,
          -0.010912148281931877,
          -0.12300176918506622,
          -0.04367075115442276,
          -0.031117700040340424,
          -0.05401590093970299,
          -0.03658797964453697,
          -0.04674642160534859,
          -0.04924028366804123,
          -0.02660805732011795,
          -0.07948527485132217,
          -0.07394402474164963,
          -0.009944831021130085,
          -0.02223527990281582,
          -0.1299608200788498,
          -0.04837469756603241,
          -0.09474276751279831,
          -0.0947524681687355,
          -0.06622220575809479,
          -0.07064990699291229,
          -0.10982739180326462,
          -0.04949135333299637,
          -0.007201084867119789,
          -0.050957899540662766,
          -0.04015973582863808,
          -0.004595979116857052,
          -0.029056955128908157,
          -0.0515068955719471,
          -0.10363336652517319,
          -0.07780299335718155,
          -0.09236667305231094,
          -0.06438624858856201,
          -0.07470904290676117,
          -0.05124225094914436,
          -0.03256702423095703,
          -0.0511019192636013,
          -0.11119771003723145,
          -0.06789783388376236,
          -0.03236236795783043,
          -0.04913143068552017,
          -0.019086452201008797,
          -0.06025490164756775,
          -0.02088199555873871,
          -0.12789125740528107,
          -0.07831491529941559,
          -0.058327965438365936,
          -0.09813635051250458,
          -0.04814106598496437,
          -0.11120504140853882,
          -0.006915037985891104,
          0.02409191057085991,
          -0.09673202037811279,
          -0.10363975912332535,
          -0.04615363851189613,
          -0.06914366781711578,
          -0.09389826655387878,
          -0.05901553854346275,
          -0.03168550133705139,
          -0.06486614793539047,
          -0.09327121078968048,
          -0.07384657114744186,
          -0.05951264500617981,
          -0.12300189584493637,
          -0.07358574122190475,
          -0.0445425882935524,
          -0.010277999565005302,
          -0.04193747043609619,
          -0.04688572138547897,
          -0.049449846148490906,
          -0.015128786675632,
          -0.07872138172388077,
          -0.09092739224433899,
          -0.06303738802671432,
          -0.05642877146601677,
          -0.04165871441364288,
          -0.038989629596471786,
          -0.044060174375772476,
          -0.03700436279177666,
          -0.034294553101062775,
          -0.12831035256385803,
          -0.08572486788034439,
          -0.09196040034294128,
          -0.04008883982896805,
          -0.00782696157693863,
          -0.08132218569517136,
          -0.051289916038513184,
          -0.026535600423812866,
          -0.05171350762248039,
          -0.07520808279514313,
          -0.03278708830475807,
          -0.029822710901498795,
          -0.025834422558546066,
          -0.06914261728525162,
          -0.013572421856224537,
          -0.07392913103103638,
          -0.04264412447810173,
          -0.11427607387304306,
          -0.03207864984869957,
          -0.0190866831690073,
          -0.0782352164387703,
          -0.05963389575481415,
          -0.029473427683115005,
          -0.05066286772489548,
          -0.07547568529844284,
          -0.022659888491034508,
          -0.06594224274158478,
          -0.11052241176366806,
          -0.01780920848250389,
          -0.00015804394206497818,
          -0.0365879088640213,
          -0.07294311374425888,
          -0.044376734644174576,
          -0.009252202697098255,
          0.005034720059484243,
          -0.03804287314414978,
          -0.04467172175645828,
          -0.005083853844553232,
          -0.04588751122355461,
          -0.022025631740689278,
          -0.0772520899772644,
          -0.028723543509840965,
          -0.058821357786655426,
          -0.019086547195911407,
          -0.05334275960922241,
          -0.0572652667760849,
          -0.044901665300130844,
          -0.046719029545784,
          -0.049668874591588974,
          -0.05107959359884262,
          -0.08250727504491806,
          -0.04511279612779617,
          -0.0266245286911726,
          -0.06594941020011902,
          -0.05833369120955467,
          -0.06488709151744843,
          -0.08153193444013596,
          -0.007201540283858776,
          -0.046375397592782974,
          -0.011905972845852375,
          -0.07050372660160065,
          -0.05150682106614113,
          0.01517101377248764,
          -0.07259306311607361,
          -0.053885746747255325,
          -0.03138444945216179,
          -0.021040156483650208,
          0.0019578435458242893,
          -0.056490592658519745,
          -0.020614728331565857,
          -0.03412827104330063,
          -0.025256773456931114,
          -0.02390388399362564
         ]
        },
        {
         "marker": {
          "color": "rgba(255, 128, 2, 0.8)"
         },
         "mode": "markers",
         "name": "Cluster 1",
         "text": [
          "0 291 website request served <br>6 291 user logged in <br>5 291 item added to cart <br>2 291 item added to cart <br>5 291 item added to cart <br>6 291 item added to cart <br>2 291 item added to cart <br>6 291 dpd chosen for shipping <br>5 291 klarna chosen for payment <br>4 291 order placed succesful <br>",
          "0 305 website request served <br>8 305 login not succesfull <br>3 305 login not succesfull <br>6 305 user logged in <br>4 305 item added to cart <br>2 305 dhl chosen for shipping <br>7 305 paypal chosen for payment <br>3 305 order placed succesful <br>",
          "0 322 website request served <br>6 322 login not succesfull <br>2 322 user logged in <br>7 322 item added to cart <br>4 322 item added to cart <br>7 322 item added to cart <br>2 322 dpd chosen for shipping <br>4 322 paypal chosen for payment <br>7 322 order placed succesful <br>",
          "0 350 website request served <br>2 350 login not succesfull <br>6 350 user logged in <br>5 350 item added to cart <br>5 350 item added to cart <br>2 350 item added to cart <br>7 350 hermes chosen for shipping <br>5 350 paypal chosen for payment <br>4 350 order placed succesful <br>",
          "0 364 website request served <br>6 364 login not succesfull <br>2 364 login not succesfull <br>8 364 user logged in <br>3 364 item added to cart <br>3 364 hermes chosen for shipping <br>5 364 paypal chosen for payment <br>4 364 order placed succesful <br>",
          "0 371 website request served <br>4 371 user logged in <br>3 371 item added to cart <br>6 371 item added to cart <br>3 371 item added to cart <br>6 371 item added to cart <br>7 371 item added to cart <br>2 371 dhl chosen for shipping <br>3 371 paypal chosen for payment <br>5 371 order placed succesful <br>",
          "0 387 website request served <br>6 387 login not succesfull <br>2 387 login not succesfull <br>7 387 user logged in <br>4 387 item added to cart <br>5 387 item added to cart <br>3 387 dpd chosen for shipping <br>2 387 sofortueberweisung chosen for payment <br>7 387 order placed succesful <br>",
          "0 390 website request served <br>2 390 login not succesfull <br>7 390 login not succesfull <br>3 390 user logged in <br>4 390 item added to cart <br>3 390 dhl chosen for shipping <br>6 390 klarna chosen for payment <br>7 390 order placed succesful <br>",
          "0 408 website request served <br>5 408 user logged in <br>4 408 item added to cart <br>0 408 item added to cart <br>5 408 item added to cart <br>7 408 item added to cart <br>5 408 item added to cart <br>4 408 dhl chosen for shipping <br>2 408 sofortueberweisung chosen for payment <br>5 408 order placed succesful <br>",
          "0 430 website request served <br>7 430 user logged in <br>3 430 item added to cart <br>5 430 item added to cart <br>1 430 item added to cart <br>6 430 item added to cart <br>2 430 item added to cart <br>4 430 dpd chosen for shipping <br>6 430 klarna chosen for payment <br>4 430 order placed succesful <br>",
          "0 450 website request served <br>1 450 login not succesfull <br>9 450 login not succesfull <br>2 450 user logged in <br>4 450 item added to cart <br>3 450 dhl chosen for shipping <br>8 450 sofortueberweisung chosen for payment <br>1 450 order placed succesful <br>",
          "0 461 website request served <br>3 461 user logged in <br>5 461 item added to cart <br>4 461 item added to cart <br>7 461 item added to cart <br>2 461 item added to cart <br>6 461 item added to cart <br>6 461 dpd chosen for shipping <br>3 461 paypal chosen for payment <br>4 461 order placed succesful <br>",
          "0 509 website request served <br>1 509 login not succesfull <br>7 509 login not succesfull <br>4 509 user logged in <br>1 509 item added to cart <br>8 509 hermes chosen for shipping <br>1 509 paypal chosen for payment <br>9 509 order placed succesful <br>",
          "0 512 website request served <br>8 512 login not succesfull <br>1 512 login not succesfull <br>5 512 user logged in <br>4 512 item added to cart <br>4 512 dpd chosen for shipping <br>5 512 paypal chosen for payment <br>5 512 order placed succesful <br>",
          "0 514 website request served <br>3 514 login not succesfull <br>5 514 login not succesfull <br>4 514 user logged in <br>7 514 item added to cart <br>1 514 item added to cart <br>4 514 dhl chosen for shipping <br>9 514 klarna chosen for payment <br>4 514 order placed succesful <br>",
          "0 527 website request served <br>4 527 login not succesfull <br>5 527 user logged in <br>3 527 item added to cart <br>5 527 item added to cart <br>4 527 item added to cart <br>5 527 dhl chosen for shipping <br>2 527 sofortueberweisung chosen for payment <br>9 527 order placed succesful <br>",
          "0 551 website request served <br>4 551 login not succesfull <br>3 551 user logged in <br>7 551 item added to cart <br>3 551 item added to cart <br>7 551 item added to cart <br>1 551 dpd chosen for shipping <br>5 551 sofortueberweisung chosen for payment <br>6 551 order placed succesful <br>",
          "0 559 website request served <br>7 559 login not succesfull <br>2 559 login not succesfull <br>4 559 user logged in <br>4 559 item added to cart <br>8 559 item added to cart <br>5 559 dhl chosen for shipping <br>3 559 klarna chosen for payment <br>4 559 order placed succesful <br>",
          "0 571 website request served <br>8 571 login not succesfull <br>4 571 user logged in <br>4 571 item added to cart <br>5 571 item added to cart <br>4 571 item added to cart <br>5 571 hermes chosen for shipping <br>5 571 paypal chosen for payment <br>4 571 order placed succesful <br>",
          "0 585 website request served <br>7 585 user logged in <br>6 585 item added to cart <br>1 585 item added to cart <br>6 585 item added to cart <br>7 585 item added to cart <br>3 585 item added to cart <br>4 585 dpd chosen for shipping <br>5 585 paypal chosen for payment <br>4 585 order placed succesful <br>",
          "0 600 website request served <br>7 600 user logged in <br>5 600 item added to cart <br>2 600 item added to cart <br>5 600 item added to cart <br>7 600 item added to cart <br>3 600 item added to cart <br>3 600 dpd chosen for shipping <br>8 600 sofortueberweisung chosen for payment <br>0 600 order placed succesful <br>",
          "0 641 website request served <br>5 641 login not succesfull <br>6 641 login not succesfull <br>1 641 user logged in <br>5 641 item added to cart <br>3 641 item added to cart <br>7 641 dhl chosen for shipping <br>3 641 sofortueberweisung chosen for payment <br>4 641 order placed succesful <br>",
          "0 642 website request served <br>4 642 login not succesfull <br>4 642 user logged in <br>5 642 item added to cart <br>4 642 item added to cart <br>4 642 item added to cart <br>6 642 hermes chosen for shipping <br>3 642 sofortueberweisung chosen for payment <br>7 642 order placed succesful <br>",
          "0 644 website request served <br>5 644 user logged in <br>4 644 item added to cart <br>6 644 item added to cart <br>5 644 item added to cart <br>4 644 item added to cart <br>6 644 item added to cart <br>3 644 dpd chosen for shipping <br>7 644 paypal chosen for payment <br>2 644 order placed succesful <br>",
          "0 659 website request served <br>7 659 login not succesfull <br>4 659 login not succesfull <br>4 659 user logged in <br>5 659 item added to cart <br>7 659 item added to cart <br>1 659 hermes chosen for shipping <br>6 659 paypal chosen for payment <br>6 659 order placed succesful <br>",
          "0 675 website request served <br>3 675 login not succesfull <br>6 675 user logged in <br>0 675 item added to cart <br>7 675 item added to cart <br>2 675 item added to cart <br>7 675 dpd chosen for shipping <br>3 675 paypal chosen for payment <br>6 675 order placed succesful <br>",
          "0 708 website request served <br>7 708 login not succesfull <br>5 708 login not succesfull <br>4 708 user logged in <br>6 708 item added to cart <br>2 708 hermes chosen for shipping <br>3 708 klarna chosen for payment <br>9 708 order placed succesful <br>",
          "0 711 website request served <br>8 711 user logged in <br>2 711 item added to cart <br>6 711 item added to cart <br>4 711 item added to cart <br>7 711 item added to cart <br>2 711 item added to cart <br>3 711 hermes chosen for shipping <br>8 711 paypal chosen for payment <br>3 711 order placed succesful <br>",
          "0 735 website request served <br>7 735 user logged in <br>4 735 item added to cart <br>4 735 item added to cart <br>4 735 item added to cart <br>4 735 item added to cart <br>3 735 item added to cart <br>8 735 hermes chosen for shipping <br>5 735 sofortueberweisung chosen for payment <br>4 735 order placed succesful <br>",
          "0 744 website request served <br>8 744 user logged in <br>3 744 item added to cart <br>2 744 item added to cart <br>9 744 item added to cart <br>4 744 item added to cart <br>1 744 item added to cart <br>5 744 dpd chosen for shipping <br>8 744 klarna chosen for payment <br>5 744 order placed succesful <br>",
          "0 765 website request served <br>6 765 login not succesfull <br>6 765 login not succesfull <br>5 765 user logged in <br>1 765 item added to cart <br>7 765 dpd chosen for shipping <br>5 765 paypal chosen for payment <br>3 765 order placed succesful <br>",
          "0 772 website request served <br>6 772 user logged in <br>2 772 item added to cart <br>7 772 item added to cart <br>2 772 item added to cart <br>6 772 item added to cart <br>6 772 item added to cart <br>2 772 dpd chosen for shipping <br>8 772 paypal chosen for payment <br>4 772 order placed succesful <br>",
          "0 789 website request served <br>3 789 login not succesfull <br>4 789 user logged in <br>6 789 item added to cart <br>4 789 item added to cart <br>3 789 item added to cart <br>6 789 item added to cart <br>3 789 dhl chosen for shipping <br>3 789 klarna chosen for payment <br>5 789 order placed succesful <br>",
          "0 798 website request served <br>4 798 login not succesfull <br>8 798 user logged in <br>2 798 item added to cart <br>3 798 item added to cart <br>6 798 item added to cart <br>5 798 hermes chosen for shipping <br>4 798 sofortueberweisung chosen for payment <br>7 798 order placed succesful <br>",
          "0 802 website request served <br>4 802 login not succesfull <br>1 802 user logged in <br>8 802 item added to cart <br>1 802 item added to cart <br>9 802 item added to cart <br>4 802 hermes chosen for shipping <br>3 802 sofortueberweisung chosen for payment <br>2 802 order placed succesful <br>",
          "0 805 website request served <br>8 805 user logged in <br>3 805 item added to cart <br>2 805 item added to cart <br>7 805 item added to cart <br>3 805 item added to cart <br>4 805 item added to cart <br>4 805 dpd chosen for shipping <br>4 805 klarna chosen for payment <br>7 805 order placed succesful <br>",
          "0 811 website request served <br>4 811 user logged in <br>6 811 item added to cart <br>3 811 item added to cart <br>4 811 item added to cart <br>6 811 item added to cart <br>4 811 item added to cart <br>8 811 dpd chosen for shipping <br>3 811 paypal chosen for payment <br>1 811 order placed succesful <br>",
          "0 833 website request served <br>3 833 login not succesfull <br>4 833 user logged in <br>4 833 item added to cart <br>3 833 item added to cart <br>7 833 item added to cart <br>6 833 dpd chosen for shipping <br>5 833 klarna chosen for payment <br>5 833 order placed succesful <br>",
          "0 836 website request served <br>6 836 login not succesfull <br>4 836 user logged in <br>4 836 item added to cart <br>6 836 item added to cart <br>6 836 item added to cart <br>2 836 dpd chosen for shipping <br>4 836 paypal chosen for payment <br>8 836 order placed succesful <br>",
          "0 838 website request served <br>2 838 login not succesfull <br>5 838 user logged in <br>7 838 item added to cart <br>5 838 item added to cart <br>3 838 item added to cart <br>3 838 dhl chosen for shipping <br>7 838 sofortueberweisung chosen for payment <br>1 838 order placed succesful <br>",
          "0 848 website request served <br>4 848 user logged in <br>6 848 item added to cart <br>3 848 item added to cart <br>5 848 item added to cart <br>6 848 item added to cart <br>1 848 item added to cart <br>7 848 hermes chosen for shipping <br>5 848 sofortueberweisung chosen for payment <br>6 848 order placed succesful <br>",
          "0 871 website request served <br>4 871 user logged in <br>5 871 item added to cart <br>4 871 item added to cart <br>5 871 item added to cart <br>5 871 item added to cart <br>5 871 item added to cart <br>6 871 hermes chosen for shipping <br>4 871 paypal chosen for payment <br>3 871 order placed succesful <br>"
         ],
         "type": "scatter3d",
         "x": [
          18.115446090698242,
          15.607819557189941,
          17.34697723388672,
          16.408708572387695,
          15.107047080993652,
          18.570722579956055,
          23.8027286529541,
          15.099488258361816,
          16.995376586914062,
          19.050079345703125,
          17.99795913696289,
          18.225292205810547,
          18.624897003173828,
          14.714461326599121,
          24.70592498779297,
          16.959781646728516,
          17.276103973388672,
          23.740365982055664,
          15.633150100708008,
          18.91120147705078,
          19.098236083984375,
          23.56850814819336,
          15.566274642944336,
          17.94576644897461,
          23.807130813598633,
          17.088348388671875,
          15.869211196899414,
          20.73827362060547,
          17.873149871826172,
          21.821474075317383,
          14.969254493713379,
          20.22290802001953,
          24.825551986694336,
          17.18313217163086,
          19.983312606811523,
          19.294178009033203,
          19.320714950561523,
          15.91447639465332,
          17.055023193359375,
          17.579605102539062,
          18.710119247436523,
          16.59967613220215
         ],
         "y": [
          -1.0629420280456543,
          1.7259836196899414,
          0.35142621397972107,
          0.3667238652706146,
          1.7144132852554321,
          -1.0551352500915527,
          1.4949002265930176,
          1.6713452339172363,
          -1.0689477920532227,
          -1.0513169765472412,
          1.8226842880249023,
          -1.0802801847457886,
          1.8371860980987549,
          1.7282471656799316,
          1.5677982568740845,
          0.40067368745803833,
          0.3579225242137909,
          1.5498017072677612,
          0.3717353343963623,
          -1.065761685371399,
          -1.014736294746399,
          1.522252082824707,
          0.2981114089488983,
          -1.0818092823028564,
          1.5033202171325684,
          0.37269920110702515,
          1.703589677810669,
          -0.9552775025367737,
          -1.0866310596466064,
          -0.8787922263145447,
          1.6890274286270142,
          -1.0004401206970215,
          0.11488944292068481,
          0.3780769407749176,
          0.49829021096229553,
          -1.0396175384521484,
          -1.0130094289779663,
          0.3355855345726013,
          0.3861837685108185,
          0.39650845527648926,
          -1.0766807794570923,
          -1.0990567207336426
         ],
         "z": [
          -1.0568009201961104e-05,
          0.024365955963730812,
          0.025069208815693855,
          0.0023419775534421206,
          0.029955117031931877,
          -0.011326942592859268,
          0.04372413456439972,
          0.06237022951245308,
          0.021055981516838074,
          -0.010535988956689835,
          -0.07829352468252182,
          0.020590249449014664,
          -0.11141086369752884,
          0.036168791353702545,
          -0.02381269447505474,
          -0.011914337985217571,
          0.03600189462304115,
          0.010578754357993603,
          0.03292136639356613,
          0.0009116868022829294,
          -0.0283890962600708,
          0.029529688879847527,
          0.09349693357944489,
          0.02006542682647705,
          0.027784302830696106,
          0.03628470376133919,
          0.012088259682059288,
          -0.1125158742070198,
          0.029771415516734123,
          -0.1722845882177353,
          0.05663074553012848,
          -0.06434483826160431,
          0.0358143225312233,
          0.012029234319925308,
          -0.11331850290298462,
          -0.016493406146764755,
          -0.020432593300938606,
          0.06854444742202759,
          0.03338231146335602,
          -0.01706968992948532,
          -0.000979169039055705,
          0.03251446783542633
         ]
        },
        {
         "marker": {
          "color": "rgba(0, 255, 200, 0.8)"
         },
         "mode": "markers",
         "name": "Cluster 2",
         "text": [
          "0 293 website request served <br>7 293 login not succesfull <br>3 293 user logged in <br>5 293 item added to cart <br>6 293 dpd chosen for shipping <br>4 293 klarna chosen for payment <br>5 293 order placed succesful <br>",
          "0 298 website request served <br>5 298 login not succesfull <br>6 298 user logged in <br>2 298 item added to cart <br>4 298 hermes chosen for shipping <br>4 298 klarna chosen for payment <br>6 298 order placed succesful <br>",
          "0 301 website request served <br>3 301 login not succesfull <br>4 301 user logged in <br>5 301 item added to cart <br>6 301 dpd chosen for shipping <br>1 301 sofortueberweisung chosen for payment <br>5 301 order placed succesful <br>",
          "0 303 website request served <br>2 303 login not succesfull <br>5 303 user logged in <br>7 303 item added to cart <br>1 303 dpd chosen for shipping <br>8 303 sofortueberweisung chosen for payment <br>5 303 order placed succesful <br>",
          "0 312 website request served <br>4 312 user logged in <br>3 312 item added to cart <br>4 312 item added to cart <br>4 312 item added to cart <br>8 312 hermes chosen for shipping <br>4 312 sofortueberweisung chosen for payment <br>4 312 order placed succesful <br>",
          "0 314 website request served <br>1 314 login not succesfull <br>6 314 user logged in <br>4 314 item added to cart <br>5 314 hermes chosen for shipping <br>5 314 sofortueberweisung chosen for payment <br>3 314 order placed succesful <br>",
          "0 325 website request served <br>6 325 login not succesfull <br>7 325 user logged in <br>4 325 item added to cart <br>5 325 dpd chosen for shipping <br>4 325 paypal chosen for payment <br>3 325 order placed succesful <br>",
          "0 326 website request served <br>7 326 user logged in <br>2 326 item added to cart <br>9 326 item added to cart <br>3 326 item added to cart <br>5 326 hermes chosen for shipping <br>2 326 klarna chosen for payment <br>7 326 order placed succesful <br>",
          "0 329 website request served <br>8 329 user logged in <br>0 329 item added to cart <br>6 329 item added to cart <br>4 329 item added to cart <br>7 329 hermes chosen for shipping <br>4 329 klarna chosen for payment <br>5 329 order placed succesful <br>",
          "0 330 website request served <br>3 330 user logged in <br>5 330 item added to cart <br>7 330 item added to cart <br>1 330 item added to cart <br>7 330 dpd chosen for shipping <br>1 330 sofortueberweisung chosen for payment <br>8 330 order placed succesful <br>",
          "0 344 website request served <br>4 344 login not succesfull <br>8 344 user logged in <br>5 344 item added to cart <br>3 344 hermes chosen for shipping <br>2 344 klarna chosen for payment <br>7 344 order placed succesful <br>",
          "0 346 website request served <br>2 346 user logged in <br>7 346 item added to cart <br>5 346 item added to cart <br>1 346 item added to cart <br>8 346 dhl chosen for shipping <br>2 346 sofortueberweisung chosen for payment <br>6 346 order placed succesful <br>",
          "0 354 website request served <br>2 354 user logged in <br>6 354 item added to cart <br>3 354 item added to cart <br>8 354 item added to cart <br>5 354 dhl chosen for shipping <br>2 354 sofortueberweisung chosen for payment <br>4 354 order placed succesful <br>",
          "0 357 website request served <br>2 357 user logged in <br>6 357 item added to cart <br>5 357 item added to cart <br>4 357 item added to cart <br>5 357 hermes chosen for shipping <br>3 357 klarna chosen for payment <br>3 357 order placed succesful <br>",
          "0 367 website request served <br>5 367 user logged in <br>7 367 item added to cart <br>4 367 item added to cart <br>6 367 item added to cart <br>4 367 dpd chosen for shipping <br>1 367 paypal chosen for payment <br>4 367 order placed succesful <br>",
          "0 368 website request served <br>8 368 login not succesfull <br>4 368 user logged in <br>4 368 item added to cart <br>1 368 dpd chosen for shipping <br>8 368 paypal chosen for payment <br>5 368 order placed succesful <br>",
          "0 370 website request served <br>4 370 login not succesfull <br>6 370 user logged in <br>4 370 item added to cart <br>6 370 dhl chosen for shipping <br>3 370 klarna chosen for payment <br>4 370 order placed succesful <br>",
          "0 383 website request served <br>6 383 user logged in <br>5 383 item added to cart <br>4 383 item added to cart <br>4 383 item added to cart <br>6 383 hermes chosen for shipping <br>2 383 sofortueberweisung chosen for payment <br>7 383 order placed succesful <br>",
          "0 397 website request served <br>5 397 login not succesfull <br>0 397 user logged in <br>5 397 item added to cart <br>9 397 dhl chosen for shipping <br>1 397 paypal chosen for payment <br>8 397 order placed succesful <br>",
          "0 398 website request served <br>7 398 login not succesfull <br>4 398 user logged in <br>1 398 item added to cart <br>8 398 hermes chosen for shipping <br>2 398 paypal chosen for payment <br>5 398 order placed succesful <br>",
          "0 406 website request served <br>7 406 user logged in <br>0 406 item added to cart <br>6 406 item added to cart <br>5 406 item added to cart <br>5 406 dpd chosen for shipping <br>3 406 klarna chosen for payment <br>6 406 order placed succesful <br>",
          "0 407 website request served <br>9 407 login not succesfull <br>1 407 user logged in <br>5 407 item added to cart <br>6 407 dhl chosen for shipping <br>3 407 sofortueberweisung chosen for payment <br>6 407 order placed succesful <br>",
          "0 414 website request served <br>7 414 login not succesfull <br>5 414 user logged in <br>5 414 item added to cart <br>1 414 dhl chosen for shipping <br>5 414 sofortueberweisung chosen for payment <br>5 414 order placed succesful <br>",
          "0 417 website request served <br>7 417 user logged in <br>2 417 item added to cart <br>4 417 item added to cart <br>8 417 item added to cart <br>5 417 dhl chosen for shipping <br>4 417 klarna chosen for payment <br>2 417 order placed succesful <br>",
          "0 419 website request served <br>4 419 login not succesfull <br>8 419 user logged in <br>5 419 item added to cart <br>4 419 dhl chosen for shipping <br>2 419 paypal chosen for payment <br>4 419 order placed succesful <br>",
          "0 420 website request served <br>4 420 user logged in <br>3 420 item added to cart <br>6 420 item added to cart <br>7 420 item added to cart <br>3 420 hermes chosen for shipping <br>6 420 klarna chosen for payment <br>2 420 order placed succesful <br>",
          "0 424 website request served <br>7 424 user logged in <br>2 424 item added to cart <br>6 424 item added to cart <br>6 424 item added to cart <br>1 424 dpd chosen for shipping <br>7 424 sofortueberweisung chosen for payment <br>3 424 order placed succesful <br>",
          "0 434 website request served <br>5 434 user logged in <br>6 434 item added to cart <br>1 434 item added to cart <br>3 434 item added to cart <br>8 434 hermes chosen for shipping <br>1 434 sofortueberweisung chosen for payment <br>5 434 order placed succesful <br>",
          "0 440 website request served <br>4 440 user logged in <br>4 440 item added to cart <br>7 440 item added to cart <br>2 440 item added to cart <br>3 440 dpd chosen for shipping <br>7 440 sofortueberweisung chosen for payment <br>3 440 order placed succesful <br>",
          "0 443 website request served <br>2 443 user logged in <br>4 443 item added to cart <br>9 443 item added to cart <br>1 443 item added to cart <br>6 443 dpd chosen for shipping <br>6 443 paypal chosen for payment <br>4 443 order placed succesful <br>",
          "0 448 website request served <br>3 448 user logged in <br>4 448 item added to cart <br>8 448 item added to cart <br>2 448 item added to cart <br>7 448 dpd chosen for shipping <br>2 448 klarna chosen for payment <br>7 448 order placed succesful <br>",
          "0 454 website request served <br>6 454 login not succesfull <br>5 454 user logged in <br>2 454 item added to cart <br>6 454 hermes chosen for shipping <br>5 454 sofortueberweisung chosen for payment <br>5 454 order placed succesful <br>",
          "0 471 website request served <br>4 471 login not succesfull <br>2 471 user logged in <br>4 471 item added to cart <br>7 471 hermes chosen for shipping <br>6 471 sofortueberweisung chosen for payment <br>2 471 order placed succesful <br>",
          "0 472 website request served <br>6 472 login not succesfull <br>4 472 user logged in <br>7 472 item added to cart <br>2 472 dhl chosen for shipping <br>7 472 klarna chosen for payment <br>2 472 order placed succesful <br>",
          "0 478 website request served <br>3 478 login not succesfull <br>7 478 user logged in <br>4 478 item added to cart <br>6 478 dpd chosen for shipping <br>4 478 klarna chosen for payment <br>2 478 order placed succesful <br>",
          "0 482 website request served <br>1 482 user logged in <br>3 482 item added to cart <br>8 482 item added to cart <br>5 482 item added to cart <br>1 482 dhl chosen for shipping <br>4 482 klarna chosen for payment <br>5 482 order placed succesful <br>",
          "0 488 website request served <br>3 488 user logged in <br>1 488 item added to cart <br>4 488 item added to cart <br>9 488 item added to cart <br>1 488 dhl chosen for shipping <br>4 488 klarna chosen for payment <br>6 488 order placed succesful <br>",
          "0 489 website request served <br>1 489 login not succesfull <br>6 489 user logged in <br>2 489 item added to cart <br>6 489 dhl chosen for shipping <br>6 489 paypal chosen for payment <br>5 489 order placed succesful <br>",
          "0 491 website request served <br>4 491 user logged in <br>6 491 item added to cart <br>1 491 item added to cart <br>7 491 item added to cart <br>2 491 dpd chosen for shipping <br>7 491 klarna chosen for payment <br>5 491 order placed succesful <br>",
          "0 493 website request served <br>4 493 user logged in <br>7 493 item added to cart <br>1 493 item added to cart <br>7 493 item added to cart <br>5 493 dpd chosen for shipping <br>6 493 paypal chosen for payment <br>3 493 order placed succesful <br>",
          "0 494 website request served <br>4 494 user logged in <br>4 494 item added to cart <br>7 494 item added to cart <br>2 494 item added to cart <br>6 494 hermes chosen for shipping <br>7 494 paypal chosen for payment <br>2 494 order placed succesful <br>",
          "0 499 website request served <br>6 499 login not succesfull <br>0 499 user logged in <br>8 499 item added to cart <br>3 499 hermes chosen for shipping <br>6 499 klarna chosen for payment <br>3 499 order placed succesful <br>",
          "0 501 website request served <br>5 501 user logged in <br>5 501 item added to cart <br>7 501 item added to cart <br>1 501 item added to cart <br>6 501 dpd chosen for shipping <br>4 501 paypal chosen for payment <br>5 501 order placed succesful <br>",
          "0 502 website request served <br>3 502 user logged in <br>2 502 item added to cart <br>4 502 item added to cart <br>7 502 item added to cart <br>7 502 dpd chosen for shipping <br>4 502 paypal chosen for payment <br>3 502 order placed succesful <br>",
          "0 520 website request served <br>6 520 user logged in <br>4 520 item added to cart <br>2 520 item added to cart <br>9 520 item added to cart <br>1 520 dpd chosen for shipping <br>5 520 klarna chosen for payment <br>4 520 order placed succesful <br>",
          "0 528 website request served <br>4 528 login not succesfull <br>4 528 user logged in <br>6 528 item added to cart <br>3 528 dpd chosen for shipping <br>3 528 paypal chosen for payment <br>4 528 order placed succesful <br>",
          "0 540 website request served <br>3 540 user logged in <br>2 540 item added to cart <br>8 540 item added to cart <br>2 540 item added to cart <br>6 540 dhl chosen for shipping <br>4 540 paypal chosen for payment <br>6 540 order placed succesful <br>",
          "0 543 website request served <br>6 543 user logged in <br>5 543 item added to cart <br>3 543 item added to cart <br>7 543 item added to cart <br>5 543 hermes chosen for shipping <br>2 543 sofortueberweisung chosen for payment <br>4 543 order placed succesful <br>",
          "0 545 website request served <br>3 545 user logged in <br>7 545 item added to cart <br>4 545 item added to cart <br>4 545 item added to cart <br>6 545 dhl chosen for shipping <br>4 545 sofortueberweisung chosen for payment <br>3 545 order placed succesful <br>",
          "0 562 website request served <br>6 562 login not succesfull <br>4 562 user logged in <br>4 562 item added to cart <br>5 562 dpd chosen for shipping <br>8 562 klarna chosen for payment <br>6 562 order placed succesful <br>",
          "0 565 website request served <br>6 565 user logged in <br>4 565 item added to cart <br>5 565 item added to cart <br>3 565 item added to cart <br>7 565 dhl chosen for shipping <br>5 565 paypal chosen for payment <br>5 565 order placed succesful <br>",
          "0 577 website request served <br>6 577 user logged in <br>4 577 item added to cart <br>2 577 item added to cart <br>6 577 item added to cart <br>3 577 hermes chosen for shipping <br>6 577 paypal chosen for payment <br>5 577 order placed succesful <br>",
          "0 578 website request served <br>3 578 user logged in <br>7 578 item added to cart <br>3 578 item added to cart <br>5 578 item added to cart <br>8 578 hermes chosen for shipping <br>1 578 paypal chosen for payment <br>8 578 order placed succesful <br>",
          "0 587 website request served <br>5 587 login not succesfull <br>7 587 user logged in <br>3 587 item added to cart <br>6 587 hermes chosen for shipping <br>1 587 klarna chosen for payment <br>8 587 order placed succesful <br>",
          "0 594 website request served <br>4 594 login not succesfull <br>6 594 user logged in <br>4 594 item added to cart <br>4 594 dpd chosen for shipping <br>4 594 sofortueberweisung chosen for payment <br>6 594 order placed succesful <br>",
          "0 595 website request served <br>2 595 user logged in <br>5 595 item added to cart <br>4 595 item added to cart <br>6 595 item added to cart <br>6 595 dhl chosen for shipping <br>2 595 sofortueberweisung chosen for payment <br>4 595 order placed succesful <br>",
          "0 598 website request served <br>6 598 user logged in <br>3 598 item added to cart <br>4 598 item added to cart <br>8 598 item added to cart <br>3 598 dpd chosen for shipping <br>3 598 paypal chosen for payment <br>9 598 order placed succesful <br>",
          "0 617 website request served <br>4 617 login not succesfull <br>4 617 user logged in <br>4 617 item added to cart <br>4 617 hermes chosen for shipping <br>5 617 klarna chosen for payment <br>6 617 order placed succesful <br>",
          "0 622 website request served <br>6 622 user logged in <br>5 622 item added to cart <br>3 622 item added to cart <br>3 622 item added to cart <br>8 622 hermes chosen for shipping <br>3 622 klarna chosen for payment <br>6 622 order placed succesful <br>",
          "0 636 website request served <br>3 636 user logged in <br>6 636 item added to cart <br>5 636 item added to cart <br>6 636 item added to cart <br>3 636 dpd chosen for shipping <br>6 636 sofortueberweisung chosen for payment <br>2 636 order placed succesful <br>",
          "0 645 website request served <br>1 645 login not succesfull <br>7 645 user logged in <br>2 645 item added to cart <br>7 645 dpd chosen for shipping <br>6 645 paypal chosen for payment <br>1 645 order placed succesful <br>",
          "0 677 website request served <br>7 677 login not succesfull <br>5 677 user logged in <br>4 677 item added to cart <br>4 677 dpd chosen for shipping <br>6 677 klarna chosen for payment <br>0 677 order placed succesful <br>",
          "0 688 website request served <br>4 688 login not succesfull <br>3 688 user logged in <br>3 688 item added to cart <br>5 688 dhl chosen for shipping <br>3 688 paypal chosen for payment <br>7 688 order placed succesful <br>",
          "0 693 website request served <br>4 693 user logged in <br>6 693 item added to cart <br>3 693 item added to cart <br>6 693 item added to cart <br>4 693 dhl chosen for shipping <br>3 693 klarna chosen for payment <br>6 693 order placed succesful <br>",
          "0 697 website request served <br>5 697 login not succesfull <br>5 697 user logged in <br>3 697 item added to cart <br>3 697 hermes chosen for shipping <br>6 697 paypal chosen for payment <br>3 697 order placed succesful <br>",
          "0 699 website request served <br>4 699 login not succesfull <br>8 699 user logged in <br>1 699 item added to cart <br>4 699 dpd chosen for shipping <br>7 699 sofortueberweisung chosen for payment <br>2 699 order placed succesful <br>",
          "0 701 website request served <br>4 701 user logged in <br>1 701 item added to cart <br>5 701 item added to cart <br>8 701 item added to cart <br>1 701 hermes chosen for shipping <br>8 701 paypal chosen for payment <br>1 701 order placed succesful <br>",
          "0 705 website request served <br>7 705 user logged in <br>4 705 item added to cart <br>6 705 item added to cart <br>5 705 item added to cart <br>3 705 dpd chosen for shipping <br>5 705 sofortueberweisung chosen for payment <br>2 705 order placed succesful <br>",
          "0 712 website request served <br>1 712 login not succesfull <br>6 712 user logged in <br>6 712 item added to cart <br>2 712 dhl chosen for shipping <br>7 712 paypal chosen for payment <br>5 712 order placed succesful <br>",
          "0 715 website request served <br>8 715 user logged in <br>5 715 item added to cart <br>1 715 item added to cart <br>6 715 item added to cart <br>4 715 dpd chosen for shipping <br>4 715 paypal chosen for payment <br>7 715 order placed succesful <br>",
          "0 716 website request served <br>6 716 login not succesfull <br>6 716 user logged in <br>1 716 item added to cart <br>9 716 hermes chosen for shipping <br>0 716 klarna chosen for payment <br>9 716 order placed succesful <br>",
          "0 721 website request served <br>6 721 user logged in <br>3 721 item added to cart <br>5 721 item added to cart <br>6 721 item added to cart <br>3 721 hermes chosen for shipping <br>4 721 paypal chosen for payment <br>1 721 order placed succesful <br>",
          "0 722 website request served <br>3 722 login not succesfull <br>4 722 user logged in <br>8 722 item added to cart <br>1 722 dhl chosen for shipping <br>7 722 klarna chosen for payment <br>4 722 order placed succesful <br>",
          "0 745 website request served <br>7 745 login not succesfull <br>4 745 user logged in <br>4 745 item added to cart <br>4 745 hermes chosen for shipping <br>6 745 paypal chosen for payment <br>5 745 order placed succesful <br>",
          "0 746 website request served <br>1 746 user logged in <br>4 746 item added to cart <br>6 746 item added to cart <br>6 746 item added to cart <br>7 746 dhl chosen for shipping <br>5 746 paypal chosen for payment <br>3 746 order placed succesful <br>",
          "0 750 website request served <br>7 750 user logged in <br>4 750 item added to cart <br>6 750 item added to cart <br>6 750 item added to cart <br>4 750 dhl chosen for shipping <br>1 750 klarna chosen for payment <br>6 750 order placed succesful <br>",
          "0 753 website request served <br>3 753 user logged in <br>5 753 item added to cart <br>2 753 item added to cart <br>5 753 item added to cart <br>6 753 dhl chosen for shipping <br>4 753 paypal chosen for payment <br>4 753 order placed succesful <br>",
          "0 760 website request served <br>4 760 user logged in <br>7 760 item added to cart <br>2 760 item added to cart <br>6 760 item added to cart <br>3 760 dpd chosen for shipping <br>5 760 paypal chosen for payment <br>3 760 order placed succesful <br>",
          "0 761 website request served <br>8 761 login not succesfull <br>2 761 user logged in <br>4 761 item added to cart <br>6 761 dpd chosen for shipping <br>2 761 klarna chosen for payment <br>9 761 order placed succesful <br>",
          "0 763 website request served <br>5 763 user logged in <br>3 763 item added to cart <br>7 763 item added to cart <br>1 763 item added to cart <br>5 763 dhl chosen for shipping <br>5 763 paypal chosen for payment <br>3 763 order placed succesful <br>",
          "0 766 website request served <br>8 766 user logged in <br>0 766 item added to cart <br>6 766 item added to cart <br>4 766 item added to cart <br>5 766 dpd chosen for shipping <br>5 766 paypal chosen for payment <br>6 766 order placed succesful <br>",
          "0 769 website request served <br>8 769 login not succesfull <br>1 769 user logged in <br>5 769 item added to cart <br>8 769 hermes chosen for shipping <br>1 769 klarna chosen for payment <br>8 769 order placed succesful <br>",
          "0 771 website request served <br>1 771 user logged in <br>6 771 item added to cart <br>7 771 item added to cart <br>5 771 item added to cart <br>4 771 dhl chosen for shipping <br>0 771 sofortueberweisung chosen for payment <br>5 771 order placed succesful <br>",
          "0 773 website request served <br>6 773 user logged in <br>6 773 item added to cart <br>5 773 item added to cart <br>3 773 item added to cart <br>7 773 dhl chosen for shipping <br>3 773 klarna chosen for payment <br>6 773 order placed succesful <br>",
          "0 782 website request served <br>7 782 user logged in <br>4 782 item added to cart <br>3 782 item added to cart <br>6 782 item added to cart <br>3 782 hermes chosen for shipping <br>4 782 sofortueberweisung chosen for payment <br>7 782 order placed succesful <br>",
          "0 787 website request served <br>2 787 login not succesfull <br>3 787 user logged in <br>6 787 item added to cart <br>5 787 hermes chosen for shipping <br>5 787 klarna chosen for payment <br>5 787 order placed succesful <br>",
          "0 792 website request served <br>1 792 user logged in <br>8 792 item added to cart <br>5 792 item added to cart <br>4 792 item added to cart <br>5 792 dhl chosen for shipping <br>3 792 klarna chosen for payment <br>5 792 order placed succesful <br>",
          "0 797 website request served <br>2 797 login not succesfull <br>5 797 user logged in <br>5 797 item added to cart <br>7 797 hermes chosen for shipping <br>2 797 sofortueberweisung chosen for payment <br>5 797 order placed succesful <br>",
          "0 803 website request served <br>7 803 login not succesfull <br>4 803 user logged in <br>6 803 item added to cart <br>6 803 dpd chosen for shipping <br>1 803 paypal chosen for payment <br>7 803 order placed succesful <br>",
          "0 807 website request served <br>5 807 user logged in <br>7 807 item added to cart <br>7 807 item added to cart <br>3 807 item added to cart <br>5 807 hermes chosen for shipping <br>5 807 sofortueberweisung chosen for payment <br>5 807 order placed succesful <br>",
          "0 813 website request served <br>0 813 user logged in <br>8 813 item added to cart <br>5 813 item added to cart <br>2 813 item added to cart <br>3 813 dpd chosen for shipping <br>7 813 sofortueberweisung chosen for payment <br>6 813 order placed succesful <br>",
          "0 837 website request served <br>4 837 user logged in <br>6 837 item added to cart <br>5 837 item added to cart <br>4 837 item added to cart <br>4 837 hermes chosen for shipping <br>4 837 paypal chosen for payment <br>3 837 order placed succesful <br>",
          "0 839 website request served <br>8 839 user logged in <br>2 839 item added to cart <br>4 839 item added to cart <br>6 839 item added to cart <br>4 839 hermes chosen for shipping <br>5 839 sofortueberweisung chosen for payment <br>3 839 order placed succesful <br>",
          "0 840 website request served <br>9 840 user logged in <br>3 840 item added to cart <br>1 840 item added to cart <br>5 840 item added to cart <br>9 840 dhl chosen for shipping <br>2 840 paypal chosen for payment <br>5 840 order placed succesful <br>",
          "0 846 website request served <br>2 846 user logged in <br>6 846 item added to cart <br>6 846 item added to cart <br>3 846 item added to cart <br>5 846 dhl chosen for shipping <br>3 846 klarna chosen for payment <br>5 846 order placed succesful <br>",
          "0 850 website request served <br>6 850 user logged in <br>4 850 item added to cart <br>5 850 item added to cart <br>5 850 item added to cart <br>2 850 dpd chosen for shipping <br>4 850 klarna chosen for payment <br>6 850 order placed succesful <br>",
          "0 852 website request served <br>5 852 login not succesfull <br>8 852 user logged in <br>1 852 item added to cart <br>7 852 dpd chosen for shipping <br>3 852 sofortueberweisung chosen for payment <br>6 852 order placed succesful <br>",
          "0 870 website request served <br>6 870 user logged in <br>5 870 item added to cart <br>4 870 item added to cart <br>4 870 item added to cart <br>5 870 hermes chosen for shipping <br>2 870 sofortueberweisung chosen for payment <br>7 870 order placed succesful <br>",
          "0 884 website request served <br>1 884 user logged in <br>8 884 item added to cart <br>2 884 item added to cart <br>6 884 item added to cart <br>2 884 dpd chosen for shipping <br>4 884 klarna chosen for payment <br>8 884 order placed succesful <br>",
          "0 886 website request served <br>2 886 login not succesfull <br>5 886 user logged in <br>2 886 item added to cart <br>5 886 dhl chosen for shipping <br>4 886 sofortueberweisung chosen for payment <br>7 886 order placed succesful <br>"
         ],
         "type": "scatter3d",
         "x": [
          -0.6903836727142334,
          -0.5797775387763977,
          -0.3201048970222473,
          1.0725786685943604,
          1.1653664112091064,
          -0.299098938703537,
          -0.7525163292884827,
          3.7046775817871094,
          1.6813368797302246,
          3.9510085582733154,
          0.534674346446991,
          3.6737358570098877,
          2.5237979888916016,
          1.2885754108428955,
          1.5792491436004639,
          1.1656429767608643,
          -0.7860744595527649,
          1.4204667806625366,
          1.623918890953064,
          1.1296600103378296,
          1.165486216545105,
          1.4673134088516235,
          -0.3462007939815521,
          2.5415468215942383,
          -0.16766788065433502,
          2.0371475219726562,
          3.061774969100952,
          3.344041109085083,
          1.7951117753982544,
          3.4545888900756836,
          3.1924233436584473,
          -0.6833147406578064,
          -0.02233235538005829,
          0.5496212244033813,
          -0.19364285469055176,
          3.2022812366485596,
          3.9874203205108643,
          0.5702773332595825,
          2.6203155517578125,
          2.2909798622131348,
          2.144777297973633,
          0.3312728703022003,
          1.5736477375030518,
          1.8302322626113892,
          3.233332872390747,
          -0.9411475658416748,
          2.8482840061187744,
          1.3864253759384155,
          1.1723768711090088,
          -0.10959997773170471,
          0.943768322467804,
          1.5410680770874023,
          3.891126871109009,
          1.2185636758804321,
          -1.1877375841140747,
          1.5221829414367676,
          3.501446485519409,
          -1.3438071012496948,
          2.3495736122131348,
          1.7391936779022217,
          1.738221526145935,
          -0.9992145299911499,
          -0.4787812829017639,
          1.3923308849334717,
          -0.6825727224349976,
          1.0779080390930176,
          4.821786403656006,
          1.364344596862793,
          0.7318540215492249,
          2.6121065616607666,
          2.6687166690826416,
          1.9421374797821045,
          0.9881597757339478,
          -0.9744096398353577,
          2.18479061126709,
          2.2869443893432617,
          1.0067124366760254,
          1.657589077949524,
          2.0548465251922607,
          1.8613845109939575,
          1.418501853942871,
          3.1367218494415283,
          1.5328766107559204,
          1.8459373712539673,
          1.5872085094451904,
          -0.6148269176483154,
          2.250624179840088,
          -0.30294564366340637,
          0.6167464852333069,
          1.0341160297393799,
          2.3278968334198,
          0.45139169692993164,
          1.9656765460968018,
          4.720664024353027,
          1.6167116165161133,
          1.042410969734192,
          1.0993504524230957,
          1.1311004161834717,
          4.292568206787109,
          -0.26073116064071655
         ],
         "y": [
          0.722063422203064,
          0.7220702171325684,
          0.7425044178962708,
          0.8046303987503052,
          -0.544297993183136,
          0.7397263646125793,
          0.7165933847427368,
          -0.4734691381454468,
          -0.5022292137145996,
          -0.44416141510009766,
          0.7786338925361633,
          -0.43865785002708435,
          -0.4727325141429901,
          -0.5323577523231506,
          -0.5319393277168274,
          0.8420213460922241,
          0.7189604640007019,
          -0.5656782388687134,
          0.8794840574264526,
          0.8097811937332153,
          -0.5308672785758972,
          0.8031861782073975,
          0.7607996463775635,
          -0.46997740864753723,
          0.7829061150550842,
          -0.5400215983390808,
          -0.5171121954917908,
          -0.4414959251880646,
          -0.5578551888465881,
          -0.464883416891098,
          -0.47729799151420593,
          0.7253153920173645,
          0.7188968658447266,
          0.7516227960586548,
          0.7250797152519226,
          -0.4169269800186157,
          -0.4309203326702118,
          0.7833223938941956,
          -0.509939968585968,
          -0.5174477100372314,
          -0.5378473997116089,
          0.7852745652198792,
          -0.514443576335907,
          -0.5407730937004089,
          -0.46463364362716675,
          0.7138162851333618,
          -0.45889756083488464,
          -0.5522712469100952,
          -0.564287543296814,
          0.7584311366081238,
          -0.5311219692230225,
          -0.5372656583786011,
          -0.40810588002204895,
          0.8021674156188965,
          0.683466911315918,
          -0.5333587527275085,
          -0.44450509548187256,
          0.697176456451416,
          -0.49014416337013245,
          -0.5412684082984924,
          0.7983078360557556,
          0.7226877212524414,
          0.7431204319000244,
          -0.5435330271720886,
          0.7373479604721069,
          0.7879860401153564,
          -0.3529519736766815,
          -0.5493505001068115,
          0.7822108268737793,
          -0.47597262263298035,
          0.8533457517623901,
          -0.5133703351020813,
          0.8038187026977539,
          0.7041494846343994,
          -0.5032137632369995,
          -0.5196185111999512,
          -0.5235351920127869,
          -0.5308560729026794,
          0.8355391621589661,
          -0.48655930161476135,
          -0.4863938093185425,
          0.9275946021080017,
          -0.5076449513435364,
          -0.5304542779922485,
          -0.5759405493736267,
          0.7431474924087524,
          -0.44808247685432434,
          0.738629937171936,
          0.7459200620651245,
          -0.5566105842590332,
          -0.4825676381587982,
          -0.5689334273338318,
          -0.5093829035758972,
          -0.3811957836151123,
          -0.5108718872070312,
          -0.5442571043968201,
          0.7915459275245667,
          -0.5624309778213501,
          -0.39475217461586,
          0.7455146312713623
         ],
         "z": [
          0.13732430338859558,
          0.12582212686538696,
          0.12414591014385223,
          0.054071806371212006,
          0.08957044035196304,
          0.11006652563810349,
          0.14597401022911072,
          -0.04158024117350578,
          0.050422508269548416,
          -0.024236280471086502,
          0.06765928119421005,
          -0.036386486142873764,
          0.010166436433792114,
          0.052525587379932404,
          0.06991689652204514,
          0.042322516441345215,
          0.15042763948440552,
          0.08068057894706726,
          -0.004644989967346191,
          0.03448387607932091,
          0.08359748870134354,
          0.04739917442202568,
          0.088275246322155,
          -0.0003069884260185063,
          0.08701898902654648,
          0.05461117997765541,
          0.03773953765630722,
          -0.029184533283114433,
          0.08451303094625473,
          -0.006590466480702162,
          0.003234534291550517,
          0.1168505996465683,
          0.1176358014345169,
          0.08659441024065018,
          0.13345381617546082,
          -0.03958675637841225,
          -0.040614720433950424,
          0.07156851142644882,
          0.029855147004127502,
          0.04350036010146141,
          0.039245836436748505,
          0.09343453496694565,
          0.04560394585132599,
          0.06656593829393387,
          -0.008199462667107582,
          0.1604623645544052,
          -0.003106516320258379,
          0.06433490663766861,
          0.10235530883073807,
          0.11963380128145218,
          0.0596105195581913,
          0.058324605226516724,
          -0.060115277767181396,
          0.046177759766578674,
          0.19262491166591644,
          0.06404157727956772,
          -0.0119472686201334,
          0.15994085371494293,
          0.02422330714762211,
          0.07939905673265457,
          0.044886648654937744,
          0.15851520001888275,
          0.11394932866096497,
          0.08725322037935257,
          0.11214961856603622,
          0.07720155268907547,
          -0.10898686945438385,
          0.07913394272327423,
          0.06465937942266464,
          0.02023077756166458,
          -0.006969680078327656,
          0.03903704136610031,
          0.06200466305017471,
          0.1429980993270874,
          0.032961200922727585,
          0.052371855825185776,
          0.058130476623773575,
          0.06167203187942505,
          0.02005804516375065,
          0.011941793374717236,
          0.057263392955064774,
          -0.05747340992093086,
          0.0563524104654789,
          0.060351673513650894,
          0.09061262756586075,
          0.0987071543931961,
          -0.00826373789459467,
          0.09005958586931229,
          0.10613290220499039,
          0.061140429228544235,
          0.04005102068185806,
          0.10167090594768524,
          0.04155014082789421,
          -0.11295642703771591,
          0.04204097390174866,
          0.08318597078323364,
          0.07441496104001999,
          0.07600636035203934,
          -0.05625230446457863,
          0.0987681970000267
         ]
        },
        {
         "marker": {
          "color": "rgba(10, 255, 10, 0.8)"
         },
         "mode": "markers",
         "name": "Cluster 2",
         "text": [
          "0 304 website request served <br>7 304 user logged in <br>0 304 item added to cart <br>6 304 item added to cart <br>4 304 item added to cart <br>7 304 item added to cart <br>5 304 item added to cart <br>4 304 item added to cart <br>4 304 hermes chosen for shipping <br>3 304 klarna chosen for payment <br>4 304 order placed succesful <br>",
          "0 323 website request served <br>6 323 user logged in <br>4 323 item added to cart <br>1 323 item added to cart <br>8 323 item added to cart <br>2 323 item added to cart <br>7 323 item added to cart <br>5 323 item added to cart <br>2 323 dhl chosen for shipping <br>4 323 paypal chosen for payment <br>8 323 order placed succesful <br>",
          "0 363 website request served <br>4 363 login not succesfull <br>1 363 login not succesfull <br>8 363 user logged in <br>3 363 item added to cart <br>3 363 item added to cart <br>7 363 item added to cart <br>2 363 hermes chosen for shipping <br>5 363 klarna chosen for payment <br>9 363 order placed succesful <br>",
          "0 375 website request served <br>2 375 user logged in <br>7 375 item added to cart <br>1 375 item added to cart <br>6 375 item added to cart <br>4 375 item added to cart <br>4 375 item added to cart <br>8 375 item added to cart <br>3 375 hermes chosen for shipping <br>6 375 paypal chosen for payment <br>4 375 order placed succesful <br>",
          "0 380 website request served <br>4 380 login not succesfull <br>5 380 login not succesfull <br>2 380 user logged in <br>3 380 item added to cart <br>9 380 item added to cart <br>3 380 item added to cart <br>4 380 dpd chosen for shipping <br>4 380 klarna chosen for payment <br>6 380 order placed succesful <br>",
          "0 389 website request served <br>7 389 user logged in <br>4 389 item added to cart <br>5 389 item added to cart <br>4 389 item added to cart <br>5 389 item added to cart <br>4 389 item added to cart <br>4 389 item added to cart <br>1 389 dpd chosen for shipping <br>8 389 sofortueberweisung chosen for payment <br>2 389 order placed succesful <br>",
          "0 421 website request served <br>4 421 user logged in <br>7 421 item added to cart <br>3 421 item added to cart <br>4 421 item added to cart <br>4 421 item added to cart <br>9 421 item added to cart <br>2 421 item added to cart <br>6 421 item added to cart <br>6 421 dpd chosen for shipping <br>2 421 sofortueberweisung chosen for payment <br>7 421 order placed succesful <br>",
          "0 490 website request served <br>1 490 login not succesfull <br>8 490 user logged in <br>2 490 item added to cart <br>2 490 item added to cart <br>6 490 item added to cart <br>5 490 item added to cart <br>6 490 item added to cart <br>6 490 hermes chosen for shipping <br>4 490 klarna chosen for payment <br>5 490 order placed succesful <br>",
          "0 537 website request served <br>3 537 login not succesfull <br>3 537 login not succesfull <br>4 537 login not succesfull <br>8 537 user logged in <br>3 537 item added to cart <br>5 537 dhl chosen for shipping <br>4 537 klarna chosen for payment <br>4 537 order placed succesful <br>",
          "0 554 website request served <br>8 554 login not succesfull <br>1 554 login not succesfull <br>8 554 login not succesfull <br>5 554 user logged in <br>3 554 item added to cart <br>2 554 dpd chosen for shipping <br>5 554 sofortueberweisung chosen for payment <br>8 554 order placed succesful <br>",
          "0 558 website request served <br>4 558 user logged in <br>8 558 item added to cart <br>3 558 item added to cart <br>3 558 item added to cart <br>7 558 item added to cart <br>5 558 item added to cart <br>1 558 item added to cart <br>4 558 hermes chosen for shipping <br>8 558 paypal chosen for payment <br>5 558 order placed succesful <br>",
          "0 584 website request served <br>4 584 user logged in <br>2 584 item added to cart <br>6 584 item added to cart <br>5 584 item added to cart <br>3 584 item added to cart <br>5 584 item added to cart <br>8 584 item added to cart <br>4 584 item added to cart <br>3 584 hermes chosen for shipping <br>6 584 paypal chosen for payment <br>4 584 order placed succesful <br>",
          "0 589 website request served <br>8 589 user logged in <br>2 589 item added to cart <br>4 589 item added to cart <br>7 589 item added to cart <br>2 589 item added to cart <br>3 589 item added to cart <br>5 589 item added to cart <br>8 589 hermes chosen for shipping <br>3 589 paypal chosen for payment <br>3 589 order placed succesful <br>",
          "0 611 website request served <br>2 611 login not succesfull <br>4 611 login not succesfull <br>4 611 user logged in <br>9 611 item added to cart <br>3 611 item added to cart <br>6 611 item added to cart <br>5 611 dhl chosen for shipping <br>3 611 sofortueberweisung chosen for payment <br>3 611 order placed succesful <br>",
          "0 654 website request served <br>3 654 login not succesfull <br>5 654 user logged in <br>6 654 item added to cart <br>4 654 item added to cart <br>3 654 item added to cart <br>5 654 item added to cart <br>7 654 hermes chosen for shipping <br>1 654 paypal chosen for payment <br>9 654 order placed succesful <br>",
          "0 663 website request served <br>5 663 user logged in <br>2 663 item added to cart <br>5 663 item added to cart <br>2 663 item added to cart <br>6 663 item added to cart <br>6 663 item added to cart <br>4 663 item added to cart <br>5 663 dpd chosen for shipping <br>4 663 sofortueberweisung chosen for payment <br>4 663 order placed succesful <br>",
          "0 676 website request served <br>3 676 user logged in <br>6 676 item added to cart <br>4 676 item added to cart <br>3 676 item added to cart <br>5 676 item added to cart <br>7 676 item added to cart <br>6 676 item added to cart <br>3 676 dpd chosen for shipping <br>3 676 sofortueberweisung chosen for payment <br>3 676 order placed succesful <br>",
          "0 685 website request served <br>3 685 login not succesfull <br>5 685 login not succesfull <br>6 685 user logged in <br>5 685 item added to cart <br>2 685 item added to cart <br>4 685 item added to cart <br>9 685 hermes chosen for shipping <br>5 685 klarna chosen for payment <br>2 685 order placed succesful <br>",
          "0 691 website request served <br>8 691 login not succesfull <br>4 691 login not succesfull <br>2 691 login not succesfull <br>4 691 user logged in <br>9 691 item added to cart <br>3 691 dhl chosen for shipping <br>5 691 paypal chosen for payment <br>5 691 order placed succesful <br>",
          "0 740 website request served <br>5 740 user logged in <br>5 740 item added to cart <br>1 740 item added to cart <br>6 740 item added to cart <br>6 740 item added to cart <br>0 740 item added to cart <br>8 740 item added to cart <br>2 740 item added to cart <br>6 740 dpd chosen for shipping <br>5 740 klarna chosen for payment <br>3 740 order placed succesful <br>",
          "0 743 website request served <br>6 743 login not succesfull <br>7 743 user logged in <br>2 743 item added to cart <br>4 743 item added to cart <br>9 743 item added to cart <br>0 743 item added to cart <br>7 743 dhl chosen for shipping <br>2 743 klarna chosen for payment <br>5 743 order placed succesful <br>",
          "0 758 website request served <br>4 758 login not succesfull <br>9 758 user logged in <br>2 758 item added to cart <br>3 758 item added to cart <br>6 758 item added to cart <br>7 758 item added to cart <br>5 758 item added to cart <br>2 758 dhl chosen for shipping <br>6 758 sofortueberweisung chosen for payment <br>6 758 order placed succesful <br>",
          "0 783 website request served <br>7 783 login not succesfull <br>3 783 user logged in <br>7 783 item added to cart <br>1 783 item added to cart <br>7 783 item added to cart <br>5 783 item added to cart <br>1 783 dhl chosen for shipping <br>8 783 klarna chosen for payment <br>3 783 order placed succesful <br>",
          "0 790 website request served <br>2 790 login not succesfull <br>8 790 login not succesfull <br>3 790 login not succesfull <br>3 790 user logged in <br>7 790 item added to cart <br>2 790 dpd chosen for shipping <br>6 790 paypal chosen for payment <br>3 790 order placed succesful <br>",
          "0 834 website request served <br>5 834 login not succesfull <br>5 834 login not succesfull <br>4 834 user logged in <br>3 834 item added to cart <br>5 834 item added to cart <br>6 834 item added to cart <br>2 834 dpd chosen for shipping <br>8 834 sofortueberweisung chosen for payment <br>1 834 order placed succesful <br>",
          "0 856 website request served <br>5 856 user logged in <br>4 856 item added to cart <br>3 856 item added to cart <br>9 856 item added to cart <br>1 856 item added to cart <br>7 856 item added to cart <br>4 856 item added to cart <br>1 856 item added to cart <br>5 856 hermes chosen for shipping <br>7 856 paypal chosen for payment <br>2 856 order placed succesful <br>"
         ],
         "type": "scatter3d",
         "x": [
          26.011089324951172,
          29.794513702392578,
          35.417049407958984,
          28.623868942260742,
          33.06319808959961,
          27.626678466796875,
          37.82859420776367,
          35.985233306884766,
          29.963098526000977,
          32.9379768371582,
          28.839691162109375,
          35.96778869628906,
          29.222753524780273,
          33.29684066772461,
          27.014528274536133,
          26.114816665649414,
          26.904207229614258,
          33.36392593383789,
          31.487503051757812,
          37.0634880065918,
          27.09073829650879,
          36.20564651489258,
          28.30819320678711,
          31.681896209716797,
          33.16253662109375,
          38.81884765625
         ],
         "y": [
          -1.4154107570648193,
          -1.216142177581787,
          1.442335605621338,
          -1.312036395072937,
          1.3429445028305054,
          -1.3319834470748901,
          -1.6805498600006104,
          -0.053932201117277145,
          2.691011905670166,
          2.8306150436401367,
          -1.2539036273956299,
          -1.6638773679733276,
          -1.2507264614105225,
          1.352837324142456,
          0.1886853575706482,
          -1.3988722562789917,
          -1.4030089378356934,
          1.3701080083847046,
          2.75994610786438,
          -1.5907402038574219,
          0.19869568943977356,
          -0.09226220846176147,
          0.24207182228565216,
          2.724769115447998,
          1.3810011148452759,
          -1.5886389017105103
         ],
         "z": [
          0.04221227020025253,
          -0.1566222757101059,
          -0.13043035566806793,
          -0.07374560832977295,
          -0.005646965000778437,
          -0.03450721129775047,
          -0.050258152186870575,
          -0.09800640493631363,
          0.04062940180301666,
          -0.09227729588747025,
          -0.12110047042369843,
          -0.04219742864370346,
          -0.13541936874389648,
          -0.02144743874669075,
          -0.08023417741060257,
          0.02413223125040531,
          0.03304991126060486,
          -0.06609606742858887,
          -0.0509970560669899,
          -0.082667276263237,
          -0.07375895977020264,
          -0.07200269401073456,
          -0.11858053505420685,
          -0.013736020773649216,
          -0.030964139848947525,
          -0.16622790694236755
         ]
        }
       ],
       "layout": {
        "template": {
         "data": {
          "bar": [
           {
            "error_x": {
             "color": "#2a3f5f"
            },
            "error_y": {
             "color": "#2a3f5f"
            },
            "marker": {
             "line": {
              "color": "#E5ECF6",
              "width": 0.5
             },
             "pattern": {
              "fillmode": "overlay",
              "size": 10,
              "solidity": 0.2
             }
            },
            "type": "bar"
           }
          ],
          "barpolar": [
           {
            "marker": {
             "line": {
              "color": "#E5ECF6",
              "width": 0.5
             },
             "pattern": {
              "fillmode": "overlay",
              "size": 10,
              "solidity": 0.2
             }
            },
            "type": "barpolar"
           }
          ],
          "carpet": [
           {
            "aaxis": {
             "endlinecolor": "#2a3f5f",
             "gridcolor": "white",
             "linecolor": "white",
             "minorgridcolor": "white",
             "startlinecolor": "#2a3f5f"
            },
            "baxis": {
             "endlinecolor": "#2a3f5f",
             "gridcolor": "white",
             "linecolor": "white",
             "minorgridcolor": "white",
             "startlinecolor": "#2a3f5f"
            },
            "type": "carpet"
           }
          ],
          "choropleth": [
           {
            "colorbar": {
             "outlinewidth": 0,
             "ticks": ""
            },
            "type": "choropleth"
           }
          ],
          "contour": [
           {
            "colorbar": {
             "outlinewidth": 0,
             "ticks": ""
            },
            "colorscale": [
             [
              0,
              "#0d0887"
             ],
             [
              0.1111111111111111,
              "#46039f"
             ],
             [
              0.2222222222222222,
              "#7201a8"
             ],
             [
              0.3333333333333333,
              "#9c179e"
             ],
             [
              0.4444444444444444,
              "#bd3786"
             ],
             [
              0.5555555555555556,
              "#d8576b"
             ],
             [
              0.6666666666666666,
              "#ed7953"
             ],
             [
              0.7777777777777778,
              "#fb9f3a"
             ],
             [
              0.8888888888888888,
              "#fdca26"
             ],
             [
              1,
              "#f0f921"
             ]
            ],
            "type": "contour"
           }
          ],
          "contourcarpet": [
           {
            "colorbar": {
             "outlinewidth": 0,
             "ticks": ""
            },
            "type": "contourcarpet"
           }
          ],
          "heatmap": [
           {
            "colorbar": {
             "outlinewidth": 0,
             "ticks": ""
            },
            "colorscale": [
             [
              0,
              "#0d0887"
             ],
             [
              0.1111111111111111,
              "#46039f"
             ],
             [
              0.2222222222222222,
              "#7201a8"
             ],
             [
              0.3333333333333333,
              "#9c179e"
             ],
             [
              0.4444444444444444,
              "#bd3786"
             ],
             [
              0.5555555555555556,
              "#d8576b"
             ],
             [
              0.6666666666666666,
              "#ed7953"
             ],
             [
              0.7777777777777778,
              "#fb9f3a"
             ],
             [
              0.8888888888888888,
              "#fdca26"
             ],
             [
              1,
              "#f0f921"
             ]
            ],
            "type": "heatmap"
           }
          ],
          "heatmapgl": [
           {
            "colorbar": {
             "outlinewidth": 0,
             "ticks": ""
            },
            "colorscale": [
             [
              0,
              "#0d0887"
             ],
             [
              0.1111111111111111,
              "#46039f"
             ],
             [
              0.2222222222222222,
              "#7201a8"
             ],
             [
              0.3333333333333333,
              "#9c179e"
             ],
             [
              0.4444444444444444,
              "#bd3786"
             ],
             [
              0.5555555555555556,
              "#d8576b"
             ],
             [
              0.6666666666666666,
              "#ed7953"
             ],
             [
              0.7777777777777778,
              "#fb9f3a"
             ],
             [
              0.8888888888888888,
              "#fdca26"
             ],
             [
              1,
              "#f0f921"
             ]
            ],
            "type": "heatmapgl"
           }
          ],
          "histogram": [
           {
            "marker": {
             "pattern": {
              "fillmode": "overlay",
              "size": 10,
              "solidity": 0.2
             }
            },
            "type": "histogram"
           }
          ],
          "histogram2d": [
           {
            "colorbar": {
             "outlinewidth": 0,
             "ticks": ""
            },
            "colorscale": [
             [
              0,
              "#0d0887"
             ],
             [
              0.1111111111111111,
              "#46039f"
             ],
             [
              0.2222222222222222,
              "#7201a8"
             ],
             [
              0.3333333333333333,
              "#9c179e"
             ],
             [
              0.4444444444444444,
              "#bd3786"
             ],
             [
              0.5555555555555556,
              "#d8576b"
             ],
             [
              0.6666666666666666,
              "#ed7953"
             ],
             [
              0.7777777777777778,
              "#fb9f3a"
             ],
             [
              0.8888888888888888,
              "#fdca26"
             ],
             [
              1,
              "#f0f921"
             ]
            ],
            "type": "histogram2d"
           }
          ],
          "histogram2dcontour": [
           {
            "colorbar": {
             "outlinewidth": 0,
             "ticks": ""
            },
            "colorscale": [
             [
              0,
              "#0d0887"
             ],
             [
              0.1111111111111111,
              "#46039f"
             ],
             [
              0.2222222222222222,
              "#7201a8"
             ],
             [
              0.3333333333333333,
              "#9c179e"
             ],
             [
              0.4444444444444444,
              "#bd3786"
             ],
             [
              0.5555555555555556,
              "#d8576b"
             ],
             [
              0.6666666666666666,
              "#ed7953"
             ],
             [
              0.7777777777777778,
              "#fb9f3a"
             ],
             [
              0.8888888888888888,
              "#fdca26"
             ],
             [
              1,
              "#f0f921"
             ]
            ],
            "type": "histogram2dcontour"
           }
          ],
          "mesh3d": [
           {
            "colorbar": {
             "outlinewidth": 0,
             "ticks": ""
            },
            "type": "mesh3d"
           }
          ],
          "parcoords": [
           {
            "line": {
             "colorbar": {
              "outlinewidth": 0,
              "ticks": ""
             }
            },
            "type": "parcoords"
           }
          ],
          "pie": [
           {
            "automargin": true,
            "type": "pie"
           }
          ],
          "scatter": [
           {
            "marker": {
             "colorbar": {
              "outlinewidth": 0,
              "ticks": ""
             }
            },
            "type": "scatter"
           }
          ],
          "scatter3d": [
           {
            "line": {
             "colorbar": {
              "outlinewidth": 0,
              "ticks": ""
             }
            },
            "marker": {
             "colorbar": {
              "outlinewidth": 0,
              "ticks": ""
             }
            },
            "type": "scatter3d"
           }
          ],
          "scattercarpet": [
           {
            "marker": {
             "colorbar": {
              "outlinewidth": 0,
              "ticks": ""
             }
            },
            "type": "scattercarpet"
           }
          ],
          "scattergeo": [
           {
            "marker": {
             "colorbar": {
              "outlinewidth": 0,
              "ticks": ""
             }
            },
            "type": "scattergeo"
           }
          ],
          "scattergl": [
           {
            "marker": {
             "colorbar": {
              "outlinewidth": 0,
              "ticks": ""
             }
            },
            "type": "scattergl"
           }
          ],
          "scattermapbox": [
           {
            "marker": {
             "colorbar": {
              "outlinewidth": 0,
              "ticks": ""
             }
            },
            "type": "scattermapbox"
           }
          ],
          "scatterpolar": [
           {
            "marker": {
             "colorbar": {
              "outlinewidth": 0,
              "ticks": ""
             }
            },
            "type": "scatterpolar"
           }
          ],
          "scatterpolargl": [
           {
            "marker": {
             "colorbar": {
              "outlinewidth": 0,
              "ticks": ""
             }
            },
            "type": "scatterpolargl"
           }
          ],
          "scatterternary": [
           {
            "marker": {
             "colorbar": {
              "outlinewidth": 0,
              "ticks": ""
             }
            },
            "type": "scatterternary"
           }
          ],
          "surface": [
           {
            "colorbar": {
             "outlinewidth": 0,
             "ticks": ""
            },
            "colorscale": [
             [
              0,
              "#0d0887"
             ],
             [
              0.1111111111111111,
              "#46039f"
             ],
             [
              0.2222222222222222,
              "#7201a8"
             ],
             [
              0.3333333333333333,
              "#9c179e"
             ],
             [
              0.4444444444444444,
              "#bd3786"
             ],
             [
              0.5555555555555556,
              "#d8576b"
             ],
             [
              0.6666666666666666,
              "#ed7953"
             ],
             [
              0.7777777777777778,
              "#fb9f3a"
             ],
             [
              0.8888888888888888,
              "#fdca26"
             ],
             [
              1,
              "#f0f921"
             ]
            ],
            "type": "surface"
           }
          ],
          "table": [
           {
            "cells": {
             "fill": {
              "color": "#EBF0F8"
             },
             "line": {
              "color": "white"
             }
            },
            "header": {
             "fill": {
              "color": "#C8D4E3"
             },
             "line": {
              "color": "white"
             }
            },
            "type": "table"
           }
          ]
         },
         "layout": {
          "annotationdefaults": {
           "arrowcolor": "#2a3f5f",
           "arrowhead": 0,
           "arrowwidth": 1
          },
          "autotypenumbers": "strict",
          "coloraxis": {
           "colorbar": {
            "outlinewidth": 0,
            "ticks": ""
           }
          },
          "colorscale": {
           "diverging": [
            [
             0,
             "#8e0152"
            ],
            [
             0.1,
             "#c51b7d"
            ],
            [
             0.2,
             "#de77ae"
            ],
            [
             0.3,
             "#f1b6da"
            ],
            [
             0.4,
             "#fde0ef"
            ],
            [
             0.5,
             "#f7f7f7"
            ],
            [
             0.6,
             "#e6f5d0"
            ],
            [
             0.7,
             "#b8e186"
            ],
            [
             0.8,
             "#7fbc41"
            ],
            [
             0.9,
             "#4d9221"
            ],
            [
             1,
             "#276419"
            ]
           ],
           "sequential": [
            [
             0,
             "#0d0887"
            ],
            [
             0.1111111111111111,
             "#46039f"
            ],
            [
             0.2222222222222222,
             "#7201a8"
            ],
            [
             0.3333333333333333,
             "#9c179e"
            ],
            [
             0.4444444444444444,
             "#bd3786"
            ],
            [
             0.5555555555555556,
             "#d8576b"
            ],
            [
             0.6666666666666666,
             "#ed7953"
            ],
            [
             0.7777777777777778,
             "#fb9f3a"
            ],
            [
             0.8888888888888888,
             "#fdca26"
            ],
            [
             1,
             "#f0f921"
            ]
           ],
           "sequentialminus": [
            [
             0,
             "#0d0887"
            ],
            [
             0.1111111111111111,
             "#46039f"
            ],
            [
             0.2222222222222222,
             "#7201a8"
            ],
            [
             0.3333333333333333,
             "#9c179e"
            ],
            [
             0.4444444444444444,
             "#bd3786"
            ],
            [
             0.5555555555555556,
             "#d8576b"
            ],
            [
             0.6666666666666666,
             "#ed7953"
            ],
            [
             0.7777777777777778,
             "#fb9f3a"
            ],
            [
             0.8888888888888888,
             "#fdca26"
            ],
            [
             1,
             "#f0f921"
            ]
           ]
          },
          "colorway": [
           "#636efa",
           "#EF553B",
           "#00cc96",
           "#ab63fa",
           "#FFA15A",
           "#19d3f3",
           "#FF6692",
           "#B6E880",
           "#FF97FF",
           "#FECB52"
          ],
          "font": {
           "color": "#2a3f5f"
          },
          "geo": {
           "bgcolor": "white",
           "lakecolor": "white",
           "landcolor": "#E5ECF6",
           "showlakes": true,
           "showland": true,
           "subunitcolor": "white"
          },
          "hoverlabel": {
           "align": "left"
          },
          "hovermode": "closest",
          "mapbox": {
           "style": "light"
          },
          "paper_bgcolor": "white",
          "plot_bgcolor": "#E5ECF6",
          "polar": {
           "angularaxis": {
            "gridcolor": "white",
            "linecolor": "white",
            "ticks": ""
           },
           "bgcolor": "#E5ECF6",
           "radialaxis": {
            "gridcolor": "white",
            "linecolor": "white",
            "ticks": ""
           }
          },
          "scene": {
           "xaxis": {
            "backgroundcolor": "#E5ECF6",
            "gridcolor": "white",
            "gridwidth": 2,
            "linecolor": "white",
            "showbackground": true,
            "ticks": "",
            "zerolinecolor": "white"
           },
           "yaxis": {
            "backgroundcolor": "#E5ECF6",
            "gridcolor": "white",
            "gridwidth": 2,
            "linecolor": "white",
            "showbackground": true,
            "ticks": "",
            "zerolinecolor": "white"
           },
           "zaxis": {
            "backgroundcolor": "#E5ECF6",
            "gridcolor": "white",
            "gridwidth": 2,
            "linecolor": "white",
            "showbackground": true,
            "ticks": "",
            "zerolinecolor": "white"
           }
          },
          "shapedefaults": {
           "line": {
            "color": "#2a3f5f"
           }
          },
          "ternary": {
           "aaxis": {
            "gridcolor": "white",
            "linecolor": "white",
            "ticks": ""
           },
           "baxis": {
            "gridcolor": "white",
            "linecolor": "white",
            "ticks": ""
           },
           "bgcolor": "#E5ECF6",
           "caxis": {
            "gridcolor": "white",
            "linecolor": "white",
            "ticks": ""
           }
          },
          "title": {
           "x": 0.05
          },
          "xaxis": {
           "automargin": true,
           "gridcolor": "white",
           "linecolor": "white",
           "ticks": "",
           "title": {
            "standoff": 15
           },
           "zerolinecolor": "white",
           "zerolinewidth": 2
          },
          "yaxis": {
           "automargin": true,
           "gridcolor": "white",
           "linecolor": "white",
           "ticks": "",
           "title": {
            "standoff": 15
           },
           "zerolinecolor": "white",
           "zerolinewidth": 2
          }
         }
        },
        "title": {
         "text": "Visualizing Clusters in three Dimensions Using PCA"
        },
        "xaxis": {
         "ticklen": 2,
         "title": {
          "text": "PC1"
         },
         "zeroline": false
        },
        "yaxis": {
         "ticklen": 5,
         "title": {
          "text": "PC2"
         },
         "zeroline": false
        }
       }
      },
      "text/html": [
       "<div>                            <div id=\"e1687359-121b-40b9-b315-f73305088388\" class=\"plotly-graph-div\" style=\"height:525px; width:100%;\"></div>            <script type=\"text/javascript\">                require([\"plotly\"], function(Plotly) {                    window.PLOTLYENV=window.PLOTLYENV || {};                                    if (document.getElementById(\"e1687359-121b-40b9-b315-f73305088388\")) {                    Plotly.newPlot(                        \"e1687359-121b-40b9-b315-f73305088388\",                        [{\"marker\":{\"color\":\"rgba(255, 128, 255, 0.8)\"},\"mode\":\"markers\",\"name\":\"Cluster 0\",\"text\":[\"0 288 website request served <br>4 288 user logged in <br>3 288 item added to cart <br>3 288 dpd chosen for shipping <br>9 288 klarna chosen for payment <br>1 288 order placed succesful <br>\",\"0 290 website request served <br>4 290 user logged in <br>5 290 item added to cart <br>4 290 dhl chosen for shipping <br>4 290 sofortueberweisung chosen for payment <br>1 290 order placed succesful <br>\",\"0 292 website request served <br>6 292 user logged in <br>4 292 item added to cart <br>2 292 hermes chosen for shipping <br>5 292 paypal chosen for payment <br>4 292 order placed succesful <br>\",\"0 294 website request served <br>4 294 user logged in <br>3 294 item added to cart <br>6 294 dhl chosen for shipping <br>4 294 sofortueberweisung chosen for payment <br>6 294 order placed succesful <br>\",\"0 297 website request served <br>5 297 user logged in <br>4 297 item added to cart <br>5 297 dpd chosen for shipping <br>5 297 paypal chosen for payment <br>2 297 order placed succesful <br>\",\"0 299 website request served <br>7 299 user logged in <br>3 299 item added to cart <br>5 299 dhl chosen for shipping <br>4 299 sofortueberweisung chosen for payment <br>7 299 order placed succesful <br>\",\"0 300 website request served <br>7 300 user logged in <br>4 300 item added to cart <br>3 300 hermes chosen for shipping <br>4 300 klarna chosen for payment <br>5 300 order placed succesful <br>\",\"0 306 website request served <br>9 306 user logged in <br>2 306 item added to cart <br>5 306 dpd chosen for shipping <br>3 306 paypal chosen for payment <br>5 306 order placed succesful <br>\",\"0 308 website request served <br>5 308 user logged in <br>3 308 item added to cart <br>6 308 dpd chosen for shipping <br>3 308 paypal chosen for payment <br>2 308 order placed succesful <br>\",\"0 309 website request served <br>5 309 user logged in <br>5 309 item added to cart <br>2 309 dpd chosen for shipping <br>8 309 paypal chosen for payment <br>4 309 order placed succesful <br>\",\"0 313 website request served <br>4 313 user logged in <br>4 313 item added to cart <br>4 313 dpd chosen for shipping <br>3 313 paypal chosen for payment <br>6 313 order placed succesful <br>\",\"0 316 website request served <br>0 316 user logged in <br>7 316 item added to cart <br>3 316 hermes chosen for shipping <br>4 316 klarna chosen for payment <br>8 316 order placed succesful <br>\",\"0 319 website request served <br>2 319 user logged in <br>2 319 item added to cart <br>8 319 dpd chosen for shipping <br>2 319 sofortueberweisung chosen for payment <br>4 319 order placed succesful <br>\",\"0 320 website request served <br>5 320 user logged in <br>9 320 item added to cart <br>1 320 hermes chosen for shipping <br>4 320 sofortueberweisung chosen for payment <br>5 320 order placed succesful <br>\",\"0 321 website request served <br>1 321 user logged in <br>4 321 item added to cart <br>5 321 dpd chosen for shipping <br>5 321 sofortueberweisung chosen for payment <br>7 321 order placed succesful <br>\",\"0 324 website request served <br>2 324 user logged in <br>5 324 item added to cart <br>4 324 hermes chosen for shipping <br>7 324 klarna chosen for payment <br>5 324 order placed succesful <br>\",\"0 327 website request served <br>5 327 user logged in <br>3 327 item added to cart <br>6 327 hermes chosen for shipping <br>5 327 sofortueberweisung chosen for payment <br>2 327 order placed succesful <br>\",\"0 331 website request served <br>4 331 user logged in <br>7 331 item added to cart <br>6 331 hermes chosen for shipping <br>2 331 sofortueberweisung chosen for payment <br>7 331 order placed succesful <br>\",\"0 332 website request served <br>5 332 user logged in <br>2 332 item added to cart <br>3 332 dhl chosen for shipping <br>5 332 sofortueberweisung chosen for payment <br>5 332 order placed succesful <br>\",\"0 333 website request served <br>8 333 user logged in <br>2 333 item added to cart <br>5 333 dpd chosen for shipping <br>5 333 klarna chosen for payment <br>5 333 order placed succesful <br>\",\"0 334 website request served <br>3 334 user logged in <br>8 334 item added to cart <br>2 334 hermes chosen for shipping <br>6 334 paypal chosen for payment <br>4 334 order placed succesful <br>\",\"0 335 website request served <br>5 335 user logged in <br>4 335 item added to cart <br>2 335 dhl chosen for shipping <br>3 335 paypal chosen for payment <br>8 335 order placed succesful <br>\",\"0 336 website request served <br>6 336 user logged in <br>3 336 item added to cart <br>4 336 hermes chosen for shipping <br>5 336 paypal chosen for payment <br>5 336 order placed succesful <br>\",\"0 338 website request served <br>4 338 user logged in <br>9 338 item added to cart <br>0 338 dhl chosen for shipping <br>9 338 klarna chosen for payment <br>5 338 order placed succesful <br>\",\"0 339 website request served <br>5 339 user logged in <br>8 339 item added to cart <br>5 339 dhl chosen for shipping <br>2 339 paypal chosen for payment <br>4 339 order placed succesful <br>\",\"0 343 website request served <br>6 343 user logged in <br>1 343 item added to cart <br>3 343 hermes chosen for shipping <br>6 343 paypal chosen for payment <br>6 343 order placed succesful <br>\",\"0 353 website request served <br>0 353 user logged in <br>6 353 item added to cart <br>7 353 dpd chosen for shipping <br>1 353 paypal chosen for payment <br>5 353 order placed succesful <br>\",\"0 358 website request served <br>3 358 user logged in <br>7 358 item added to cart <br>3 358 dpd chosen for shipping <br>5 358 sofortueberweisung chosen for payment <br>2 358 order placed succesful <br>\",\"0 359 website request served <br>7 359 user logged in <br>3 359 item added to cart <br>2 359 dpd chosen for shipping <br>6 359 paypal chosen for payment <br>4 359 order placed succesful <br>\",\"0 360 website request served <br>4 360 user logged in <br>6 360 item added to cart <br>7 360 dpd chosen for shipping <br>2 360 klarna chosen for payment <br>5 360 order placed succesful <br>\",\"0 361 website request served <br>1 361 user logged in <br>6 361 item added to cart <br>6 361 dhl chosen for shipping <br>4 361 paypal chosen for payment <br>5 361 order placed succesful <br>\",\"0 369 website request served <br>3 369 user logged in <br>8 369 item added to cart <br>6 369 dhl chosen for shipping <br>2 369 sofortueberweisung chosen for payment <br>3 369 order placed succesful <br>\",\"0 376 website request served <br>8 376 user logged in <br>2 376 item added to cart <br>4 376 dpd chosen for shipping <br>5 376 klarna chosen for payment <br>4 376 order placed succesful <br>\",\"0 381 website request served <br>4 381 user logged in <br>3 381 item added to cart <br>2 381 dhl chosen for shipping <br>8 381 sofortueberweisung chosen for payment <br>3 381 order placed succesful <br>\",\"0 384 website request served <br>0 384 user logged in <br>5 384 item added to cart <br>4 384 dhl chosen for shipping <br>5 384 klarna chosen for payment <br>8 384 order placed succesful <br>\",\"0 386 website request served <br>3 386 user logged in <br>1 386 item added to cart <br>5 386 dpd chosen for shipping <br>4 386 sofortueberweisung chosen for payment <br>7 386 order placed succesful <br>\",\"0 388 website request served <br>4 388 user logged in <br>6 388 item added to cart <br>2 388 dpd chosen for shipping <br>5 388 sofortueberweisung chosen for payment <br>6 388 order placed succesful <br>\",\"0 392 website request served <br>2 392 user logged in <br>6 392 item added to cart <br>2 392 dpd chosen for shipping <br>5 392 klarna chosen for payment <br>5 392 order placed succesful <br>\",\"0 394 website request served <br>7 394 user logged in <br>2 394 item added to cart <br>4 394 dpd chosen for shipping <br>7 394 sofortueberweisung chosen for payment <br>2 394 order placed succesful <br>\",\"0 399 website request served <br>2 399 user logged in <br>9 399 item added to cart <br>0 399 dhl chosen for shipping <br>5 399 klarna chosen for payment <br>5 399 order placed succesful <br>\",\"0 405 website request served <br>5 405 user logged in <br>3 405 item added to cart <br>7 405 dhl chosen for shipping <br>1 405 sofortueberweisung chosen for payment <br>5 405 order placed succesful <br>\",\"0 410 website request served <br>6 410 user logged in <br>5 410 item added to cart <br>4 410 dpd chosen for shipping <br>6 410 paypal chosen for payment <br>5 410 order placed succesful <br>\",\"0 412 website request served <br>1 412 user logged in <br>7 412 item added to cart <br>4 412 dpd chosen for shipping <br>4 412 klarna chosen for payment <br>5 412 order placed succesful <br>\",\"0 416 website request served <br>3 416 user logged in <br>7 416 item added to cart <br>4 416 dhl chosen for shipping <br>4 416 klarna chosen for payment <br>6 416 order placed succesful <br>\",\"0 422 website request served <br>8 422 user logged in <br>4 422 item added to cart <br>4 422 dhl chosen for shipping <br>2 422 sofortueberweisung chosen for payment <br>8 422 order placed succesful <br>\",\"0 423 website request served <br>4 423 user logged in <br>6 423 item added to cart <br>2 423 dpd chosen for shipping <br>6 423 klarna chosen for payment <br>7 423 order placed succesful <br>\",\"0 425 website request served <br>9 425 user logged in <br>4 425 item added to cart <br>4 425 dhl chosen for shipping <br>4 425 paypal chosen for payment <br>5 425 order placed succesful <br>\",\"0 426 website request served <br>7 426 user logged in <br>1 426 item added to cart <br>5 426 dpd chosen for shipping <br>7 426 sofortueberweisung chosen for payment <br>4 426 order placed succesful <br>\",\"0 427 website request served <br>2 427 user logged in <br>5 427 item added to cart <br>4 427 dpd chosen for shipping <br>4 427 sofortueberweisung chosen for payment <br>8 427 order placed succesful <br>\",\"0 428 website request served <br>3 428 user logged in <br>8 428 item added to cart <br>5 428 hermes chosen for shipping <br>0 428 paypal chosen for payment <br>5 428 order placed succesful <br>\",\"0 431 website request served <br>7 431 user logged in <br>3 431 item added to cart <br>4 431 dpd chosen for shipping <br>3 431 paypal chosen for payment <br>8 431 order placed succesful <br>\",\"0 432 website request served <br>4 432 user logged in <br>1 432 item added to cart <br>5 432 hermes chosen for shipping <br>8 432 paypal chosen for payment <br>2 432 order placed succesful <br>\",\"0 435 website request served <br>3 435 user logged in <br>7 435 item added to cart <br>3 435 dhl chosen for shipping <br>4 435 sofortueberweisung chosen for payment <br>7 435 order placed succesful <br>\",\"0 437 website request served <br>7 437 user logged in <br>3 437 item added to cart <br>1 437 dpd chosen for shipping <br>7 437 paypal chosen for payment <br>4 437 order placed succesful <br>\",\"0 439 website request served <br>4 439 user logged in <br>2 439 item added to cart <br>9 439 dhl chosen for shipping <br>5 439 paypal chosen for payment <br>2 439 order placed succesful <br>\",\"0 441 website request served <br>4 441 user logged in <br>5 441 item added to cart <br>2 441 dpd chosen for shipping <br>9 441 paypal chosen for payment <br>2 441 order placed succesful <br>\",\"0 442 website request served <br>4 442 user logged in <br>4 442 item added to cart <br>8 442 hermes chosen for shipping <br>1 442 paypal chosen for payment <br>8 442 order placed succesful <br>\",\"0 444 website request served <br>3 444 user logged in <br>2 444 item added to cart <br>7 444 dpd chosen for shipping <br>6 444 sofortueberweisung chosen for payment <br>3 444 order placed succesful <br>\",\"0 445 website request served <br>5 445 user logged in <br>2 445 item added to cart <br>2 445 dhl chosen for shipping <br>6 445 klarna chosen for payment <br>4 445 order placed succesful <br>\",\"0 446 website request served <br>5 446 user logged in <br>5 446 item added to cart <br>5 446 hermes chosen for shipping <br>5 446 paypal chosen for payment <br>0 446 order placed succesful <br>\",\"0 451 website request served <br>2 451 user logged in <br>6 451 item added to cart <br>3 451 dhl chosen for shipping <br>8 451 paypal chosen for payment <br>4 451 order placed succesful <br>\",\"0 452 website request served <br>8 452 user logged in <br>5 452 item added to cart <br>4 452 hermes chosen for shipping <br>2 452 klarna chosen for payment <br>6 452 order placed succesful <br>\",\"0 455 website request served <br>1 455 user logged in <br>6 455 item added to cart <br>3 455 hermes chosen for shipping <br>3 455 paypal chosen for payment <br>7 455 order placed succesful <br>\",\"0 457 website request served <br>6 457 user logged in <br>3 457 item added to cart <br>7 457 dhl chosen for shipping <br>4 457 paypal chosen for payment <br>5 457 order placed succesful <br>\",\"0 458 website request served <br>2 458 user logged in <br>5 458 item added to cart <br>3 458 dhl chosen for shipping <br>6 458 paypal chosen for payment <br>7 458 order placed succesful <br>\",\"0 459 website request served <br>3 459 user logged in <br>4 459 item added to cart <br>7 459 dhl chosen for shipping <br>3 459 klarna chosen for payment <br>8 459 order placed succesful <br>\",\"0 460 website request served <br>5 460 user logged in <br>2 460 item added to cart <br>8 460 dpd chosen for shipping <br>1 460 paypal chosen for payment <br>4 460 order placed succesful <br>\",\"0 462 website request served <br>6 462 user logged in <br>1 462 item added to cart <br>6 462 dhl chosen for shipping <br>5 462 klarna chosen for payment <br>5 462 order placed succesful <br>\",\"0 464 website request served <br>7 464 user logged in <br>2 464 item added to cart <br>6 464 hermes chosen for shipping <br>2 464 klarna chosen for payment <br>8 464 order placed succesful <br>\",\"0 467 website request served <br>9 467 user logged in <br>1 467 item added to cart <br>7 467 dpd chosen for shipping <br>4 467 paypal chosen for payment <br>4 467 order placed succesful <br>\",\"0 468 website request served <br>5 468 user logged in <br>3 468 item added to cart <br>6 468 hermes chosen for shipping <br>4 468 paypal chosen for payment <br>4 468 order placed succesful <br>\",\"0 470 website request served <br>5 470 user logged in <br>4 470 item added to cart <br>9 470 hermes chosen for shipping <br>2 470 paypal chosen for payment <br>5 470 order placed succesful <br>\",\"0 474 website request served <br>4 474 user logged in <br>9 474 item added to cart <br>1 474 dpd chosen for shipping <br>6 474 paypal chosen for payment <br>5 474 order placed succesful <br>\",\"0 477 website request served <br>7 477 user logged in <br>2 477 item added to cart <br>6 477 hermes chosen for shipping <br>3 477 paypal chosen for payment <br>2 477 order placed succesful <br>\",\"0 481 website request served <br>4 481 user logged in <br>7 481 item added to cart <br>3 481 dpd chosen for shipping <br>4 481 klarna chosen for payment <br>6 481 order placed succesful <br>\",\"0 483 website request served <br>6 483 user logged in <br>2 483 item added to cart <br>5 483 hermes chosen for shipping <br>2 483 paypal chosen for payment <br>5 483 order placed succesful <br>\",\"0 484 website request served <br>6 484 user logged in <br>1 484 item added to cart <br>5 484 dpd chosen for shipping <br>6 484 klarna chosen for payment <br>6 484 order placed succesful <br>\",\"0 492 website request served <br>3 492 user logged in <br>4 492 item added to cart <br>6 492 dpd chosen for shipping <br>2 492 paypal chosen for payment <br>6 492 order placed succesful <br>\",\"0 495 website request served <br>6 495 user logged in <br>4 495 item added to cart <br>4 495 dpd chosen for shipping <br>5 495 paypal chosen for payment <br>5 495 order placed succesful <br>\",\"0 497 website request served <br>3 497 user logged in <br>9 497 item added to cart <br>3 497 hermes chosen for shipping <br>5 497 klarna chosen for payment <br>2 497 order placed succesful <br>\",\"0 498 website request served <br>7 498 user logged in <br>6 498 item added to cart <br>4 498 dhl chosen for shipping <br>5 498 paypal chosen for payment <br>5 498 order placed succesful <br>\",\"0 500 website request served <br>6 500 user logged in <br>6 500 item added to cart <br>2 500 hermes chosen for shipping <br>3 500 sofortueberweisung chosen for payment <br>4 500 order placed succesful <br>\",\"0 504 website request served <br>3 504 user logged in <br>7 504 item added to cart <br>5 504 hermes chosen for shipping <br>5 504 klarna chosen for payment <br>5 504 order placed succesful <br>\",\"0 505 website request served <br>4 505 user logged in <br>7 505 item added to cart <br>6 505 hermes chosen for shipping <br>3 505 klarna chosen for payment <br>3 505 order placed succesful <br>\",\"0 506 website request served <br>7 506 user logged in <br>6 506 item added to cart <br>1 506 dpd chosen for shipping <br>6 506 sofortueberweisung chosen for payment <br>5 506 order placed succesful <br>\",\"0 507 website request served <br>6 507 user logged in <br>3 507 item added to cart <br>5 507 dhl chosen for shipping <br>5 507 klarna chosen for payment <br>3 507 order placed succesful <br>\",\"0 510 website request served <br>2 510 user logged in <br>4 510 item added to cart <br>6 510 dhl chosen for shipping <br>4 510 sofortueberweisung chosen for payment <br>3 510 order placed succesful <br>\",\"0 511 website request served <br>7 511 user logged in <br>4 511 item added to cart <br>7 511 hermes chosen for shipping <br>1 511 paypal chosen for payment <br>5 511 order placed succesful <br>\",\"0 521 website request served <br>0 521 user logged in <br>8 521 item added to cart <br>2 521 hermes chosen for shipping <br>4 521 paypal chosen for payment <br>4 521 order placed succesful <br>\",\"0 522 website request served <br>4 522 user logged in <br>4 522 item added to cart <br>3 522 dpd chosen for shipping <br>6 522 klarna chosen for payment <br>7 522 order placed succesful <br>\",\"0 523 website request served <br>5 523 user logged in <br>6 523 item added to cart <br>4 523 hermes chosen for shipping <br>4 523 klarna chosen for payment <br>3 523 order placed succesful <br>\",\"0 524 website request served <br>9 524 user logged in <br>4 524 item added to cart <br>1 524 dhl chosen for shipping <br>5 524 klarna chosen for payment <br>5 524 order placed succesful <br>\",\"0 534 website request served <br>5 534 user logged in <br>5 534 item added to cart <br>5 534 dhl chosen for shipping <br>7 534 paypal chosen for payment <br>4 534 order placed succesful <br>\",\"0 535 website request served <br>5 535 user logged in <br>7 535 item added to cart <br>1 535 dhl chosen for shipping <br>5 535 paypal chosen for payment <br>7 535 order placed succesful <br>\",\"0 536 website request served <br>6 536 user logged in <br>8 536 item added to cart <br>2 536 hermes chosen for shipping <br>4 536 paypal chosen for payment <br>7 536 order placed succesful <br>\",\"0 538 website request served <br>3 538 user logged in <br>7 538 item added to cart <br>0 538 dpd chosen for shipping <br>8 538 klarna chosen for payment <br>5 538 order placed succesful <br>\",\"0 541 website request served <br>5 541 user logged in <br>6 541 item added to cart <br>2 541 dpd chosen for shipping <br>7 541 paypal chosen for payment <br>2 541 order placed succesful <br>\",\"0 542 website request served <br>3 542 user logged in <br>1 542 item added to cart <br>4 542 hermes chosen for shipping <br>8 542 sofortueberweisung chosen for payment <br>2 542 order placed succesful <br>\",\"0 547 website request served <br>7 547 user logged in <br>6 547 item added to cart <br>1 547 dpd chosen for shipping <br>4 547 klarna chosen for payment <br>6 547 order placed succesful <br>\",\"0 548 website request served <br>5 548 user logged in <br>6 548 item added to cart <br>7 548 dpd chosen for shipping <br>3 548 sofortueberweisung chosen for payment <br>4 548 order placed succesful <br>\",\"0 550 website request served <br>4 550 user logged in <br>6 550 item added to cart <br>2 550 dhl chosen for shipping <br>6 550 sofortueberweisung chosen for payment <br>2 550 order placed succesful <br>\",\"0 552 website request served <br>5 552 user logged in <br>4 552 item added to cart <br>3 552 hermes chosen for shipping <br>6 552 paypal chosen for payment <br>7 552 order placed succesful <br>\",\"0 553 website request served <br>5 553 user logged in <br>6 553 item added to cart <br>5 553 dpd chosen for shipping <br>4 553 sofortueberweisung chosen for payment <br>3 553 order placed succesful <br>\",\"0 557 website request served <br>3 557 user logged in <br>7 557 item added to cart <br>4 557 hermes chosen for shipping <br>4 557 klarna chosen for payment <br>3 557 order placed succesful <br>\",\"0 560 website request served <br>1 560 user logged in <br>6 560 item added to cart <br>4 560 hermes chosen for shipping <br>5 560 sofortueberweisung chosen for payment <br>5 560 order placed succesful <br>\",\"0 561 website request served <br>7 561 user logged in <br>3 561 item added to cart <br>6 561 hermes chosen for shipping <br>1 561 sofortueberweisung chosen for payment <br>8 561 order placed succesful <br>\",\"0 563 website request served <br>7 563 user logged in <br>1 563 item added to cart <br>6 563 dhl chosen for shipping <br>7 563 paypal chosen for payment <br>4 563 order placed succesful <br>\",\"0 564 website request served <br>2 564 user logged in <br>7 564 item added to cart <br>2 564 hermes chosen for shipping <br>7 564 paypal chosen for payment <br>3 564 order placed succesful <br>\",\"0 566 website request served <br>7 566 user logged in <br>4 566 item added to cart <br>1 566 hermes chosen for shipping <br>6 566 klarna chosen for payment <br>6 566 order placed succesful <br>\",\"0 567 website request served <br>3 567 user logged in <br>7 567 item added to cart <br>1 567 dhl chosen for shipping <br>6 567 paypal chosen for payment <br>4 567 order placed succesful <br>\",\"0 570 website request served <br>3 570 user logged in <br>7 570 item added to cart <br>0 570 dpd chosen for shipping <br>5 570 sofortueberweisung chosen for payment <br>8 570 order placed succesful <br>\",\"0 576 website request served <br>7 576 user logged in <br>4 576 item added to cart <br>3 576 dhl chosen for shipping <br>5 576 klarna chosen for payment <br>4 576 order placed succesful <br>\",\"0 579 website request served <br>4 579 user logged in <br>1 579 item added to cart <br>6 579 dpd chosen for shipping <br>3 579 klarna chosen for payment <br>5 579 order placed succesful <br>\",\"0 583 website request served <br>3 583 user logged in <br>6 583 item added to cart <br>2 583 hermes chosen for shipping <br>9 583 paypal chosen for payment <br>0 583 order placed succesful <br>\",\"0 591 website request served <br>6 591 user logged in <br>2 591 item added to cart <br>5 591 dhl chosen for shipping <br>2 591 sofortueberweisung chosen for payment <br>5 591 order placed succesful <br>\",\"0 596 website request served <br>3 596 user logged in <br>4 596 item added to cart <br>3 596 hermes chosen for shipping <br>6 596 paypal chosen for payment <br>6 596 order placed succesful <br>\",\"0 607 website request served <br>7 607 user logged in <br>1 607 item added to cart <br>7 607 dpd chosen for shipping <br>4 607 sofortueberweisung chosen for payment <br>7 607 order placed succesful <br>\",\"0 612 website request served <br>5 612 user logged in <br>3 612 item added to cart <br>6 612 dpd chosen for shipping <br>4 612 klarna chosen for payment <br>3 612 order placed succesful <br>\",\"0 614 website request served <br>5 614 user logged in <br>2 614 item added to cart <br>6 614 dpd chosen for shipping <br>6 614 klarna chosen for payment <br>2 614 order placed succesful <br>\",\"0 615 website request served <br>5 615 user logged in <br>7 615 item added to cart <br>4 615 hermes chosen for shipping <br>4 615 paypal chosen for payment <br>4 615 order placed succesful <br>\",\"0 621 website request served <br>1 621 user logged in <br>4 621 item added to cart <br>8 621 hermes chosen for shipping <br>2 621 paypal chosen for payment <br>3 621 order placed succesful <br>\",\"0 623 website request served <br>4 623 user logged in <br>1 623 item added to cart <br>7 623 dpd chosen for shipping <br>5 623 paypal chosen for payment <br>2 623 order placed succesful <br>\",\"0 627 website request served <br>1 627 user logged in <br>7 627 item added to cart <br>5 627 hermes chosen for shipping <br>3 627 sofortueberweisung chosen for payment <br>4 627 order placed succesful <br>\",\"0 628 website request served <br>5 628 user logged in <br>1 628 item added to cart <br>6 628 hermes chosen for shipping <br>5 628 paypal chosen for payment <br>2 628 order placed succesful <br>\",\"0 630 website request served <br>6 630 user logged in <br>3 630 item added to cart <br>5 630 dpd chosen for shipping <br>2 630 klarna chosen for payment <br>5 630 order placed succesful <br>\",\"0 631 website request served <br>5 631 user logged in <br>8 631 item added to cart <br>2 631 hermes chosen for shipping <br>7 631 paypal chosen for payment <br>3 631 order placed succesful <br>\",\"0 635 website request served <br>0 635 user logged in <br>4 635 item added to cart <br>7 635 dhl chosen for shipping <br>4 635 sofortueberweisung chosen for payment <br>3 635 order placed succesful <br>\",\"0 638 website request served <br>6 638 user logged in <br>6 638 item added to cart <br>4 638 dpd chosen for shipping <br>4 638 sofortueberweisung chosen for payment <br>4 638 order placed succesful <br>\",\"0 639 website request served <br>6 639 user logged in <br>5 639 item added to cart <br>2 639 dhl chosen for shipping <br>8 639 paypal chosen for payment <br>0 639 order placed succesful <br>\",\"0 640 website request served <br>1 640 user logged in <br>7 640 item added to cart <br>1 640 dhl chosen for shipping <br>6 640 klarna chosen for payment <br>4 640 order placed succesful <br>\",\"0 643 website request served <br>3 643 user logged in <br>4 643 item added to cart <br>7 643 dhl chosen for shipping <br>2 643 sofortueberweisung chosen for payment <br>5 643 order placed succesful <br>\",\"0 646 website request served <br>4 646 user logged in <br>4 646 item added to cart <br>2 646 dpd chosen for shipping <br>9 646 sofortueberweisung chosen for payment <br>3 646 order placed succesful <br>\",\"0 648 website request served <br>7 648 user logged in <br>3 648 item added to cart <br>3 648 hermes chosen for shipping <br>8 648 paypal chosen for payment <br>3 648 order placed succesful <br>\",\"0 651 website request served <br>5 651 user logged in <br>5 651 item added to cart <br>4 651 dhl chosen for shipping <br>2 651 klarna chosen for payment <br>5 651 order placed succesful <br>\",\"0 655 website request served <br>1 655 user logged in <br>5 655 item added to cart <br>4 655 dpd chosen for shipping <br>7 655 sofortueberweisung chosen for payment <br>4 655 order placed succesful <br>\",\"0 656 website request served <br>5 656 user logged in <br>6 656 item added to cart <br>4 656 hermes chosen for shipping <br>6 656 paypal chosen for payment <br>1 656 order placed succesful <br>\",\"0 657 website request served <br>5 657 user logged in <br>2 657 item added to cart <br>5 657 dhl chosen for shipping <br>7 657 paypal chosen for payment <br>2 657 order placed succesful <br>\",\"0 658 website request served <br>2 658 user logged in <br>5 658 item added to cart <br>3 658 dhl chosen for shipping <br>5 658 paypal chosen for payment <br>5 658 order placed succesful <br>\",\"0 661 website request served <br>3 661 user logged in <br>6 661 item added to cart <br>7 661 dhl chosen for shipping <br>2 661 paypal chosen for payment <br>4 661 order placed succesful <br>\",\"0 662 website request served <br>2 662 user logged in <br>3 662 item added to cart <br>9 662 hermes chosen for shipping <br>3 662 klarna chosen for payment <br>5 662 order placed succesful <br>\",\"0 664 website request served <br>3 664 user logged in <br>5 664 item added to cart <br>5 664 dhl chosen for shipping <br>1 664 sofortueberweisung chosen for payment <br>7 664 order placed succesful <br>\",\"0 665 website request served <br>6 665 user logged in <br>7 665 item added to cart <br>4 665 dhl chosen for shipping <br>2 665 sofortueberweisung chosen for payment <br>7 665 order placed succesful <br>\",\"0 667 website request served <br>6 667 user logged in <br>5 667 item added to cart <br>4 667 dhl chosen for shipping <br>4 667 sofortueberweisung chosen for payment <br>3 667 order placed succesful <br>\",\"0 668 website request served <br>7 668 user logged in <br>6 668 item added to cart <br>2 668 dhl chosen for shipping <br>4 668 sofortueberweisung chosen for payment <br>5 668 order placed succesful <br>\",\"0 669 website request served <br>1 669 user logged in <br>4 669 item added to cart <br>6 669 dpd chosen for shipping <br>5 669 klarna chosen for payment <br>6 669 order placed succesful <br>\",\"0 670 website request served <br>3 670 user logged in <br>5 670 item added to cart <br>5 670 dhl chosen for shipping <br>7 670 paypal chosen for payment <br>0 670 order placed succesful <br>\",\"0 674 website request served <br>5 674 user logged in <br>4 674 item added to cart <br>4 674 dpd chosen for shipping <br>5 674 paypal chosen for payment <br>3 674 order placed succesful <br>\",\"0 678 website request served <br>6 678 user logged in <br>1 678 item added to cart <br>5 678 hermes chosen for shipping <br>5 678 klarna chosen for payment <br>5 678 order placed succesful <br>\",\"0 680 website request served <br>6 680 user logged in <br>5 680 item added to cart <br>1 680 dpd chosen for shipping <br>8 680 klarna chosen for payment <br>0 680 order placed succesful <br>\",\"0 681 website request served <br>2 681 user logged in <br>6 681 item added to cart <br>5 681 hermes chosen for shipping <br>5 681 klarna chosen for payment <br>3 681 order placed succesful <br>\",\"0 682 website request served <br>4 682 user logged in <br>2 682 item added to cart <br>6 682 dhl chosen for shipping <br>7 682 klarna chosen for payment <br>3 682 order placed succesful <br>\",\"0 683 website request served <br>2 683 user logged in <br>4 683 item added to cart <br>6 683 hermes chosen for shipping <br>4 683 klarna chosen for payment <br>7 683 order placed succesful <br>\",\"0 689 website request served <br>4 689 user logged in <br>3 689 item added to cart <br>2 689 dpd chosen for shipping <br>6 689 paypal chosen for payment <br>5 689 order placed succesful <br>\",\"0 690 website request served <br>4 690 user logged in <br>4 690 item added to cart <br>5 690 dpd chosen for shipping <br>1 690 klarna chosen for payment <br>5 690 order placed succesful <br>\",\"0 692 website request served <br>4 692 user logged in <br>6 692 item added to cart <br>3 692 dhl chosen for shipping <br>3 692 klarna chosen for payment <br>5 692 order placed succesful <br>\",\"0 694 website request served <br>6 694 user logged in <br>2 694 item added to cart <br>6 694 dpd chosen for shipping <br>4 694 klarna chosen for payment <br>7 694 order placed succesful <br>\",\"0 695 website request served <br>8 695 user logged in <br>5 695 item added to cart <br>3 695 hermes chosen for shipping <br>2 695 sofortueberweisung chosen for payment <br>8 695 order placed succesful <br>\",\"0 696 website request served <br>4 696 user logged in <br>9 696 item added to cart <br>0 696 hermes chosen for shipping <br>7 696 paypal chosen for payment <br>6 696 order placed succesful <br>\",\"0 702 website request served <br>3 702 user logged in <br>8 702 item added to cart <br>1 702 dpd chosen for shipping <br>6 702 paypal chosen for payment <br>4 702 order placed succesful <br>\",\"0 703 website request served <br>4 703 user logged in <br>3 703 item added to cart <br>6 703 dhl chosen for shipping <br>5 703 paypal chosen for payment <br>3 703 order placed succesful <br>\",\"0 704 website request served <br>4 704 user logged in <br>6 704 item added to cart <br>5 704 dpd chosen for shipping <br>5 704 klarna chosen for payment <br>4 704 order placed succesful <br>\",\"0 709 website request served <br>2 709 user logged in <br>3 709 item added to cart <br>8 709 dhl chosen for shipping <br>5 709 sofortueberweisung chosen for payment <br>4 709 order placed succesful <br>\",\"0 710 website request served <br>5 710 user logged in <br>4 710 item added to cart <br>5 710 hermes chosen for shipping <br>6 710 klarna chosen for payment <br>2 710 order placed succesful <br>\",\"0 713 website request served <br>6 713 user logged in <br>5 713 item added to cart <br>3 713 hermes chosen for shipping <br>6 713 sofortueberweisung chosen for payment <br>3 713 order placed succesful <br>\",\"0 714 website request served <br>5 714 user logged in <br>6 714 item added to cart <br>5 714 dpd chosen for shipping <br>2 714 paypal chosen for payment <br>5 714 order placed succesful <br>\",\"0 717 website request served <br>5 717 user logged in <br>2 717 item added to cart <br>7 717 dhl chosen for shipping <br>2 717 sofortueberweisung chosen for payment <br>5 717 order placed succesful <br>\",\"0 718 website request served <br>5 718 user logged in <br>3 718 item added to cart <br>6 718 dhl chosen for shipping <br>4 718 klarna chosen for payment <br>6 718 order placed succesful <br>\",\"0 719 website request served <br>3 719 user logged in <br>4 719 item added to cart <br>7 719 dhl chosen for shipping <br>5 719 sofortueberweisung chosen for payment <br>5 719 order placed succesful <br>\",\"0 720 website request served <br>8 720 user logged in <br>4 720 item added to cart <br>4 720 dpd chosen for shipping <br>4 720 klarna chosen for payment <br>4 720 order placed succesful <br>\",\"0 724 website request served <br>3 724 user logged in <br>6 724 item added to cart <br>5 724 dhl chosen for shipping <br>2 724 paypal chosen for payment <br>5 724 order placed succesful <br>\",\"0 725 website request served <br>6 725 user logged in <br>4 725 item added to cart <br>5 725 hermes chosen for shipping <br>4 725 paypal chosen for payment <br>4 725 order placed succesful <br>\",\"0 727 website request served <br>0 727 user logged in <br>9 727 item added to cart <br>0 727 hermes chosen for shipping <br>5 727 sofortueberweisung chosen for payment <br>7 727 order placed succesful <br>\",\"0 730 website request served <br>3 730 user logged in <br>3 730 item added to cart <br>7 730 hermes chosen for shipping <br>4 730 sofortueberweisung chosen for payment <br>2 730 order placed succesful <br>\",\"0 731 website request served <br>9 731 user logged in <br>4 731 item added to cart <br>3 731 dhl chosen for shipping <br>5 731 klarna chosen for payment <br>2 731 order placed succesful <br>\",\"0 732 website request served <br>4 732 user logged in <br>4 732 item added to cart <br>7 732 dhl chosen for shipping <br>3 732 klarna chosen for payment <br>3 732 order placed succesful <br>\",\"0 733 website request served <br>5 733 user logged in <br>3 733 item added to cart <br>3 733 dpd chosen for shipping <br>4 733 klarna chosen for payment <br>6 733 order placed succesful <br>\",\"0 734 website request served <br>2 734 user logged in <br>6 734 item added to cart <br>6 734 hermes chosen for shipping <br>2 734 paypal chosen for payment <br>5 734 order placed succesful <br>\",\"0 736 website request served <br>7 736 user logged in <br>5 736 item added to cart <br>3 736 dhl chosen for shipping <br>3 736 paypal chosen for payment <br>5 736 order placed succesful <br>\",\"0 738 website request served <br>3 738 user logged in <br>3 738 item added to cart <br>4 738 dhl chosen for shipping <br>4 738 klarna chosen for payment <br>5 738 order placed succesful <br>\",\"0 741 website request served <br>2 741 user logged in <br>3 741 item added to cart <br>7 741 hermes chosen for shipping <br>6 741 sofortueberweisung chosen for payment <br>5 741 order placed succesful <br>\",\"0 747 website request served <br>8 747 user logged in <br>0 747 item added to cart <br>5 747 dhl chosen for shipping <br>4 747 paypal chosen for payment <br>7 747 order placed succesful <br>\",\"0 749 website request served <br>5 749 user logged in <br>3 749 item added to cart <br>6 749 dpd chosen for shipping <br>4 749 paypal chosen for payment <br>5 749 order placed succesful <br>\",\"0 754 website request served <br>6 754 user logged in <br>1 754 item added to cart <br>3 754 dpd chosen for shipping <br>7 754 klarna chosen for payment <br>5 754 order placed succesful <br>\",\"0 757 website request served <br>8 757 user logged in <br>5 757 item added to cart <br>5 757 dpd chosen for shipping <br>2 757 paypal chosen for payment <br>2 757 order placed succesful <br>\",\"0 759 website request served <br>6 759 user logged in <br>5 759 item added to cart <br>3 759 dhl chosen for shipping <br>4 759 sofortueberweisung chosen for payment <br>6 759 order placed succesful <br>\",\"0 764 website request served <br>5 764 user logged in <br>7 764 item added to cart <br>5 764 dpd chosen for shipping <br>4 764 sofortueberweisung chosen for payment <br>4 764 order placed succesful <br>\",\"0 768 website request served <br>3 768 user logged in <br>4 768 item added to cart <br>6 768 hermes chosen for shipping <br>3 768 klarna chosen for payment <br>7 768 order placed succesful <br>\",\"0 774 website request served <br>3 774 user logged in <br>5 774 item added to cart <br>2 774 hermes chosen for shipping <br>7 774 paypal chosen for payment <br>3 774 order placed succesful <br>\",\"0 776 website request served <br>5 776 user logged in <br>7 776 item added to cart <br>3 776 hermes chosen for shipping <br>3 776 paypal chosen for payment <br>4 776 order placed succesful <br>\",\"0 777 website request served <br>7 777 user logged in <br>5 777 item added to cart <br>6 777 dpd chosen for shipping <br>0 777 sofortueberweisung chosen for payment <br>5 777 order placed succesful <br>\",\"0 778 website request served <br>6 778 user logged in <br>4 778 item added to cart <br>4 778 dpd chosen for shipping <br>7 778 sofortueberweisung chosen for payment <br>3 778 order placed succesful <br>\",\"0 779 website request served <br>5 779 user logged in <br>4 779 item added to cart <br>6 779 hermes chosen for shipping <br>5 779 paypal chosen for payment <br>5 779 order placed succesful <br>\",\"0 784 website request served <br>4 784 user logged in <br>6 784 item added to cart <br>4 784 dhl chosen for shipping <br>2 784 paypal chosen for payment <br>3 784 order placed succesful <br>\",\"0 788 website request served <br>5 788 user logged in <br>6 788 item added to cart <br>5 788 dpd chosen for shipping <br>4 788 sofortueberweisung chosen for payment <br>5 788 order placed succesful <br>\",\"0 791 website request served <br>3 791 user logged in <br>6 791 item added to cart <br>2 791 dhl chosen for shipping <br>6 791 sofortueberweisung chosen for payment <br>3 791 order placed succesful <br>\",\"0 795 website request served <br>4 795 user logged in <br>5 795 item added to cart <br>3 795 dhl chosen for shipping <br>6 795 sofortueberweisung chosen for payment <br>3 795 order placed succesful <br>\",\"0 796 website request served <br>6 796 user logged in <br>8 796 item added to cart <br>4 796 dpd chosen for shipping <br>5 796 paypal chosen for payment <br>2 796 order placed succesful <br>\",\"0 804 website request served <br>5 804 user logged in <br>2 804 item added to cart <br>7 804 dpd chosen for shipping <br>5 804 sofortueberweisung chosen for payment <br>4 804 order placed succesful <br>\",\"0 808 website request served <br>3 808 user logged in <br>5 808 item added to cart <br>3 808 dpd chosen for shipping <br>5 808 sofortueberweisung chosen for payment <br>8 808 order placed succesful <br>\",\"0 809 website request served <br>3 809 user logged in <br>5 809 item added to cart <br>3 809 dpd chosen for shipping <br>4 809 klarna chosen for payment <br>6 809 order placed succesful <br>\",\"0 814 website request served <br>2 814 user logged in <br>7 814 item added to cart <br>3 814 dpd chosen for shipping <br>6 814 paypal chosen for payment <br>3 814 order placed succesful <br>\",\"0 815 website request served <br>4 815 user logged in <br>8 815 item added to cart <br>3 815 hermes chosen for shipping <br>6 815 sofortueberweisung chosen for payment <br>5 815 order placed succesful <br>\",\"0 816 website request served <br>6 816 user logged in <br>4 816 item added to cart <br>6 816 dhl chosen for shipping <br>2 816 klarna chosen for payment <br>6 816 order placed succesful <br>\",\"0 817 website request served <br>1 817 user logged in <br>5 817 item added to cart <br>4 817 hermes chosen for shipping <br>4 817 klarna chosen for payment <br>4 817 order placed succesful <br>\",\"0 819 website request served <br>6 819 user logged in <br>4 819 item added to cart <br>2 819 hermes chosen for shipping <br>5 819 paypal chosen for payment <br>6 819 order placed succesful <br>\",\"0 821 website request served <br>5 821 user logged in <br>2 821 item added to cart <br>6 821 dhl chosen for shipping <br>3 821 sofortueberweisung chosen for payment <br>5 821 order placed succesful <br>\",\"0 825 website request served <br>4 825 user logged in <br>7 825 item added to cart <br>5 825 dhl chosen for shipping <br>1 825 paypal chosen for payment <br>7 825 order placed succesful <br>\",\"0 827 website request served <br>4 827 user logged in <br>6 827 item added to cart <br>4 827 dpd chosen for shipping <br>3 827 klarna chosen for payment <br>8 827 order placed succesful <br>\",\"0 828 website request served <br>7 828 user logged in <br>6 828 item added to cart <br>4 828 dpd chosen for shipping <br>2 828 sofortueberweisung chosen for payment <br>7 828 order placed succesful <br>\",\"0 829 website request served <br>1 829 user logged in <br>7 829 item added to cart <br>6 829 hermes chosen for shipping <br>0 829 klarna chosen for payment <br>6 829 order placed succesful <br>\",\"0 835 website request served <br>8 835 user logged in <br>3 835 item added to cart <br>3 835 dpd chosen for shipping <br>5 835 sofortueberweisung chosen for payment <br>3 835 order placed succesful <br>\",\"0 844 website request served <br>6 844 user logged in <br>6 844 item added to cart <br>6 844 hermes chosen for shipping <br>0 844 klarna chosen for payment <br>8 844 order placed succesful <br>\",\"0 845 website request served <br>4 845 user logged in <br>2 845 item added to cart <br>4 845 hermes chosen for shipping <br>5 845 klarna chosen for payment <br>8 845 order placed succesful <br>\",\"0 851 website request served <br>6 851 user logged in <br>4 851 item added to cart <br>3 851 dpd chosen for shipping <br>7 851 sofortueberweisung chosen for payment <br>5 851 order placed succesful <br>\",\"0 854 website request served <br>6 854 user logged in <br>3 854 item added to cart <br>6 854 dhl chosen for shipping <br>5 854 sofortueberweisung chosen for payment <br>2 854 order placed succesful <br>\",\"0 855 website request served <br>5 855 user logged in <br>7 855 item added to cart <br>3 855 dpd chosen for shipping <br>5 855 sofortueberweisung chosen for payment <br>4 855 order placed succesful <br>\",\"0 859 website request served <br>7 859 user logged in <br>2 859 item added to cart <br>5 859 dhl chosen for shipping <br>2 859 sofortueberweisung chosen for payment <br>6 859 order placed succesful <br>\",\"0 861 website request served <br>5 861 user logged in <br>5 861 item added to cart <br>6 861 hermes chosen for shipping <br>1 861 sofortueberweisung chosen for payment <br>4 861 order placed succesful <br>\",\"0 862 website request served <br>4 862 user logged in <br>3 862 item added to cart <br>5 862 dpd chosen for shipping <br>4 862 sofortueberweisung chosen for payment <br>4 862 order placed succesful <br>\",\"0 866 website request served <br>4 866 user logged in <br>9 866 item added to cart <br>1 866 dpd chosen for shipping <br>4 866 sofortueberweisung chosen for payment <br>4 866 order placed succesful <br>\",\"0 868 website request served <br>4 868 user logged in <br>2 868 item added to cart <br>6 868 hermes chosen for shipping <br>3 868 paypal chosen for payment <br>5 868 order placed succesful <br>\",\"0 869 website request served <br>4 869 user logged in <br>2 869 item added to cart <br>4 869 hermes chosen for shipping <br>7 869 sofortueberweisung chosen for payment <br>5 869 order placed succesful <br>\",\"0 872 website request served <br>6 872 user logged in <br>4 872 item added to cart <br>6 872 dhl chosen for shipping <br>4 872 klarna chosen for payment <br>5 872 order placed succesful <br>\",\"0 874 website request served <br>4 874 user logged in <br>6 874 item added to cart <br>4 874 dhl chosen for shipping <br>4 874 sofortueberweisung chosen for payment <br>3 874 order placed succesful <br>\",\"0 875 website request served <br>3 875 user logged in <br>4 875 item added to cart <br>7 875 hermes chosen for shipping <br>2 875 paypal chosen for payment <br>6 875 order placed succesful <br>\",\"0 880 website request served <br>6 880 user logged in <br>3 880 item added to cart <br>4 880 hermes chosen for shipping <br>6 880 paypal chosen for payment <br>4 880 order placed succesful <br>\",\"0 883 website request served <br>7 883 user logged in <br>2 883 item added to cart <br>4 883 hermes chosen for shipping <br>4 883 klarna chosen for payment <br>4 883 order placed succesful <br>\",\"0 885 website request served <br>5 885 user logged in <br>4 885 item added to cart <br>6 885 dhl chosen for shipping <br>3 885 klarna chosen for payment <br>4 885 order placed succesful <br>\",\"0 887 website request served <br>4 887 user logged in <br>7 887 item added to cart <br>4 887 dhl chosen for shipping <br>5 887 paypal chosen for payment <br>4 887 order placed succesful <br>\"],\"x\":[-7.739471912384033,-9.831872940063477,-9.985060691833496,-9.950242042541504,-10.30135440826416,-9.61116886138916,-10.008485794067383,-8.505792617797852,-9.493318557739258,-9.258957862854004,-10.2673921585083,-9.03865909576416,-8.248847961425781,-8.340779304504395,-9.4393892288208,-9.748377799987793,-9.766246795654297,-9.09884262084961,-10.015646934509277,-9.193220138549805,-8.685683250427246,-8.935084342956543,-10.250802993774414,-7.684062480926514,-9.194883346557617,-8.713276863098145,-9.185364723205566,-9.357721328735352,-9.28810977935791,-9.479352951049805,-9.219672203063965,-8.422198295593262,-9.187583923339844,-8.710628509521484,-9.718816757202148,-9.179585456848145,-9.7542085647583,-9.421647071838379,-8.889586448669434,-8.702730178833008,-9.118338584899902,-10.241584777832031,-9.332664489746094,-9.675392150878906,-8.185027122497559,-9.18810749053955,-9.215795516967773,-8.977192878723145,-9.291481971740723,-9.572229385375977,-8.799880027770996,-8.278887748718262,-9.351364135742188,-8.682037353515625,-8.175978660583496,-8.240050315856934,-7.7563982009887695,-9.066469192504883,-9.354759216308594,-10.874431610107422,-8.643832206726074,-8.876931190490723,-8.573777198791504,-9.746767044067383,-9.226860046386719,-8.667254447937012,-8.301107406616211,-9.153931617736816,-7.894827842712402,-7.862643718719482,-10.247986793518066,-8.740556716918945,-8.036406517028809,-8.7459716796875,-9.739459037780762,-9.467975616455078,-8.926749229431152,-9.459051132202148,-10.530014038085938,-8.155207633972168,-10.006571769714355,-9.472174644470215,-10.014126777648926,-9.460249900817871,-8.859715461730957,-9.88341999053955,-9.718762397766113,-8.919620513916016,-9.303665161132812,-9.739459991455078,-10.179431915283203,-8.19503402709961,-10.297820091247559,-8.880595207214355,-8.483290672302246,-9.063706398010254,-9.027998924255371,-8.054429054260254,-8.752985954284668,-9.846183776855469,-9.167407989501953,-9.788612365722656,-10.30837631225586,-9.748679161071777,-9.588109970092773,-7.82653284072876,-8.58652400970459,-8.575028419494629,-8.730766296386719,-8.788919448852539,-9.167614936828613,-9.966642379760742,-9.246622085571289,-8.262077331542969,-9.461480140686035,-9.699753761291504,-8.514994621276855,-9.944674491882324,-9.130393028259277,-10.334024429321289,-8.01907730102539,-8.881309509277344,-9.15735912322998,-9.032854080200195,-9.684565544128418,-8.517555236816406,-10.14029598236084,-10.271294593811035,-8.976219177246094,-8.022318840026855,-9.55063247680664,-8.535501480102539,-8.520669937133789,-10.168730735778809,-9.436566352844238,-9.261512756347656,-9.255184173583984,-9.980302810668945,-9.224040985107422,-8.155208587646484,-9.11833667755127,-9.056998252868652,-10.24149227142334,-9.51918888092041,-9.215182304382324,-10.110591888427734,-10.561454772949219,-9.487028121948242,-8.53660774230957,-9.662341117858887,-9.155484199523926,-9.454313278198242,-9.750306129455566,-9.7948579788208,-9.880600929260254,-9.18810749053955,-7.972697734832764,-8.579595565795898,-8.272781372070312,-9.949156761169434,-10.461461067199707,-8.970434188842773,-9.919323921203613,-9.737911224365234,-10.01292896270752,-9.290529251098633,-9.849164009094238,-10.07336711883545,-9.704668998718262,-9.68905258178711,-10.50496768951416,-8.978763580322266,-9.332673072814941,-8.370351791381836,-9.70683479309082,-9.944674491882324,-9.176724433898926,-9.781031608581543,-10.16903018951416,-9.304049491882324,-9.325181007385254,-10.273027420043945,-8.787251472473145,-8.739051818847656,-9.953058242797852,-10.394418716430664,-9.460249900817871,-9.30014419555664,-9.820054054260254,-10.17856502532959,-9.843364715576172,-10.510608673095703,-9.683414459228516,-10.568181991577148,-9.17335033416748,-9.984504699707031,-8.967708587646484,-9.87450885772705,-9.300244331359863,-9.944674491882324,-9.031121253967285,-9.243756294250488,-9.294983863830566,-9.769815444946289,-9.696632385253906,-9.72439956665039,-8.877776145935059,-9.159261703491211,-9.12106704711914,-8.803337097167969,-9.04043960571289,-8.889734268188477,-9.165355682373047,-9.846184730529785,-9.433149337768555,-10.137428283691406,-8.999283790588379,-9.588109016418457,-10.59398365020752,-8.357365608215332,-9.72807502746582,-9.849465370178223,-10.106145858764648,-10.238672256469727,-9.265884399414062,-9.956737518310547,-9.742738723754883,-10.13758659362793,-10.292181968688965],\"y\":[0.11925633251667023,0.052261948585510254,0.039543651044368744,0.02459442988038063,0.05455666035413742,0.03104684315621853,0.02477540448307991,0.11029648780822754,0.06293566524982452,0.1020834818482399,0.023104099556803703,0.09198974817991257,0.10887831449508667,0.09929870814085007,0.05227901041507721,0.044153016060590744,0.04138033464550972,0.022262824699282646,0.06073695793747902,0.10786745697259903,0.09729546308517456,0.11665312200784683,0.03777273744344711,0.15460839867591858,0.11522862315177917,0.07139836996793747,0.08589327335357666,0.04456508159637451,0.048264987766742706,0.04382099211215973,0.08053112030029297,0.10641786456108093,0.0902595967054367,0.10088279843330383,0.11110129952430725,0.053700707852840424,0.030826294794678688,0.06907127797603607,0.040466275066137314,0.12989386916160583,0.07565608620643616,0.0360233448445797,0.05764906853437424,0.03759365156292915,0.13676194846630096,0.04055677726864815,0.08361318707466125,0.047832902520895004,0.07608157396316528,0.1082577183842659,0.08848404884338379,0.13050098717212677,0.03246743977069855,0.06644899398088455,0.12521350383758545,0.11206682026386261,0.15722724795341492,0.04129597917199135,0.07341604679822922,0.05931032449007034,0.11338141560554504,0.09285682439804077,0.07491344213485718,0.049415502697229385,0.07021679729223251,0.09861402958631516,0.1334390640258789,0.086318239569664,0.1092124655842781,0.10618322342634201,0.02896769903600216,0.0971321165561676,0.11616342514753342,0.06612288951873779,0.024445790797472,0.06914731860160828,0.06989778578281403,0.04943964257836342,0.030487559735774994,0.10576028376817703,0.04799754172563553,0.029305635020136833,0.04238494858145714,0.031731318682432175,0.05454866960644722,0.06107053533196449,0.03985864296555519,0.062087561935186386,0.10122005641460419,0.02444566786289215,0.025953153148293495,0.12956398725509644,0.05126592889428139,0.08698197454214096,0.09142838418483734,0.10373519361019135,0.06763974577188492,0.1147279366850853,0.05991753190755844,0.019075872376561165,0.055968452244997025,0.03332742676138878,0.023517224937677383,0.026194937527179718,0.05051656812429428,0.10382390767335892,0.07490547001361847,0.06494789570569992,0.05698017030954361,0.08077456802129745,0.08956120163202286,0.040864087641239166,0.0690508708357811,0.11497768014669418,0.06804552674293518,0.03592671826481819,0.04338918253779411,0.03911858797073364,0.0658004954457283,0.017566408962011337,0.13192036747932434,0.08146744966506958,0.05076169595122337,0.08851046115159988,0.05849440023303032,0.10492392629384995,0.03757143393158913,0.001220236299559474,0.13165391981601715,0.10769501328468323,0.04748557135462761,0.07549292594194412,0.09576897323131561,0.06468600779771805,0.043472591787576675,0.06444017589092255,0.08406112343072891,0.07793228328227997,0.061413463205099106,0.10576124489307404,0.0756557285785675,0.03835352510213852,0.0278655756264925,0.042796093970537186,0.06436498463153839,0.0723775178194046,0.0351751409471035,0.07349877059459686,0.13485056161880493,0.05555647611618042,0.05839686840772629,0.03208019211888313,0.052709683775901794,0.06209377199411392,0.05226432904601097,0.04055677726864815,0.1397007554769516,0.0883089229464531,0.1195957139134407,0.05528140813112259,0.027472149580717087,0.09945801645517349,0.04532920941710472,0.02753390744328499,0.060092538595199585,0.06686746329069138,0.04757792875170708,0.03549224138259888,0.06065291911363602,0.07466091215610504,0.018737206235527992,0.09407442063093185,0.03281976655125618,0.11162356287240982,0.042283620685338974,0.03911846503615379,0.06587845087051392,0.06291166692972183,0.04672878980636597,0.03693481534719467,0.10967786610126495,0.04071258381009102,0.07341165095567703,0.12288380414247513,0.033398255705833435,0.012118048965930939,0.031731318682432175,0.05881569907069206,0.03801954165101051,0.03734300658106804,0.010268579237163067,0.03635285049676895,0.05705147609114647,0.02209685556590557,0.0556240938603878,0.03809000551700592,0.09881159663200378,0.0329166017472744,0.08454065769910812,0.039118822664022446,0.05848919227719307,0.06810608506202698,0.05488179996609688,0.05035142973065376,0.04507811740040779,0.05746832117438316,0.07817552238702774,0.07641716301441193,0.025202304124832153,0.07666998356580734,0.0859617367386818,0.09401438385248184,0.08731688559055328,0.019075749441981316,0.054198846220970154,0.022341404110193253,0.06359846144914627,0.050515372306108475,0.009177043102681637,0.0846300944685936,0.049766816198825836,0.021172646433115005,0.03735191747546196,0.019059624522924423,0.045324210077524185,0.025700367987155914,0.026543334126472473,0.042038775980472565,0.033653080463409424],\"z\":[-0.11106561869382858,-0.03476183861494064,-0.042138125747442245,-0.005573275964707136,-0.044182565063238144,-0.03242817148566246,-0.029544735327363014,-0.11167869716882706,-0.050737638026475906,-0.08195625245571136,0.0018122518667951226,-0.06888221949338913,-0.0965539962053299,-0.11195959895849228,-0.043920841068029404,-0.058599717915058136,-0.04805710166692734,-0.04152028262615204,-0.05578433349728584,-0.09110769629478455,-0.09165933728218079,-0.09938614815473557,-0.03755540773272514,-0.14351023733615875,-0.09987404942512512,-0.0719083845615387,-0.05884317681193352,-0.03998330608010292,-0.04159552603960037,-0.03899914771318436,-0.06788678467273712,-0.08836500346660614,-0.06663630902767181,-0.08083400130271912,-0.06978657841682434,-0.043431833386421204,-0.016709115356206894,-0.06495923548936844,-0.04765922203660011,-0.11632761359214783,-0.07358533889055252,-0.018443068489432335,-0.04666401073336601,-0.02786262147128582,-0.1073480024933815,-0.03429447114467621,-0.07704700529575348,-0.046526193618774414,-0.051657482981681824,-0.08159701526165009,-0.06725534796714783,-0.12837882339954376,-0.0319407619535923,-0.06410202383995056,-0.1341789811849594,-0.11626189947128296,-0.13758671283721924,-0.03527915105223656,-0.07064150273799896,-0.044311556965112686,-0.09468156099319458,-0.08906231075525284,-0.08343512564897537,-0.043182071298360825,-0.07174839079380035,-0.08208832889795303,-0.11348339915275574,-0.07703881710767746,-0.1202339231967926,-0.10549745708703995,-0.025319037958979607,-0.11482667177915573,-0.11042378097772598,-0.08505681902170181,-0.009944823570549488,-0.08293935656547546,-0.05441676825284958,-0.034285757690668106,-0.010912148281931877,-0.12300176918506622,-0.04367075115442276,-0.031117700040340424,-0.05401590093970299,-0.03658797964453697,-0.04674642160534859,-0.04924028366804123,-0.02660805732011795,-0.07948527485132217,-0.07394402474164963,-0.009944831021130085,-0.02223527990281582,-0.1299608200788498,-0.04837469756603241,-0.09474276751279831,-0.0947524681687355,-0.06622220575809479,-0.07064990699291229,-0.10982739180326462,-0.04949135333299637,-0.007201084867119789,-0.050957899540662766,-0.04015973582863808,-0.004595979116857052,-0.029056955128908157,-0.0515068955719471,-0.10363336652517319,-0.07780299335718155,-0.09236667305231094,-0.06438624858856201,-0.07470904290676117,-0.05124225094914436,-0.03256702423095703,-0.0511019192636013,-0.11119771003723145,-0.06789783388376236,-0.03236236795783043,-0.04913143068552017,-0.019086452201008797,-0.06025490164756775,-0.02088199555873871,-0.12789125740528107,-0.07831491529941559,-0.058327965438365936,-0.09813635051250458,-0.04814106598496437,-0.11120504140853882,-0.006915037985891104,0.02409191057085991,-0.09673202037811279,-0.10363975912332535,-0.04615363851189613,-0.06914366781711578,-0.09389826655387878,-0.05901553854346275,-0.03168550133705139,-0.06486614793539047,-0.09327121078968048,-0.07384657114744186,-0.05951264500617981,-0.12300189584493637,-0.07358574122190475,-0.0445425882935524,-0.010277999565005302,-0.04193747043609619,-0.04688572138547897,-0.049449846148490906,-0.015128786675632,-0.07872138172388077,-0.09092739224433899,-0.06303738802671432,-0.05642877146601677,-0.04165871441364288,-0.038989629596471786,-0.044060174375772476,-0.03700436279177666,-0.034294553101062775,-0.12831035256385803,-0.08572486788034439,-0.09196040034294128,-0.04008883982896805,-0.00782696157693863,-0.08132218569517136,-0.051289916038513184,-0.026535600423812866,-0.05171350762248039,-0.07520808279514313,-0.03278708830475807,-0.029822710901498795,-0.025834422558546066,-0.06914261728525162,-0.013572421856224537,-0.07392913103103638,-0.04264412447810173,-0.11427607387304306,-0.03207864984869957,-0.0190866831690073,-0.0782352164387703,-0.05963389575481415,-0.029473427683115005,-0.05066286772489548,-0.07547568529844284,-0.022659888491034508,-0.06594224274158478,-0.11052241176366806,-0.01780920848250389,-0.00015804394206497818,-0.0365879088640213,-0.07294311374425888,-0.044376734644174576,-0.009252202697098255,0.005034720059484243,-0.03804287314414978,-0.04467172175645828,-0.005083853844553232,-0.04588751122355461,-0.022025631740689278,-0.0772520899772644,-0.028723543509840965,-0.058821357786655426,-0.019086547195911407,-0.05334275960922241,-0.0572652667760849,-0.044901665300130844,-0.046719029545784,-0.049668874591588974,-0.05107959359884262,-0.08250727504491806,-0.04511279612779617,-0.0266245286911726,-0.06594941020011902,-0.05833369120955467,-0.06488709151744843,-0.08153193444013596,-0.007201540283858776,-0.046375397592782974,-0.011905972845852375,-0.07050372660160065,-0.05150682106614113,0.01517101377248764,-0.07259306311607361,-0.053885746747255325,-0.03138444945216179,-0.021040156483650208,0.0019578435458242893,-0.056490592658519745,-0.020614728331565857,-0.03412827104330063,-0.025256773456931114,-0.02390388399362564],\"type\":\"scatter3d\"},{\"marker\":{\"color\":\"rgba(255, 128, 2, 0.8)\"},\"mode\":\"markers\",\"name\":\"Cluster 1\",\"text\":[\"0 291 website request served <br>6 291 user logged in <br>5 291 item added to cart <br>2 291 item added to cart <br>5 291 item added to cart <br>6 291 item added to cart <br>2 291 item added to cart <br>6 291 dpd chosen for shipping <br>5 291 klarna chosen for payment <br>4 291 order placed succesful <br>\",\"0 305 website request served <br>8 305 login not succesfull <br>3 305 login not succesfull <br>6 305 user logged in <br>4 305 item added to cart <br>2 305 dhl chosen for shipping <br>7 305 paypal chosen for payment <br>3 305 order placed succesful <br>\",\"0 322 website request served <br>6 322 login not succesfull <br>2 322 user logged in <br>7 322 item added to cart <br>4 322 item added to cart <br>7 322 item added to cart <br>2 322 dpd chosen for shipping <br>4 322 paypal chosen for payment <br>7 322 order placed succesful <br>\",\"0 350 website request served <br>2 350 login not succesfull <br>6 350 user logged in <br>5 350 item added to cart <br>5 350 item added to cart <br>2 350 item added to cart <br>7 350 hermes chosen for shipping <br>5 350 paypal chosen for payment <br>4 350 order placed succesful <br>\",\"0 364 website request served <br>6 364 login not succesfull <br>2 364 login not succesfull <br>8 364 user logged in <br>3 364 item added to cart <br>3 364 hermes chosen for shipping <br>5 364 paypal chosen for payment <br>4 364 order placed succesful <br>\",\"0 371 website request served <br>4 371 user logged in <br>3 371 item added to cart <br>6 371 item added to cart <br>3 371 item added to cart <br>6 371 item added to cart <br>7 371 item added to cart <br>2 371 dhl chosen for shipping <br>3 371 paypal chosen for payment <br>5 371 order placed succesful <br>\",\"0 387 website request served <br>6 387 login not succesfull <br>2 387 login not succesfull <br>7 387 user logged in <br>4 387 item added to cart <br>5 387 item added to cart <br>3 387 dpd chosen for shipping <br>2 387 sofortueberweisung chosen for payment <br>7 387 order placed succesful <br>\",\"0 390 website request served <br>2 390 login not succesfull <br>7 390 login not succesfull <br>3 390 user logged in <br>4 390 item added to cart <br>3 390 dhl chosen for shipping <br>6 390 klarna chosen for payment <br>7 390 order placed succesful <br>\",\"0 408 website request served <br>5 408 user logged in <br>4 408 item added to cart <br>0 408 item added to cart <br>5 408 item added to cart <br>7 408 item added to cart <br>5 408 item added to cart <br>4 408 dhl chosen for shipping <br>2 408 sofortueberweisung chosen for payment <br>5 408 order placed succesful <br>\",\"0 430 website request served <br>7 430 user logged in <br>3 430 item added to cart <br>5 430 item added to cart <br>1 430 item added to cart <br>6 430 item added to cart <br>2 430 item added to cart <br>4 430 dpd chosen for shipping <br>6 430 klarna chosen for payment <br>4 430 order placed succesful <br>\",\"0 450 website request served <br>1 450 login not succesfull <br>9 450 login not succesfull <br>2 450 user logged in <br>4 450 item added to cart <br>3 450 dhl chosen for shipping <br>8 450 sofortueberweisung chosen for payment <br>1 450 order placed succesful <br>\",\"0 461 website request served <br>3 461 user logged in <br>5 461 item added to cart <br>4 461 item added to cart <br>7 461 item added to cart <br>2 461 item added to cart <br>6 461 item added to cart <br>6 461 dpd chosen for shipping <br>3 461 paypal chosen for payment <br>4 461 order placed succesful <br>\",\"0 509 website request served <br>1 509 login not succesfull <br>7 509 login not succesfull <br>4 509 user logged in <br>1 509 item added to cart <br>8 509 hermes chosen for shipping <br>1 509 paypal chosen for payment <br>9 509 order placed succesful <br>\",\"0 512 website request served <br>8 512 login not succesfull <br>1 512 login not succesfull <br>5 512 user logged in <br>4 512 item added to cart <br>4 512 dpd chosen for shipping <br>5 512 paypal chosen for payment <br>5 512 order placed succesful <br>\",\"0 514 website request served <br>3 514 login not succesfull <br>5 514 login not succesfull <br>4 514 user logged in <br>7 514 item added to cart <br>1 514 item added to cart <br>4 514 dhl chosen for shipping <br>9 514 klarna chosen for payment <br>4 514 order placed succesful <br>\",\"0 527 website request served <br>4 527 login not succesfull <br>5 527 user logged in <br>3 527 item added to cart <br>5 527 item added to cart <br>4 527 item added to cart <br>5 527 dhl chosen for shipping <br>2 527 sofortueberweisung chosen for payment <br>9 527 order placed succesful <br>\",\"0 551 website request served <br>4 551 login not succesfull <br>3 551 user logged in <br>7 551 item added to cart <br>3 551 item added to cart <br>7 551 item added to cart <br>1 551 dpd chosen for shipping <br>5 551 sofortueberweisung chosen for payment <br>6 551 order placed succesful <br>\",\"0 559 website request served <br>7 559 login not succesfull <br>2 559 login not succesfull <br>4 559 user logged in <br>4 559 item added to cart <br>8 559 item added to cart <br>5 559 dhl chosen for shipping <br>3 559 klarna chosen for payment <br>4 559 order placed succesful <br>\",\"0 571 website request served <br>8 571 login not succesfull <br>4 571 user logged in <br>4 571 item added to cart <br>5 571 item added to cart <br>4 571 item added to cart <br>5 571 hermes chosen for shipping <br>5 571 paypal chosen for payment <br>4 571 order placed succesful <br>\",\"0 585 website request served <br>7 585 user logged in <br>6 585 item added to cart <br>1 585 item added to cart <br>6 585 item added to cart <br>7 585 item added to cart <br>3 585 item added to cart <br>4 585 dpd chosen for shipping <br>5 585 paypal chosen for payment <br>4 585 order placed succesful <br>\",\"0 600 website request served <br>7 600 user logged in <br>5 600 item added to cart <br>2 600 item added to cart <br>5 600 item added to cart <br>7 600 item added to cart <br>3 600 item added to cart <br>3 600 dpd chosen for shipping <br>8 600 sofortueberweisung chosen for payment <br>0 600 order placed succesful <br>\",\"0 641 website request served <br>5 641 login not succesfull <br>6 641 login not succesfull <br>1 641 user logged in <br>5 641 item added to cart <br>3 641 item added to cart <br>7 641 dhl chosen for shipping <br>3 641 sofortueberweisung chosen for payment <br>4 641 order placed succesful <br>\",\"0 642 website request served <br>4 642 login not succesfull <br>4 642 user logged in <br>5 642 item added to cart <br>4 642 item added to cart <br>4 642 item added to cart <br>6 642 hermes chosen for shipping <br>3 642 sofortueberweisung chosen for payment <br>7 642 order placed succesful <br>\",\"0 644 website request served <br>5 644 user logged in <br>4 644 item added to cart <br>6 644 item added to cart <br>5 644 item added to cart <br>4 644 item added to cart <br>6 644 item added to cart <br>3 644 dpd chosen for shipping <br>7 644 paypal chosen for payment <br>2 644 order placed succesful <br>\",\"0 659 website request served <br>7 659 login not succesfull <br>4 659 login not succesfull <br>4 659 user logged in <br>5 659 item added to cart <br>7 659 item added to cart <br>1 659 hermes chosen for shipping <br>6 659 paypal chosen for payment <br>6 659 order placed succesful <br>\",\"0 675 website request served <br>3 675 login not succesfull <br>6 675 user logged in <br>0 675 item added to cart <br>7 675 item added to cart <br>2 675 item added to cart <br>7 675 dpd chosen for shipping <br>3 675 paypal chosen for payment <br>6 675 order placed succesful <br>\",\"0 708 website request served <br>7 708 login not succesfull <br>5 708 login not succesfull <br>4 708 user logged in <br>6 708 item added to cart <br>2 708 hermes chosen for shipping <br>3 708 klarna chosen for payment <br>9 708 order placed succesful <br>\",\"0 711 website request served <br>8 711 user logged in <br>2 711 item added to cart <br>6 711 item added to cart <br>4 711 item added to cart <br>7 711 item added to cart <br>2 711 item added to cart <br>3 711 hermes chosen for shipping <br>8 711 paypal chosen for payment <br>3 711 order placed succesful <br>\",\"0 735 website request served <br>7 735 user logged in <br>4 735 item added to cart <br>4 735 item added to cart <br>4 735 item added to cart <br>4 735 item added to cart <br>3 735 item added to cart <br>8 735 hermes chosen for shipping <br>5 735 sofortueberweisung chosen for payment <br>4 735 order placed succesful <br>\",\"0 744 website request served <br>8 744 user logged in <br>3 744 item added to cart <br>2 744 item added to cart <br>9 744 item added to cart <br>4 744 item added to cart <br>1 744 item added to cart <br>5 744 dpd chosen for shipping <br>8 744 klarna chosen for payment <br>5 744 order placed succesful <br>\",\"0 765 website request served <br>6 765 login not succesfull <br>6 765 login not succesfull <br>5 765 user logged in <br>1 765 item added to cart <br>7 765 dpd chosen for shipping <br>5 765 paypal chosen for payment <br>3 765 order placed succesful <br>\",\"0 772 website request served <br>6 772 user logged in <br>2 772 item added to cart <br>7 772 item added to cart <br>2 772 item added to cart <br>6 772 item added to cart <br>6 772 item added to cart <br>2 772 dpd chosen for shipping <br>8 772 paypal chosen for payment <br>4 772 order placed succesful <br>\",\"0 789 website request served <br>3 789 login not succesfull <br>4 789 user logged in <br>6 789 item added to cart <br>4 789 item added to cart <br>3 789 item added to cart <br>6 789 item added to cart <br>3 789 dhl chosen for shipping <br>3 789 klarna chosen for payment <br>5 789 order placed succesful <br>\",\"0 798 website request served <br>4 798 login not succesfull <br>8 798 user logged in <br>2 798 item added to cart <br>3 798 item added to cart <br>6 798 item added to cart <br>5 798 hermes chosen for shipping <br>4 798 sofortueberweisung chosen for payment <br>7 798 order placed succesful <br>\",\"0 802 website request served <br>4 802 login not succesfull <br>1 802 user logged in <br>8 802 item added to cart <br>1 802 item added to cart <br>9 802 item added to cart <br>4 802 hermes chosen for shipping <br>3 802 sofortueberweisung chosen for payment <br>2 802 order placed succesful <br>\",\"0 805 website request served <br>8 805 user logged in <br>3 805 item added to cart <br>2 805 item added to cart <br>7 805 item added to cart <br>3 805 item added to cart <br>4 805 item added to cart <br>4 805 dpd chosen for shipping <br>4 805 klarna chosen for payment <br>7 805 order placed succesful <br>\",\"0 811 website request served <br>4 811 user logged in <br>6 811 item added to cart <br>3 811 item added to cart <br>4 811 item added to cart <br>6 811 item added to cart <br>4 811 item added to cart <br>8 811 dpd chosen for shipping <br>3 811 paypal chosen for payment <br>1 811 order placed succesful <br>\",\"0 833 website request served <br>3 833 login not succesfull <br>4 833 user logged in <br>4 833 item added to cart <br>3 833 item added to cart <br>7 833 item added to cart <br>6 833 dpd chosen for shipping <br>5 833 klarna chosen for payment <br>5 833 order placed succesful <br>\",\"0 836 website request served <br>6 836 login not succesfull <br>4 836 user logged in <br>4 836 item added to cart <br>6 836 item added to cart <br>6 836 item added to cart <br>2 836 dpd chosen for shipping <br>4 836 paypal chosen for payment <br>8 836 order placed succesful <br>\",\"0 838 website request served <br>2 838 login not succesfull <br>5 838 user logged in <br>7 838 item added to cart <br>5 838 item added to cart <br>3 838 item added to cart <br>3 838 dhl chosen for shipping <br>7 838 sofortueberweisung chosen for payment <br>1 838 order placed succesful <br>\",\"0 848 website request served <br>4 848 user logged in <br>6 848 item added to cart <br>3 848 item added to cart <br>5 848 item added to cart <br>6 848 item added to cart <br>1 848 item added to cart <br>7 848 hermes chosen for shipping <br>5 848 sofortueberweisung chosen for payment <br>6 848 order placed succesful <br>\",\"0 871 website request served <br>4 871 user logged in <br>5 871 item added to cart <br>4 871 item added to cart <br>5 871 item added to cart <br>5 871 item added to cart <br>5 871 item added to cart <br>6 871 hermes chosen for shipping <br>4 871 paypal chosen for payment <br>3 871 order placed succesful <br>\"],\"x\":[18.115446090698242,15.607819557189941,17.34697723388672,16.408708572387695,15.107047080993652,18.570722579956055,23.8027286529541,15.099488258361816,16.995376586914062,19.050079345703125,17.99795913696289,18.225292205810547,18.624897003173828,14.714461326599121,24.70592498779297,16.959781646728516,17.276103973388672,23.740365982055664,15.633150100708008,18.91120147705078,19.098236083984375,23.56850814819336,15.566274642944336,17.94576644897461,23.807130813598633,17.088348388671875,15.869211196899414,20.73827362060547,17.873149871826172,21.821474075317383,14.969254493713379,20.22290802001953,24.825551986694336,17.18313217163086,19.983312606811523,19.294178009033203,19.320714950561523,15.91447639465332,17.055023193359375,17.579605102539062,18.710119247436523,16.59967613220215],\"y\":[-1.0629420280456543,1.7259836196899414,0.35142621397972107,0.3667238652706146,1.7144132852554321,-1.0551352500915527,1.4949002265930176,1.6713452339172363,-1.0689477920532227,-1.0513169765472412,1.8226842880249023,-1.0802801847457886,1.8371860980987549,1.7282471656799316,1.5677982568740845,0.40067368745803833,0.3579225242137909,1.5498017072677612,0.3717353343963623,-1.065761685371399,-1.014736294746399,1.522252082824707,0.2981114089488983,-1.0818092823028564,1.5033202171325684,0.37269920110702515,1.703589677810669,-0.9552775025367737,-1.0866310596466064,-0.8787922263145447,1.6890274286270142,-1.0004401206970215,0.11488944292068481,0.3780769407749176,0.49829021096229553,-1.0396175384521484,-1.0130094289779663,0.3355855345726013,0.3861837685108185,0.39650845527648926,-1.0766807794570923,-1.0990567207336426],\"z\":[-1.0568009201961104e-05,0.024365955963730812,0.025069208815693855,0.0023419775534421206,0.029955117031931877,-0.011326942592859268,0.04372413456439972,0.06237022951245308,0.021055981516838074,-0.010535988956689835,-0.07829352468252182,0.020590249449014664,-0.11141086369752884,0.036168791353702545,-0.02381269447505474,-0.011914337985217571,0.03600189462304115,0.010578754357993603,0.03292136639356613,0.0009116868022829294,-0.0283890962600708,0.029529688879847527,0.09349693357944489,0.02006542682647705,0.027784302830696106,0.03628470376133919,0.012088259682059288,-0.1125158742070198,0.029771415516734123,-0.1722845882177353,0.05663074553012848,-0.06434483826160431,0.0358143225312233,0.012029234319925308,-0.11331850290298462,-0.016493406146764755,-0.020432593300938606,0.06854444742202759,0.03338231146335602,-0.01706968992948532,-0.000979169039055705,0.03251446783542633],\"type\":\"scatter3d\"},{\"marker\":{\"color\":\"rgba(0, 255, 200, 0.8)\"},\"mode\":\"markers\",\"name\":\"Cluster 2\",\"text\":[\"0 293 website request served <br>7 293 login not succesfull <br>3 293 user logged in <br>5 293 item added to cart <br>6 293 dpd chosen for shipping <br>4 293 klarna chosen for payment <br>5 293 order placed succesful <br>\",\"0 298 website request served <br>5 298 login not succesfull <br>6 298 user logged in <br>2 298 item added to cart <br>4 298 hermes chosen for shipping <br>4 298 klarna chosen for payment <br>6 298 order placed succesful <br>\",\"0 301 website request served <br>3 301 login not succesfull <br>4 301 user logged in <br>5 301 item added to cart <br>6 301 dpd chosen for shipping <br>1 301 sofortueberweisung chosen for payment <br>5 301 order placed succesful <br>\",\"0 303 website request served <br>2 303 login not succesfull <br>5 303 user logged in <br>7 303 item added to cart <br>1 303 dpd chosen for shipping <br>8 303 sofortueberweisung chosen for payment <br>5 303 order placed succesful <br>\",\"0 312 website request served <br>4 312 user logged in <br>3 312 item added to cart <br>4 312 item added to cart <br>4 312 item added to cart <br>8 312 hermes chosen for shipping <br>4 312 sofortueberweisung chosen for payment <br>4 312 order placed succesful <br>\",\"0 314 website request served <br>1 314 login not succesfull <br>6 314 user logged in <br>4 314 item added to cart <br>5 314 hermes chosen for shipping <br>5 314 sofortueberweisung chosen for payment <br>3 314 order placed succesful <br>\",\"0 325 website request served <br>6 325 login not succesfull <br>7 325 user logged in <br>4 325 item added to cart <br>5 325 dpd chosen for shipping <br>4 325 paypal chosen for payment <br>3 325 order placed succesful <br>\",\"0 326 website request served <br>7 326 user logged in <br>2 326 item added to cart <br>9 326 item added to cart <br>3 326 item added to cart <br>5 326 hermes chosen for shipping <br>2 326 klarna chosen for payment <br>7 326 order placed succesful <br>\",\"0 329 website request served <br>8 329 user logged in <br>0 329 item added to cart <br>6 329 item added to cart <br>4 329 item added to cart <br>7 329 hermes chosen for shipping <br>4 329 klarna chosen for payment <br>5 329 order placed succesful <br>\",\"0 330 website request served <br>3 330 user logged in <br>5 330 item added to cart <br>7 330 item added to cart <br>1 330 item added to cart <br>7 330 dpd chosen for shipping <br>1 330 sofortueberweisung chosen for payment <br>8 330 order placed succesful <br>\",\"0 344 website request served <br>4 344 login not succesfull <br>8 344 user logged in <br>5 344 item added to cart <br>3 344 hermes chosen for shipping <br>2 344 klarna chosen for payment <br>7 344 order placed succesful <br>\",\"0 346 website request served <br>2 346 user logged in <br>7 346 item added to cart <br>5 346 item added to cart <br>1 346 item added to cart <br>8 346 dhl chosen for shipping <br>2 346 sofortueberweisung chosen for payment <br>6 346 order placed succesful <br>\",\"0 354 website request served <br>2 354 user logged in <br>6 354 item added to cart <br>3 354 item added to cart <br>8 354 item added to cart <br>5 354 dhl chosen for shipping <br>2 354 sofortueberweisung chosen for payment <br>4 354 order placed succesful <br>\",\"0 357 website request served <br>2 357 user logged in <br>6 357 item added to cart <br>5 357 item added to cart <br>4 357 item added to cart <br>5 357 hermes chosen for shipping <br>3 357 klarna chosen for payment <br>3 357 order placed succesful <br>\",\"0 367 website request served <br>5 367 user logged in <br>7 367 item added to cart <br>4 367 item added to cart <br>6 367 item added to cart <br>4 367 dpd chosen for shipping <br>1 367 paypal chosen for payment <br>4 367 order placed succesful <br>\",\"0 368 website request served <br>8 368 login not succesfull <br>4 368 user logged in <br>4 368 item added to cart <br>1 368 dpd chosen for shipping <br>8 368 paypal chosen for payment <br>5 368 order placed succesful <br>\",\"0 370 website request served <br>4 370 login not succesfull <br>6 370 user logged in <br>4 370 item added to cart <br>6 370 dhl chosen for shipping <br>3 370 klarna chosen for payment <br>4 370 order placed succesful <br>\",\"0 383 website request served <br>6 383 user logged in <br>5 383 item added to cart <br>4 383 item added to cart <br>4 383 item added to cart <br>6 383 hermes chosen for shipping <br>2 383 sofortueberweisung chosen for payment <br>7 383 order placed succesful <br>\",\"0 397 website request served <br>5 397 login not succesfull <br>0 397 user logged in <br>5 397 item added to cart <br>9 397 dhl chosen for shipping <br>1 397 paypal chosen for payment <br>8 397 order placed succesful <br>\",\"0 398 website request served <br>7 398 login not succesfull <br>4 398 user logged in <br>1 398 item added to cart <br>8 398 hermes chosen for shipping <br>2 398 paypal chosen for payment <br>5 398 order placed succesful <br>\",\"0 406 website request served <br>7 406 user logged in <br>0 406 item added to cart <br>6 406 item added to cart <br>5 406 item added to cart <br>5 406 dpd chosen for shipping <br>3 406 klarna chosen for payment <br>6 406 order placed succesful <br>\",\"0 407 website request served <br>9 407 login not succesfull <br>1 407 user logged in <br>5 407 item added to cart <br>6 407 dhl chosen for shipping <br>3 407 sofortueberweisung chosen for payment <br>6 407 order placed succesful <br>\",\"0 414 website request served <br>7 414 login not succesfull <br>5 414 user logged in <br>5 414 item added to cart <br>1 414 dhl chosen for shipping <br>5 414 sofortueberweisung chosen for payment <br>5 414 order placed succesful <br>\",\"0 417 website request served <br>7 417 user logged in <br>2 417 item added to cart <br>4 417 item added to cart <br>8 417 item added to cart <br>5 417 dhl chosen for shipping <br>4 417 klarna chosen for payment <br>2 417 order placed succesful <br>\",\"0 419 website request served <br>4 419 login not succesfull <br>8 419 user logged in <br>5 419 item added to cart <br>4 419 dhl chosen for shipping <br>2 419 paypal chosen for payment <br>4 419 order placed succesful <br>\",\"0 420 website request served <br>4 420 user logged in <br>3 420 item added to cart <br>6 420 item added to cart <br>7 420 item added to cart <br>3 420 hermes chosen for shipping <br>6 420 klarna chosen for payment <br>2 420 order placed succesful <br>\",\"0 424 website request served <br>7 424 user logged in <br>2 424 item added to cart <br>6 424 item added to cart <br>6 424 item added to cart <br>1 424 dpd chosen for shipping <br>7 424 sofortueberweisung chosen for payment <br>3 424 order placed succesful <br>\",\"0 434 website request served <br>5 434 user logged in <br>6 434 item added to cart <br>1 434 item added to cart <br>3 434 item added to cart <br>8 434 hermes chosen for shipping <br>1 434 sofortueberweisung chosen for payment <br>5 434 order placed succesful <br>\",\"0 440 website request served <br>4 440 user logged in <br>4 440 item added to cart <br>7 440 item added to cart <br>2 440 item added to cart <br>3 440 dpd chosen for shipping <br>7 440 sofortueberweisung chosen for payment <br>3 440 order placed succesful <br>\",\"0 443 website request served <br>2 443 user logged in <br>4 443 item added to cart <br>9 443 item added to cart <br>1 443 item added to cart <br>6 443 dpd chosen for shipping <br>6 443 paypal chosen for payment <br>4 443 order placed succesful <br>\",\"0 448 website request served <br>3 448 user logged in <br>4 448 item added to cart <br>8 448 item added to cart <br>2 448 item added to cart <br>7 448 dpd chosen for shipping <br>2 448 klarna chosen for payment <br>7 448 order placed succesful <br>\",\"0 454 website request served <br>6 454 login not succesfull <br>5 454 user logged in <br>2 454 item added to cart <br>6 454 hermes chosen for shipping <br>5 454 sofortueberweisung chosen for payment <br>5 454 order placed succesful <br>\",\"0 471 website request served <br>4 471 login not succesfull <br>2 471 user logged in <br>4 471 item added to cart <br>7 471 hermes chosen for shipping <br>6 471 sofortueberweisung chosen for payment <br>2 471 order placed succesful <br>\",\"0 472 website request served <br>6 472 login not succesfull <br>4 472 user logged in <br>7 472 item added to cart <br>2 472 dhl chosen for shipping <br>7 472 klarna chosen for payment <br>2 472 order placed succesful <br>\",\"0 478 website request served <br>3 478 login not succesfull <br>7 478 user logged in <br>4 478 item added to cart <br>6 478 dpd chosen for shipping <br>4 478 klarna chosen for payment <br>2 478 order placed succesful <br>\",\"0 482 website request served <br>1 482 user logged in <br>3 482 item added to cart <br>8 482 item added to cart <br>5 482 item added to cart <br>1 482 dhl chosen for shipping <br>4 482 klarna chosen for payment <br>5 482 order placed succesful <br>\",\"0 488 website request served <br>3 488 user logged in <br>1 488 item added to cart <br>4 488 item added to cart <br>9 488 item added to cart <br>1 488 dhl chosen for shipping <br>4 488 klarna chosen for payment <br>6 488 order placed succesful <br>\",\"0 489 website request served <br>1 489 login not succesfull <br>6 489 user logged in <br>2 489 item added to cart <br>6 489 dhl chosen for shipping <br>6 489 paypal chosen for payment <br>5 489 order placed succesful <br>\",\"0 491 website request served <br>4 491 user logged in <br>6 491 item added to cart <br>1 491 item added to cart <br>7 491 item added to cart <br>2 491 dpd chosen for shipping <br>7 491 klarna chosen for payment <br>5 491 order placed succesful <br>\",\"0 493 website request served <br>4 493 user logged in <br>7 493 item added to cart <br>1 493 item added to cart <br>7 493 item added to cart <br>5 493 dpd chosen for shipping <br>6 493 paypal chosen for payment <br>3 493 order placed succesful <br>\",\"0 494 website request served <br>4 494 user logged in <br>4 494 item added to cart <br>7 494 item added to cart <br>2 494 item added to cart <br>6 494 hermes chosen for shipping <br>7 494 paypal chosen for payment <br>2 494 order placed succesful <br>\",\"0 499 website request served <br>6 499 login not succesfull <br>0 499 user logged in <br>8 499 item added to cart <br>3 499 hermes chosen for shipping <br>6 499 klarna chosen for payment <br>3 499 order placed succesful <br>\",\"0 501 website request served <br>5 501 user logged in <br>5 501 item added to cart <br>7 501 item added to cart <br>1 501 item added to cart <br>6 501 dpd chosen for shipping <br>4 501 paypal chosen for payment <br>5 501 order placed succesful <br>\",\"0 502 website request served <br>3 502 user logged in <br>2 502 item added to cart <br>4 502 item added to cart <br>7 502 item added to cart <br>7 502 dpd chosen for shipping <br>4 502 paypal chosen for payment <br>3 502 order placed succesful <br>\",\"0 520 website request served <br>6 520 user logged in <br>4 520 item added to cart <br>2 520 item added to cart <br>9 520 item added to cart <br>1 520 dpd chosen for shipping <br>5 520 klarna chosen for payment <br>4 520 order placed succesful <br>\",\"0 528 website request served <br>4 528 login not succesfull <br>4 528 user logged in <br>6 528 item added to cart <br>3 528 dpd chosen for shipping <br>3 528 paypal chosen for payment <br>4 528 order placed succesful <br>\",\"0 540 website request served <br>3 540 user logged in <br>2 540 item added to cart <br>8 540 item added to cart <br>2 540 item added to cart <br>6 540 dhl chosen for shipping <br>4 540 paypal chosen for payment <br>6 540 order placed succesful <br>\",\"0 543 website request served <br>6 543 user logged in <br>5 543 item added to cart <br>3 543 item added to cart <br>7 543 item added to cart <br>5 543 hermes chosen for shipping <br>2 543 sofortueberweisung chosen for payment <br>4 543 order placed succesful <br>\",\"0 545 website request served <br>3 545 user logged in <br>7 545 item added to cart <br>4 545 item added to cart <br>4 545 item added to cart <br>6 545 dhl chosen for shipping <br>4 545 sofortueberweisung chosen for payment <br>3 545 order placed succesful <br>\",\"0 562 website request served <br>6 562 login not succesfull <br>4 562 user logged in <br>4 562 item added to cart <br>5 562 dpd chosen for shipping <br>8 562 klarna chosen for payment <br>6 562 order placed succesful <br>\",\"0 565 website request served <br>6 565 user logged in <br>4 565 item added to cart <br>5 565 item added to cart <br>3 565 item added to cart <br>7 565 dhl chosen for shipping <br>5 565 paypal chosen for payment <br>5 565 order placed succesful <br>\",\"0 577 website request served <br>6 577 user logged in <br>4 577 item added to cart <br>2 577 item added to cart <br>6 577 item added to cart <br>3 577 hermes chosen for shipping <br>6 577 paypal chosen for payment <br>5 577 order placed succesful <br>\",\"0 578 website request served <br>3 578 user logged in <br>7 578 item added to cart <br>3 578 item added to cart <br>5 578 item added to cart <br>8 578 hermes chosen for shipping <br>1 578 paypal chosen for payment <br>8 578 order placed succesful <br>\",\"0 587 website request served <br>5 587 login not succesfull <br>7 587 user logged in <br>3 587 item added to cart <br>6 587 hermes chosen for shipping <br>1 587 klarna chosen for payment <br>8 587 order placed succesful <br>\",\"0 594 website request served <br>4 594 login not succesfull <br>6 594 user logged in <br>4 594 item added to cart <br>4 594 dpd chosen for shipping <br>4 594 sofortueberweisung chosen for payment <br>6 594 order placed succesful <br>\",\"0 595 website request served <br>2 595 user logged in <br>5 595 item added to cart <br>4 595 item added to cart <br>6 595 item added to cart <br>6 595 dhl chosen for shipping <br>2 595 sofortueberweisung chosen for payment <br>4 595 order placed succesful <br>\",\"0 598 website request served <br>6 598 user logged in <br>3 598 item added to cart <br>4 598 item added to cart <br>8 598 item added to cart <br>3 598 dpd chosen for shipping <br>3 598 paypal chosen for payment <br>9 598 order placed succesful <br>\",\"0 617 website request served <br>4 617 login not succesfull <br>4 617 user logged in <br>4 617 item added to cart <br>4 617 hermes chosen for shipping <br>5 617 klarna chosen for payment <br>6 617 order placed succesful <br>\",\"0 622 website request served <br>6 622 user logged in <br>5 622 item added to cart <br>3 622 item added to cart <br>3 622 item added to cart <br>8 622 hermes chosen for shipping <br>3 622 klarna chosen for payment <br>6 622 order placed succesful <br>\",\"0 636 website request served <br>3 636 user logged in <br>6 636 item added to cart <br>5 636 item added to cart <br>6 636 item added to cart <br>3 636 dpd chosen for shipping <br>6 636 sofortueberweisung chosen for payment <br>2 636 order placed succesful <br>\",\"0 645 website request served <br>1 645 login not succesfull <br>7 645 user logged in <br>2 645 item added to cart <br>7 645 dpd chosen for shipping <br>6 645 paypal chosen for payment <br>1 645 order placed succesful <br>\",\"0 677 website request served <br>7 677 login not succesfull <br>5 677 user logged in <br>4 677 item added to cart <br>4 677 dpd chosen for shipping <br>6 677 klarna chosen for payment <br>0 677 order placed succesful <br>\",\"0 688 website request served <br>4 688 login not succesfull <br>3 688 user logged in <br>3 688 item added to cart <br>5 688 dhl chosen for shipping <br>3 688 paypal chosen for payment <br>7 688 order placed succesful <br>\",\"0 693 website request served <br>4 693 user logged in <br>6 693 item added to cart <br>3 693 item added to cart <br>6 693 item added to cart <br>4 693 dhl chosen for shipping <br>3 693 klarna chosen for payment <br>6 693 order placed succesful <br>\",\"0 697 website request served <br>5 697 login not succesfull <br>5 697 user logged in <br>3 697 item added to cart <br>3 697 hermes chosen for shipping <br>6 697 paypal chosen for payment <br>3 697 order placed succesful <br>\",\"0 699 website request served <br>4 699 login not succesfull <br>8 699 user logged in <br>1 699 item added to cart <br>4 699 dpd chosen for shipping <br>7 699 sofortueberweisung chosen for payment <br>2 699 order placed succesful <br>\",\"0 701 website request served <br>4 701 user logged in <br>1 701 item added to cart <br>5 701 item added to cart <br>8 701 item added to cart <br>1 701 hermes chosen for shipping <br>8 701 paypal chosen for payment <br>1 701 order placed succesful <br>\",\"0 705 website request served <br>7 705 user logged in <br>4 705 item added to cart <br>6 705 item added to cart <br>5 705 item added to cart <br>3 705 dpd chosen for shipping <br>5 705 sofortueberweisung chosen for payment <br>2 705 order placed succesful <br>\",\"0 712 website request served <br>1 712 login not succesfull <br>6 712 user logged in <br>6 712 item added to cart <br>2 712 dhl chosen for shipping <br>7 712 paypal chosen for payment <br>5 712 order placed succesful <br>\",\"0 715 website request served <br>8 715 user logged in <br>5 715 item added to cart <br>1 715 item added to cart <br>6 715 item added to cart <br>4 715 dpd chosen for shipping <br>4 715 paypal chosen for payment <br>7 715 order placed succesful <br>\",\"0 716 website request served <br>6 716 login not succesfull <br>6 716 user logged in <br>1 716 item added to cart <br>9 716 hermes chosen for shipping <br>0 716 klarna chosen for payment <br>9 716 order placed succesful <br>\",\"0 721 website request served <br>6 721 user logged in <br>3 721 item added to cart <br>5 721 item added to cart <br>6 721 item added to cart <br>3 721 hermes chosen for shipping <br>4 721 paypal chosen for payment <br>1 721 order placed succesful <br>\",\"0 722 website request served <br>3 722 login not succesfull <br>4 722 user logged in <br>8 722 item added to cart <br>1 722 dhl chosen for shipping <br>7 722 klarna chosen for payment <br>4 722 order placed succesful <br>\",\"0 745 website request served <br>7 745 login not succesfull <br>4 745 user logged in <br>4 745 item added to cart <br>4 745 hermes chosen for shipping <br>6 745 paypal chosen for payment <br>5 745 order placed succesful <br>\",\"0 746 website request served <br>1 746 user logged in <br>4 746 item added to cart <br>6 746 item added to cart <br>6 746 item added to cart <br>7 746 dhl chosen for shipping <br>5 746 paypal chosen for payment <br>3 746 order placed succesful <br>\",\"0 750 website request served <br>7 750 user logged in <br>4 750 item added to cart <br>6 750 item added to cart <br>6 750 item added to cart <br>4 750 dhl chosen for shipping <br>1 750 klarna chosen for payment <br>6 750 order placed succesful <br>\",\"0 753 website request served <br>3 753 user logged in <br>5 753 item added to cart <br>2 753 item added to cart <br>5 753 item added to cart <br>6 753 dhl chosen for shipping <br>4 753 paypal chosen for payment <br>4 753 order placed succesful <br>\",\"0 760 website request served <br>4 760 user logged in <br>7 760 item added to cart <br>2 760 item added to cart <br>6 760 item added to cart <br>3 760 dpd chosen for shipping <br>5 760 paypal chosen for payment <br>3 760 order placed succesful <br>\",\"0 761 website request served <br>8 761 login not succesfull <br>2 761 user logged in <br>4 761 item added to cart <br>6 761 dpd chosen for shipping <br>2 761 klarna chosen for payment <br>9 761 order placed succesful <br>\",\"0 763 website request served <br>5 763 user logged in <br>3 763 item added to cart <br>7 763 item added to cart <br>1 763 item added to cart <br>5 763 dhl chosen for shipping <br>5 763 paypal chosen for payment <br>3 763 order placed succesful <br>\",\"0 766 website request served <br>8 766 user logged in <br>0 766 item added to cart <br>6 766 item added to cart <br>4 766 item added to cart <br>5 766 dpd chosen for shipping <br>5 766 paypal chosen for payment <br>6 766 order placed succesful <br>\",\"0 769 website request served <br>8 769 login not succesfull <br>1 769 user logged in <br>5 769 item added to cart <br>8 769 hermes chosen for shipping <br>1 769 klarna chosen for payment <br>8 769 order placed succesful <br>\",\"0 771 website request served <br>1 771 user logged in <br>6 771 item added to cart <br>7 771 item added to cart <br>5 771 item added to cart <br>4 771 dhl chosen for shipping <br>0 771 sofortueberweisung chosen for payment <br>5 771 order placed succesful <br>\",\"0 773 website request served <br>6 773 user logged in <br>6 773 item added to cart <br>5 773 item added to cart <br>3 773 item added to cart <br>7 773 dhl chosen for shipping <br>3 773 klarna chosen for payment <br>6 773 order placed succesful <br>\",\"0 782 website request served <br>7 782 user logged in <br>4 782 item added to cart <br>3 782 item added to cart <br>6 782 item added to cart <br>3 782 hermes chosen for shipping <br>4 782 sofortueberweisung chosen for payment <br>7 782 order placed succesful <br>\",\"0 787 website request served <br>2 787 login not succesfull <br>3 787 user logged in <br>6 787 item added to cart <br>5 787 hermes chosen for shipping <br>5 787 klarna chosen for payment <br>5 787 order placed succesful <br>\",\"0 792 website request served <br>1 792 user logged in <br>8 792 item added to cart <br>5 792 item added to cart <br>4 792 item added to cart <br>5 792 dhl chosen for shipping <br>3 792 klarna chosen for payment <br>5 792 order placed succesful <br>\",\"0 797 website request served <br>2 797 login not succesfull <br>5 797 user logged in <br>5 797 item added to cart <br>7 797 hermes chosen for shipping <br>2 797 sofortueberweisung chosen for payment <br>5 797 order placed succesful <br>\",\"0 803 website request served <br>7 803 login not succesfull <br>4 803 user logged in <br>6 803 item added to cart <br>6 803 dpd chosen for shipping <br>1 803 paypal chosen for payment <br>7 803 order placed succesful <br>\",\"0 807 website request served <br>5 807 user logged in <br>7 807 item added to cart <br>7 807 item added to cart <br>3 807 item added to cart <br>5 807 hermes chosen for shipping <br>5 807 sofortueberweisung chosen for payment <br>5 807 order placed succesful <br>\",\"0 813 website request served <br>0 813 user logged in <br>8 813 item added to cart <br>5 813 item added to cart <br>2 813 item added to cart <br>3 813 dpd chosen for shipping <br>7 813 sofortueberweisung chosen for payment <br>6 813 order placed succesful <br>\",\"0 837 website request served <br>4 837 user logged in <br>6 837 item added to cart <br>5 837 item added to cart <br>4 837 item added to cart <br>4 837 hermes chosen for shipping <br>4 837 paypal chosen for payment <br>3 837 order placed succesful <br>\",\"0 839 website request served <br>8 839 user logged in <br>2 839 item added to cart <br>4 839 item added to cart <br>6 839 item added to cart <br>4 839 hermes chosen for shipping <br>5 839 sofortueberweisung chosen for payment <br>3 839 order placed succesful <br>\",\"0 840 website request served <br>9 840 user logged in <br>3 840 item added to cart <br>1 840 item added to cart <br>5 840 item added to cart <br>9 840 dhl chosen for shipping <br>2 840 paypal chosen for payment <br>5 840 order placed succesful <br>\",\"0 846 website request served <br>2 846 user logged in <br>6 846 item added to cart <br>6 846 item added to cart <br>3 846 item added to cart <br>5 846 dhl chosen for shipping <br>3 846 klarna chosen for payment <br>5 846 order placed succesful <br>\",\"0 850 website request served <br>6 850 user logged in <br>4 850 item added to cart <br>5 850 item added to cart <br>5 850 item added to cart <br>2 850 dpd chosen for shipping <br>4 850 klarna chosen for payment <br>6 850 order placed succesful <br>\",\"0 852 website request served <br>5 852 login not succesfull <br>8 852 user logged in <br>1 852 item added to cart <br>7 852 dpd chosen for shipping <br>3 852 sofortueberweisung chosen for payment <br>6 852 order placed succesful <br>\",\"0 870 website request served <br>6 870 user logged in <br>5 870 item added to cart <br>4 870 item added to cart <br>4 870 item added to cart <br>5 870 hermes chosen for shipping <br>2 870 sofortueberweisung chosen for payment <br>7 870 order placed succesful <br>\",\"0 884 website request served <br>1 884 user logged in <br>8 884 item added to cart <br>2 884 item added to cart <br>6 884 item added to cart <br>2 884 dpd chosen for shipping <br>4 884 klarna chosen for payment <br>8 884 order placed succesful <br>\",\"0 886 website request served <br>2 886 login not succesfull <br>5 886 user logged in <br>2 886 item added to cart <br>5 886 dhl chosen for shipping <br>4 886 sofortueberweisung chosen for payment <br>7 886 order placed succesful <br>\"],\"x\":[-0.6903836727142334,-0.5797775387763977,-0.3201048970222473,1.0725786685943604,1.1653664112091064,-0.299098938703537,-0.7525163292884827,3.7046775817871094,1.6813368797302246,3.9510085582733154,0.534674346446991,3.6737358570098877,2.5237979888916016,1.2885754108428955,1.5792491436004639,1.1656429767608643,-0.7860744595527649,1.4204667806625366,1.623918890953064,1.1296600103378296,1.165486216545105,1.4673134088516235,-0.3462007939815521,2.5415468215942383,-0.16766788065433502,2.0371475219726562,3.061774969100952,3.344041109085083,1.7951117753982544,3.4545888900756836,3.1924233436584473,-0.6833147406578064,-0.02233235538005829,0.5496212244033813,-0.19364285469055176,3.2022812366485596,3.9874203205108643,0.5702773332595825,2.6203155517578125,2.2909798622131348,2.144777297973633,0.3312728703022003,1.5736477375030518,1.8302322626113892,3.233332872390747,-0.9411475658416748,2.8482840061187744,1.3864253759384155,1.1723768711090088,-0.10959997773170471,0.943768322467804,1.5410680770874023,3.891126871109009,1.2185636758804321,-1.1877375841140747,1.5221829414367676,3.501446485519409,-1.3438071012496948,2.3495736122131348,1.7391936779022217,1.738221526145935,-0.9992145299911499,-0.4787812829017639,1.3923308849334717,-0.6825727224349976,1.0779080390930176,4.821786403656006,1.364344596862793,0.7318540215492249,2.6121065616607666,2.6687166690826416,1.9421374797821045,0.9881597757339478,-0.9744096398353577,2.18479061126709,2.2869443893432617,1.0067124366760254,1.657589077949524,2.0548465251922607,1.8613845109939575,1.418501853942871,3.1367218494415283,1.5328766107559204,1.8459373712539673,1.5872085094451904,-0.6148269176483154,2.250624179840088,-0.30294564366340637,0.6167464852333069,1.0341160297393799,2.3278968334198,0.45139169692993164,1.9656765460968018,4.720664024353027,1.6167116165161133,1.042410969734192,1.0993504524230957,1.1311004161834717,4.292568206787109,-0.26073116064071655],\"y\":[0.722063422203064,0.7220702171325684,0.7425044178962708,0.8046303987503052,-0.544297993183136,0.7397263646125793,0.7165933847427368,-0.4734691381454468,-0.5022292137145996,-0.44416141510009766,0.7786338925361633,-0.43865785002708435,-0.4727325141429901,-0.5323577523231506,-0.5319393277168274,0.8420213460922241,0.7189604640007019,-0.5656782388687134,0.8794840574264526,0.8097811937332153,-0.5308672785758972,0.8031861782073975,0.7607996463775635,-0.46997740864753723,0.7829061150550842,-0.5400215983390808,-0.5171121954917908,-0.4414959251880646,-0.5578551888465881,-0.464883416891098,-0.47729799151420593,0.7253153920173645,0.7188968658447266,0.7516227960586548,0.7250797152519226,-0.4169269800186157,-0.4309203326702118,0.7833223938941956,-0.509939968585968,-0.5174477100372314,-0.5378473997116089,0.7852745652198792,-0.514443576335907,-0.5407730937004089,-0.46463364362716675,0.7138162851333618,-0.45889756083488464,-0.5522712469100952,-0.564287543296814,0.7584311366081238,-0.5311219692230225,-0.5372656583786011,-0.40810588002204895,0.8021674156188965,0.683466911315918,-0.5333587527275085,-0.44450509548187256,0.697176456451416,-0.49014416337013245,-0.5412684082984924,0.7983078360557556,0.7226877212524414,0.7431204319000244,-0.5435330271720886,0.7373479604721069,0.7879860401153564,-0.3529519736766815,-0.5493505001068115,0.7822108268737793,-0.47597262263298035,0.8533457517623901,-0.5133703351020813,0.8038187026977539,0.7041494846343994,-0.5032137632369995,-0.5196185111999512,-0.5235351920127869,-0.5308560729026794,0.8355391621589661,-0.48655930161476135,-0.4863938093185425,0.9275946021080017,-0.5076449513435364,-0.5304542779922485,-0.5759405493736267,0.7431474924087524,-0.44808247685432434,0.738629937171936,0.7459200620651245,-0.5566105842590332,-0.4825676381587982,-0.5689334273338318,-0.5093829035758972,-0.3811957836151123,-0.5108718872070312,-0.5442571043968201,0.7915459275245667,-0.5624309778213501,-0.39475217461586,0.7455146312713623],\"z\":[0.13732430338859558,0.12582212686538696,0.12414591014385223,0.054071806371212006,0.08957044035196304,0.11006652563810349,0.14597401022911072,-0.04158024117350578,0.050422508269548416,-0.024236280471086502,0.06765928119421005,-0.036386486142873764,0.010166436433792114,0.052525587379932404,0.06991689652204514,0.042322516441345215,0.15042763948440552,0.08068057894706726,-0.004644989967346191,0.03448387607932091,0.08359748870134354,0.04739917442202568,0.088275246322155,-0.0003069884260185063,0.08701898902654648,0.05461117997765541,0.03773953765630722,-0.029184533283114433,0.08451303094625473,-0.006590466480702162,0.003234534291550517,0.1168505996465683,0.1176358014345169,0.08659441024065018,0.13345381617546082,-0.03958675637841225,-0.040614720433950424,0.07156851142644882,0.029855147004127502,0.04350036010146141,0.039245836436748505,0.09343453496694565,0.04560394585132599,0.06656593829393387,-0.008199462667107582,0.1604623645544052,-0.003106516320258379,0.06433490663766861,0.10235530883073807,0.11963380128145218,0.0596105195581913,0.058324605226516724,-0.060115277767181396,0.046177759766578674,0.19262491166591644,0.06404157727956772,-0.0119472686201334,0.15994085371494293,0.02422330714762211,0.07939905673265457,0.044886648654937744,0.15851520001888275,0.11394932866096497,0.08725322037935257,0.11214961856603622,0.07720155268907547,-0.10898686945438385,0.07913394272327423,0.06465937942266464,0.02023077756166458,-0.006969680078327656,0.03903704136610031,0.06200466305017471,0.1429980993270874,0.032961200922727585,0.052371855825185776,0.058130476623773575,0.06167203187942505,0.02005804516375065,0.011941793374717236,0.057263392955064774,-0.05747340992093086,0.0563524104654789,0.060351673513650894,0.09061262756586075,0.0987071543931961,-0.00826373789459467,0.09005958586931229,0.10613290220499039,0.061140429228544235,0.04005102068185806,0.10167090594768524,0.04155014082789421,-0.11295642703771591,0.04204097390174866,0.08318597078323364,0.07441496104001999,0.07600636035203934,-0.05625230446457863,0.0987681970000267],\"type\":\"scatter3d\"},{\"marker\":{\"color\":\"rgba(10, 255, 10, 0.8)\"},\"mode\":\"markers\",\"name\":\"Cluster 2\",\"text\":[\"0 304 website request served <br>7 304 user logged in <br>0 304 item added to cart <br>6 304 item added to cart <br>4 304 item added to cart <br>7 304 item added to cart <br>5 304 item added to cart <br>4 304 item added to cart <br>4 304 hermes chosen for shipping <br>3 304 klarna chosen for payment <br>4 304 order placed succesful <br>\",\"0 323 website request served <br>6 323 user logged in <br>4 323 item added to cart <br>1 323 item added to cart <br>8 323 item added to cart <br>2 323 item added to cart <br>7 323 item added to cart <br>5 323 item added to cart <br>2 323 dhl chosen for shipping <br>4 323 paypal chosen for payment <br>8 323 order placed succesful <br>\",\"0 363 website request served <br>4 363 login not succesfull <br>1 363 login not succesfull <br>8 363 user logged in <br>3 363 item added to cart <br>3 363 item added to cart <br>7 363 item added to cart <br>2 363 hermes chosen for shipping <br>5 363 klarna chosen for payment <br>9 363 order placed succesful <br>\",\"0 375 website request served <br>2 375 user logged in <br>7 375 item added to cart <br>1 375 item added to cart <br>6 375 item added to cart <br>4 375 item added to cart <br>4 375 item added to cart <br>8 375 item added to cart <br>3 375 hermes chosen for shipping <br>6 375 paypal chosen for payment <br>4 375 order placed succesful <br>\",\"0 380 website request served <br>4 380 login not succesfull <br>5 380 login not succesfull <br>2 380 user logged in <br>3 380 item added to cart <br>9 380 item added to cart <br>3 380 item added to cart <br>4 380 dpd chosen for shipping <br>4 380 klarna chosen for payment <br>6 380 order placed succesful <br>\",\"0 389 website request served <br>7 389 user logged in <br>4 389 item added to cart <br>5 389 item added to cart <br>4 389 item added to cart <br>5 389 item added to cart <br>4 389 item added to cart <br>4 389 item added to cart <br>1 389 dpd chosen for shipping <br>8 389 sofortueberweisung chosen for payment <br>2 389 order placed succesful <br>\",\"0 421 website request served <br>4 421 user logged in <br>7 421 item added to cart <br>3 421 item added to cart <br>4 421 item added to cart <br>4 421 item added to cart <br>9 421 item added to cart <br>2 421 item added to cart <br>6 421 item added to cart <br>6 421 dpd chosen for shipping <br>2 421 sofortueberweisung chosen for payment <br>7 421 order placed succesful <br>\",\"0 490 website request served <br>1 490 login not succesfull <br>8 490 user logged in <br>2 490 item added to cart <br>2 490 item added to cart <br>6 490 item added to cart <br>5 490 item added to cart <br>6 490 item added to cart <br>6 490 hermes chosen for shipping <br>4 490 klarna chosen for payment <br>5 490 order placed succesful <br>\",\"0 537 website request served <br>3 537 login not succesfull <br>3 537 login not succesfull <br>4 537 login not succesfull <br>8 537 user logged in <br>3 537 item added to cart <br>5 537 dhl chosen for shipping <br>4 537 klarna chosen for payment <br>4 537 order placed succesful <br>\",\"0 554 website request served <br>8 554 login not succesfull <br>1 554 login not succesfull <br>8 554 login not succesfull <br>5 554 user logged in <br>3 554 item added to cart <br>2 554 dpd chosen for shipping <br>5 554 sofortueberweisung chosen for payment <br>8 554 order placed succesful <br>\",\"0 558 website request served <br>4 558 user logged in <br>8 558 item added to cart <br>3 558 item added to cart <br>3 558 item added to cart <br>7 558 item added to cart <br>5 558 item added to cart <br>1 558 item added to cart <br>4 558 hermes chosen for shipping <br>8 558 paypal chosen for payment <br>5 558 order placed succesful <br>\",\"0 584 website request served <br>4 584 user logged in <br>2 584 item added to cart <br>6 584 item added to cart <br>5 584 item added to cart <br>3 584 item added to cart <br>5 584 item added to cart <br>8 584 item added to cart <br>4 584 item added to cart <br>3 584 hermes chosen for shipping <br>6 584 paypal chosen for payment <br>4 584 order placed succesful <br>\",\"0 589 website request served <br>8 589 user logged in <br>2 589 item added to cart <br>4 589 item added to cart <br>7 589 item added to cart <br>2 589 item added to cart <br>3 589 item added to cart <br>5 589 item added to cart <br>8 589 hermes chosen for shipping <br>3 589 paypal chosen for payment <br>3 589 order placed succesful <br>\",\"0 611 website request served <br>2 611 login not succesfull <br>4 611 login not succesfull <br>4 611 user logged in <br>9 611 item added to cart <br>3 611 item added to cart <br>6 611 item added to cart <br>5 611 dhl chosen for shipping <br>3 611 sofortueberweisung chosen for payment <br>3 611 order placed succesful <br>\",\"0 654 website request served <br>3 654 login not succesfull <br>5 654 user logged in <br>6 654 item added to cart <br>4 654 item added to cart <br>3 654 item added to cart <br>5 654 item added to cart <br>7 654 hermes chosen for shipping <br>1 654 paypal chosen for payment <br>9 654 order placed succesful <br>\",\"0 663 website request served <br>5 663 user logged in <br>2 663 item added to cart <br>5 663 item added to cart <br>2 663 item added to cart <br>6 663 item added to cart <br>6 663 item added to cart <br>4 663 item added to cart <br>5 663 dpd chosen for shipping <br>4 663 sofortueberweisung chosen for payment <br>4 663 order placed succesful <br>\",\"0 676 website request served <br>3 676 user logged in <br>6 676 item added to cart <br>4 676 item added to cart <br>3 676 item added to cart <br>5 676 item added to cart <br>7 676 item added to cart <br>6 676 item added to cart <br>3 676 dpd chosen for shipping <br>3 676 sofortueberweisung chosen for payment <br>3 676 order placed succesful <br>\",\"0 685 website request served <br>3 685 login not succesfull <br>5 685 login not succesfull <br>6 685 user logged in <br>5 685 item added to cart <br>2 685 item added to cart <br>4 685 item added to cart <br>9 685 hermes chosen for shipping <br>5 685 klarna chosen for payment <br>2 685 order placed succesful <br>\",\"0 691 website request served <br>8 691 login not succesfull <br>4 691 login not succesfull <br>2 691 login not succesfull <br>4 691 user logged in <br>9 691 item added to cart <br>3 691 dhl chosen for shipping <br>5 691 paypal chosen for payment <br>5 691 order placed succesful <br>\",\"0 740 website request served <br>5 740 user logged in <br>5 740 item added to cart <br>1 740 item added to cart <br>6 740 item added to cart <br>6 740 item added to cart <br>0 740 item added to cart <br>8 740 item added to cart <br>2 740 item added to cart <br>6 740 dpd chosen for shipping <br>5 740 klarna chosen for payment <br>3 740 order placed succesful <br>\",\"0 743 website request served <br>6 743 login not succesfull <br>7 743 user logged in <br>2 743 item added to cart <br>4 743 item added to cart <br>9 743 item added to cart <br>0 743 item added to cart <br>7 743 dhl chosen for shipping <br>2 743 klarna chosen for payment <br>5 743 order placed succesful <br>\",\"0 758 website request served <br>4 758 login not succesfull <br>9 758 user logged in <br>2 758 item added to cart <br>3 758 item added to cart <br>6 758 item added to cart <br>7 758 item added to cart <br>5 758 item added to cart <br>2 758 dhl chosen for shipping <br>6 758 sofortueberweisung chosen for payment <br>6 758 order placed succesful <br>\",\"0 783 website request served <br>7 783 login not succesfull <br>3 783 user logged in <br>7 783 item added to cart <br>1 783 item added to cart <br>7 783 item added to cart <br>5 783 item added to cart <br>1 783 dhl chosen for shipping <br>8 783 klarna chosen for payment <br>3 783 order placed succesful <br>\",\"0 790 website request served <br>2 790 login not succesfull <br>8 790 login not succesfull <br>3 790 login not succesfull <br>3 790 user logged in <br>7 790 item added to cart <br>2 790 dpd chosen for shipping <br>6 790 paypal chosen for payment <br>3 790 order placed succesful <br>\",\"0 834 website request served <br>5 834 login not succesfull <br>5 834 login not succesfull <br>4 834 user logged in <br>3 834 item added to cart <br>5 834 item added to cart <br>6 834 item added to cart <br>2 834 dpd chosen for shipping <br>8 834 sofortueberweisung chosen for payment <br>1 834 order placed succesful <br>\",\"0 856 website request served <br>5 856 user logged in <br>4 856 item added to cart <br>3 856 item added to cart <br>9 856 item added to cart <br>1 856 item added to cart <br>7 856 item added to cart <br>4 856 item added to cart <br>1 856 item added to cart <br>5 856 hermes chosen for shipping <br>7 856 paypal chosen for payment <br>2 856 order placed succesful <br>\"],\"x\":[26.011089324951172,29.794513702392578,35.417049407958984,28.623868942260742,33.06319808959961,27.626678466796875,37.82859420776367,35.985233306884766,29.963098526000977,32.9379768371582,28.839691162109375,35.96778869628906,29.222753524780273,33.29684066772461,27.014528274536133,26.114816665649414,26.904207229614258,33.36392593383789,31.487503051757812,37.0634880065918,27.09073829650879,36.20564651489258,28.30819320678711,31.681896209716797,33.16253662109375,38.81884765625],\"y\":[-1.4154107570648193,-1.216142177581787,1.442335605621338,-1.312036395072937,1.3429445028305054,-1.3319834470748901,-1.6805498600006104,-0.053932201117277145,2.691011905670166,2.8306150436401367,-1.2539036273956299,-1.6638773679733276,-1.2507264614105225,1.352837324142456,0.1886853575706482,-1.3988722562789917,-1.4030089378356934,1.3701080083847046,2.75994610786438,-1.5907402038574219,0.19869568943977356,-0.09226220846176147,0.24207182228565216,2.724769115447998,1.3810011148452759,-1.5886389017105103],\"z\":[0.04221227020025253,-0.1566222757101059,-0.13043035566806793,-0.07374560832977295,-0.005646965000778437,-0.03450721129775047,-0.050258152186870575,-0.09800640493631363,0.04062940180301666,-0.09227729588747025,-0.12110047042369843,-0.04219742864370346,-0.13541936874389648,-0.02144743874669075,-0.08023417741060257,0.02413223125040531,0.03304991126060486,-0.06609606742858887,-0.0509970560669899,-0.082667276263237,-0.07375895977020264,-0.07200269401073456,-0.11858053505420685,-0.013736020773649216,-0.030964139848947525,-0.16622790694236755],\"type\":\"scatter3d\"}],                        {\"template\":{\"data\":{\"barpolar\":[{\"marker\":{\"line\":{\"color\":\"#E5ECF6\",\"width\":0.5},\"pattern\":{\"fillmode\":\"overlay\",\"size\":10,\"solidity\":0.2}},\"type\":\"barpolar\"}],\"bar\":[{\"error_x\":{\"color\":\"#2a3f5f\"},\"error_y\":{\"color\":\"#2a3f5f\"},\"marker\":{\"line\":{\"color\":\"#E5ECF6\",\"width\":0.5},\"pattern\":{\"fillmode\":\"overlay\",\"size\":10,\"solidity\":0.2}},\"type\":\"bar\"}],\"carpet\":[{\"aaxis\":{\"endlinecolor\":\"#2a3f5f\",\"gridcolor\":\"white\",\"linecolor\":\"white\",\"minorgridcolor\":\"white\",\"startlinecolor\":\"#2a3f5f\"},\"baxis\":{\"endlinecolor\":\"#2a3f5f\",\"gridcolor\":\"white\",\"linecolor\":\"white\",\"minorgridcolor\":\"white\",\"startlinecolor\":\"#2a3f5f\"},\"type\":\"carpet\"}],\"choropleth\":[{\"colorbar\":{\"outlinewidth\":0,\"ticks\":\"\"},\"type\":\"choropleth\"}],\"contourcarpet\":[{\"colorbar\":{\"outlinewidth\":0,\"ticks\":\"\"},\"type\":\"contourcarpet\"}],\"contour\":[{\"colorbar\":{\"outlinewidth\":0,\"ticks\":\"\"},\"colorscale\":[[0.0,\"#0d0887\"],[0.1111111111111111,\"#46039f\"],[0.2222222222222222,\"#7201a8\"],[0.3333333333333333,\"#9c179e\"],[0.4444444444444444,\"#bd3786\"],[0.5555555555555556,\"#d8576b\"],[0.6666666666666666,\"#ed7953\"],[0.7777777777777778,\"#fb9f3a\"],[0.8888888888888888,\"#fdca26\"],[1.0,\"#f0f921\"]],\"type\":\"contour\"}],\"heatmapgl\":[{\"colorbar\":{\"outlinewidth\":0,\"ticks\":\"\"},\"colorscale\":[[0.0,\"#0d0887\"],[0.1111111111111111,\"#46039f\"],[0.2222222222222222,\"#7201a8\"],[0.3333333333333333,\"#9c179e\"],[0.4444444444444444,\"#bd3786\"],[0.5555555555555556,\"#d8576b\"],[0.6666666666666666,\"#ed7953\"],[0.7777777777777778,\"#fb9f3a\"],[0.8888888888888888,\"#fdca26\"],[1.0,\"#f0f921\"]],\"type\":\"heatmapgl\"}],\"heatmap\":[{\"colorbar\":{\"outlinewidth\":0,\"ticks\":\"\"},\"colorscale\":[[0.0,\"#0d0887\"],[0.1111111111111111,\"#46039f\"],[0.2222222222222222,\"#7201a8\"],[0.3333333333333333,\"#9c179e\"],[0.4444444444444444,\"#bd3786\"],[0.5555555555555556,\"#d8576b\"],[0.6666666666666666,\"#ed7953\"],[0.7777777777777778,\"#fb9f3a\"],[0.8888888888888888,\"#fdca26\"],[1.0,\"#f0f921\"]],\"type\":\"heatmap\"}],\"histogram2dcontour\":[{\"colorbar\":{\"outlinewidth\":0,\"ticks\":\"\"},\"colorscale\":[[0.0,\"#0d0887\"],[0.1111111111111111,\"#46039f\"],[0.2222222222222222,\"#7201a8\"],[0.3333333333333333,\"#9c179e\"],[0.4444444444444444,\"#bd3786\"],[0.5555555555555556,\"#d8576b\"],[0.6666666666666666,\"#ed7953\"],[0.7777777777777778,\"#fb9f3a\"],[0.8888888888888888,\"#fdca26\"],[1.0,\"#f0f921\"]],\"type\":\"histogram2dcontour\"}],\"histogram2d\":[{\"colorbar\":{\"outlinewidth\":0,\"ticks\":\"\"},\"colorscale\":[[0.0,\"#0d0887\"],[0.1111111111111111,\"#46039f\"],[0.2222222222222222,\"#7201a8\"],[0.3333333333333333,\"#9c179e\"],[0.4444444444444444,\"#bd3786\"],[0.5555555555555556,\"#d8576b\"],[0.6666666666666666,\"#ed7953\"],[0.7777777777777778,\"#fb9f3a\"],[0.8888888888888888,\"#fdca26\"],[1.0,\"#f0f921\"]],\"type\":\"histogram2d\"}],\"histogram\":[{\"marker\":{\"pattern\":{\"fillmode\":\"overlay\",\"size\":10,\"solidity\":0.2}},\"type\":\"histogram\"}],\"mesh3d\":[{\"colorbar\":{\"outlinewidth\":0,\"ticks\":\"\"},\"type\":\"mesh3d\"}],\"parcoords\":[{\"line\":{\"colorbar\":{\"outlinewidth\":0,\"ticks\":\"\"}},\"type\":\"parcoords\"}],\"pie\":[{\"automargin\":true,\"type\":\"pie\"}],\"scatter3d\":[{\"line\":{\"colorbar\":{\"outlinewidth\":0,\"ticks\":\"\"}},\"marker\":{\"colorbar\":{\"outlinewidth\":0,\"ticks\":\"\"}},\"type\":\"scatter3d\"}],\"scattercarpet\":[{\"marker\":{\"colorbar\":{\"outlinewidth\":0,\"ticks\":\"\"}},\"type\":\"scattercarpet\"}],\"scattergeo\":[{\"marker\":{\"colorbar\":{\"outlinewidth\":0,\"ticks\":\"\"}},\"type\":\"scattergeo\"}],\"scattergl\":[{\"marker\":{\"colorbar\":{\"outlinewidth\":0,\"ticks\":\"\"}},\"type\":\"scattergl\"}],\"scattermapbox\":[{\"marker\":{\"colorbar\":{\"outlinewidth\":0,\"ticks\":\"\"}},\"type\":\"scattermapbox\"}],\"scatterpolargl\":[{\"marker\":{\"colorbar\":{\"outlinewidth\":0,\"ticks\":\"\"}},\"type\":\"scatterpolargl\"}],\"scatterpolar\":[{\"marker\":{\"colorbar\":{\"outlinewidth\":0,\"ticks\":\"\"}},\"type\":\"scatterpolar\"}],\"scatter\":[{\"marker\":{\"colorbar\":{\"outlinewidth\":0,\"ticks\":\"\"}},\"type\":\"scatter\"}],\"scatterternary\":[{\"marker\":{\"colorbar\":{\"outlinewidth\":0,\"ticks\":\"\"}},\"type\":\"scatterternary\"}],\"surface\":[{\"colorbar\":{\"outlinewidth\":0,\"ticks\":\"\"},\"colorscale\":[[0.0,\"#0d0887\"],[0.1111111111111111,\"#46039f\"],[0.2222222222222222,\"#7201a8\"],[0.3333333333333333,\"#9c179e\"],[0.4444444444444444,\"#bd3786\"],[0.5555555555555556,\"#d8576b\"],[0.6666666666666666,\"#ed7953\"],[0.7777777777777778,\"#fb9f3a\"],[0.8888888888888888,\"#fdca26\"],[1.0,\"#f0f921\"]],\"type\":\"surface\"}],\"table\":[{\"cells\":{\"fill\":{\"color\":\"#EBF0F8\"},\"line\":{\"color\":\"white\"}},\"header\":{\"fill\":{\"color\":\"#C8D4E3\"},\"line\":{\"color\":\"white\"}},\"type\":\"table\"}]},\"layout\":{\"annotationdefaults\":{\"arrowcolor\":\"#2a3f5f\",\"arrowhead\":0,\"arrowwidth\":1},\"autotypenumbers\":\"strict\",\"coloraxis\":{\"colorbar\":{\"outlinewidth\":0,\"ticks\":\"\"}},\"colorscale\":{\"diverging\":[[0,\"#8e0152\"],[0.1,\"#c51b7d\"],[0.2,\"#de77ae\"],[0.3,\"#f1b6da\"],[0.4,\"#fde0ef\"],[0.5,\"#f7f7f7\"],[0.6,\"#e6f5d0\"],[0.7,\"#b8e186\"],[0.8,\"#7fbc41\"],[0.9,\"#4d9221\"],[1,\"#276419\"]],\"sequential\":[[0.0,\"#0d0887\"],[0.1111111111111111,\"#46039f\"],[0.2222222222222222,\"#7201a8\"],[0.3333333333333333,\"#9c179e\"],[0.4444444444444444,\"#bd3786\"],[0.5555555555555556,\"#d8576b\"],[0.6666666666666666,\"#ed7953\"],[0.7777777777777778,\"#fb9f3a\"],[0.8888888888888888,\"#fdca26\"],[1.0,\"#f0f921\"]],\"sequentialminus\":[[0.0,\"#0d0887\"],[0.1111111111111111,\"#46039f\"],[0.2222222222222222,\"#7201a8\"],[0.3333333333333333,\"#9c179e\"],[0.4444444444444444,\"#bd3786\"],[0.5555555555555556,\"#d8576b\"],[0.6666666666666666,\"#ed7953\"],[0.7777777777777778,\"#fb9f3a\"],[0.8888888888888888,\"#fdca26\"],[1.0,\"#f0f921\"]]},\"colorway\":[\"#636efa\",\"#EF553B\",\"#00cc96\",\"#ab63fa\",\"#FFA15A\",\"#19d3f3\",\"#FF6692\",\"#B6E880\",\"#FF97FF\",\"#FECB52\"],\"font\":{\"color\":\"#2a3f5f\"},\"geo\":{\"bgcolor\":\"white\",\"lakecolor\":\"white\",\"landcolor\":\"#E5ECF6\",\"showlakes\":true,\"showland\":true,\"subunitcolor\":\"white\"},\"hoverlabel\":{\"align\":\"left\"},\"hovermode\":\"closest\",\"mapbox\":{\"style\":\"light\"},\"paper_bgcolor\":\"white\",\"plot_bgcolor\":\"#E5ECF6\",\"polar\":{\"angularaxis\":{\"gridcolor\":\"white\",\"linecolor\":\"white\",\"ticks\":\"\"},\"bgcolor\":\"#E5ECF6\",\"radialaxis\":{\"gridcolor\":\"white\",\"linecolor\":\"white\",\"ticks\":\"\"}},\"scene\":{\"xaxis\":{\"backgroundcolor\":\"#E5ECF6\",\"gridcolor\":\"white\",\"gridwidth\":2,\"linecolor\":\"white\",\"showbackground\":true,\"ticks\":\"\",\"zerolinecolor\":\"white\"},\"yaxis\":{\"backgroundcolor\":\"#E5ECF6\",\"gridcolor\":\"white\",\"gridwidth\":2,\"linecolor\":\"white\",\"showbackground\":true,\"ticks\":\"\",\"zerolinecolor\":\"white\"},\"zaxis\":{\"backgroundcolor\":\"#E5ECF6\",\"gridcolor\":\"white\",\"gridwidth\":2,\"linecolor\":\"white\",\"showbackground\":true,\"ticks\":\"\",\"zerolinecolor\":\"white\"}},\"shapedefaults\":{\"line\":{\"color\":\"#2a3f5f\"}},\"ternary\":{\"aaxis\":{\"gridcolor\":\"white\",\"linecolor\":\"white\",\"ticks\":\"\"},\"baxis\":{\"gridcolor\":\"white\",\"linecolor\":\"white\",\"ticks\":\"\"},\"bgcolor\":\"#E5ECF6\",\"caxis\":{\"gridcolor\":\"white\",\"linecolor\":\"white\",\"ticks\":\"\"}},\"title\":{\"x\":0.05},\"xaxis\":{\"automargin\":true,\"gridcolor\":\"white\",\"linecolor\":\"white\",\"ticks\":\"\",\"title\":{\"standoff\":15},\"zerolinecolor\":\"white\",\"zerolinewidth\":2},\"yaxis\":{\"automargin\":true,\"gridcolor\":\"white\",\"linecolor\":\"white\",\"ticks\":\"\",\"title\":{\"standoff\":15},\"zerolinecolor\":\"white\",\"zerolinewidth\":2}}},\"title\":{\"text\":\"Visualizing Clusters in three Dimensions Using PCA\"},\"xaxis\":{\"ticklen\":2,\"title\":{\"text\":\"PC1\"},\"zeroline\":false},\"yaxis\":{\"ticklen\":5,\"title\":{\"text\":\"PC2\"},\"zeroline\":false}},                        {\"responsive\": true}                    ).then(function(){\n",
       "                            \n",
       "var gd = document.getElementById('e1687359-121b-40b9-b315-f73305088388');\n",
       "var x = new MutationObserver(function (mutations, observer) {{\n",
       "        var display = window.getComputedStyle(gd).display;\n",
       "        if (!display || display === 'none') {{\n",
       "            console.log([gd, 'removed!']);\n",
       "            Plotly.purge(gd);\n",
       "            observer.disconnect();\n",
       "        }}\n",
       "}});\n",
       "\n",
       "// Listen for the removal of the full notebook cells\n",
       "var notebookContainer = gd.closest('#notebook-container');\n",
       "if (notebookContainer) {{\n",
       "    x.observe(notebookContainer, {childList: true});\n",
       "}}\n",
       "\n",
       "// Listen for the clearing of the current output cell\n",
       "var outputEl = gd.closest('.output');\n",
       "if (outputEl) {{\n",
       "    x.observe(outputEl, {childList: true});\n",
       "}}\n",
       "\n",
       "                        })                };                });            </script>        </div>"
      ]
     },
     "metadata": {},
     "output_type": "display_data"
    }
   ],
   "source": [
    "#trace1 is for 'Cluster 0'\n",
    "trace1 = go.Scatter3d(\n",
    "                    x = df_pca_3d_0[\"PC1\"],\n",
    "                    y = df_pca_3d_0[\"PC2\"],\n",
    "                    z = df_pca_3d_0[\"PC3\"],\n",
    "                    mode = \"markers\",\n",
    "                    name = \"Cluster 0\",\n",
    "                    marker = dict(color = 'rgba(255, 128, 255, 0.8)'),\n",
    "                    text = df_pca_3d_0['traceStr'])\n",
    "\n",
    "#trace2 is for 'Cluster 1'\n",
    "trace2 = go.Scatter3d(\n",
    "                    x = df_pca_3d_1[\"PC1\"],\n",
    "                    y = df_pca_3d_1[\"PC2\"],\n",
    "                    z = df_pca_3d_1[\"PC3\"],\n",
    "                    mode = \"markers\",\n",
    "                    name = \"Cluster 1\",\n",
    "                    marker = dict(color = 'rgba(255, 128, 2, 0.8)'),\n",
    "                    text = df_pca_3d_1['traceStr'])\n",
    "\n",
    "#trace3 is for 'Cluster 2'\n",
    "trace3 = go.Scatter3d(\n",
    "                    x = df_pca_3d_2[\"PC1\"],\n",
    "                    y = df_pca_3d_2[\"PC2\"],\n",
    "                    z = df_pca_3d_2[\"PC3\"],\n",
    "                    mode = \"markers\",\n",
    "                    name = \"Cluster 2\",\n",
    "                    marker = dict(color = 'rgba(0, 255, 200, 0.8)'),\n",
    "                    text = df_pca_3d_2['traceStr'])\n",
    "\n",
    "trace4 = go.Scatter3d(\n",
    "                    x = df_pca_3d_3[\"PC1\"],\n",
    "                    y = df_pca_3d_3[\"PC2\"],\n",
    "                    z = df_pca_3d_3[\"PC3\"],\n",
    "                    mode = \"markers\",\n",
    "                    name = \"Cluster 2\",\n",
    "                    marker = dict(color = 'rgba(10, 255, 10, 0.8)'),\n",
    "                    text = df_pca_3d_3['traceStr'])\n",
    "\n",
    "data = [trace1, trace2, trace3, trace4]\n",
    "\n",
    "title = \"Visualizing Clusters in three Dimensions Using PCA\"\n",
    "\n",
    "layout = dict(title = title,\n",
    "              xaxis= dict(title= 'PC1',ticklen= 2,zeroline= False),\n",
    "              yaxis= dict(title= 'PC2',ticklen= 5,zeroline= False)\n",
    "             )\n",
    "\n",
    "fig = dict(data = data, layout = layout)\n",
    "\n",
    "iplot(fig)\n",
    "pio.write_html(fig,'./figs/pca3d_clean_kmeans.html')"
   ]
  },
  {
   "cell_type": "markdown",
   "id": "e371e7fc",
   "metadata": {},
   "source": [
    "### 3D Visualisierung PCA"
   ]
  },
  {
   "cell_type": "code",
   "execution_count": 157,
   "id": "fbe8b86e",
   "metadata": {},
   "outputs": [],
   "source": [
    "df_tsne_3d_0 = df_pca_3d[df_tsne_3d['kmeans_cluster'] == 0]\n",
    "df_tsne_3d_1 = df_pca_3d[df_tsne_3d['kmeans_cluster'] == 1]\n",
    "df_tsne_3d_2 = df_pca_3d[df_tsne_3d['kmeans_cluster'] == 2]\n",
    "df_tsne_3d_3 = df_pca_3d[df_tsne_3d['kmeans_cluster'] == 3]"
   ]
  },
  {
   "cell_type": "code",
   "execution_count": 158,
   "id": "534781fc",
   "metadata": {},
   "outputs": [
    {
     "ename": "KeyError",
     "evalue": "'TSNE1'",
     "output_type": "error",
     "traceback": [
      "\u001b[1;31m---------------------------------------------------------------------------\u001b[0m",
      "\u001b[1;31mKeyError\u001b[0m                                  Traceback (most recent call last)",
      "File \u001b[1;32m~\\Documents\\ba-eventlogml\\venv\\lib\\site-packages\\pandas\\core\\indexes\\base.py:3621\u001b[0m, in \u001b[0;36mIndex.get_loc\u001b[1;34m(self, key, method, tolerance)\u001b[0m\n\u001b[0;32m   3620\u001b[0m \u001b[38;5;28;01mtry\u001b[39;00m:\n\u001b[1;32m-> 3621\u001b[0m     \u001b[38;5;28;01mreturn\u001b[39;00m \u001b[38;5;28;43mself\u001b[39;49m\u001b[38;5;241;43m.\u001b[39;49m\u001b[43m_engine\u001b[49m\u001b[38;5;241;43m.\u001b[39;49m\u001b[43mget_loc\u001b[49m\u001b[43m(\u001b[49m\u001b[43mcasted_key\u001b[49m\u001b[43m)\u001b[49m\n\u001b[0;32m   3622\u001b[0m \u001b[38;5;28;01mexcept\u001b[39;00m \u001b[38;5;167;01mKeyError\u001b[39;00m \u001b[38;5;28;01mas\u001b[39;00m err:\n",
      "File \u001b[1;32m~\\Documents\\ba-eventlogml\\venv\\lib\\site-packages\\pandas\\_libs\\index.pyx:136\u001b[0m, in \u001b[0;36mpandas._libs.index.IndexEngine.get_loc\u001b[1;34m()\u001b[0m\n",
      "File \u001b[1;32m~\\Documents\\ba-eventlogml\\venv\\lib\\site-packages\\pandas\\_libs\\index.pyx:163\u001b[0m, in \u001b[0;36mpandas._libs.index.IndexEngine.get_loc\u001b[1;34m()\u001b[0m\n",
      "File \u001b[1;32mpandas\\_libs\\hashtable_class_helper.pxi:5198\u001b[0m, in \u001b[0;36mpandas._libs.hashtable.PyObjectHashTable.get_item\u001b[1;34m()\u001b[0m\n",
      "File \u001b[1;32mpandas\\_libs\\hashtable_class_helper.pxi:5206\u001b[0m, in \u001b[0;36mpandas._libs.hashtable.PyObjectHashTable.get_item\u001b[1;34m()\u001b[0m\n",
      "\u001b[1;31mKeyError\u001b[0m: 'TSNE1'",
      "\nThe above exception was the direct cause of the following exception:\n",
      "\u001b[1;31mKeyError\u001b[0m                                  Traceback (most recent call last)",
      "Input \u001b[1;32mIn [158]\u001b[0m, in \u001b[0;36m<module>\u001b[1;34m\u001b[0m\n\u001b[0;32m      1\u001b[0m \u001b[38;5;66;03m#trace1 is for 'Cluster 0'\u001b[39;00m\n\u001b[0;32m      2\u001b[0m trace1 \u001b[38;5;241m=\u001b[39m go\u001b[38;5;241m.\u001b[39mScatter3d(\n\u001b[1;32m----> 3\u001b[0m                     x \u001b[38;5;241m=\u001b[39m \u001b[43mdf_tsne_3d_0\u001b[49m\u001b[43m[\u001b[49m\u001b[38;5;124;43m\"\u001b[39;49m\u001b[38;5;124;43mTSNE1\u001b[39;49m\u001b[38;5;124;43m\"\u001b[39;49m\u001b[43m]\u001b[49m,\n\u001b[0;32m      4\u001b[0m                     y \u001b[38;5;241m=\u001b[39m df_tsne_3d_0[\u001b[38;5;124m\"\u001b[39m\u001b[38;5;124mTSNE2\u001b[39m\u001b[38;5;124m\"\u001b[39m],\n\u001b[0;32m      5\u001b[0m                     z \u001b[38;5;241m=\u001b[39m df_tsne_3d_0[\u001b[38;5;124m\"\u001b[39m\u001b[38;5;124mTSNE3\u001b[39m\u001b[38;5;124m\"\u001b[39m],\n\u001b[0;32m      6\u001b[0m                     mode \u001b[38;5;241m=\u001b[39m \u001b[38;5;124m\"\u001b[39m\u001b[38;5;124mmarkers\u001b[39m\u001b[38;5;124m\"\u001b[39m,\n\u001b[0;32m      7\u001b[0m                     name \u001b[38;5;241m=\u001b[39m \u001b[38;5;124m\"\u001b[39m\u001b[38;5;124mCluster 0\u001b[39m\u001b[38;5;124m\"\u001b[39m,\n\u001b[0;32m      8\u001b[0m                     marker \u001b[38;5;241m=\u001b[39m \u001b[38;5;28mdict\u001b[39m(color \u001b[38;5;241m=\u001b[39m \u001b[38;5;124m'\u001b[39m\u001b[38;5;124mrgba(255, 128, 255, 0.8)\u001b[39m\u001b[38;5;124m'\u001b[39m),\n\u001b[0;32m      9\u001b[0m                     text \u001b[38;5;241m=\u001b[39m df_tsne_3d_0[\u001b[38;5;124m'\u001b[39m\u001b[38;5;124mtraceStr\u001b[39m\u001b[38;5;124m'\u001b[39m])\n\u001b[0;32m     11\u001b[0m \u001b[38;5;66;03m#trace2 is for 'Cluster 1'\u001b[39;00m\n\u001b[0;32m     12\u001b[0m trace2 \u001b[38;5;241m=\u001b[39m go\u001b[38;5;241m.\u001b[39mScatter3d(\n\u001b[0;32m     13\u001b[0m                     x \u001b[38;5;241m=\u001b[39m df_tsne_3d_1[\u001b[38;5;124m\"\u001b[39m\u001b[38;5;124mTSNE1\u001b[39m\u001b[38;5;124m\"\u001b[39m],\n\u001b[0;32m     14\u001b[0m                     y \u001b[38;5;241m=\u001b[39m df_tsne_3d_1[\u001b[38;5;124m\"\u001b[39m\u001b[38;5;124mTSNE2\u001b[39m\u001b[38;5;124m\"\u001b[39m],\n\u001b[1;32m   (...)\u001b[0m\n\u001b[0;32m     18\u001b[0m                     marker \u001b[38;5;241m=\u001b[39m \u001b[38;5;28mdict\u001b[39m(color \u001b[38;5;241m=\u001b[39m \u001b[38;5;124m'\u001b[39m\u001b[38;5;124mrgba(255, 128, 2, 0.8)\u001b[39m\u001b[38;5;124m'\u001b[39m),\n\u001b[0;32m     19\u001b[0m                     text \u001b[38;5;241m=\u001b[39m df_tsne_3d_1[\u001b[38;5;124m'\u001b[39m\u001b[38;5;124mtraceStr\u001b[39m\u001b[38;5;124m'\u001b[39m])\n",
      "File \u001b[1;32m~\\Documents\\ba-eventlogml\\venv\\lib\\site-packages\\pandas\\core\\frame.py:3505\u001b[0m, in \u001b[0;36mDataFrame.__getitem__\u001b[1;34m(self, key)\u001b[0m\n\u001b[0;32m   3503\u001b[0m \u001b[38;5;28;01mif\u001b[39;00m \u001b[38;5;28mself\u001b[39m\u001b[38;5;241m.\u001b[39mcolumns\u001b[38;5;241m.\u001b[39mnlevels \u001b[38;5;241m>\u001b[39m \u001b[38;5;241m1\u001b[39m:\n\u001b[0;32m   3504\u001b[0m     \u001b[38;5;28;01mreturn\u001b[39;00m \u001b[38;5;28mself\u001b[39m\u001b[38;5;241m.\u001b[39m_getitem_multilevel(key)\n\u001b[1;32m-> 3505\u001b[0m indexer \u001b[38;5;241m=\u001b[39m \u001b[38;5;28;43mself\u001b[39;49m\u001b[38;5;241;43m.\u001b[39;49m\u001b[43mcolumns\u001b[49m\u001b[38;5;241;43m.\u001b[39;49m\u001b[43mget_loc\u001b[49m\u001b[43m(\u001b[49m\u001b[43mkey\u001b[49m\u001b[43m)\u001b[49m\n\u001b[0;32m   3506\u001b[0m \u001b[38;5;28;01mif\u001b[39;00m is_integer(indexer):\n\u001b[0;32m   3507\u001b[0m     indexer \u001b[38;5;241m=\u001b[39m [indexer]\n",
      "File \u001b[1;32m~\\Documents\\ba-eventlogml\\venv\\lib\\site-packages\\pandas\\core\\indexes\\base.py:3623\u001b[0m, in \u001b[0;36mIndex.get_loc\u001b[1;34m(self, key, method, tolerance)\u001b[0m\n\u001b[0;32m   3621\u001b[0m     \u001b[38;5;28;01mreturn\u001b[39;00m \u001b[38;5;28mself\u001b[39m\u001b[38;5;241m.\u001b[39m_engine\u001b[38;5;241m.\u001b[39mget_loc(casted_key)\n\u001b[0;32m   3622\u001b[0m \u001b[38;5;28;01mexcept\u001b[39;00m \u001b[38;5;167;01mKeyError\u001b[39;00m \u001b[38;5;28;01mas\u001b[39;00m err:\n\u001b[1;32m-> 3623\u001b[0m     \u001b[38;5;28;01mraise\u001b[39;00m \u001b[38;5;167;01mKeyError\u001b[39;00m(key) \u001b[38;5;28;01mfrom\u001b[39;00m \u001b[38;5;21;01merr\u001b[39;00m\n\u001b[0;32m   3624\u001b[0m \u001b[38;5;28;01mexcept\u001b[39;00m \u001b[38;5;167;01mTypeError\u001b[39;00m:\n\u001b[0;32m   3625\u001b[0m     \u001b[38;5;66;03m# If we have a listlike key, _check_indexing_error will raise\u001b[39;00m\n\u001b[0;32m   3626\u001b[0m     \u001b[38;5;66;03m#  InvalidIndexError. Otherwise we fall through and re-raise\u001b[39;00m\n\u001b[0;32m   3627\u001b[0m     \u001b[38;5;66;03m#  the TypeError.\u001b[39;00m\n\u001b[0;32m   3628\u001b[0m     \u001b[38;5;28mself\u001b[39m\u001b[38;5;241m.\u001b[39m_check_indexing_error(key)\n",
      "\u001b[1;31mKeyError\u001b[0m: 'TSNE1'"
     ]
    }
   ],
   "source": [
    "#trace1 is for 'Cluster 0'\n",
    "trace1 = go.Scatter3d(\n",
    "                    x = df_tsne_3d_0[\"TSNE1\"],\n",
    "                    y = df_tsne_3d_0[\"TSNE2\"],\n",
    "                    z = df_tsne_3d_0[\"TSNE3\"],\n",
    "                    mode = \"markers\",\n",
    "                    name = \"Cluster 0\",\n",
    "                    marker = dict(color = 'rgba(255, 128, 255, 0.8)'),\n",
    "                    text = df_tsne_3d_0['traceStr'])\n",
    "\n",
    "#trace2 is for 'Cluster 1'\n",
    "trace2 = go.Scatter3d(\n",
    "                    x = df_tsne_3d_1[\"TSNE1\"],\n",
    "                    y = df_tsne_3d_1[\"TSNE2\"],\n",
    "                    z = df_tsne_3d_1[\"TSNE3\"],\n",
    "                    mode = \"markers\",\n",
    "                    name = \"Cluster 1\",\n",
    "                    marker = dict(color = 'rgba(255, 128, 2, 0.8)'),\n",
    "                    text = df_tsne_3d_1['traceStr'])\n",
    "\n",
    "#trace3 is for 'Cluster 2'\n",
    "trace3 = go.Scatter3d(\n",
    "                    x = df_tsne_3d_2[\"TSNE1\"],\n",
    "                    y = df_tsne_3d_2[\"TSNE2\"],\n",
    "                    z = df_tsne_3d_2[\"TSNE3\"],\n",
    "                    mode = \"markers\",\n",
    "                    name = \"Cluster 2\",\n",
    "                    marker = dict(color = 'rgba(0, 255, 200, 0.8)'),\n",
    "                    text = df_tsne_3d_2['traceStr'])\n",
    "\n",
    "trace4 = go.Scatter3d(\n",
    "                    x = df_tsne_3d_3[\"TSNE1\"],\n",
    "                    y = df_tsne_3d_3[\"TSNE2\"],\n",
    "                    z = df_tsne_3d_3[\"TSNE3\"],\n",
    "                    mode = \"markers\",\n",
    "                    name = \"Cluster 2\",\n",
    "                    marker = dict(color = 'rgba(0, 255, 200, 0.8)'),\n",
    "                    text = df_tsne_3d_3['traceStr'])\n",
    "\n",
    "data = [trace1, trace2, trace3, trace4]\n",
    "\n",
    "title = \"Visualizing Clusters in three Dimensions Using PCA\"\n",
    "\n",
    "layout = dict(title = title,\n",
    "              xaxis= dict(title= 'PC1',ticklen= 2,zeroline= False),\n",
    "              yaxis= dict(title= 'PC2',ticklen= 5,zeroline= False)\n",
    "             )\n",
    "\n",
    "fig = dict(data = data, layout = layout)\n",
    "\n",
    "iplot(fig)\n",
    "#pio.write_html(fig,'./figs/pca3d_clean_kmeans.html')"
   ]
  }
 ],
 "metadata": {
  "kernelspec": {
   "display_name": "Python 3 (ipykernel)",
   "language": "python",
   "name": "python3"
  },
  "language_info": {
   "codemirror_mode": {
    "name": "ipython",
    "version": 3
   },
   "file_extension": ".py",
   "mimetype": "text/x-python",
   "name": "python",
   "nbconvert_exporter": "python",
   "pygments_lexer": "ipython3",
   "version": "3.10.2"
  }
 },
 "nbformat": 4,
 "nbformat_minor": 5
}
