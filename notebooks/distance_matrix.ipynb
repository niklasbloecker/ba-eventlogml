{
 "cells": [
  {
   "cell_type": "code",
   "execution_count": 105,
   "metadata": {},
   "outputs": [],
   "source": [
    "import numpy as np\n",
    "import csv\n",
    "import pandas as pd\n",
    "from leven import levenshtein"
   ]
  },
  {
   "cell_type": "code",
   "execution_count": 71,
   "metadata": {},
   "outputs": [],
   "source": [
    "with open('log.csv') as logFile:\n",
    "    file_read = csv.reader(logFile, delimiter=';')\n",
    "    log_list = list(file_read)\n",
    "df = pd.DataFrame(log_list)"
   ]
  },
  {
   "cell_type": "code",
   "execution_count": 72,
   "metadata": {},
   "outputs": [
    {
     "data": {
      "text/html": [
       "<div>\n",
       "<style scoped>\n",
       "    .dataframe tbody tr th:only-of-type {\n",
       "        vertical-align: middle;\n",
       "    }\n",
       "\n",
       "    .dataframe tbody tr th {\n",
       "        vertical-align: top;\n",
       "    }\n",
       "\n",
       "    .dataframe thead th {\n",
       "        text-align: right;\n",
       "    }\n",
       "</style>\n",
       "<table border=\"1\" class=\"dataframe\">\n",
       "  <thead>\n",
       "    <tr style=\"text-align: right;\">\n",
       "      <th></th>\n",
       "      <th>0</th>\n",
       "      <th>1</th>\n",
       "      <th>2</th>\n",
       "    </tr>\n",
       "  </thead>\n",
       "  <tbody>\n",
       "    <tr>\n",
       "      <th>0</th>\n",
       "      <td>TimeStamp: 2022-01-06 08:22:06</td>\n",
       "      <td>Trace ID: 929</td>\n",
       "      <td>Activity Name: A</td>\n",
       "    </tr>\n",
       "    <tr>\n",
       "      <th>1</th>\n",
       "      <td>TimeStamp: 2022-01-06 09:11:17</td>\n",
       "      <td>Trace ID: 929</td>\n",
       "      <td>Activity Name: B</td>\n",
       "    </tr>\n",
       "    <tr>\n",
       "      <th>2</th>\n",
       "      <td>TimeStamp: 2022-01-06 10:02:05</td>\n",
       "      <td>Trace ID: 929</td>\n",
       "      <td>Activity Name: D</td>\n",
       "    </tr>\n",
       "    <tr>\n",
       "      <th>3</th>\n",
       "      <td>TimeStamp: 2022-01-06 11:40:40</td>\n",
       "      <td>Trace ID: 929</td>\n",
       "      <td>Activity Name: E</td>\n",
       "    </tr>\n",
       "    <tr>\n",
       "      <th>4</th>\n",
       "      <td>TimeStamp: 2022-01-06 12:59:57</td>\n",
       "      <td>Trace ID: 929</td>\n",
       "      <td>Activity Name: G</td>\n",
       "    </tr>\n",
       "  </tbody>\n",
       "</table>\n",
       "</div>"
      ],
      "text/plain": [
       "                                0              1                 2\n",
       "0  TimeStamp: 2022-01-06 08:22:06  Trace ID: 929  Activity Name: A\n",
       "1  TimeStamp: 2022-01-06 09:11:17  Trace ID: 929  Activity Name: B\n",
       "2  TimeStamp: 2022-01-06 10:02:05  Trace ID: 929  Activity Name: D\n",
       "3  TimeStamp: 2022-01-06 11:40:40  Trace ID: 929  Activity Name: E\n",
       "4  TimeStamp: 2022-01-06 12:59:57  Trace ID: 929  Activity Name: G"
      ]
     },
     "execution_count": 72,
     "metadata": {},
     "output_type": "execute_result"
    }
   ],
   "source": [
    "df = df.drop(columns=[3]) #Delete empty columns from df.\n",
    "df.head()"
   ]
  },
  {
   "cell_type": "code",
   "execution_count": 80,
   "metadata": {},
   "outputs": [
    {
     "name": "stdout",
     "output_type": "stream",
     "text": [
      "['Trace ID: 929' 'Trace ID: 930' 'Trace ID: 931' 'Trace ID: 932'\n",
      " 'Trace ID: 933' 'Trace ID: 934' 'Trace ID: 935' 'Trace ID: 936'\n",
      " 'Trace ID: 937' 'Trace ID: 938' 'Trace ID: 939' 'Trace ID: 940'\n",
      " 'Trace ID: 941' 'Trace ID: 942' 'Trace ID: 943' 'Trace ID: 944'\n",
      " 'Trace ID: 945' 'Trace ID: 946' 'Trace ID: 947' 'Trace ID: 948']\n"
     ]
    }
   ],
   "source": [
    "traces = df[1].unique() #Single out unique traces.\n",
    "print(traces)"
   ]
  },
  {
   "cell_type": "code",
   "execution_count": 111,
   "metadata": {},
   "outputs": [],
   "source": [
    "#Excpect two different dataframes with same size as input. Each containing a trace. IDs represent trace Ids.\n",
    "def distance(df1, df2, df1_id, df2_id):\n",
    "    num_cols = len(df1.columns)\n",
    "    nums_rows = len(df1)\n",
    "    #print(f\"Df1 size is columns: {num_cols} rows:{nums_rows}\")\n",
    "    res_list = []\n",
    "    for row in range(nums_rows):\n",
    "        temp_res = []\n",
    "        for  col in range(num_cols):\n",
    "            df1.iloc[row][col]\n",
    "            df2.iloc[row][col]\n",
    "            #print(levenshtein(df1.iloc[row][col],df2.iloc[row][col]))\n",
    "            temp_res.append(levenshtein(df1.iloc[row][col],df2.iloc[row][col]))\n",
    "        res_list.append(temp_res)\n",
    "    return res_list"
   ]
  },
  {
   "cell_type": "code",
   "execution_count": 114,
   "metadata": {},
   "outputs": [
    {
     "data": {
      "text/plain": [
       "[[0, 0, 0], [0, 0, 0], [0, 0, 0], [0, 0, 0], [0, 0, 0], [0, 0, 0], [0, 0, 0]]"
      ]
     },
     "execution_count": 114,
     "metadata": {},
     "output_type": "execute_result"
    }
   ],
   "source": [
    "distance(df.loc[df[1] == 'Trace ID: 930'], df.loc[df[1] == 'Trace ID: 930'],'Trace ID: 940','Trace ID: 930')\n",
    "#Runner Block and building distance matrix with n*n Size"
   ]
  }
 ],
 "metadata": {
  "interpreter": {
   "hash": "55ceacc5cf94a6a53c98449ba3287cd2712e0c0eb23ba6810e63baa0d8e16bf5"
  },
  "kernelspec": {
   "display_name": "Python 3.8.10 64-bit ('ba-eventlogml--DkqVbFD': virtualenv)",
   "name": "python3"
  },
  "language_info": {
   "codemirror_mode": {
    "name": "ipython",
    "version": 3
   },
   "file_extension": ".py",
   "mimetype": "text/x-python",
   "name": "python",
   "nbconvert_exporter": "python",
   "pygments_lexer": "ipython3",
   "version": "3.8.10"
  },
  "orig_nbformat": 4
 },
 "nbformat": 4,
 "nbformat_minor": 2
}
